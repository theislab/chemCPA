{
 "cells": [
  {
   "cell_type": "code",
   "metadata": {
    "ExecuteTime": {
     "end_time": "2024-07-10T19:56:17.351413Z",
     "start_time": "2024-07-10T19:52:46.391640Z"
    }
   },
   "source": [
    "# If not done before: combine adatas!\n",
    "\n",
    "from pathlib import Path\n",
    "import pandas as pd\n",
    "import scanpy as sc\n",
    "from chemCPA.paths import PROJECT_DIR\n",
    "\n",
    "\n",
    "adatas = [\n",
    "    sc.read(PROJECT_DIR / \"datasets\" / f\"adata_{split}_biolord_split_30.h5ad\")\n",
    "    for split in [\"train\", \"test\", \"ood\"]\n",
    "]\n",
    "# adatas = [sc.read(Path(\"project_folder\") / \"datasets\" / f\"adata_{split}_biolord_split_30.h5ad\") for split in [\"train\", \"test\"]]\n",
    "\n",
    "for adata in adatas:\n",
    "    df = adata.obs\n",
    "    for col in df.select_dtypes([\"category\"]).columns:\n",
    "        _type = type(df[col].cat.categories[0])\n",
    "        print(f\"{col}: {_type}\")\n",
    "        try:\n",
    "            df[col] = df[col].astype(_type)\n",
    "        except:\n",
    "            print(col)\n",
    "            df[col] = df[col].astype(str)\n",
    "\n",
    "\n",
    "adata = sc.concat(adatas)\n",
    "\n",
    "\n",
    "key_check = (\n",
    "    ~pd.Series(adatas[0].uns[\"rank_genes_groups_cov_all\"].keys()).isin(\n",
    "        list(adatas[1].uns[\"rank_genes_groups_cov_all\"].keys())\n",
    "    )\n",
    ").sum()\n",
    "print(f\"Key check: {key_check} should be 0.\")\n",
    "\n",
    "adata.uns[\"rank_genes_groups_cov_all\"] = adatas[0].uns[\"rank_genes_groups_cov_all\"]\n",
    "\n",
    "# Add proper DMSO\n",
    "adata.obs[\"smiles\"].replace(\"nan\", \"CS(C)=O\", inplace=True)"
   ],
   "outputs": [
    {
     "name": "stdout",
     "output_type": "stream",
     "text": [
      "cell_type: <class 'str'>\n",
      "dose: <class 'numpy.float64'>\n",
      "dose_character: <class 'str'>\n",
      "dose_pattern: <class 'str'>\n",
      "g1s_score: <class 'numpy.float64'>\n",
      "g2m_score: <class 'numpy.float64'>\n",
      "pathway: <class 'str'>\n",
      "pathway_level_1: <class 'str'>\n",
      "pathway_level_2: <class 'str'>\n",
      "product_dose: <class 'str'>\n",
      "product_name: <class 'str'>\n",
      "proliferation_index: <class 'numpy.float64'>\n",
      "replicate: <class 'str'>\n",
      "size_factor: <class 'numpy.float64'>\n",
      "target: <class 'str'>\n",
      "vehicle: <class 'numpy.int32'>\n",
      "perturbation: <class 'str'>\n",
      "drug: <class 'str'>\n",
      "cell_line: <class 'str'>\n",
      "condition: <class 'str'>\n",
      "n_genes: <class 'numpy.int64'>\n",
      "pubchem_name: <class 'str'>\n",
      "pubchem_ID: <class 'numpy.int64'>\n",
      "pubchem_ID\n",
      "smiles: <class 'str'>\n",
      "control: <class 'numpy.int64'>\n",
      "ood: <class 'str'>\n",
      "split: <class 'str'>\n",
      "cell_type: <class 'str'>\n",
      "dose: <class 'numpy.float64'>\n",
      "dose_character: <class 'str'>\n",
      "dose_pattern: <class 'str'>\n",
      "g1s_score: <class 'numpy.float64'>\n",
      "g2m_score: <class 'numpy.float64'>\n",
      "pathway: <class 'str'>\n",
      "pathway_level_1: <class 'str'>\n",
      "pathway_level_2: <class 'str'>\n",
      "product_dose: <class 'str'>\n",
      "product_name: <class 'str'>\n",
      "proliferation_index: <class 'numpy.float64'>\n",
      "replicate: <class 'str'>\n",
      "size_factor: <class 'numpy.float64'>\n",
      "target: <class 'str'>\n",
      "vehicle: <class 'numpy.int32'>\n",
      "perturbation: <class 'str'>\n",
      "drug: <class 'str'>\n",
      "cell_line: <class 'str'>\n",
      "logdose: <class 'numpy.float64'>\n",
      "condition: <class 'str'>\n",
      "n_genes: <class 'numpy.int64'>\n",
      "pubchem_name: <class 'str'>\n",
      "pubchem_ID: <class 'numpy.int64'>\n",
      "pubchem_ID\n",
      "smiles: <class 'str'>\n",
      "control: <class 'numpy.int64'>\n",
      "ood: <class 'str'>\n",
      "split: <class 'str'>\n",
      "cell_type: <class 'str'>\n",
      "dose: <class 'numpy.float64'>\n",
      "dose_character: <class 'str'>\n",
      "dose_pattern: <class 'str'>\n",
      "g1s_score: <class 'numpy.float64'>\n",
      "g2m_score: <class 'numpy.float64'>\n",
      "pathway: <class 'str'>\n",
      "pathway_level_1: <class 'str'>\n",
      "pathway_level_2: <class 'str'>\n",
      "product_dose: <class 'str'>\n",
      "product_name: <class 'str'>\n",
      "proliferation_index: <class 'numpy.float64'>\n",
      "replicate: <class 'str'>\n",
      "size_factor: <class 'numpy.float64'>\n",
      "target: <class 'str'>\n",
      "vehicle: <class 'numpy.int64'>\n",
      "perturbation: <class 'str'>\n",
      "drug: <class 'str'>\n",
      "cell_line: <class 'str'>\n",
      "logdose: <class 'numpy.float64'>\n",
      "condition: <class 'str'>\n",
      "n_genes: <class 'numpy.int64'>\n",
      "pubchem_name: <class 'str'>\n",
      "pubchem_ID: <class 'numpy.int64'>\n",
      "pubchem_ID\n",
      "smiles: <class 'str'>\n",
      "control: <class 'numpy.int64'>\n",
      "ood: <class 'str'>\n",
      "split: <class 'str'>\n",
      "Key check: 0 should be 0.\n"
     ]
    },
    {
     "name": "stderr",
     "output_type": "stream",
     "text": [
      "/home/icb/artur.szalata/miniconda3/envs/chemCPA-env/lib/python3.10/site-packages/anndata/_core/anndata.py:1818: UserWarning: Observation names are not unique. To make them unique, call `.obs_names_make_unique`.\n",
      "  utils.warn_names_duplicates(\"obs\")\n",
      "/tmp/ipykernel_2207298/3658243267.py:40: FutureWarning: A value is trying to be set on a copy of a DataFrame or Series through chained assignment using an inplace method.\n",
      "The behavior will change in pandas 3.0. This inplace method will never work because the intermediate object on which we are setting values always behaves as a copy.\n",
      "\n",
      "For example, when doing 'df[col].method(value, inplace=True)', try using 'df.method({col: value}, inplace=True)' or df[col] = df[col].method(value) instead, to perform the operation inplace on the original object.\n",
      "\n",
      "\n",
      "  adata.obs[\"smiles\"].replace(\"nan\", \"CS(C)=O\", inplace=True)\n"
     ]
    }
   ],
   "execution_count": 1
  },
  {
   "cell_type": "code",
   "metadata": {
    "ExecuteTime": {
     "end_time": "2024-07-10T20:01:09.497730Z",
     "start_time": "2024-07-10T19:58:34.183974Z"
    }
   },
   "source": "sc.write(Path(PROJECT_DIR) / \"datasets\" / \"adata_biolord_split_30.h5ad\", adata)",
   "outputs": [],
   "execution_count": 8
  },
  {
   "metadata": {
    "ExecuteTime": {
     "end_time": "2024-08-02T15:43:39.279499Z",
     "start_time": "2024-08-02T15:43:39.275223Z"
    }
   },
   "cell_type": "code",
   "source": "Path(PROJECT_DIR) / \"datasets\" / \"adata_biolord_split_30.h5ad\"",
   "outputs": [
    {
     "data": {
      "text/plain": [
       "PosixPath('/ictstr01/groups/ml01/workspace/artur.szalata/code/ot_pert_reproducibility/competing_methods/sciplex/chemcpa/chemCPA/project_folder/datasets/adata_biolord_split_30.h5ad')"
      ]
     },
     "execution_count": 3,
     "metadata": {},
     "output_type": "execute_result"
    }
   ],
   "execution_count": 3
  },
  {
   "metadata": {},
   "cell_type": "code",
   "outputs": [],
   "execution_count": null,
   "source": ""
  }
 ],
 "metadata": {
  "kernelspec": {
   "display_name": "chemCPA-env",
   "language": "python",
   "name": "myenv"
  },
  "language_info": {
   "codemirror_mode": {
    "name": "ipython",
    "version": 3
   },
   "file_extension": ".py",
   "mimetype": "text/x-python",
   "name": "python",
   "nbconvert_exporter": "python",
   "pygments_lexer": "ipython3",
   "version": "3.10.14"
  }
 },
 "nbformat": 4,
 "nbformat_minor": 2
}
