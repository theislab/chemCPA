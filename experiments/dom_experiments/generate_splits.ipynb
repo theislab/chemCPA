{
 "cells": [
  {
   "metadata": {
    "ExecuteTime": {
     "end_time": "2024-08-02T21:47:45.173979Z",
     "start_time": "2024-08-02T21:35:57.669622Z"
    }
   },
   "cell_type": "code",
   "source": [
    "from pathlib import Path\n",
    "import pandas as pd\n",
    "import scanpy as sc\n",
    "from chemCPA.paths import PROJECT_DIR\n",
    "\n",
    "for split_no in range(5):\n",
    "    adatas = [\n",
    "        sc.read(PROJECT_DIR / \"datasets\" / f\"/lustre/groups/ml01/workspace/ot_perturbation/data/sciplex/adata_{split}_300_{split_no}.h5ad\")\n",
    "        for split in [\"train\", \"test\", \"ood\"]\n",
    "    ]\n",
    "    \n",
    "    for adata in adatas:\n",
    "        df = adata.obs\n",
    "        for col in df.select_dtypes([\"category\"]).columns:\n",
    "            _type = type(df[col].cat.categories[0])\n",
    "            try:\n",
    "                df[col] = df[col].astype(_type)\n",
    "            except:\n",
    "                df[col] = df[col].astype(str)\n",
    "    \n",
    "    \n",
    "    adata = sc.concat(adatas)\n",
    "    \n",
    "    \n",
    "    key_check = (\n",
    "        ~pd.Series(adatas[0].uns[\"rank_genes_groups_cov_all\"].keys()).isin(\n",
    "            list(adatas[1].uns[\"rank_genes_groups_cov_all\"].keys())\n",
    "        )\n",
    "    ).sum()\n",
    "    print(f\"Key check: {key_check} should be 0.\")\n",
    "    \n",
    "    adata.uns[\"rank_genes_groups_cov_all\"] = adatas[0].uns[\"rank_genes_groups_cov_all\"]\n",
    "    \n",
    "    # Add proper DMSO\n",
    "    adata.obs[\"smiles\"].replace(\"nan\", \"CS(C)=O\", inplace=True)\n",
    "    sc.write(Path(PROJECT_DIR) / \"datasets\" / f\"adata_biolord_300_split_{split_no}_chemcpa.h5ad\", adata)"
   ],
   "id": "89540cae084ef15d",
   "outputs": [
    {
     "name": "stderr",
     "output_type": "stream",
     "text": [
      "/home/icb/artur.szalata/miniconda3/envs/chemCPA-env/lib/python3.10/site-packages/anndata/_core/anndata.py:1818: UserWarning: Observation names are not unique. To make them unique, call `.obs_names_make_unique`.\n",
      "  utils.warn_names_duplicates(\"obs\")\n",
      "/tmp/ipykernel_983068/2169467891.py:35: FutureWarning: A value is trying to be set on a copy of a DataFrame or Series through chained assignment using an inplace method.\n",
      "The behavior will change in pandas 3.0. This inplace method will never work because the intermediate object on which we are setting values always behaves as a copy.\n",
      "\n",
      "For example, when doing 'df[col].method(value, inplace=True)', try using 'df.method({col: value}, inplace=True)' or df[col] = df[col].method(value) instead, to perform the operation inplace on the original object.\n",
      "\n",
      "\n",
      "  adata.obs[\"smiles\"].replace(\"nan\", \"CS(C)=O\", inplace=True)\n"
     ]
    },
    {
     "name": "stdout",
     "output_type": "stream",
     "text": [
      "Key check: 0 should be 0.\n",
      "Key check: 0 should be 0.\n"
     ]
    },
    {
     "name": "stderr",
     "output_type": "stream",
     "text": [
      "/tmp/ipykernel_983068/2169467891.py:35: FutureWarning: A value is trying to be set on a copy of a DataFrame or Series through chained assignment using an inplace method.\n",
      "The behavior will change in pandas 3.0. This inplace method will never work because the intermediate object on which we are setting values always behaves as a copy.\n",
      "\n",
      "For example, when doing 'df[col].method(value, inplace=True)', try using 'df.method({col: value}, inplace=True)' or df[col] = df[col].method(value) instead, to perform the operation inplace on the original object.\n",
      "\n",
      "\n",
      "  adata.obs[\"smiles\"].replace(\"nan\", \"CS(C)=O\", inplace=True)\n"
     ]
    }
   ],
   "execution_count": 2
  },
  {
   "metadata": {},
   "cell_type": "code",
   "outputs": [],
   "execution_count": null,
   "source": "",
   "id": "abee46415088b976"
  }
 ],
 "metadata": {
  "kernelspec": {
   "display_name": "chemCPA-env",
   "language": "python",
   "name": "myenv"
  },
  "language_info": {
   "codemirror_mode": {
    "name": "ipython",
    "version": 2
   },
   "file_extension": ".py",
   "mimetype": "text/x-python",
   "name": "python",
   "nbconvert_exporter": "python",
   "pygments_lexer": "ipython2",
   "version": "2.7.6"
  }
 },
 "nbformat": 4,
 "nbformat_minor": 5
}
