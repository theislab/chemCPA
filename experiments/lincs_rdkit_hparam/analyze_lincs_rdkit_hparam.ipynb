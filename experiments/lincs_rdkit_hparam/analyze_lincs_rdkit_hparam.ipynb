{
 "cells": [
  {
   "cell_type": "markdown",
   "metadata": {
    "collapsed": true,
    "pycharm": {
     "name": "#%% md\n"
    }
   },
   "source": [
    "# Analyzing the results for `lincs_rdkit_hparam`"
   ]
  },
  {
   "cell_type": "code",
   "execution_count": 1,
   "outputs": [],
   "source": [
    "from pathlib import Path\n",
    "import matplotlib\n",
    "import pandas as pd\n",
    "import seaborn as sn\n",
    "import seml\n",
    "from matplotlib import pyplot as plt\n",
    "\n",
    "matplotlib.style.use(\"fivethirtyeight\")\n",
    "matplotlib.style.use(\"seaborn-talk\")\n",
    "matplotlib.rcParams['font.family'] = \"monospace\"\n",
    "plt.rcParams['savefig.facecolor'] = 'white'\n",
    "sn.set_context(\"poster\")"
   ],
   "metadata": {
    "collapsed": false,
    "pycharm": {
     "name": "#%%\n"
    }
   }
  },
  {
   "cell_type": "code",
   "execution_count": 2,
   "outputs": [
    {
     "data": {
      "text/plain": "  0%|          | 0/6 [00:00<?, ?it/s]",
      "application/vnd.jupyter.widget-view+json": {
       "version_major": 2,
       "version_minor": 0,
       "model_id": "be9fae8d4ad44ca89befde1672dffa53"
      }
     },
     "metadata": {},
     "output_type": "display_data"
    },
    {
     "data": {
      "text/plain": "  0%|          | 0/6 [00:00<?, ?it/s]",
      "application/vnd.jupyter.widget-view+json": {
       "version_major": 2,
       "version_minor": 0,
       "model_id": "3eecc2a0054b473687ffc4861e132f65"
      }
     },
     "metadata": {},
     "output_type": "display_data"
    },
    {
     "name": "stderr",
     "output_type": "stream",
     "text": [
      "/home/simon/miniconda3/envs/chemical_CPA/lib/python3.7/site-packages/seml/evaluation.py:80: FutureWarning: pandas.io.json.json_normalize is deprecated, use pandas.json_normalize instead\n",
      "  parsed = pd.io.json.json_normalize(parsed, sep='.')\n"
     ]
    }
   ],
   "source": [
    "results = seml.get_results(\n",
    "    \"lincs_rdkit_hparam\",\n",
    "    to_data_frame=True,\n",
    "    fields=[\"config\", \"result\", \"seml\", \"config_hash\"],\n",
    "    states=[\"COMPLETED\"],\n",
    ")"
   ],
   "metadata": {
    "collapsed": false,
    "pycharm": {
     "name": "#%%\n"
    }
   }
  },
  {
   "cell_type": "code",
   "execution_count": 3,
   "outputs": [
    {
     "data": {
      "text/plain": "   _id                       config_hash            seml.executable  \\\n0    1  951c6cef0caf7660d98b49c30a3cb0ca  compert/seml_sweep_icb.py   \n1    2  77032057a974ed92ba42eb00b4818b39  compert/seml_sweep_icb.py   \n2    3  10b608acc528830eb6412e70557b6999  compert/seml_sweep_icb.py   \n3    4  1891f3ccb3ec6f0369e6083027911835  compert/seml_sweep_icb.py   \n4    5  e1176dbeeb762c548b23bbb5c1ea60d9  compert/seml_sweep_icb.py   \n5    8  5aae0f7165b514905025dbfdad4cf8eb  compert/seml_sweep_icb.py   \n\n            seml.name                                    seml.output_dir  \\\n0  lincs_rdkit_hparam  /mnt/home/icb/simon.boehm/Masters_thesis/chemi...   \n1  lincs_rdkit_hparam  /mnt/home/icb/simon.boehm/Masters_thesis/chemi...   \n2  lincs_rdkit_hparam  /mnt/home/icb/simon.boehm/Masters_thesis/chemi...   \n3  lincs_rdkit_hparam  /mnt/home/icb/simon.boehm/Masters_thesis/chemi...   \n4  lincs_rdkit_hparam  /mnt/home/icb/simon.boehm/Masters_thesis/chemi...   \n5  lincs_rdkit_hparam  /mnt/home/icb/simon.boehm/Masters_thesis/chemi...   \n\n  seml.conda_environment                                   seml.working_dir  \\\n0           chemical_CPA  /mnt/home/icb/simon.boehm/Masters_thesis/chemi...   \n1           chemical_CPA  /mnt/home/icb/simon.boehm/Masters_thesis/chemi...   \n2           chemical_CPA  /mnt/home/icb/simon.boehm/Masters_thesis/chemi...   \n3           chemical_CPA  /mnt/home/icb/simon.boehm/Masters_thesis/chemi...   \n4           chemical_CPA  /mnt/home/icb/simon.boehm/Masters_thesis/chemi...   \n5           chemical_CPA  /mnt/home/icb/simon.boehm/Masters_thesis/chemi...   \n\n                                   seml.source_files  \\\n0  [[compert/data.py, 61e6ea51e98f7c50f0d48fcd], ...   \n1  [[compert/data.py, 61e6ea51e98f7c50f0d48fcd], ...   \n2  [[compert/data.py, 61e6ea51e98f7c50f0d48fcd], ...   \n3  [[compert/data.py, 61e6ea51e98f7c50f0d48fcd], ...   \n4  [[compert/data.py, 61e6ea51e98f7c50f0d48fcd], ...   \n5  [[compert/data.py, 61e6ea51e98f7c50f0d48fcd], ...   \n\n                                    seml.output_file  \\\n0  /mnt/home/icb/simon.boehm/Masters_thesis/chemi...   \n1  /mnt/home/icb/simon.boehm/Masters_thesis/chemi...   \n2  /mnt/home/icb/simon.boehm/Masters_thesis/chemi...   \n3  /mnt/home/icb/simon.boehm/Masters_thesis/chemi...   \n4  /mnt/home/icb/simon.boehm/Masters_thesis/chemi...   \n5  /mnt/home/icb/simon.boehm/Masters_thesis/chemi...   \n\n                                        seml.command  ...  \\\n0  python compert/seml_sweep_icb.py with 'profili...  ...   \n1  python compert/seml_sweep_icb.py with 'profili...  ...   \n2  python compert/seml_sweep_icb.py with 'profili...  ...   \n3  python compert/seml_sweep_icb.py with 'profili...  ...   \n4  python compert/seml_sweep_icb.py with 'profili...  ...   \n5  python compert/seml_sweep_icb.py with 'profili...  ...   \n\n                       result.penalty_adv_covariates  result.elapsed_time_min  \\\n0  [12.919138175999706, 0.18419641748869253, 0.17...               347.128484   \n1  [8.224835022303726, 0.10176633771588237, 0.049...               716.408253   \n2  [3.442848868081695, 0.12761329248833608, 0.081...               371.785198   \n3  [6.160079438468074, 0.08430342018991865, 0.156...               281.124688   \n4  [24.995399655632355, 0.7440850614839292, 1.031...               278.147404   \n5  [1.966837371382951, 0.0028613066924769726, 0.0...               183.177523   \n\n                                     result.training  \\\n0  [[0.9075990746769373, 0.7284160405249093, -0.0...   \n1  [[0.8747260873871502, 0.5969719429824801, -0.0...   \n2  [[0.9078908162748265, 0.7433778024650205, -0.0...   \n3  [[0.8941680782485102, 0.6784092028443669, -0.0...   \n4  [[0.9054807058799824, 0.721111265594224, -0.04...   \n5  [[0.9066028092576731, 0.7499077521084385, -0.0...   \n\n                                         result.test  \\\n0  [[0.8994284446040789, 0.7162557100256284, -0.1...   \n1  [[0.8460550049940745, 0.5034949233134588, -0.0...   \n2  [[0.9045214022199313, 0.749026610950629, -0.05...   \n3  [[0.8730832556883494, 0.626161656777064, -0.07...   \n4  [[0.8911898617943128, 0.6951551422476768, -0.0...   \n5  [[0.9017454728484153, 0.748956394692262, -0.02...   \n\n                                          result.ood  \\\n0  [[0.9028372780552932, 0.7350117628063474, -0.1...   \n1  [[0.8460868437375341, 0.4970656345997538, -0.1...   \n2  [[0.908264586435897, 0.7642039332006659, -0.08...   \n3  [[0.8751987394477639, 0.6370474488607475, -0.1...   \n4  [[0.8944398718220847, 0.7103013859263488, -0.1...   \n5  [[0.9044654087296554, 0.764299711478608, -0.04...   \n\n  result.perturbation disentanglement result.optimal for perturbations  \\\n0                [0.2929533123970032]           [0.006978477740242026]   \n1               [0.24740289151668549]           [0.006978477740242026]   \n2               [0.04496359825134277]           [0.006978477740242026]   \n3                [0.2513996362686157]           [0.006978477740242026]   \n4                [0.2972831428050995]           [0.006978477740242026]   \n5               [0.29745760560035706]           [0.006978477740242026]   \n\n  result.covariate disentanglement result.optimal for covariates  \\\n0           [[0.8103122711181641]]      [[0.012195121951219513]]   \n1            [[0.629379391670227]]      [[0.012195121951219513]]   \n2           [[0.6037176251411438]]      [[0.012195121951219513]]   \n3           [[0.6995764970779419]]      [[0.012195121951219513]]   \n4           [[0.9510713219642639]]      [[0.012195121951219513]]   \n5           [[0.8138332366943359]]      [[0.012195121951219513]]   \n\n  result.total_epochs  \n0                 125  \n1                 150  \n2                 125  \n3                 125  \n4                 125  \n5                 125  \n\n[6 rows x 79 columns]",
      "text/html": "<div>\n<style scoped>\n    .dataframe tbody tr th:only-of-type {\n        vertical-align: middle;\n    }\n\n    .dataframe tbody tr th {\n        vertical-align: top;\n    }\n\n    .dataframe thead th {\n        text-align: right;\n    }\n</style>\n<table border=\"1\" class=\"dataframe\">\n  <thead>\n    <tr style=\"text-align: right;\">\n      <th></th>\n      <th>_id</th>\n      <th>config_hash</th>\n      <th>seml.executable</th>\n      <th>seml.name</th>\n      <th>seml.output_dir</th>\n      <th>seml.conda_environment</th>\n      <th>seml.working_dir</th>\n      <th>seml.source_files</th>\n      <th>seml.output_file</th>\n      <th>seml.command</th>\n      <th>...</th>\n      <th>result.penalty_adv_covariates</th>\n      <th>result.elapsed_time_min</th>\n      <th>result.training</th>\n      <th>result.test</th>\n      <th>result.ood</th>\n      <th>result.perturbation disentanglement</th>\n      <th>result.optimal for perturbations</th>\n      <th>result.covariate disentanglement</th>\n      <th>result.optimal for covariates</th>\n      <th>result.total_epochs</th>\n    </tr>\n  </thead>\n  <tbody>\n    <tr>\n      <th>0</th>\n      <td>1</td>\n      <td>951c6cef0caf7660d98b49c30a3cb0ca</td>\n      <td>compert/seml_sweep_icb.py</td>\n      <td>lincs_rdkit_hparam</td>\n      <td>/mnt/home/icb/simon.boehm/Masters_thesis/chemi...</td>\n      <td>chemical_CPA</td>\n      <td>/mnt/home/icb/simon.boehm/Masters_thesis/chemi...</td>\n      <td>[[compert/data.py, 61e6ea51e98f7c50f0d48fcd], ...</td>\n      <td>/mnt/home/icb/simon.boehm/Masters_thesis/chemi...</td>\n      <td>python compert/seml_sweep_icb.py with 'profili...</td>\n      <td>...</td>\n      <td>[12.919138175999706, 0.18419641748869253, 0.17...</td>\n      <td>347.128484</td>\n      <td>[[0.9075990746769373, 0.7284160405249093, -0.0...</td>\n      <td>[[0.8994284446040789, 0.7162557100256284, -0.1...</td>\n      <td>[[0.9028372780552932, 0.7350117628063474, -0.1...</td>\n      <td>[0.2929533123970032]</td>\n      <td>[0.006978477740242026]</td>\n      <td>[[0.8103122711181641]]</td>\n      <td>[[0.012195121951219513]]</td>\n      <td>125</td>\n    </tr>\n    <tr>\n      <th>1</th>\n      <td>2</td>\n      <td>77032057a974ed92ba42eb00b4818b39</td>\n      <td>compert/seml_sweep_icb.py</td>\n      <td>lincs_rdkit_hparam</td>\n      <td>/mnt/home/icb/simon.boehm/Masters_thesis/chemi...</td>\n      <td>chemical_CPA</td>\n      <td>/mnt/home/icb/simon.boehm/Masters_thesis/chemi...</td>\n      <td>[[compert/data.py, 61e6ea51e98f7c50f0d48fcd], ...</td>\n      <td>/mnt/home/icb/simon.boehm/Masters_thesis/chemi...</td>\n      <td>python compert/seml_sweep_icb.py with 'profili...</td>\n      <td>...</td>\n      <td>[8.224835022303726, 0.10176633771588237, 0.049...</td>\n      <td>716.408253</td>\n      <td>[[0.8747260873871502, 0.5969719429824801, -0.0...</td>\n      <td>[[0.8460550049940745, 0.5034949233134588, -0.0...</td>\n      <td>[[0.8460868437375341, 0.4970656345997538, -0.1...</td>\n      <td>[0.24740289151668549]</td>\n      <td>[0.006978477740242026]</td>\n      <td>[[0.629379391670227]]</td>\n      <td>[[0.012195121951219513]]</td>\n      <td>150</td>\n    </tr>\n    <tr>\n      <th>2</th>\n      <td>3</td>\n      <td>10b608acc528830eb6412e70557b6999</td>\n      <td>compert/seml_sweep_icb.py</td>\n      <td>lincs_rdkit_hparam</td>\n      <td>/mnt/home/icb/simon.boehm/Masters_thesis/chemi...</td>\n      <td>chemical_CPA</td>\n      <td>/mnt/home/icb/simon.boehm/Masters_thesis/chemi...</td>\n      <td>[[compert/data.py, 61e6ea51e98f7c50f0d48fcd], ...</td>\n      <td>/mnt/home/icb/simon.boehm/Masters_thesis/chemi...</td>\n      <td>python compert/seml_sweep_icb.py with 'profili...</td>\n      <td>...</td>\n      <td>[3.442848868081695, 0.12761329248833608, 0.081...</td>\n      <td>371.785198</td>\n      <td>[[0.9078908162748265, 0.7433778024650205, -0.0...</td>\n      <td>[[0.9045214022199313, 0.749026610950629, -0.05...</td>\n      <td>[[0.908264586435897, 0.7642039332006659, -0.08...</td>\n      <td>[0.04496359825134277]</td>\n      <td>[0.006978477740242026]</td>\n      <td>[[0.6037176251411438]]</td>\n      <td>[[0.012195121951219513]]</td>\n      <td>125</td>\n    </tr>\n    <tr>\n      <th>3</th>\n      <td>4</td>\n      <td>1891f3ccb3ec6f0369e6083027911835</td>\n      <td>compert/seml_sweep_icb.py</td>\n      <td>lincs_rdkit_hparam</td>\n      <td>/mnt/home/icb/simon.boehm/Masters_thesis/chemi...</td>\n      <td>chemical_CPA</td>\n      <td>/mnt/home/icb/simon.boehm/Masters_thesis/chemi...</td>\n      <td>[[compert/data.py, 61e6ea51e98f7c50f0d48fcd], ...</td>\n      <td>/mnt/home/icb/simon.boehm/Masters_thesis/chemi...</td>\n      <td>python compert/seml_sweep_icb.py with 'profili...</td>\n      <td>...</td>\n      <td>[6.160079438468074, 0.08430342018991865, 0.156...</td>\n      <td>281.124688</td>\n      <td>[[0.8941680782485102, 0.6784092028443669, -0.0...</td>\n      <td>[[0.8730832556883494, 0.626161656777064, -0.07...</td>\n      <td>[[0.8751987394477639, 0.6370474488607475, -0.1...</td>\n      <td>[0.2513996362686157]</td>\n      <td>[0.006978477740242026]</td>\n      <td>[[0.6995764970779419]]</td>\n      <td>[[0.012195121951219513]]</td>\n      <td>125</td>\n    </tr>\n    <tr>\n      <th>4</th>\n      <td>5</td>\n      <td>e1176dbeeb762c548b23bbb5c1ea60d9</td>\n      <td>compert/seml_sweep_icb.py</td>\n      <td>lincs_rdkit_hparam</td>\n      <td>/mnt/home/icb/simon.boehm/Masters_thesis/chemi...</td>\n      <td>chemical_CPA</td>\n      <td>/mnt/home/icb/simon.boehm/Masters_thesis/chemi...</td>\n      <td>[[compert/data.py, 61e6ea51e98f7c50f0d48fcd], ...</td>\n      <td>/mnt/home/icb/simon.boehm/Masters_thesis/chemi...</td>\n      <td>python compert/seml_sweep_icb.py with 'profili...</td>\n      <td>...</td>\n      <td>[24.995399655632355, 0.7440850614839292, 1.031...</td>\n      <td>278.147404</td>\n      <td>[[0.9054807058799824, 0.721111265594224, -0.04...</td>\n      <td>[[0.8911898617943128, 0.6951551422476768, -0.0...</td>\n      <td>[[0.8944398718220847, 0.7103013859263488, -0.1...</td>\n      <td>[0.2972831428050995]</td>\n      <td>[0.006978477740242026]</td>\n      <td>[[0.9510713219642639]]</td>\n      <td>[[0.012195121951219513]]</td>\n      <td>125</td>\n    </tr>\n    <tr>\n      <th>5</th>\n      <td>8</td>\n      <td>5aae0f7165b514905025dbfdad4cf8eb</td>\n      <td>compert/seml_sweep_icb.py</td>\n      <td>lincs_rdkit_hparam</td>\n      <td>/mnt/home/icb/simon.boehm/Masters_thesis/chemi...</td>\n      <td>chemical_CPA</td>\n      <td>/mnt/home/icb/simon.boehm/Masters_thesis/chemi...</td>\n      <td>[[compert/data.py, 61e6ea51e98f7c50f0d48fcd], ...</td>\n      <td>/mnt/home/icb/simon.boehm/Masters_thesis/chemi...</td>\n      <td>python compert/seml_sweep_icb.py with 'profili...</td>\n      <td>...</td>\n      <td>[1.966837371382951, 0.0028613066924769726, 0.0...</td>\n      <td>183.177523</td>\n      <td>[[0.9066028092576731, 0.7499077521084385, -0.0...</td>\n      <td>[[0.9017454728484153, 0.748956394692262, -0.02...</td>\n      <td>[[0.9044654087296554, 0.764299711478608, -0.04...</td>\n      <td>[0.29745760560035706]</td>\n      <td>[0.006978477740242026]</td>\n      <td>[[0.8138332366943359]]</td>\n      <td>[[0.012195121951219513]]</td>\n      <td>125</td>\n    </tr>\n  </tbody>\n</table>\n<p>6 rows × 79 columns</p>\n</div>"
     },
     "execution_count": 3,
     "metadata": {},
     "output_type": "execute_result"
    }
   ],
   "source": [
    "results"
   ],
   "metadata": {
    "collapsed": false,
    "pycharm": {
     "name": "#%%\n"
    }
   }
  },
  {
   "cell_type": "code",
   "execution_count": null,
   "outputs": [],
   "source": [],
   "metadata": {
    "collapsed": false,
    "pycharm": {
     "name": "#%%\n"
    }
   }
  }
 ],
 "metadata": {
  "kernelspec": {
   "display_name": "Python 3",
   "language": "python",
   "name": "python3"
  },
  "language_info": {
   "codemirror_mode": {
    "name": "ipython",
    "version": 2
   },
   "file_extension": ".py",
   "mimetype": "text/x-python",
   "name": "python",
   "nbconvert_exporter": "python",
   "pygments_lexer": "ipython2",
   "version": "2.7.6"
  }
 },
 "nbformat": 4,
 "nbformat_minor": 0
}