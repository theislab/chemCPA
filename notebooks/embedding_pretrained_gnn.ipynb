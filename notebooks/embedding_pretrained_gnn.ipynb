{
 "cells": [
  {
   "cell_type": "markdown",
   "id": "fa137ded",
   "metadata": {},
   "source": [
    "## General imports"
   ]
  },
  {
   "cell_type": "code",
   "execution_count": 1,
   "id": "6c950b63",
   "metadata": {},
   "outputs": [],
   "source": [
    "import sys \n",
    "sys.path.insert(0, \"/\")  # this depends on the notebook depth and must be adapted per notebook\n",
    "from paths import DATA_DIR"
   ]
  },
  {
   "cell_type": "code",
   "execution_count": 2,
   "id": "4643260d",
   "metadata": {},
   "outputs": [
    {
     "name": "stderr",
     "output_type": "stream",
     "text": [
      "Using backend: pytorch\n"
     ]
    }
   ],
   "source": [
    "import numpy as np\n",
    "from dgllife.utils import (\n",
    "    smiles_to_bigraph,\n",
    "    CanonicalAtomFeaturizer,\n",
    "    CanonicalBondFeaturizer)"
   ]
  },
  {
   "cell_type": "markdown",
   "id": "db8608d6",
   "metadata": {},
   "source": [
    "## Load Smiles list"
   ]
  },
  {
   "cell_type": "code",
   "execution_count": 3,
   "id": "db1601d1",
   "metadata": {},
   "outputs": [],
   "source": [
    "dataset_name = 'lincs_smiles'"
   ]
  },
  {
   "cell_type": "code",
   "execution_count": 4,
   "id": "734a3db6",
   "metadata": {},
   "outputs": [],
   "source": [
    "import scanpy as sc \n",
    "adata = sc.read(DATA_DIR / f'{dataset_name}.h5ad')\n",
    "smiles_list = adata.obs['canonical_smiles'].unique()"
   ]
  },
  {
   "cell_type": "code",
   "execution_count": 5,
   "id": "653d99cf",
   "metadata": {},
   "outputs": [
    {
     "name": "stdout",
     "output_type": "stream",
     "text": [
      "Number of smiles strings: 979\n"
     ]
    }
   ],
   "source": [
    "print(f'Number of smiles strings: {len(smiles_list)}')"
   ]
  },
  {
   "cell_type": "markdown",
   "id": "3f5c1e34",
   "metadata": {},
   "source": [
    "## Featurizer functions"
   ]
  },
  {
   "cell_type": "code",
   "execution_count": 6,
   "id": "103f5a18",
   "metadata": {},
   "outputs": [],
   "source": [
    "node_feats = CanonicalAtomFeaturizer(atom_data_field=\"h\")\n",
    "edge_feats = CanonicalBondFeaturizer(bond_data_field=\"h\", self_loop=True)"
   ]
  },
  {
   "cell_type": "markdown",
   "id": "a60feec5",
   "metadata": {},
   "source": [
    "## Create graphs from smiles and featurizers"
   ]
  },
  {
   "cell_type": "code",
   "execution_count": 7,
   "id": "45bdb04f",
   "metadata": {},
   "outputs": [],
   "source": [
    "mol_graphs = []\n",
    "\n",
    "for smiles in smiles_list: \n",
    "    mol_graphs.append(smiles_to_bigraph(\n",
    "        smiles=smiles,\n",
    "        add_self_loop=True,\n",
    "        node_featurizer=node_feats,\n",
    "        edge_featurizer=edge_feats,\n",
    "    ))"
   ]
  },
  {
   "cell_type": "code",
   "execution_count": 8,
   "id": "f436ed62",
   "metadata": {},
   "outputs": [
    {
     "name": "stdout",
     "output_type": "stream",
     "text": [
      "Number of molecular graphs: 979\n"
     ]
    }
   ],
   "source": [
    "print(f'Number of molecular graphs: {len(mol_graphs)}')"
   ]
  },
  {
   "cell_type": "markdown",
   "id": "5e28898b",
   "metadata": {},
   "source": [
    "## Batch graphs "
   ]
  },
  {
   "cell_type": "code",
   "execution_count": 9,
   "id": "4bea7ab2",
   "metadata": {},
   "outputs": [],
   "source": [
    "import dgl\n",
    "\n",
    "mol_batch = dgl.batch(mol_graphs)"
   ]
  },
  {
   "cell_type": "code",
   "execution_count": 10,
   "id": "4561aee6",
   "metadata": {},
   "outputs": [
    {
     "data": {
      "text/plain": [
       "Graph(num_nodes=28508, num_edges=90240,\n",
       "      ndata_schemes={'h': Scheme(shape=(74,), dtype=torch.float32)}\n",
       "      edata_schemes={'h': Scheme(shape=(13,), dtype=torch.float32)})"
      ]
     },
     "execution_count": 10,
     "metadata": {},
     "output_type": "execute_result"
    }
   ],
   "source": [
    "mol_batch"
   ]
  },
  {
   "cell_type": "markdown",
   "id": "98a572dd",
   "metadata": {},
   "source": [
    "## Load pretrained model"
   ]
  },
  {
   "cell_type": "markdown",
   "id": "9acba811",
   "metadata": {},
   "source": [
    "Choose a model form [here](https://lifesci.dgl.ai/api/model.pretrain.html)"
   ]
  },
  {
   "cell_type": "code",
   "execution_count": 11,
   "id": "625f53e7",
   "metadata": {},
   "outputs": [],
   "source": [
    "model_name = 'GCN_Tox21'"
   ]
  },
  {
   "cell_type": "code",
   "execution_count": 12,
   "id": "9314f26a",
   "metadata": {},
   "outputs": [
    {
     "name": "stdout",
     "output_type": "stream",
     "text": [
      "Downloading GCN_Tox21_pre_trained.pth from https://data.dgl.ai/dgllife/pre_trained/gcn_tox21.pth...\n",
      "Pretrained model loaded\n"
     ]
    }
   ],
   "source": [
    "from dgllife.model import load_pretrained\n",
    "\n",
    "model = load_pretrained(model_name)\n",
    "\n",
    "verbose=False\n",
    "if verbose: \n",
    "    print(model)"
   ]
  },
  {
   "cell_type": "markdown",
   "id": "6900f789",
   "metadata": {},
   "source": [
    "## Predict with pretrained model"
   ]
  },
  {
   "cell_type": "markdown",
   "id": "8fe759a9",
   "metadata": {},
   "source": [
    "### Tox21 targeted prediction, 12 feats per graphs"
   ]
  },
  {
   "cell_type": "code",
   "execution_count": 13,
   "id": "866d1629",
   "metadata": {},
   "outputs": [
    {
     "name": "stdout",
     "output_type": "stream",
     "text": [
      "Prediction has shape: torch.Size([979, 12])\n"
     ]
    },
    {
     "data": {
      "text/plain": [
       "tensor([[-0.9767,  0.0736,  1.8076,  ...,  0.1063,  2.3153,  1.8064],\n",
       "        [-2.8967,  1.0177,  1.0331,  ...,  1.6831,  3.8495,  3.0695],\n",
       "        [ 1.5493,  0.9058,  5.5839,  ...,  0.7797,  7.2542,  5.0522],\n",
       "        ...,\n",
       "        [-1.4431,  0.6448,  2.2375,  ...,  2.6949,  5.5142,  3.1535],\n",
       "        [-1.4477,  2.4902,  2.6611,  ...,  2.3598,  7.3678,  3.4730],\n",
       "        [-1.9925, -3.2736, -2.2773,  ...,  0.3537,  0.7150, -1.7605]],\n",
       "       grad_fn=<AddmmBackward>)"
      ]
     },
     "execution_count": 13,
     "metadata": {},
     "output_type": "execute_result"
    }
   ],
   "source": [
    "model.eval()\n",
    "prediction = model(mol_batch, mol_batch.ndata['h'])\n",
    "print(f'Prediction has shape: {prediction.shape}')\n",
    "prediction"
   ]
  },
  {
   "cell_type": "markdown",
   "id": "9541c6e6",
   "metadata": {},
   "source": [
    "### Only readout 128 feats per graphs"
   ]
  },
  {
   "cell_type": "code",
   "execution_count": 14,
   "id": "a8a0fcd3",
   "metadata": {},
   "outputs": [
    {
     "name": "stdout",
     "output_type": "stream",
     "text": [
      "Prediction has shape: torch.Size([979, 128])\n"
     ]
    },
    {
     "data": {
      "text/plain": [
       "tensor([[ 7.5147,  1.5574, -1.2058,  ...,  2.8493,  4.1527,  5.1621],\n",
       "        [13.5379,  1.3112, -0.9624,  ...,  3.2101,  4.4602,  5.1783],\n",
       "        [ 5.4043,  2.4870, -4.0313,  ...,  0.5352,  7.6461,  0.6327],\n",
       "        ...,\n",
       "        [13.0076, -1.0653,  2.6407,  ...,  5.5353,  4.1145,  1.8548],\n",
       "        [ 8.3658,  4.1661,  0.1498,  ...,  1.2912,  7.9904,  5.0901],\n",
       "        [ 2.8216, -0.8980,  1.7590,  ...,  1.3450,  3.0503,  0.0201]],\n",
       "       grad_fn=<CatBackward>)"
      ]
     },
     "execution_count": 14,
     "metadata": {},
     "output_type": "execute_result"
    }
   ],
   "source": [
    "prediction = model.readout(mol_batch, model.gnn(mol_batch, mol_batch.ndata['h']))\n",
    "print(f'Prediction has shape: {prediction.shape}')\n",
    "prediction"
   ]
  },
  {
   "cell_type": "markdown",
   "id": "cf768d83",
   "metadata": {},
   "source": [
    "## Save"
   ]
  },
  {
   "cell_type": "code",
   "execution_count": 15,
   "id": "a6291a01",
   "metadata": {},
   "outputs": [],
   "source": [
    "import pandas as pd\n",
    "df = pd.DataFrame(data=prediction.detach().numpy(),index=smiles_list,columns=[f'latent_{i+1}' for i in range(prediction.size()[1])]) "
   ]
  },
  {
   "cell_type": "code",
   "execution_count": 16,
   "id": "39bfb2ce",
   "metadata": {},
   "outputs": [],
   "source": [
    "fname = f'{model_name}_embedding_{dataset_name}.parquet'\n",
    "df.to_parquet(DATA_DIR / 'embeddings' / fname)"
   ]
  },
  {
   "cell_type": "markdown",
   "id": "85180ed5",
   "metadata": {},
   "source": [
    "Check that it worked"
   ]
  },
  {
   "cell_type": "code",
   "execution_count": 17,
   "id": "9620dae5",
   "metadata": {},
   "outputs": [
    {
     "data": {
      "text/html": [
       "<div>\n",
       "<style scoped>\n",
       "    .dataframe tbody tr th:only-of-type {\n",
       "        vertical-align: middle;\n",
       "    }\n",
       "\n",
       "    .dataframe tbody tr th {\n",
       "        vertical-align: top;\n",
       "    }\n",
       "\n",
       "    .dataframe thead th {\n",
       "        text-align: right;\n",
       "    }\n",
       "</style>\n",
       "<table border=\"1\" class=\"dataframe\">\n",
       "  <thead>\n",
       "    <tr style=\"text-align: right;\">\n",
       "      <th></th>\n",
       "      <th>latent_1</th>\n",
       "      <th>latent_2</th>\n",
       "      <th>latent_3</th>\n",
       "      <th>latent_4</th>\n",
       "      <th>latent_5</th>\n",
       "      <th>latent_6</th>\n",
       "      <th>latent_7</th>\n",
       "      <th>latent_8</th>\n",
       "      <th>latent_9</th>\n",
       "      <th>latent_10</th>\n",
       "      <th>...</th>\n",
       "      <th>latent_119</th>\n",
       "      <th>latent_120</th>\n",
       "      <th>latent_121</th>\n",
       "      <th>latent_122</th>\n",
       "      <th>latent_123</th>\n",
       "      <th>latent_124</th>\n",
       "      <th>latent_125</th>\n",
       "      <th>latent_126</th>\n",
       "      <th>latent_127</th>\n",
       "      <th>latent_128</th>\n",
       "    </tr>\n",
       "  </thead>\n",
       "  <tbody>\n",
       "    <tr>\n",
       "      <th>CCC1(CCC(=O)NC1=O)c1ccc(N)cc1</th>\n",
       "      <td>7.514680</td>\n",
       "      <td>1.557438</td>\n",
       "      <td>-1.205802</td>\n",
       "      <td>0.706944</td>\n",
       "      <td>4.734817</td>\n",
       "      <td>1.662993</td>\n",
       "      <td>-1.166959</td>\n",
       "      <td>2.664718</td>\n",
       "      <td>3.343689</td>\n",
       "      <td>-0.006922</td>\n",
       "      <td>...</td>\n",
       "      <td>3.050381</td>\n",
       "      <td>1.707294</td>\n",
       "      <td>4.976552</td>\n",
       "      <td>4.791414</td>\n",
       "      <td>2.970736</td>\n",
       "      <td>2.122769</td>\n",
       "      <td>2.403527</td>\n",
       "      <td>2.849323</td>\n",
       "      <td>4.152703</td>\n",
       "      <td>5.162078</td>\n",
       "    </tr>\n",
       "    <tr>\n",
       "      <th>COC(=O)C1=C(C)NC(C)=C(C1c1cccc(c1)[N+]([O-])=O)C(=O)OCCN(C)Cc1ccccc1</th>\n",
       "      <td>13.537939</td>\n",
       "      <td>1.311158</td>\n",
       "      <td>-0.962422</td>\n",
       "      <td>4.857087</td>\n",
       "      <td>3.404460</td>\n",
       "      <td>3.525694</td>\n",
       "      <td>-0.984417</td>\n",
       "      <td>5.949274</td>\n",
       "      <td>2.813795</td>\n",
       "      <td>-0.565353</td>\n",
       "      <td>...</td>\n",
       "      <td>6.724248</td>\n",
       "      <td>1.761610</td>\n",
       "      <td>6.767087</td>\n",
       "      <td>7.629559</td>\n",
       "      <td>4.761365</td>\n",
       "      <td>3.258632</td>\n",
       "      <td>3.838732</td>\n",
       "      <td>3.210113</td>\n",
       "      <td>4.460206</td>\n",
       "      <td>5.178266</td>\n",
       "    </tr>\n",
       "    <tr>\n",
       "      <th>Oc1cc2c3c(oc(=O)c4cc(O)c(O)c(oc2=O)c34)c1O</th>\n",
       "      <td>5.404252</td>\n",
       "      <td>2.486965</td>\n",
       "      <td>-4.031260</td>\n",
       "      <td>-1.700875</td>\n",
       "      <td>13.411467</td>\n",
       "      <td>0.900953</td>\n",
       "      <td>-2.441360</td>\n",
       "      <td>12.272419</td>\n",
       "      <td>2.008174</td>\n",
       "      <td>-3.285258</td>\n",
       "      <td>...</td>\n",
       "      <td>9.535297</td>\n",
       "      <td>3.193279</td>\n",
       "      <td>4.388989</td>\n",
       "      <td>5.162661</td>\n",
       "      <td>2.256190</td>\n",
       "      <td>1.079738</td>\n",
       "      <td>-0.573889</td>\n",
       "      <td>0.535195</td>\n",
       "      <td>7.646057</td>\n",
       "      <td>0.632657</td>\n",
       "    </tr>\n",
       "    <tr>\n",
       "      <th>CN1c2ccc(Cl)cc2C(=NCC1=O)c1ccccc1</th>\n",
       "      <td>6.715856</td>\n",
       "      <td>2.461218</td>\n",
       "      <td>-0.624275</td>\n",
       "      <td>1.014084</td>\n",
       "      <td>4.281738</td>\n",
       "      <td>-0.573541</td>\n",
       "      <td>-0.823113</td>\n",
       "      <td>3.067926</td>\n",
       "      <td>3.679698</td>\n",
       "      <td>-1.300052</td>\n",
       "      <td>...</td>\n",
       "      <td>6.551105</td>\n",
       "      <td>2.713072</td>\n",
       "      <td>4.377713</td>\n",
       "      <td>3.609195</td>\n",
       "      <td>2.576009</td>\n",
       "      <td>3.258632</td>\n",
       "      <td>4.000362</td>\n",
       "      <td>1.933747</td>\n",
       "      <td>2.250189</td>\n",
       "      <td>5.090078</td>\n",
       "    </tr>\n",
       "    <tr>\n",
       "      <th>CCCOc1ccccc1-c1nc2[nH]nnc2c(=O)[nH]1</th>\n",
       "      <td>1.606246</td>\n",
       "      <td>7.040184</td>\n",
       "      <td>-1.481073</td>\n",
       "      <td>5.403150</td>\n",
       "      <td>1.635665</td>\n",
       "      <td>0.891321</td>\n",
       "      <td>-0.212667</td>\n",
       "      <td>6.517174</td>\n",
       "      <td>2.124844</td>\n",
       "      <td>0.071209</td>\n",
       "      <td>...</td>\n",
       "      <td>8.125871</td>\n",
       "      <td>4.269263</td>\n",
       "      <td>3.007549</td>\n",
       "      <td>1.281668</td>\n",
       "      <td>3.106278</td>\n",
       "      <td>2.900217</td>\n",
       "      <td>1.735094</td>\n",
       "      <td>1.068005</td>\n",
       "      <td>1.463316</td>\n",
       "      <td>5.090078</td>\n",
       "    </tr>\n",
       "    <tr>\n",
       "      <th>...</th>\n",
       "      <td>...</td>\n",
       "      <td>...</td>\n",
       "      <td>...</td>\n",
       "      <td>...</td>\n",
       "      <td>...</td>\n",
       "      <td>...</td>\n",
       "      <td>...</td>\n",
       "      <td>...</td>\n",
       "      <td>...</td>\n",
       "      <td>...</td>\n",
       "      <td>...</td>\n",
       "      <td>...</td>\n",
       "      <td>...</td>\n",
       "      <td>...</td>\n",
       "      <td>...</td>\n",
       "      <td>...</td>\n",
       "      <td>...</td>\n",
       "      <td>...</td>\n",
       "      <td>...</td>\n",
       "      <td>...</td>\n",
       "      <td>...</td>\n",
       "    </tr>\n",
       "    <tr>\n",
       "      <th>C[C@]12CC[C@H]3[C@H]([C@@H]1CC[C@@H]2O)C(CCCCCCCCCS(=O)CCCC(F)(F)C(F)(F)F)Cc1cc(O)ccc31</th>\n",
       "      <td>16.357611</td>\n",
       "      <td>-2.597566</td>\n",
       "      <td>16.383186</td>\n",
       "      <td>16.267794</td>\n",
       "      <td>4.860561</td>\n",
       "      <td>0.337768</td>\n",
       "      <td>8.858174</td>\n",
       "      <td>-4.866646</td>\n",
       "      <td>5.432515</td>\n",
       "      <td>5.362478</td>\n",
       "      <td>...</td>\n",
       "      <td>4.023404</td>\n",
       "      <td>2.955298</td>\n",
       "      <td>4.123578</td>\n",
       "      <td>4.040226</td>\n",
       "      <td>3.861941</td>\n",
       "      <td>2.582217</td>\n",
       "      <td>4.876552</td>\n",
       "      <td>7.226796</td>\n",
       "      <td>5.334458</td>\n",
       "      <td>3.926111</td>\n",
       "    </tr>\n",
       "    <tr>\n",
       "      <th>CC1CC(=O)NN=C1c1ccc(F)c(F)c1</th>\n",
       "      <td>7.746939</td>\n",
       "      <td>0.421197</td>\n",
       "      <td>0.145303</td>\n",
       "      <td>3.963807</td>\n",
       "      <td>0.491715</td>\n",
       "      <td>-0.047643</td>\n",
       "      <td>-0.264492</td>\n",
       "      <td>3.374358</td>\n",
       "      <td>0.471756</td>\n",
       "      <td>-1.139239</td>\n",
       "      <td>...</td>\n",
       "      <td>3.382581</td>\n",
       "      <td>3.251327</td>\n",
       "      <td>4.951934</td>\n",
       "      <td>2.612345</td>\n",
       "      <td>2.244669</td>\n",
       "      <td>0.987251</td>\n",
       "      <td>3.703331</td>\n",
       "      <td>2.473626</td>\n",
       "      <td>1.725965</td>\n",
       "      <td>4.297815</td>\n",
       "    </tr>\n",
       "    <tr>\n",
       "      <th>CC1(C)Oc2cc3c(cc2C=C1)C1=C[C@@]2(CC(C)(C)C1=[N+]3[O-])NC(=O)[C@@H]1CCCN1C2=O</th>\n",
       "      <td>13.007570</td>\n",
       "      <td>-1.065295</td>\n",
       "      <td>2.640704</td>\n",
       "      <td>7.425330</td>\n",
       "      <td>1.264496</td>\n",
       "      <td>3.212314</td>\n",
       "      <td>0.439272</td>\n",
       "      <td>2.158065</td>\n",
       "      <td>2.882574</td>\n",
       "      <td>-0.837132</td>\n",
       "      <td>...</td>\n",
       "      <td>8.328007</td>\n",
       "      <td>2.162308</td>\n",
       "      <td>6.509467</td>\n",
       "      <td>7.499479</td>\n",
       "      <td>2.028891</td>\n",
       "      <td>2.254654</td>\n",
       "      <td>5.438233</td>\n",
       "      <td>5.535284</td>\n",
       "      <td>4.114549</td>\n",
       "      <td>1.854789</td>\n",
       "    </tr>\n",
       "    <tr>\n",
       "      <th>CN(C)CCOc1ccc(cc1)C(=C(/CCCl)c1ccccc1)\\c1ccccc1</th>\n",
       "      <td>8.365845</td>\n",
       "      <td>4.166068</td>\n",
       "      <td>0.149842</td>\n",
       "      <td>6.329153</td>\n",
       "      <td>7.376643</td>\n",
       "      <td>-0.899182</td>\n",
       "      <td>0.674123</td>\n",
       "      <td>3.020287</td>\n",
       "      <td>6.109891</td>\n",
       "      <td>0.568124</td>\n",
       "      <td>...</td>\n",
       "      <td>6.835088</td>\n",
       "      <td>2.277654</td>\n",
       "      <td>2.711159</td>\n",
       "      <td>2.147027</td>\n",
       "      <td>2.576009</td>\n",
       "      <td>3.258632</td>\n",
       "      <td>3.379274</td>\n",
       "      <td>1.291224</td>\n",
       "      <td>7.990438</td>\n",
       "      <td>5.090078</td>\n",
       "    </tr>\n",
       "    <tr>\n",
       "      <th>CS(=O)C</th>\n",
       "      <td>2.821638</td>\n",
       "      <td>-0.897975</td>\n",
       "      <td>1.758997</td>\n",
       "      <td>-0.443624</td>\n",
       "      <td>-1.019945</td>\n",
       "      <td>0.285194</td>\n",
       "      <td>2.042589</td>\n",
       "      <td>-0.412301</td>\n",
       "      <td>-1.191084</td>\n",
       "      <td>-0.907208</td>\n",
       "      <td>...</td>\n",
       "      <td>2.549212</td>\n",
       "      <td>7.594404</td>\n",
       "      <td>3.945146</td>\n",
       "      <td>0.610169</td>\n",
       "      <td>-0.751963</td>\n",
       "      <td>-0.660370</td>\n",
       "      <td>-0.207095</td>\n",
       "      <td>1.345049</td>\n",
       "      <td>3.050264</td>\n",
       "      <td>0.020120</td>\n",
       "    </tr>\n",
       "  </tbody>\n",
       "</table>\n",
       "<p>979 rows × 128 columns</p>\n",
       "</div>"
      ],
      "text/plain": [
       "                                                     latent_1  latent_2  \\\n",
       "CCC1(CCC(=O)NC1=O)c1ccc(N)cc1                        7.514680  1.557438   \n",
       "COC(=O)C1=C(C)NC(C)=C(C1c1cccc(c1)[N+]([O-])=O)...  13.537939  1.311158   \n",
       "Oc1cc2c3c(oc(=O)c4cc(O)c(O)c(oc2=O)c34)c1O           5.404252  2.486965   \n",
       "CN1c2ccc(Cl)cc2C(=NCC1=O)c1ccccc1                    6.715856  2.461218   \n",
       "CCCOc1ccccc1-c1nc2[nH]nnc2c(=O)[nH]1                 1.606246  7.040184   \n",
       "...                                                       ...       ...   \n",
       "C[C@]12CC[C@H]3[C@H]([C@@H]1CC[C@@H]2O)C(CCCCCC...  16.357611 -2.597566   \n",
       "CC1CC(=O)NN=C1c1ccc(F)c(F)c1                         7.746939  0.421197   \n",
       "CC1(C)Oc2cc3c(cc2C=C1)C1=C[C@@]2(CC(C)(C)C1=[N+...  13.007570 -1.065295   \n",
       "CN(C)CCOc1ccc(cc1)C(=C(/CCCl)c1ccccc1)\\c1ccccc1      8.365845  4.166068   \n",
       "CS(=O)C                                              2.821638 -0.897975   \n",
       "\n",
       "                                                     latent_3   latent_4  \\\n",
       "CCC1(CCC(=O)NC1=O)c1ccc(N)cc1                       -1.205802   0.706944   \n",
       "COC(=O)C1=C(C)NC(C)=C(C1c1cccc(c1)[N+]([O-])=O)...  -0.962422   4.857087   \n",
       "Oc1cc2c3c(oc(=O)c4cc(O)c(O)c(oc2=O)c34)c1O          -4.031260  -1.700875   \n",
       "CN1c2ccc(Cl)cc2C(=NCC1=O)c1ccccc1                   -0.624275   1.014084   \n",
       "CCCOc1ccccc1-c1nc2[nH]nnc2c(=O)[nH]1                -1.481073   5.403150   \n",
       "...                                                       ...        ...   \n",
       "C[C@]12CC[C@H]3[C@H]([C@@H]1CC[C@@H]2O)C(CCCCCC...  16.383186  16.267794   \n",
       "CC1CC(=O)NN=C1c1ccc(F)c(F)c1                         0.145303   3.963807   \n",
       "CC1(C)Oc2cc3c(cc2C=C1)C1=C[C@@]2(CC(C)(C)C1=[N+...   2.640704   7.425330   \n",
       "CN(C)CCOc1ccc(cc1)C(=C(/CCCl)c1ccccc1)\\c1ccccc1      0.149842   6.329153   \n",
       "CS(=O)C                                              1.758997  -0.443624   \n",
       "\n",
       "                                                     latent_5  latent_6  \\\n",
       "CCC1(CCC(=O)NC1=O)c1ccc(N)cc1                        4.734817  1.662993   \n",
       "COC(=O)C1=C(C)NC(C)=C(C1c1cccc(c1)[N+]([O-])=O)...   3.404460  3.525694   \n",
       "Oc1cc2c3c(oc(=O)c4cc(O)c(O)c(oc2=O)c34)c1O          13.411467  0.900953   \n",
       "CN1c2ccc(Cl)cc2C(=NCC1=O)c1ccccc1                    4.281738 -0.573541   \n",
       "CCCOc1ccccc1-c1nc2[nH]nnc2c(=O)[nH]1                 1.635665  0.891321   \n",
       "...                                                       ...       ...   \n",
       "C[C@]12CC[C@H]3[C@H]([C@@H]1CC[C@@H]2O)C(CCCCCC...   4.860561  0.337768   \n",
       "CC1CC(=O)NN=C1c1ccc(F)c(F)c1                         0.491715 -0.047643   \n",
       "CC1(C)Oc2cc3c(cc2C=C1)C1=C[C@@]2(CC(C)(C)C1=[N+...   1.264496  3.212314   \n",
       "CN(C)CCOc1ccc(cc1)C(=C(/CCCl)c1ccccc1)\\c1ccccc1      7.376643 -0.899182   \n",
       "CS(=O)C                                             -1.019945  0.285194   \n",
       "\n",
       "                                                    latent_7   latent_8  \\\n",
       "CCC1(CCC(=O)NC1=O)c1ccc(N)cc1                      -1.166959   2.664718   \n",
       "COC(=O)C1=C(C)NC(C)=C(C1c1cccc(c1)[N+]([O-])=O)... -0.984417   5.949274   \n",
       "Oc1cc2c3c(oc(=O)c4cc(O)c(O)c(oc2=O)c34)c1O         -2.441360  12.272419   \n",
       "CN1c2ccc(Cl)cc2C(=NCC1=O)c1ccccc1                  -0.823113   3.067926   \n",
       "CCCOc1ccccc1-c1nc2[nH]nnc2c(=O)[nH]1               -0.212667   6.517174   \n",
       "...                                                      ...        ...   \n",
       "C[C@]12CC[C@H]3[C@H]([C@@H]1CC[C@@H]2O)C(CCCCCC...  8.858174  -4.866646   \n",
       "CC1CC(=O)NN=C1c1ccc(F)c(F)c1                       -0.264492   3.374358   \n",
       "CC1(C)Oc2cc3c(cc2C=C1)C1=C[C@@]2(CC(C)(C)C1=[N+...  0.439272   2.158065   \n",
       "CN(C)CCOc1ccc(cc1)C(=C(/CCCl)c1ccccc1)\\c1ccccc1     0.674123   3.020287   \n",
       "CS(=O)C                                             2.042589  -0.412301   \n",
       "\n",
       "                                                    latent_9  latent_10  ...  \\\n",
       "CCC1(CCC(=O)NC1=O)c1ccc(N)cc1                       3.343689  -0.006922  ...   \n",
       "COC(=O)C1=C(C)NC(C)=C(C1c1cccc(c1)[N+]([O-])=O)...  2.813795  -0.565353  ...   \n",
       "Oc1cc2c3c(oc(=O)c4cc(O)c(O)c(oc2=O)c34)c1O          2.008174  -3.285258  ...   \n",
       "CN1c2ccc(Cl)cc2C(=NCC1=O)c1ccccc1                   3.679698  -1.300052  ...   \n",
       "CCCOc1ccccc1-c1nc2[nH]nnc2c(=O)[nH]1                2.124844   0.071209  ...   \n",
       "...                                                      ...        ...  ...   \n",
       "C[C@]12CC[C@H]3[C@H]([C@@H]1CC[C@@H]2O)C(CCCCCC...  5.432515   5.362478  ...   \n",
       "CC1CC(=O)NN=C1c1ccc(F)c(F)c1                        0.471756  -1.139239  ...   \n",
       "CC1(C)Oc2cc3c(cc2C=C1)C1=C[C@@]2(CC(C)(C)C1=[N+...  2.882574  -0.837132  ...   \n",
       "CN(C)CCOc1ccc(cc1)C(=C(/CCCl)c1ccccc1)\\c1ccccc1     6.109891   0.568124  ...   \n",
       "CS(=O)C                                            -1.191084  -0.907208  ...   \n",
       "\n",
       "                                                    latent_119  latent_120  \\\n",
       "CCC1(CCC(=O)NC1=O)c1ccc(N)cc1                         3.050381    1.707294   \n",
       "COC(=O)C1=C(C)NC(C)=C(C1c1cccc(c1)[N+]([O-])=O)...    6.724248    1.761610   \n",
       "Oc1cc2c3c(oc(=O)c4cc(O)c(O)c(oc2=O)c34)c1O            9.535297    3.193279   \n",
       "CN1c2ccc(Cl)cc2C(=NCC1=O)c1ccccc1                     6.551105    2.713072   \n",
       "CCCOc1ccccc1-c1nc2[nH]nnc2c(=O)[nH]1                  8.125871    4.269263   \n",
       "...                                                        ...         ...   \n",
       "C[C@]12CC[C@H]3[C@H]([C@@H]1CC[C@@H]2O)C(CCCCCC...    4.023404    2.955298   \n",
       "CC1CC(=O)NN=C1c1ccc(F)c(F)c1                          3.382581    3.251327   \n",
       "CC1(C)Oc2cc3c(cc2C=C1)C1=C[C@@]2(CC(C)(C)C1=[N+...    8.328007    2.162308   \n",
       "CN(C)CCOc1ccc(cc1)C(=C(/CCCl)c1ccccc1)\\c1ccccc1       6.835088    2.277654   \n",
       "CS(=O)C                                               2.549212    7.594404   \n",
       "\n",
       "                                                    latent_121  latent_122  \\\n",
       "CCC1(CCC(=O)NC1=O)c1ccc(N)cc1                         4.976552    4.791414   \n",
       "COC(=O)C1=C(C)NC(C)=C(C1c1cccc(c1)[N+]([O-])=O)...    6.767087    7.629559   \n",
       "Oc1cc2c3c(oc(=O)c4cc(O)c(O)c(oc2=O)c34)c1O            4.388989    5.162661   \n",
       "CN1c2ccc(Cl)cc2C(=NCC1=O)c1ccccc1                     4.377713    3.609195   \n",
       "CCCOc1ccccc1-c1nc2[nH]nnc2c(=O)[nH]1                  3.007549    1.281668   \n",
       "...                                                        ...         ...   \n",
       "C[C@]12CC[C@H]3[C@H]([C@@H]1CC[C@@H]2O)C(CCCCCC...    4.123578    4.040226   \n",
       "CC1CC(=O)NN=C1c1ccc(F)c(F)c1                          4.951934    2.612345   \n",
       "CC1(C)Oc2cc3c(cc2C=C1)C1=C[C@@]2(CC(C)(C)C1=[N+...    6.509467    7.499479   \n",
       "CN(C)CCOc1ccc(cc1)C(=C(/CCCl)c1ccccc1)\\c1ccccc1       2.711159    2.147027   \n",
       "CS(=O)C                                               3.945146    0.610169   \n",
       "\n",
       "                                                    latent_123  latent_124  \\\n",
       "CCC1(CCC(=O)NC1=O)c1ccc(N)cc1                         2.970736    2.122769   \n",
       "COC(=O)C1=C(C)NC(C)=C(C1c1cccc(c1)[N+]([O-])=O)...    4.761365    3.258632   \n",
       "Oc1cc2c3c(oc(=O)c4cc(O)c(O)c(oc2=O)c34)c1O            2.256190    1.079738   \n",
       "CN1c2ccc(Cl)cc2C(=NCC1=O)c1ccccc1                     2.576009    3.258632   \n",
       "CCCOc1ccccc1-c1nc2[nH]nnc2c(=O)[nH]1                  3.106278    2.900217   \n",
       "...                                                        ...         ...   \n",
       "C[C@]12CC[C@H]3[C@H]([C@@H]1CC[C@@H]2O)C(CCCCCC...    3.861941    2.582217   \n",
       "CC1CC(=O)NN=C1c1ccc(F)c(F)c1                          2.244669    0.987251   \n",
       "CC1(C)Oc2cc3c(cc2C=C1)C1=C[C@@]2(CC(C)(C)C1=[N+...    2.028891    2.254654   \n",
       "CN(C)CCOc1ccc(cc1)C(=C(/CCCl)c1ccccc1)\\c1ccccc1       2.576009    3.258632   \n",
       "CS(=O)C                                              -0.751963   -0.660370   \n",
       "\n",
       "                                                    latent_125  latent_126  \\\n",
       "CCC1(CCC(=O)NC1=O)c1ccc(N)cc1                         2.403527    2.849323   \n",
       "COC(=O)C1=C(C)NC(C)=C(C1c1cccc(c1)[N+]([O-])=O)...    3.838732    3.210113   \n",
       "Oc1cc2c3c(oc(=O)c4cc(O)c(O)c(oc2=O)c34)c1O           -0.573889    0.535195   \n",
       "CN1c2ccc(Cl)cc2C(=NCC1=O)c1ccccc1                     4.000362    1.933747   \n",
       "CCCOc1ccccc1-c1nc2[nH]nnc2c(=O)[nH]1                  1.735094    1.068005   \n",
       "...                                                        ...         ...   \n",
       "C[C@]12CC[C@H]3[C@H]([C@@H]1CC[C@@H]2O)C(CCCCCC...    4.876552    7.226796   \n",
       "CC1CC(=O)NN=C1c1ccc(F)c(F)c1                          3.703331    2.473626   \n",
       "CC1(C)Oc2cc3c(cc2C=C1)C1=C[C@@]2(CC(C)(C)C1=[N+...    5.438233    5.535284   \n",
       "CN(C)CCOc1ccc(cc1)C(=C(/CCCl)c1ccccc1)\\c1ccccc1       3.379274    1.291224   \n",
       "CS(=O)C                                              -0.207095    1.345049   \n",
       "\n",
       "                                                    latent_127  latent_128  \n",
       "CCC1(CCC(=O)NC1=O)c1ccc(N)cc1                         4.152703    5.162078  \n",
       "COC(=O)C1=C(C)NC(C)=C(C1c1cccc(c1)[N+]([O-])=O)...    4.460206    5.178266  \n",
       "Oc1cc2c3c(oc(=O)c4cc(O)c(O)c(oc2=O)c34)c1O            7.646057    0.632657  \n",
       "CN1c2ccc(Cl)cc2C(=NCC1=O)c1ccccc1                     2.250189    5.090078  \n",
       "CCCOc1ccccc1-c1nc2[nH]nnc2c(=O)[nH]1                  1.463316    5.090078  \n",
       "...                                                        ...         ...  \n",
       "C[C@]12CC[C@H]3[C@H]([C@@H]1CC[C@@H]2O)C(CCCCCC...    5.334458    3.926111  \n",
       "CC1CC(=O)NN=C1c1ccc(F)c(F)c1                          1.725965    4.297815  \n",
       "CC1(C)Oc2cc3c(cc2C=C1)C1=C[C@@]2(CC(C)(C)C1=[N+...    4.114549    1.854789  \n",
       "CN(C)CCOc1ccc(cc1)C(=C(/CCCl)c1ccccc1)\\c1ccccc1       7.990438    5.090078  \n",
       "CS(=O)C                                               3.050264    0.020120  \n",
       "\n",
       "[979 rows x 128 columns]"
      ]
     },
     "execution_count": 17,
     "metadata": {},
     "output_type": "execute_result"
    }
   ],
   "source": [
    "pd.read_parquet(DATA_DIR / 'embeddings' / fname)"
   ]
  },
  {
   "cell_type": "markdown",
   "id": "8a21e6bb",
   "metadata": {},
   "source": [
    "## Drawing molecules"
   ]
  },
  {
   "cell_type": "code",
   "execution_count": 18,
   "id": "6cb5b3ec",
   "metadata": {},
   "outputs": [],
   "source": [
    "from IPython.display import SVG\n",
    "from rdkit import Chem\n",
    "from rdkit.Chem import Draw"
   ]
  },
  {
   "cell_type": "code",
   "execution_count": 19,
   "id": "b8a299f5",
   "metadata": {},
   "outputs": [
    {
     "data": {
      "image/png": "[encoded data removed]",
      "text/plain": [
       "<IPython.core.display.Image object>"
      ]
     },
     "execution_count": 19,
     "metadata": {},
     "output_type": "execute_result"
    }
   ],
   "source": [
    "mols = [Chem.MolFromSmiles(s) for s in smiles_list[:14]]\n",
    "Draw.MolsToGridImage(mols, molsPerRow=7, subImgSize=(180, 150))"
   ]
  },
  {
   "cell_type": "code",
   "execution_count": null,
   "id": "30667644",
   "metadata": {},
   "outputs": [],
   "source": []
  }
 ],
 "metadata": {
  "kernelspec": {
   "display_name": "Python 3.8.8 64-bit ('py38': conda)",
   "language": "python",
   "name": "python388jvsc74a57bd0ad25c9354f8cefdf5a943c25e67813a21d2807e3af4d6d0915e47390a83b57ce"
  },
  "language_info": {
   "codemirror_mode": {
    "name": "ipython",
    "version": 3
   },
   "file_extension": ".py",
   "mimetype": "text/x-python",
   "name": "python",
   "nbconvert_exporter": "python",
   "pygments_lexer": "ipython3",
   "version": "3.8.8"
  }
 },
 "nbformat": 4,
 "nbformat_minor": 5
}
