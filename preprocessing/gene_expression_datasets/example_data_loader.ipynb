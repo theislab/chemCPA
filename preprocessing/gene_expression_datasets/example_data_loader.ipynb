{
 "cells": [
  {
   "cell_type": "code",
   "execution_count": 66,
   "id": "99985613",
   "metadata": {},
   "outputs": [],
   "source": [
    "import anndata\n",
    "import scanpy as sc\n",
    "import numpy as np\n",
    "import os\n",
    "import pandas as pd\n",
    "\n",
    "import torch\n",
    "from torch.utils.data import Dataset, DataLoader"
   ]
  },
  {
   "cell_type": "code",
   "execution_count": 67,
   "id": "4b1db6cf",
   "metadata": {},
   "outputs": [],
   "source": [
    "file_dir='/home/manu/chemCPA/chemCPA'"
   ]
  },
  {
   "cell_type": "markdown",
   "id": "7da0cb9d",
   "metadata": {},
   "source": [
    "## Construct dataset loader"
   ]
  },
  {
   "cell_type": "code",
   "execution_count": 68,
   "id": "18333750",
   "metadata": {},
   "outputs": [],
   "source": [
    "class GenePerturbationDataloader(Dataset):\n",
    "    def __init__(self, file_dir, file_name):\n",
    "        adata=sc.read_h5ad(os.path.join(file_dir, file_name))\n",
    "        self.X = adata.X.A\n",
    "        self.cell_line_id = torch.tensor(adata.obs['cell_line_id'])\n",
    "        self.treatment_type = list(adata.obs['treatment_type'])\n",
    "        self.treatment_ids = list(adata.obs['treatment_id'])\n",
    "        self.treatment_dose_uM = torch.tensor(adata.obs['treatment_dose_uM'], dtype=torch.float)\n",
    "        #self.treatment_time_h = list(adata.obs['treatment_time_h'])\n",
    "    \n",
    "    def __len__(self):\n",
    "        return len(self.cell_line_id)\n",
    "    \n",
    "    def __getitem__(self, idx):\n",
    "        return(self.X[idx,:], self.cell_line_id[idx], self.treatment_type[idx],\n",
    "               self.treatment_ids[idx], self.treatment_dose_uM[idx])"
   ]
  },
  {
   "cell_type": "code",
   "execution_count": 69,
   "id": "87683029",
   "metadata": {
    "scrolled": true
   },
   "outputs": [],
   "source": [
    "GPD=GenePerturbationDataloader(file_dir='/home/manu/chemCPA/chemCPA', file_name='Comb.h5ad')"
   ]
  },
  {
   "cell_type": "code",
   "execution_count": 70,
   "id": "11ce2b63",
   "metadata": {
    "scrolled": true
   },
   "outputs": [],
   "source": [
    "train_dataloader = DataLoader(GPD, batch_size=5, shuffle=True)"
   ]
  },
  {
   "cell_type": "code",
   "execution_count": 72,
   "id": "8421a031",
   "metadata": {
    "scrolled": true
   },
   "outputs": [
    {
     "data": {
      "text/plain": [
       "[tensor([[0.0000, 0.0000, 0.0000,  ..., 0.0000, 0.4922, 0.0000],\n",
       "         [0.0000, 0.0000, 0.0000,  ..., 0.0000, 0.0000, 0.0000],\n",
       "         [0.0000, 0.0000, 0.6071,  ..., 0.0000, 0.6071, 0.0000],\n",
       "         [0.0000, 0.0000, 0.0000,  ..., 0.0000, 0.0000, 0.0000],\n",
       "         [0.0000, 0.0000, 0.0000,  ..., 0.0000, 0.8616, 0.5209]]),\n",
       " tensor([0, 0, 0, 0, 0]),\n",
       " ('gene_knockout',\n",
       "  'gene_knockout',\n",
       "  'gene_knockout',\n",
       "  'gene_knockout',\n",
       "  'gene_knockout'),\n",
       " ('32+48', '18', '12', '49', '83'),\n",
       " tensor([nan, nan, nan, nan, nan])]"
      ]
     },
     "execution_count": 72,
     "metadata": {},
     "output_type": "execute_result"
    }
   ],
   "source": [
    "one_batch = next(iter(train_dataloader))\n",
    "one_batch\n",
    "\n",
    "# expression, cell_line_id, treatment_type, treatment_id, treatment_dose_uM"
   ]
  },
  {
   "cell_type": "code",
   "execution_count": null,
   "id": "d5eb9d33",
   "metadata": {},
   "outputs": [],
   "source": [
    "# I had problem with loading a list of tensors of different length directly using the data loader because\n",
    "# torch wanted to collate them\n",
    "treatment_id=[torch.tensor([int(a) for a in a.split('+')]) if '+' in a else torch.tensor([int(a)]) for a in treatment_id]"
   ]
  },
  {
   "cell_type": "markdown",
   "id": "e71d8701",
   "metadata": {},
   "source": [
    "## Map treatments to vectors"
   ]
  },
  {
   "cell_type": "code",
   "execution_count": 73,
   "id": "ef31e830",
   "metadata": {},
   "outputs": [],
   "source": [
    "# For drugs this will be SMILES-to-drug-embedding, for gene-knockouts this is the ESM embedding"
   ]
  },
  {
   "cell_type": "code",
   "execution_count": 74,
   "id": "b51707e9",
   "metadata": {},
   "outputs": [],
   "source": [
    "# ToDo: Take the acutall matrices, right now I use some random embedding vectors"
   ]
  },
  {
   "cell_type": "code",
   "execution_count": 75,
   "id": "e0de9760",
   "metadata": {},
   "outputs": [],
   "source": [
    "M={}\n",
    "M['drug_perturbation']=torch.tensor(pd.read_pickle(f'{file_dir}/drug_perturbation_matrix.pkl').values)\n",
    "M['gene_knockout']=torch.tensor(pd.read_pickle(f'{file_dir}/gene_knockout_matrix.pkl').values)"
   ]
  },
  {
   "cell_type": "code",
   "execution_count": 76,
   "id": "13d68676",
   "metadata": {},
   "outputs": [],
   "source": [
    "def map_index_to_embedding_vector(one_batch, M):\n",
    "    treatment_types=one_batch[2]\n",
    "    treatment_ids=one_batch[3]\n",
    "\n",
    "    embedding_vectors=[]\n",
    "    for i in range(len(treatment_types)):\n",
    "        # if there are several treatments happening at the same time I sum up their embedding vectors\n",
    "        embedding_vectors.append(M[treatment_types[i]][:,[int(a) for a in treatment_ids[i].split('+')]].sum(1))\n",
    "        \n",
    "    one_batch[3]=embedding_vectors\n",
    "    return(one_batch)"
   ]
  },
  {
   "cell_type": "code",
   "execution_count": 77,
   "id": "68dd7109",
   "metadata": {},
   "outputs": [
    {
     "data": {
      "text/plain": [
       "[tensor([[0.0000, 0.0000, 0.0000,  ..., 0.0000, 0.4922, 0.0000],\n",
       "         [0.0000, 0.0000, 0.0000,  ..., 0.0000, 0.0000, 0.0000],\n",
       "         [0.0000, 0.0000, 0.6071,  ..., 0.0000, 0.6071, 0.0000],\n",
       "         [0.0000, 0.0000, 0.0000,  ..., 0.0000, 0.0000, 0.0000],\n",
       "         [0.0000, 0.0000, 0.0000,  ..., 0.0000, 0.8616, 0.5209]]),\n",
       " tensor([0, 0, 0, 0, 0]),\n",
       " ('gene_knockout',\n",
       "  'gene_knockout',\n",
       "  'gene_knockout',\n",
       "  'gene_knockout',\n",
       "  'gene_knockout'),\n",
       " [tensor([-0.6943,  2.2602,  1.1828,  2.5050,  0.2024, -4.0970, -1.9896,  0.5536,\n",
       "          -0.5383, -1.0787], dtype=torch.float64),\n",
       "  tensor([-0.0374, -1.1477,  0.2969, -1.6982, -0.0310,  0.7577,  1.5921,  1.1752,\n",
       "           0.4533,  1.0757], dtype=torch.float64),\n",
       "  tensor([-0.2641, -0.0939,  0.0409, -0.8417, -1.4903, -1.2633,  1.4893, -1.1421,\n",
       "           0.9217, -0.4295], dtype=torch.float64),\n",
       "  tensor([ 0.3832,  0.4902, -1.5907,  0.8304, -0.2842, -1.0488, -1.8955, -0.4898,\n",
       "          -0.6559,  0.2390], dtype=torch.float64),\n",
       "  tensor([ 0.5296, -0.2194, -0.1266, -1.1362, -0.8072,  1.0680,  0.2961, -1.0754,\n",
       "          -1.4640, -0.5921], dtype=torch.float64)],\n",
       " tensor([nan, nan, nan, nan, nan])]"
      ]
     },
     "execution_count": 77,
     "metadata": {},
     "output_type": "execute_result"
    }
   ],
   "source": [
    "one_batch=map_index_to_embedding_vector(one_batch, M)\n",
    "\n",
    "# expression, cell_line_id, treatment_type, treatment_embedding, treatment_dose_uM\n",
    "one_batch"
   ]
  },
  {
   "cell_type": "code",
   "execution_count": null,
   "id": "4c723fe3",
   "metadata": {},
   "outputs": [],
   "source": [
    "# This can then be used to train the model, which will need to differentiate between \n",
    "# 'drug_perturbations' and 'gene_knockout' vectors when feeding it into the MLPs and other layers"
   ]
  }
 ],
 "metadata": {
  "kernelspec": {
   "display_name": "g",
   "language": "python",
   "name": "g"
  },
  "language_info": {
   "codemirror_mode": {
    "name": "ipython",
    "version": 3
   },
   "file_extension": ".py",
   "mimetype": "text/x-python",
   "name": "python",
   "nbconvert_exporter": "python",
   "pygments_lexer": "ipython3",
   "version": "3.10.9"
  }
 },
 "nbformat": 4,
 "nbformat_minor": 5
}
