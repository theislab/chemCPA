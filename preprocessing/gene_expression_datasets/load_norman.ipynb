{
 "cells": [
  {
   "cell_type": "code",
   "execution_count": 2,
   "id": "41c67e65",
   "metadata": {
    "scrolled": true
   },
   "outputs": [],
   "source": [
    "import anndata\n",
    "import scanpy as sc\n",
    "import numpy as np"
   ]
  },
  {
   "cell_type": "code",
   "execution_count": 3,
   "id": "fa58a33b",
   "metadata": {},
   "outputs": [],
   "source": [
    "# I downloaded the data from: https://figshare.com/articles/dataset/Normal_et_al_2019/19134071\n",
    "# They (Yuge Ji) have the raw data and the preprocessed one. I'll take the preprocessed one."
   ]
  },
  {
   "cell_type": "code",
   "execution_count": 4,
   "id": "e3192987",
   "metadata": {},
   "outputs": [],
   "source": [
    "Path='/home/manu/chemCPA/chemCPA'"
   ]
  },
  {
   "cell_type": "code",
   "execution_count": 5,
   "id": "d8d303fc",
   "metadata": {},
   "outputs": [
    {
     "data": {
      "text/plain": [
       "AnnData object with n_obs × n_vars = 111255 × 19018\n",
       "    obs: 'guide_identity', 'read_count', 'UMI_count', 'coverage', 'gemgroup', 'good_coverage', 'number_of_cells', 'guide_AHR', 'guide_ARID1A', 'guide_ARRDC3', 'guide_ATL1', 'guide_BAK1', 'guide_BCL2L11', 'guide_BCORL1', 'guide_BPGM', 'guide_C19orf26', 'guide_C3orf72', 'guide_CBFA2T3', 'guide_CBL', 'guide_CDKN1A', 'guide_CDKN1B', 'guide_CDKN1C', 'guide_CEBPA', 'guide_CEBPB', 'guide_CEBPE', 'guide_CELF2', 'guide_CITED1', 'guide_CKS1B', 'guide_CLDN6', 'guide_CNN1', 'guide_CNNM4', 'guide_COL1A1', 'guide_COL2A1', 'guide_CSRNP1', 'guide_DLX2', 'guide_DUSP9', 'guide_EGR1', 'guide_ELMSAN1', 'guide_ETS2', 'guide_FEV', 'guide_FOSB', 'guide_FOXA1', 'guide_FOXA3', 'guide_FOXF1', 'guide_FOXL2', 'guide_FOXO4', 'guide_GLB1L2', 'guide_HES7', 'guide_HK2', 'guide_HNF4A', 'guide_HOXA13', 'guide_HOXB9', 'guide_HOXC13', 'guide_IER5L', 'guide_IGDCC3', 'guide_IKZF3', 'guide_IRF1', 'guide_ISL2', 'guide_JUN', 'guide_KIAA1804', 'guide_KIF18B', 'guide_KIF2C', 'guide_KLF1', 'guide_KMT2A', 'guide_LHX1', 'guide_LYL1', 'guide_MAML2', 'guide_MAP2K3', 'guide_MAP2K6', 'guide_MAP4K3', 'guide_MAP4K5', 'guide_MAP7D1', 'guide_MAPK1', 'guide_MEIS1', 'guide_MIDN', 'guide_NCL', 'guide_NIT1', 'guide_OSR2', 'guide_PLK4', 'guide_POU3F2', 'guide_PRDM1', 'guide_PRTG', 'guide_PTPN1', 'guide_PTPN12', 'guide_PTPN13', 'guide_PTPN9', 'guide_RHOXF2', 'guide_RREB1', 'guide_RUNX1T1', 'guide_S1PR2', 'guide_SAMD1', 'guide_SET', 'guide_SGK1', 'guide_SLC38A2', 'guide_SLC4A1', 'guide_SLC6A9', 'guide_SNAI1', 'guide_SPI1', 'guide_STIL', 'guide_TBX2', 'guide_TBX3', 'guide_TGFBR2', 'guide_TMSB4X', 'guide_TP73', 'guide_TSC22D1', 'guide_UBASH3A', 'guide_UBASH3B', 'guide_ZBTB1', 'guide_ZBTB10', 'guide_ZBTB25', 'guide_ZC3HAV1', 'guide_ZNF318', 'guide_ids', 'n_genes', 'n_genes_by_counts', 'total_counts', 'total_counts_mt', 'pct_counts_mt', 'leiden', 'perturbation_name', 'perturbation_type', 'perturbation_value', 'perturbation_unit'\n",
       "    var: 'index', 'n_cells', 'mt', 'n_cells_by_counts', 'mean_counts', 'pct_dropout_by_counts', 'total_counts', 'highly_variable', 'means', 'dispersions', 'dispersions_norm'\n",
       "    uns: 'doi', 'hvg', 'leiden', 'neighbors', 'pca', 'preprocessing_nb_link', 'umap'\n",
       "    obsm: 'X_pca', 'X_umap'\n",
       "    varm: 'PCs'\n",
       "    layers: 'counts'\n",
       "    obsp: 'connectivities', 'distances'"
      ]
     },
     "execution_count": 5,
     "metadata": {},
     "output_type": "execute_result"
    }
   ],
   "source": [
    "#adata_raw=sc.read_h5ad(\"/home/manu/Downloads/Norman_2019_raw.h5ad\")\n",
    "adata=sc.read_h5ad(f\"{Path}/Norman_2019.h5ad\")\n",
    "adata"
   ]
  },
  {
   "cell_type": "code",
   "execution_count": 6,
   "id": "a2eafe1b",
   "metadata": {
    "scrolled": true
   },
   "outputs": [],
   "source": [
    "adata.obs['cell_line']='K562'\n",
    "\n",
    "adata.obs['treatment']=adata.obs['perturbation_name']\n",
    "\n",
    "adata.obs['treatment_dose_uM']=np.NaN\n",
    "\n",
    "# Suppl. methods say 7 posttransduction the cells where measured\n",
    "adata.obs['treatment_time_h']=7*24.0\n",
    "\n",
    "adata.obs['treatment_type']='gene_knockout'"
   ]
  },
  {
   "cell_type": "code",
   "execution_count": 7,
   "id": "551711ec",
   "metadata": {},
   "outputs": [
    {
     "data": {
      "text/html": [
       "<div>\n",
       "<style scoped>\n",
       "    .dataframe tbody tr th:only-of-type {\n",
       "        vertical-align: middle;\n",
       "    }\n",
       "\n",
       "    .dataframe tbody tr th {\n",
       "        vertical-align: top;\n",
       "    }\n",
       "\n",
       "    .dataframe thead th {\n",
       "        text-align: right;\n",
       "    }\n",
       "</style>\n",
       "<table border=\"1\" class=\"dataframe\">\n",
       "  <thead>\n",
       "    <tr style=\"text-align: right;\">\n",
       "      <th></th>\n",
       "      <th>cell_line</th>\n",
       "      <th>treatment</th>\n",
       "      <th>treatment_dose_uM</th>\n",
       "      <th>treatment_time_h</th>\n",
       "      <th>treatment_type</th>\n",
       "    </tr>\n",
       "    <tr>\n",
       "      <th>index</th>\n",
       "      <th></th>\n",
       "      <th></th>\n",
       "      <th></th>\n",
       "      <th></th>\n",
       "      <th></th>\n",
       "    </tr>\n",
       "  </thead>\n",
       "  <tbody>\n",
       "    <tr>\n",
       "      <th>AAACCTGAGAAGAAGC-1</th>\n",
       "      <td>K562</td>\n",
       "      <td>control</td>\n",
       "      <td>NaN</td>\n",
       "      <td>168.0</td>\n",
       "      <td>gene_knockout</td>\n",
       "    </tr>\n",
       "    <tr>\n",
       "      <th>AAACCTGAGGCATGTG-1</th>\n",
       "      <td>K562</td>\n",
       "      <td>TSC22D1</td>\n",
       "      <td>NaN</td>\n",
       "      <td>168.0</td>\n",
       "      <td>gene_knockout</td>\n",
       "    </tr>\n",
       "    <tr>\n",
       "      <th>AAACCTGAGGCCCTTG-1</th>\n",
       "      <td>K562</td>\n",
       "      <td>KLF1+MAP2K6</td>\n",
       "      <td>NaN</td>\n",
       "      <td>168.0</td>\n",
       "      <td>gene_knockout</td>\n",
       "    </tr>\n",
       "    <tr>\n",
       "      <th>AAACCTGCACGAAGCA-1</th>\n",
       "      <td>K562</td>\n",
       "      <td>control</td>\n",
       "      <td>NaN</td>\n",
       "      <td>168.0</td>\n",
       "      <td>gene_knockout</td>\n",
       "    </tr>\n",
       "    <tr>\n",
       "      <th>AAACCTGCAGACGTAG-1</th>\n",
       "      <td>K562</td>\n",
       "      <td>CEBPE+RUNX1T1</td>\n",
       "      <td>NaN</td>\n",
       "      <td>168.0</td>\n",
       "      <td>gene_knockout</td>\n",
       "    </tr>\n",
       "    <tr>\n",
       "      <th>...</th>\n",
       "      <td>...</td>\n",
       "      <td>...</td>\n",
       "      <td>...</td>\n",
       "      <td>...</td>\n",
       "      <td>...</td>\n",
       "    </tr>\n",
       "    <tr>\n",
       "      <th>TTTGTCATCAGTACGT-8</th>\n",
       "      <td>K562</td>\n",
       "      <td>FOXA3</td>\n",
       "      <td>NaN</td>\n",
       "      <td>168.0</td>\n",
       "      <td>gene_knockout</td>\n",
       "    </tr>\n",
       "    <tr>\n",
       "      <th>TTTGTCATCCACTCCA-8</th>\n",
       "      <td>K562</td>\n",
       "      <td>CELF2</td>\n",
       "      <td>NaN</td>\n",
       "      <td>168.0</td>\n",
       "      <td>gene_knockout</td>\n",
       "    </tr>\n",
       "    <tr>\n",
       "      <th>TTTGTCATCCCAACGG-8</th>\n",
       "      <td>K562</td>\n",
       "      <td>BCORL1</td>\n",
       "      <td>NaN</td>\n",
       "      <td>168.0</td>\n",
       "      <td>gene_knockout</td>\n",
       "    </tr>\n",
       "    <tr>\n",
       "      <th>TTTGTCATCCTCCTAG-8</th>\n",
       "      <td>K562</td>\n",
       "      <td>PTPN12+ZBTB10</td>\n",
       "      <td>NaN</td>\n",
       "      <td>168.0</td>\n",
       "      <td>gene_knockout</td>\n",
       "    </tr>\n",
       "    <tr>\n",
       "      <th>TTTGTCATCTGGCGAC-8</th>\n",
       "      <td>K562</td>\n",
       "      <td>MAP4K3</td>\n",
       "      <td>NaN</td>\n",
       "      <td>168.0</td>\n",
       "      <td>gene_knockout</td>\n",
       "    </tr>\n",
       "  </tbody>\n",
       "</table>\n",
       "<p>111255 rows × 5 columns</p>\n",
       "</div>"
      ],
      "text/plain": [
       "                   cell_line      treatment  treatment_dose_uM   \n",
       "index                                                            \n",
       "AAACCTGAGAAGAAGC-1      K562        control                NaN  \\\n",
       "AAACCTGAGGCATGTG-1      K562        TSC22D1                NaN   \n",
       "AAACCTGAGGCCCTTG-1      K562    KLF1+MAP2K6                NaN   \n",
       "AAACCTGCACGAAGCA-1      K562        control                NaN   \n",
       "AAACCTGCAGACGTAG-1      K562  CEBPE+RUNX1T1                NaN   \n",
       "...                      ...            ...                ...   \n",
       "TTTGTCATCAGTACGT-8      K562          FOXA3                NaN   \n",
       "TTTGTCATCCACTCCA-8      K562          CELF2                NaN   \n",
       "TTTGTCATCCCAACGG-8      K562         BCORL1                NaN   \n",
       "TTTGTCATCCTCCTAG-8      K562  PTPN12+ZBTB10                NaN   \n",
       "TTTGTCATCTGGCGAC-8      K562         MAP4K3                NaN   \n",
       "\n",
       "                    treatment_time_h treatment_type  \n",
       "index                                                \n",
       "AAACCTGAGAAGAAGC-1             168.0  gene_knockout  \n",
       "AAACCTGAGGCATGTG-1             168.0  gene_knockout  \n",
       "AAACCTGAGGCCCTTG-1             168.0  gene_knockout  \n",
       "AAACCTGCACGAAGCA-1             168.0  gene_knockout  \n",
       "AAACCTGCAGACGTAG-1             168.0  gene_knockout  \n",
       "...                              ...            ...  \n",
       "TTTGTCATCAGTACGT-8             168.0  gene_knockout  \n",
       "TTTGTCATCCACTCCA-8             168.0  gene_knockout  \n",
       "TTTGTCATCCCAACGG-8             168.0  gene_knockout  \n",
       "TTTGTCATCCTCCTAG-8             168.0  gene_knockout  \n",
       "TTTGTCATCTGGCGAC-8             168.0  gene_knockout  \n",
       "\n",
       "[111255 rows x 5 columns]"
      ]
     },
     "execution_count": 7,
     "metadata": {},
     "output_type": "execute_result"
    }
   ],
   "source": [
    "# We only need these columns\n",
    "adata.obs=adata.obs[['cell_line', 'treatment', 'treatment_dose_uM', 'treatment_time_h', 'treatment_type']]\n",
    "adata.obs"
   ]
  },
  {
   "cell_type": "code",
   "execution_count": 8,
   "id": "aabf604e",
   "metadata": {},
   "outputs": [
    {
     "data": {
      "text/plain": [
       "treatment\n",
       "control          11835\n",
       "KLF1              1954\n",
       "BAK1              1451\n",
       "CEBPE             1230\n",
       "CEBPE+RUNX1T1     1215\n",
       "                 ...  \n",
       "CEBPA+CEBPB         64\n",
       "CBL+UBASH3A         64\n",
       "CEBPB+JUN           59\n",
       "C3orf72+FOXL2       59\n",
       "CEBPA+JUN           54\n",
       "Name: count, Length: 237, dtype: int64"
      ]
     },
     "execution_count": 8,
     "metadata": {},
     "output_type": "execute_result"
    }
   ],
   "source": [
    "adata.obs['treatment'].value_counts()"
   ]
  },
  {
   "cell_type": "code",
   "execution_count": null,
   "id": "3280e168",
   "metadata": {},
   "outputs": [],
   "source": []
  },
  {
   "cell_type": "code",
   "execution_count": null,
   "id": "6286d090",
   "metadata": {},
   "outputs": [],
   "source": []
  },
  {
   "cell_type": "code",
   "execution_count": 9,
   "id": "882967f7",
   "metadata": {},
   "outputs": [
    {
     "data": {
      "text/plain": [
       "Index(['ENSG00000243485', 'ENSG00000238009', 'ENSG00000279457',\n",
       "       'ENSG00000228463', 'ENSG00000237094', 'ENSG00000230021',\n",
       "       'ENSG00000237491', 'ENSG00000225880', 'ENSG00000230368',\n",
       "       'ENSG00000272438',\n",
       "       ...\n",
       "       'ENSG00000273554', 'ENSG00000278704', 'ENSG00000277400',\n",
       "       'ENSG00000274847', 'ENSG00000276256', 'ENSG00000273748',\n",
       "       'ENSG00000278817', 'ENSG00000278384', 'ENSG00000276345',\n",
       "       'ENSG00000271254'],\n",
       "      dtype='object', name='index', length=19018)"
      ]
     },
     "execution_count": 9,
     "metadata": {},
     "output_type": "execute_result"
    }
   ],
   "source": [
    "adata.var.index=adata.var['index']\n",
    "adata.var.index"
   ]
  },
  {
   "cell_type": "code",
   "execution_count": 10,
   "id": "13976a54",
   "metadata": {},
   "outputs": [],
   "source": [
    "adata.write(f'{Path}/Norman_pp.h5ad')"
   ]
  },
  {
   "cell_type": "code",
   "execution_count": 11,
   "id": "de9c5f3d",
   "metadata": {},
   "outputs": [
    {
     "data": {
      "text/plain": [
       "'/home/manu/chemCPA/chemCPA'"
      ]
     },
     "execution_count": 11,
     "metadata": {},
     "output_type": "execute_result"
    }
   ],
   "source": [
    "Path"
   ]
  },
  {
   "cell_type": "code",
   "execution_count": null,
   "id": "2b7bbed8",
   "metadata": {},
   "outputs": [],
   "source": []
  },
  {
   "cell_type": "code",
   "execution_count": null,
   "id": "f9c68f07",
   "metadata": {},
   "outputs": [],
   "source": []
  }
 ],
 "metadata": {
  "kernelspec": {
   "display_name": "g",
   "language": "python",
   "name": "g"
  },
  "language_info": {
   "codemirror_mode": {
    "name": "ipython",
    "version": 3
   },
   "file_extension": ".py",
   "mimetype": "text/x-python",
   "name": "python",
   "nbconvert_exporter": "python",
   "pygments_lexer": "ipython3",
   "version": "3.10.9"
  }
 },
 "nbformat": 4,
 "nbformat_minor": 5
}
