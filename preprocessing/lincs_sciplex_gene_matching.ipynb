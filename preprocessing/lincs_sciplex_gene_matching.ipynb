{
 "cells": [
  {
   "cell_type": "markdown",
   "id": "9144495b-2433-4bb9-9b6f-6e282ea07891",
   "metadata": {},
   "source": [
    "**Requires**\n",
    "* `'lincs_full_smiles.h5ad'`\n",
    "* `'sciplex_raw_chunk_{i}.h5ad'` with $i \\in \\{0,1,2,3,4\\}$\n",
    "\n",
    "**Output**\n",
    "* `'sciplex3_matched_genes_lincs.h5ad'`\n",
    "* Only with genes that are shared with `lincs`: `'sciplex3_lincs_genes.h5ad'`\n",
    "* Only with genes that are shared with `sciplex`: `'lincs_full_smiles_sciplex_genes.h5ad'`\n",
    "\n",
    "## Imports"
   ]
  },
  {
   "cell_type": "code",
   "execution_count": 1,
   "id": "9a33a003-9ca0-4994-955c-305852e4d354",
   "metadata": {},
   "outputs": [
    {
     "name": "stdout",
     "output_type": "stream",
     "text": [
      "scanpy==1.9.0.dev41+g58f4904c anndata==0.7.6 umap==0.5.1 numpy==1.19.2 scipy==1.6.2 pandas==1.2.4 scikit-learn==0.24.2 statsmodels==0.12.2 python-igraph==0.9.1 louvain==0.7.0 pynndescent==0.5.2\n"
     ]
    }
   ],
   "source": [
    "import os \n",
    "import scanpy as sc\n",
    "import matplotlib.pyplot as plt\n",
    "import numpy as np \n",
    "import pandas as pd\n",
    "import sfaira\n",
    "\n",
    "sc.set_figure_params(dpi=80, frameon=False)\n",
    "sc.logging.print_header()\n",
    "os.getcwd()\n",
    "\n",
    "from compert.paths import DATA_DIR, PROJECT_DIR"
   ]
  },
  {
   "cell_type": "code",
   "execution_count": 2,
   "id": "d3c097de-7254-43e5-89e3-d3095e45f270",
   "metadata": {},
   "outputs": [],
   "source": [
    "%load_ext autoreload\n",
    "%autoreload 2"
   ]
  },
  {
   "cell_type": "markdown",
   "id": "0c6073db-2c0a-413c-b4b5-17dcef7e064c",
   "metadata": {},
   "source": [
    "## Load data"
   ]
  },
  {
   "cell_type": "markdown",
   "id": "3bcf6d3b-64c3-48cd-987b-f984c0e76ddd",
   "metadata": {},
   "source": [
    "Load lincs"
   ]
  },
  {
   "cell_type": "code",
   "execution_count": 3,
   "id": "9a72ac06-5233-4e7a-ba63-79786d6d2c31",
   "metadata": {
    "tags": []
   },
   "outputs": [],
   "source": [
    "adata_lincs = sc.read(PROJECT_DIR/'datasets'/'lincs_full_smiles.h5ad' )"
   ]
  },
  {
   "cell_type": "markdown",
   "id": "05efc7d8-b2ac-4fb5-bfd5-0938e5b80b1a",
   "metadata": {},
   "source": [
    "Load trapnell"
   ]
  },
  {
   "cell_type": "code",
   "execution_count": 4,
   "id": "b365aa7a-9957-4359-977d-dafe400df570",
   "metadata": {},
   "outputs": [],
   "source": [
    "adatas = []\n",
    "for i in range(5):\n",
    "    adatas.append(sc.read(PROJECT_DIR/'datasets'/f'sciplex_raw_chunk_{i}.h5ad'))\n",
    "adata = adatas[0].concatenate(adatas[1:])"
   ]
  },
  {
   "cell_type": "markdown",
   "id": "0f5c24ac-3b55-40f2-abee-22286b4c6d16",
   "metadata": {},
   "source": [
    "Add gene_id to trapnell"
   ]
  },
  {
   "cell_type": "code",
   "execution_count": 5,
   "id": "b72d957d-18eb-4994-875b-0bdd9db254c9",
   "metadata": {},
   "outputs": [],
   "source": [
    "adata.var['gene_id'] = adata.var.id.str.split('.').str[0]"
   ]
  },
  {
   "cell_type": "markdown",
   "id": "f0caf549-00e6-4d18-bb19-6c344c9f62c9",
   "metadata": {},
   "source": [
    "### Get gene ids from symbols via sfaira"
   ]
  },
  {
   "cell_type": "markdown",
   "id": "065cb35d-ce63-4152-9fcb-ca939295bc29",
   "metadata": {},
   "source": [
    "Load genome container with sfaira"
   ]
  },
  {
   "cell_type": "code",
   "execution_count": 6,
   "id": "11109df9-7724-4658-8865-7bb19ec98e3f",
   "metadata": {},
   "outputs": [],
   "source": [
    "genome_container = sfaira.versions.genomes.GenomeContainer(organism=\"homo_sapiens\", release=\"82\")"
   ]
  },
  {
   "cell_type": "markdown",
   "id": "3b06fe9c-a4fa-4864-981a-cc460e6b10e1",
   "metadata": {},
   "source": [
    "Extend symbols dict with unknown symbol"
   ]
  },
  {
   "cell_type": "code",
   "execution_count": 7,
   "id": "6ccc06f3-0d56-467f-84a5-e99f8882adb7",
   "metadata": {},
   "outputs": [],
   "source": [
    "symbols_dict = genome_container.symbol_to_id_dict\n",
    "symbols_dict.update({'PLSCR3':'ENSG00000187838'})"
   ]
  },
  {
   "cell_type": "markdown",
   "id": "d071d09e-dc42-4872-8cf5-88ad20f35fc2",
   "metadata": {},
   "source": [
    "Identify genes that are shared between lincs and trapnell"
   ]
  },
  {
   "cell_type": "code",
   "execution_count": 8,
   "id": "c9aba778-ade2-4bb1-b0e9-2e8bc7a95602",
   "metadata": {
    "tags": []
   },
   "outputs": [],
   "source": [
    "# For lincs\n",
    "adata_lincs.var['gene_id'] = adata_lincs.var_names.map(symbols_dict)\n",
    "adata_lincs.var['in_sciplex'] = adata_lincs.var.gene_id.isin(adata.var.gene_id)"
   ]
  },
  {
   "cell_type": "code",
   "execution_count": 9,
   "id": "d79a3562-60ad-4795-823d-bdaed56e3fb5",
   "metadata": {},
   "outputs": [],
   "source": [
    "# For trapnell\n",
    "adata.var['in_lincs'] = adata.var.gene_id.isin(adata_lincs.var.gene_id)"
   ]
  },
  {
   "cell_type": "markdown",
   "id": "7f4c3d35-0070-40d8-a87a-dce02883cf6e",
   "metadata": {},
   "source": [
    "## Preprocess trapnell dataset"
   ]
  },
  {
   "cell_type": "markdown",
   "id": "ce8ecbc7-7d41-4e38-8817-f8c8d01ad29f",
   "metadata": {},
   "source": [
    "See `sciplex3.ipynb`"
   ]
  },
  {
   "cell_type": "markdown",
   "id": "45442825-0f56-42bd-88f9-48fd0468010c",
   "metadata": {},
   "source": [
    "The original CPA implementation required to subset the data due to scaling limitations.   \n",
    "In this version we expect to be able to handle the full sciplex dataset."
   ]
  },
  {
   "cell_type": "code",
   "execution_count": 10,
   "id": "68ff6c9b-6e46-402c-96aa-a2da57af9c79",
   "metadata": {},
   "outputs": [],
   "source": [
    "SUBSET = False\n",
    "\n",
    "if SUBSET: \n",
    "    sc.pp.subsample(adata, fraction=0.5)"
   ]
  },
  {
   "cell_type": "code",
   "execution_count": 11,
   "id": "363f0cf5-340c-4589-bc95-de8a1e22fbbe",
   "metadata": {},
   "outputs": [],
   "source": [
    "sc.pp.normalize_per_cell(adata)"
   ]
  },
  {
   "cell_type": "code",
   "execution_count": 12,
   "id": "fb7a8ae8-e5db-4c8e-bf0d-965f7c8e4dbe",
   "metadata": {},
   "outputs": [],
   "source": [
    "sc.pp.log1p(adata)\n",
    "sc.pp.highly_variable_genes(adata, n_top_genes=5000, subset=False)"
   ]
  },
  {
   "cell_type": "markdown",
   "id": "dc91a1a0-2011-4834-afb6-278206d15e71",
   "metadata": {},
   "source": [
    "### Combine HVG with lincs genes\n",
    "\n",
    "Union of genes that are considered highly variable and those that are shared with lincs"
   ]
  },
  {
   "cell_type": "code",
   "execution_count": 13,
   "id": "761a5c25-2947-4f66-ab8c-c33a1b713444",
   "metadata": {},
   "outputs": [
    {
     "data": {
      "text/plain": [
       "5893"
      ]
     },
     "execution_count": 13,
     "metadata": {},
     "output_type": "execute_result"
    }
   ],
   "source": [
    "((adata.var.in_lincs) | (adata.var.highly_variable)).sum()"
   ]
  },
  {
   "cell_type": "markdown",
   "id": "db01d26e-e0f7-44a0-a8b8-380223049f81",
   "metadata": {},
   "source": [
    "Subset to that union of genes"
   ]
  },
  {
   "cell_type": "code",
   "execution_count": 14,
   "id": "6e6328cd-cd03-4e72-85dc-b72eed2632f7",
   "metadata": {},
   "outputs": [],
   "source": [
    "adata = adata[:, (adata.var.in_lincs) | (adata.var.highly_variable)].copy()"
   ]
  },
  {
   "cell_type": "markdown",
   "id": "b25d10e9-6e1e-4a13-a512-3580fc1295c8",
   "metadata": {},
   "source": [
    "### Create additional meta data "
   ]
  },
  {
   "cell_type": "markdown",
   "id": "985349fe-37bf-4efc-9765-d612d8d440c8",
   "metadata": {},
   "source": [
    "Normalise dose values"
   ]
  },
  {
   "cell_type": "code",
   "execution_count": 15,
   "id": "62b9e529-ca45-4f04-b2d6-75dd246aa36c",
   "metadata": {},
   "outputs": [],
   "source": [
    "adata.obs['dose_val'] = adata.obs.dose.astype(float) / np.max(adata.obs.dose.astype(float))\n",
    "adata.obs.loc[adata.obs['product_name'].str.contains('Vehicle'), 'dose_val'] = 1.0"
   ]
  },
  {
   "cell_type": "code",
   "execution_count": 16,
   "id": "ed4ea831-0650-4b6b-bc09-7fbaf5f004b7",
   "metadata": {},
   "outputs": [
    {
     "data": {
      "text/plain": [
       "0.001    153013\n",
       "0.010    147670\n",
       "0.100    141828\n",
       "1.000    139266\n",
       "Name: dose_val, dtype: int64"
      ]
     },
     "execution_count": 16,
     "metadata": {},
     "output_type": "execute_result"
    }
   ],
   "source": [
    "adata.obs['dose_val'].value_counts()"
   ]
  },
  {
   "cell_type": "markdown",
   "id": "f4908bb2-4fd0-40d5-a6d7-24e68bcf9bb0",
   "metadata": {},
   "source": [
    "Change `product_name`"
   ]
  },
  {
   "cell_type": "code",
   "execution_count": 17,
   "id": "71393716-2328-41d8-a077-ef8fc435bf61",
   "metadata": {},
   "outputs": [],
   "source": [
    "adata.obs['product_name'] = [x.split(' ')[0] for x in adata.obs['product_name']]\n",
    "adata.obs.loc[adata.obs['product_name'].str.contains('Vehicle'), 'product_name'] = 'control'"
   ]
  },
  {
   "cell_type": "markdown",
   "id": "6bcd577f-500f-409e-bdc9-d1acac3dc583",
   "metadata": {},
   "source": [
    "Create copy of `product_name` with column name `control`"
   ]
  },
  {
   "cell_type": "code",
   "execution_count": 18,
   "id": "b1cbcd93-43cb-4740-8c84-2331ccb4b066",
   "metadata": {},
   "outputs": [],
   "source": [
    "adata.obs['condition'] = adata.obs.product_name.copy()"
   ]
  },
  {
   "cell_type": "markdown",
   "id": "0d148e98-c819-4455-92b4-ccc5cf2a46de",
   "metadata": {},
   "source": [
    "Add combinations of drug (`condition`), dose (`dose_val`), and cell_type (`cell_type`)"
   ]
  },
  {
   "cell_type": "code",
   "execution_count": 19,
   "id": "05249c77-612d-4236-af95-12cf2d2aefdf",
   "metadata": {},
   "outputs": [],
   "source": [
    "adata.obs['drug_dose_name'] = adata.obs.condition.astype(str) + '_' + adata.obs.dose_val.astype(str)\n",
    "adata.obs['cov_drug_dose_name'] = adata.obs.cell_type.astype(str) + '_' + adata.obs.drug_dose_name.astype(str)\n",
    "adata.obs['cov_drug'] = adata.obs.cell_type.astype(str) + '_' + adata.obs.condition.astype(str)"
   ]
  },
  {
   "cell_type": "markdown",
   "id": "58850330-62b6-4d2c-a533-1cf238663805",
   "metadata": {},
   "source": [
    "Add `control` columns with vale `1` where only the vehicle was used"
   ]
  },
  {
   "cell_type": "code",
   "execution_count": 20,
   "id": "5b7be27d-e6b8-42d6-b21b-400ddd5b3641",
   "metadata": {},
   "outputs": [],
   "source": [
    "adata.obs['control'] = [1 if x == 'control_1.0' else 0 for x in adata.obs.drug_dose_name.values]"
   ]
  },
  {
   "cell_type": "markdown",
   "id": "c06409b8-d30e-45a1-82aa-784fa5c2f1b0",
   "metadata": {},
   "source": [
    "## Compute DE genes"
   ]
  },
  {
   "cell_type": "code",
   "execution_count": 21,
   "id": "7753ba03-c908-4011-8365-2d871574cd56",
   "metadata": {},
   "outputs": [
    {
     "name": "stderr",
     "output_type": "stream",
     "text": [
      "Using backend: pytorch\n"
     ]
    },
    {
     "name": "stdout",
     "output_type": "stream",
     "text": [
      "A549\n",
      "WARNING: Default of the method has been changed to 't-test' from 't-test_overestim_var'\n"
     ]
    },
    {
     "name": "stderr",
     "output_type": "stream",
     "text": [
      "Trying to set attribute `.obs` of view, copying.\n",
      "... storing 'cell_type' as categorical\n",
      "Trying to set attribute `.obs` of view, copying.\n",
      "... storing 'pathway' as categorical\n",
      "Trying to set attribute `.obs` of view, copying.\n",
      "... storing 'product_name' as categorical\n",
      "Trying to set attribute `.obs` of view, copying.\n",
      "... storing 'target' as categorical\n",
      "Trying to set attribute `.obs` of view, copying.\n",
      "... storing 'condition' as categorical\n",
      "Trying to set attribute `.obs` of view, copying.\n",
      "... storing 'drug_dose_name' as categorical\n",
      "Trying to set attribute `.obs` of view, copying.\n",
      "... storing 'cov_drug_dose_name' as categorical\n",
      "Trying to set attribute `.obs` of view, copying.\n",
      "... storing 'cov_drug' as categorical\n"
     ]
    },
    {
     "name": "stdout",
     "output_type": "stream",
     "text": [
      "MCF7\n",
      "WARNING: Default of the method has been changed to 't-test' from 't-test_overestim_var'\n"
     ]
    },
    {
     "name": "stderr",
     "output_type": "stream",
     "text": [
      "Trying to set attribute `.obs` of view, copying.\n",
      "... storing 'cell_type' as categorical\n",
      "Trying to set attribute `.obs` of view, copying.\n",
      "... storing 'pathway' as categorical\n",
      "Trying to set attribute `.obs` of view, copying.\n",
      "... storing 'product_name' as categorical\n",
      "Trying to set attribute `.obs` of view, copying.\n",
      "... storing 'target' as categorical\n",
      "Trying to set attribute `.obs` of view, copying.\n",
      "... storing 'condition' as categorical\n",
      "Trying to set attribute `.obs` of view, copying.\n",
      "... storing 'drug_dose_name' as categorical\n",
      "Trying to set attribute `.obs` of view, copying.\n",
      "... storing 'cov_drug_dose_name' as categorical\n",
      "Trying to set attribute `.obs` of view, copying.\n",
      "... storing 'cov_drug' as categorical\n"
     ]
    },
    {
     "name": "stdout",
     "output_type": "stream",
     "text": [
      "K562\n",
      "WARNING: Default of the method has been changed to 't-test' from 't-test_overestim_var'\n"
     ]
    },
    {
     "name": "stderr",
     "output_type": "stream",
     "text": [
      "Trying to set attribute `.obs` of view, copying.\n",
      "... storing 'cell_type' as categorical\n",
      "Trying to set attribute `.obs` of view, copying.\n",
      "... storing 'pathway' as categorical\n",
      "Trying to set attribute `.obs` of view, copying.\n",
      "... storing 'product_name' as categorical\n",
      "Trying to set attribute `.obs` of view, copying.\n",
      "... storing 'target' as categorical\n",
      "Trying to set attribute `.obs` of view, copying.\n",
      "... storing 'condition' as categorical\n",
      "Trying to set attribute `.obs` of view, copying.\n",
      "... storing 'drug_dose_name' as categorical\n",
      "Trying to set attribute `.obs` of view, copying.\n",
      "... storing 'cov_drug_dose_name' as categorical\n",
      "Trying to set attribute `.obs` of view, copying.\n",
      "... storing 'cov_drug' as categorical\n"
     ]
    }
   ],
   "source": [
    "from compert.helper import rank_genes_groups_by_cov\n",
    "rank_genes_groups_by_cov(adata, groupby='cov_drug', covariate='cell_type', control_group='control', key_added='all_DEGs')"
   ]
  },
  {
   "cell_type": "code",
   "execution_count": 22,
   "id": "4d9f098d-a04b-4407-a3a2-5041cfb480ec",
   "metadata": {},
   "outputs": [
    {
     "name": "stdout",
     "output_type": "stream",
     "text": [
      "A549\n",
      "WARNING: Default of the method has been changed to 't-test' from 't-test_overestim_var'\n"
     ]
    },
    {
     "name": "stderr",
     "output_type": "stream",
     "text": [
      "Trying to set attribute `.obs` of view, copying.\n",
      "... storing 'cell_type' as categorical\n",
      "Trying to set attribute `.obs` of view, copying.\n",
      "... storing 'pathway' as categorical\n",
      "Trying to set attribute `.obs` of view, copying.\n",
      "... storing 'product_name' as categorical\n",
      "Trying to set attribute `.obs` of view, copying.\n",
      "... storing 'target' as categorical\n",
      "Trying to set attribute `.obs` of view, copying.\n",
      "... storing 'condition' as categorical\n",
      "Trying to set attribute `.obs` of view, copying.\n",
      "... storing 'drug_dose_name' as categorical\n",
      "Trying to set attribute `.obs` of view, copying.\n",
      "... storing 'cov_drug_dose_name' as categorical\n",
      "Trying to set attribute `.obs` of view, copying.\n",
      "... storing 'cov_drug' as categorical\n"
     ]
    },
    {
     "name": "stdout",
     "output_type": "stream",
     "text": [
      "MCF7\n",
      "WARNING: Default of the method has been changed to 't-test' from 't-test_overestim_var'\n"
     ]
    },
    {
     "name": "stderr",
     "output_type": "stream",
     "text": [
      "Trying to set attribute `.obs` of view, copying.\n",
      "... storing 'cell_type' as categorical\n",
      "Trying to set attribute `.obs` of view, copying.\n",
      "... storing 'pathway' as categorical\n",
      "Trying to set attribute `.obs` of view, copying.\n",
      "... storing 'product_name' as categorical\n",
      "Trying to set attribute `.obs` of view, copying.\n",
      "... storing 'target' as categorical\n",
      "Trying to set attribute `.obs` of view, copying.\n",
      "... storing 'condition' as categorical\n",
      "Trying to set attribute `.obs` of view, copying.\n",
      "... storing 'drug_dose_name' as categorical\n",
      "Trying to set attribute `.obs` of view, copying.\n",
      "... storing 'cov_drug_dose_name' as categorical\n",
      "Trying to set attribute `.obs` of view, copying.\n",
      "... storing 'cov_drug' as categorical\n"
     ]
    },
    {
     "name": "stdout",
     "output_type": "stream",
     "text": [
      "K562\n",
      "WARNING: Default of the method has been changed to 't-test' from 't-test_overestim_var'\n"
     ]
    },
    {
     "name": "stderr",
     "output_type": "stream",
     "text": [
      "Trying to set attribute `.obs` of view, copying.\n",
      "... storing 'cell_type' as categorical\n",
      "Trying to set attribute `.obs` of view, copying.\n",
      "... storing 'pathway' as categorical\n",
      "Trying to set attribute `.obs` of view, copying.\n",
      "... storing 'product_name' as categorical\n",
      "Trying to set attribute `.obs` of view, copying.\n",
      "... storing 'target' as categorical\n",
      "Trying to set attribute `.obs` of view, copying.\n",
      "... storing 'condition' as categorical\n",
      "Trying to set attribute `.obs` of view, copying.\n",
      "... storing 'drug_dose_name' as categorical\n",
      "Trying to set attribute `.obs` of view, copying.\n",
      "... storing 'cov_drug_dose_name' as categorical\n",
      "Trying to set attribute `.obs` of view, copying.\n",
      "... storing 'cov_drug' as categorical\n"
     ]
    }
   ],
   "source": [
    "adata_subset = adata[:, adata.var.in_lincs].copy()\n",
    "rank_genes_groups_by_cov(adata_subset, groupby='cov_drug', covariate='cell_type', control_group='control', key_added='lincs_DEGs')\n",
    "adata.uns['lincs_DEGs'] = adata_subset.uns['lincs_DEGs']"
   ]
  },
  {
   "cell_type": "markdown",
   "id": "428882cd-4e02-4af0-b281-51210aafbf79",
   "metadata": {},
   "source": [
    "### Map all unique `cov_drug_dose_name` to the computed DEGs, independent of the dose value\n",
    "\n",
    "Create mapping between names with dose and without dose"
   ]
  },
  {
   "cell_type": "code",
   "execution_count": 23,
   "id": "238338ab-4950-4c29-94c5-2d2c4b5738ad",
   "metadata": {},
   "outputs": [],
   "source": [
    "cov_drug_dose_unique = adata.obs.cov_drug_dose_name.unique()"
   ]
  },
  {
   "cell_type": "code",
   "execution_count": 24,
   "id": "08aea617-1179-43e1-8391-d38eeee3b748",
   "metadata": {},
   "outputs": [],
   "source": [
    "remove_dose = lambda s: '_'.join(s.split('_')[:-1])\n",
    "cov_drug = pd.Series(cov_drug_dose_unique).apply(remove_dose)\n",
    "dose_no_dose_dict = dict(zip(cov_drug_dose_unique, cov_drug))"
   ]
  },
  {
   "cell_type": "markdown",
   "id": "c78a6e80-5012-442f-b7bf-a6c581da92dd",
   "metadata": {},
   "source": [
    "### Compute new dicts for DEGs"
   ]
  },
  {
   "cell_type": "code",
   "execution_count": 25,
   "id": "b6594da7-64c0-4212-8cca-58d247b2cc5f",
   "metadata": {},
   "outputs": [],
   "source": [
    "uns_keys = ['all_DEGs', 'lincs_DEGs']"
   ]
  },
  {
   "cell_type": "code",
   "execution_count": 26,
   "id": "d5c73b35-31d3-4814-a5c0-658b23f1d0a1",
   "metadata": {},
   "outputs": [],
   "source": [
    "for uns_key in uns_keys:\n",
    "    new_DEGs_dict = {}\n",
    "\n",
    "    df_DEGs = pd.Series(adata.uns[uns_key])\n",
    "\n",
    "    for key, value in dose_no_dose_dict.items():\n",
    "        if 'control' in key:\n",
    "            continue\n",
    "        new_DEGs_dict[key] = df_DEGs.loc[value]\n",
    "    adata.uns[uns_key] = new_DEGs_dict"
   ]
  },
  {
   "cell_type": "code",
   "execution_count": 27,
   "id": "f713118a-514c-4cdb-b887-7118508ee37c",
   "metadata": {},
   "outputs": [
    {
     "data": {
      "text/plain": [
       "AnnData object with n_obs × n_vars = 581777 × 5893\n",
       "    obs: 'cell_type', 'dose', 'dose_character', 'dose_pattern', 'g1s_score', 'g2m_score', 'pathway', 'pathway_level_1', 'pathway_level_2', 'product_dose', 'product_name', 'proliferation_index', 'replicate', 'size_factor', 'target', 'vehicle', 'batch', 'n_counts', 'dose_val', 'condition', 'drug_dose_name', 'cov_drug_dose_name', 'cov_drug', 'control'\n",
       "    var: 'id', 'num_cells_expressed-0-0', 'num_cells_expressed-1-0', 'num_cells_expressed-1', 'gene_id', 'in_lincs', 'highly_variable', 'means', 'dispersions', 'dispersions_norm'\n",
       "    uns: 'log1p', 'hvg', 'all_DEGs', 'lincs_DEGs'"
      ]
     },
     "execution_count": 27,
     "metadata": {},
     "output_type": "execute_result"
    }
   ],
   "source": [
    "adata"
   ]
  },
  {
   "cell_type": "markdown",
   "id": "d23ef784-5747-46de-a9bd-d5d869ff8042",
   "metadata": {
    "tags": []
   },
   "source": [
    "## Split\n",
    "\n",
    "**We omit these split as we design our own splits - for referece this is commented out for the moment**\n",
    "\n",
    "This is not the right configuration fot the experiments we want but for the moment this is okay"
   ]
  },
  {
   "cell_type": "code",
   "execution_count": 28,
   "id": "65e41d95-3d6a-400b-b3d6-142161773d4d",
   "metadata": {
    "tags": []
   },
   "outputs": [],
   "source": [
    "# adata.obs['split'] = 'train'  # reset\n",
    "# ho_drugs = [\n",
    "#     # selection of drugs from various pathways\n",
    "#     \"Azacitidine\",\n",
    "#     \"Carmofur\",\n",
    "#     \"Pracinostat\",\n",
    "#     \"Cediranib\",\n",
    "#     \"Luminespib\",\n",
    "#     \"Crizotinib\",\n",
    "#     \"SNS-314\",\n",
    "#     \"Obatoclax\",\n",
    "#     \"Momelotinib\",\n",
    "#     \"AG-14361\",\n",
    "#     \"Entacapone\",\n",
    "#     \"Fulvestrant\",\n",
    "#     \"Mesna\",\n",
    "#     \"Zileuton\",\n",
    "#     \"Enzastaurin\",\n",
    "#     \"IOX2\",\n",
    "#     \"Alvespimycin\",\n",
    "#     \"XAV-939\",\n",
    "#     \"Fasudil\"\n",
    "# ]\n",
    "# ood = adata.obs['condition'].isin(ho_drugs)\n",
    "# len(ho_drugs)"
   ]
  },
  {
   "cell_type": "code",
   "execution_count": 29,
   "id": "45ff604b-2506-463c-81e9-d1a55b1666a2",
   "metadata": {
    "scrolled": true
   },
   "outputs": [],
   "source": [
    "# adata.obs.loc[ood & (adata.obs['dose_val'] == 1.0), 'split'] = 'ood'\n",
    "# test_idx = sc.pp.subsample(adata[adata.obs['split'] != 'ood'], .10, copy=True).obs.index\n",
    "# adata.obs.loc[test_idx, 'split'] = 'test'"
   ]
  },
  {
   "cell_type": "code",
   "execution_count": 30,
   "id": "89cf167d-67bc-4603-b9f8-a73dd9980280",
   "metadata": {},
   "outputs": [],
   "source": [
    "# pd.crosstab(adata.obs['split'], adata.obs['condition'])"
   ]
  },
  {
   "cell_type": "code",
   "execution_count": 31,
   "id": "3325a1e0-dd95-4e53-a773-99df4b463767",
   "metadata": {},
   "outputs": [],
   "source": [
    "# adata.obs['split'].value_counts()"
   ]
  },
  {
   "cell_type": "code",
   "execution_count": 32,
   "id": "dfecfaa3-55c2-4d7d-872b-0e0208eac6a6",
   "metadata": {},
   "outputs": [],
   "source": [
    "# adata[adata.obs.split == 'ood'].obs.condition.value_counts()"
   ]
  },
  {
   "cell_type": "code",
   "execution_count": 33,
   "id": "a591e3d0-c1dd-4723-879f-76b37b16b962",
   "metadata": {},
   "outputs": [],
   "source": [
    "# adata[adata.obs.split == 'test'].obs.condition.value_counts()"
   ]
  },
  {
   "cell_type": "markdown",
   "id": "697e1caf-86a1-46e5-af03-76213446dfe2",
   "metadata": {},
   "source": [
    "Also a split which sees all data:"
   ]
  },
  {
   "cell_type": "code",
   "execution_count": 34,
   "id": "97654e4f-4801-42df-94e4-b3abc596dff2",
   "metadata": {},
   "outputs": [],
   "source": [
    "# adata.obs['split_all'] = 'train'\n",
    "# test_idx = sc.pp.subsample(adata, .10, copy=True).obs.index\n",
    "# adata.obs.loc[test_idx, 'split_all'] = 'test'"
   ]
  },
  {
   "cell_type": "code",
   "execution_count": 35,
   "id": "07984033-dc32-4cad-91c1-650e3a2926e3",
   "metadata": {},
   "outputs": [],
   "source": [
    "# adata.obs['ct_dose'] = adata.obs.cell_type.astype('str') + '_' + adata.obs.dose_val.astype('str')"
   ]
  },
  {
   "cell_type": "markdown",
   "id": "ef98d16d-aa0e-4b39-9675-c7b0132510c9",
   "metadata": {},
   "source": [
    "Round robin splits: dose and cell line combinations will be held out in turn."
   ]
  },
  {
   "cell_type": "code",
   "execution_count": 36,
   "id": "4492d665-b265-4c8c-9251-6d7598551116",
   "metadata": {},
   "outputs": [],
   "source": [
    "# i = 0\n",
    "# split_dict = {}"
   ]
  },
  {
   "cell_type": "code",
   "execution_count": 37,
   "id": "84f59288-4925-4d9c-92e3-f2f0611910da",
   "metadata": {
    "scrolled": true
   },
   "outputs": [],
   "source": [
    "# # single ct holdout\n",
    "# for ct in adata.obs.cell_type.unique():\n",
    "#     for dose in adata.obs.dose_val.unique():\n",
    "#         i += 1\n",
    "#         split_name = f'split{i}'\n",
    "#         split_dict[split_name] = f'{ct}_{dose}'\n",
    "        \n",
    "#         adata.obs[split_name] = 'train'\n",
    "#         adata.obs.loc[adata.obs.ct_dose == f'{ct}_{dose}', split_name] = 'ood'\n",
    "        \n",
    "#         test_idx = sc.pp.subsample(adata[adata.obs[split_name] != 'ood'], .16, copy=True).obs.index\n",
    "#         adata.obs.loc[test_idx, split_name] = 'test'\n",
    "        \n",
    "#         display(adata.obs[split_name].value_counts())"
   ]
  },
  {
   "cell_type": "code",
   "execution_count": 38,
   "id": "23d5c2bd-ebcc-4da8-a0b8-c04fab040c44",
   "metadata": {
    "scrolled": true
   },
   "outputs": [],
   "source": [
    "# # double ct holdout\n",
    "# for cts in [('A549', 'MCF7'), ('A549', 'K562'), ('MCF7', 'K562')]:\n",
    "#     for dose in adata.obs.dose_val.unique():\n",
    "#         i += 1\n",
    "#         split_name = f'split{i}'\n",
    "#         split_dict[split_name] = f'{cts[0]}+{cts[1]}_{dose}'\n",
    "        \n",
    "#         adata.obs[split_name] = 'train'\n",
    "#         adata.obs.loc[adata.obs.ct_dose == f'{cts[0]}_{dose}', split_name] = 'ood'\n",
    "#         adata.obs.loc[adata.obs.ct_dose == f'{cts[1]}_{dose}', split_name] = 'ood'\n",
    "        \n",
    "#         test_idx = sc.pp.subsample(adata[adata.obs[split_name] != 'ood'], .16, copy=True).obs.index\n",
    "#         adata.obs.loc[test_idx, split_name] = 'test'\n",
    "        \n",
    "#         display(adata.obs[split_name].value_counts())"
   ]
  },
  {
   "cell_type": "code",
   "execution_count": 39,
   "id": "e722a203-eeba-4e85-a542-33d8783afec7",
   "metadata": {},
   "outputs": [],
   "source": [
    "# # triple ct holdout\n",
    "# for dose in adata.obs.dose_val.unique():\n",
    "#     i += 1\n",
    "#     split_name = f'split{i}'\n",
    "\n",
    "#     split_dict[split_name] = f'all_{dose}'\n",
    "#     adata.obs[split_name] = 'train'\n",
    "#     adata.obs.loc[adata.obs.dose_val == dose, split_name] = 'ood'\n",
    "\n",
    "#     test_idx = sc.pp.subsample(adata[adata.obs[split_name] != 'ood'], .16, copy=True).obs.index\n",
    "#     adata.obs.loc[test_idx, split_name] = 'test'\n",
    "\n",
    "#     display(adata.obs[split_name].value_counts())"
   ]
  },
  {
   "cell_type": "code",
   "execution_count": 40,
   "id": "34f21c22-1979-484a-92bb-9f6fc8b71fd2",
   "metadata": {},
   "outputs": [],
   "source": [
    "# adata.uns['splits'] = split_dict"
   ]
  },
  {
   "cell_type": "markdown",
   "id": "615fa85a-417d-4c37-8530-f0129132fc4f",
   "metadata": {},
   "source": [
    "## Save adata"
   ]
  },
  {
   "cell_type": "code",
   "execution_count": 41,
   "id": "eea089c3-f96a-420c-af98-576d3a34bd1c",
   "metadata": {
    "tags": []
   },
   "outputs": [
    {
     "name": "stderr",
     "output_type": "stream",
     "text": [
      "... storing 'cell_type' as categorical\n",
      "... storing 'pathway' as categorical\n",
      "... storing 'product_name' as categorical\n",
      "... storing 'target' as categorical\n",
      "... storing 'condition' as categorical\n",
      "... storing 'drug_dose_name' as categorical\n",
      "... storing 'cov_drug_dose_name' as categorical\n",
      "... storing 'cov_drug' as categorical\n"
     ]
    }
   ],
   "source": [
    "fname = PROJECT_DIR/'datasets'/'sciplex3_matched_genes_lincs.h5ad'\n",
    "\n",
    "sc.write(fname, adata)"
   ]
  },
  {
   "cell_type": "markdown",
   "id": "44fb969d-2a45-41a3-b138-eda1ea8e7238",
   "metadata": {},
   "source": [
    "Check that it worked"
   ]
  },
  {
   "cell_type": "code",
   "execution_count": 42,
   "id": "582e2283-6100-4de2-995b-b7befddd0a92",
   "metadata": {},
   "outputs": [
    {
     "data": {
      "text/plain": [
       "AnnData object with n_obs × n_vars = 581777 × 5893\n",
       "    obs: 'cell_type', 'dose', 'dose_character', 'dose_pattern', 'g1s_score', 'g2m_score', 'pathway', 'pathway_level_1', 'pathway_level_2', 'product_dose', 'product_name', 'proliferation_index', 'replicate', 'size_factor', 'target', 'vehicle', 'batch', 'n_counts', 'dose_val', 'condition', 'drug_dose_name', 'cov_drug_dose_name', 'cov_drug', 'control'\n",
       "    var: 'id', 'num_cells_expressed-0-0', 'num_cells_expressed-1-0', 'num_cells_expressed-1', 'gene_id', 'in_lincs', 'highly_variable', 'means', 'dispersions', 'dispersions_norm'\n",
       "    uns: 'all_DEGs', 'hvg', 'lincs_DEGs'"
      ]
     },
     "execution_count": 42,
     "metadata": {},
     "output_type": "execute_result"
    }
   ],
   "source": [
    "sc.read(fname)"
   ]
  },
  {
   "cell_type": "markdown",
   "id": "bdd00494-7d01-41c9-9a05-cf2921e68393",
   "metadata": {},
   "source": [
    "## Subselect to shared only shared genes"
   ]
  },
  {
   "cell_type": "markdown",
   "id": "425a4946-12a1-42c3-ab11-41673606be1e",
   "metadata": {},
   "source": [
    "Subset to shared genes"
   ]
  },
  {
   "cell_type": "code",
   "execution_count": 45,
   "id": "a0005d9c-42e1-4ec1-b7f5-fa9d96037d5d",
   "metadata": {
    "tags": []
   },
   "outputs": [],
   "source": [
    "adata_lincs = adata_lincs[:, adata_lincs.var.in_sciplex].copy() "
   ]
  },
  {
   "cell_type": "code",
   "execution_count": 44,
   "id": "1b0831d3-c6c2-4dbd-b137-8ca27e4e0e52",
   "metadata": {},
   "outputs": [],
   "source": [
    "adata = adata[:, adata.var.in_lincs].copy()"
   ]
  },
  {
   "cell_type": "markdown",
   "id": "171068e8-138f-4598-8e71-6cd732ea50d6",
   "metadata": {},
   "source": [
    "Reindex the lincs dataset"
   ]
  },
  {
   "cell_type": "code",
   "execution_count": 46,
   "id": "3448f533-4ec0-4236-977b-922899ab8962",
   "metadata": {},
   "outputs": [],
   "source": [
    "lincs_ids = pd.Index(adata_lincs.var.gene_id)\n",
    "new_idx = [lincs_ids.get_loc(gene_id) for gene_id in adata.var.gene_id] "
   ]
  },
  {
   "cell_type": "code",
   "execution_count": 47,
   "id": "4cab7484-75db-4ad3-9d17-e1d257d60c2f",
   "metadata": {},
   "outputs": [],
   "source": [
    "adata_lincs = adata_lincs[:, new_idx].copy()"
   ]
  },
  {
   "cell_type": "markdown",
   "id": "c059ac22-e464-40a9-8021-cbb4d8a10aba",
   "metadata": {},
   "source": [
    "## Save adata objects with shared genes only\n",
    "Index of lincs has also been reordered accordingly"
   ]
  },
  {
   "cell_type": "code",
   "execution_count": 48,
   "id": "4ea8321a-694c-4522-a931-38d51990b5a0",
   "metadata": {},
   "outputs": [],
   "source": [
    "fname = PROJECT_DIR/'datasets'/'sciplex3_lincs_genes.h5ad'\n",
    "\n",
    "sc.write(fname, adata)"
   ]
  },
  {
   "cell_type": "code",
   "execution_count": 49,
   "id": "881fb5d3-1c04-4ecd-8ea3-aeda1e3baf57",
   "metadata": {},
   "outputs": [],
   "source": [
    "fname_lincs = PROJECT_DIR/'datasets'/'lincs_full_smiles_sciplex_genes.h5ad'\n",
    "\n",
    "sc.write(fname_lincs, adata_lincs)"
   ]
  },
  {
   "cell_type": "code",
   "execution_count": null,
   "id": "6a750976-2784-4cce-af92-e3b4411b87a7",
   "metadata": {},
   "outputs": [],
   "source": []
  }
 ],
 "metadata": {
  "interpreter": {
   "hash": "ad25c9354f8cefdf5a943c25e67813a21d2807e3af4d6d0915e47390a83b57ce"
  },
  "kernelspec": {
   "display_name": "Python 3.8.8 64-bit ('py38': conda)",
   "language": "python",
   "name": "python3"
  },
  "language_info": {
   "codemirror_mode": {
    "name": "ipython",
    "version": 3
   },
   "file_extension": ".py",
   "mimetype": "text/x-python",
   "name": "python",
   "nbconvert_exporter": "python",
   "pygments_lexer": "ipython3",
   "version": "3.8.8"
  },
  "toc-autonumbering": false
 },
 "nbformat": 4,
 "nbformat_minor": 5
}
