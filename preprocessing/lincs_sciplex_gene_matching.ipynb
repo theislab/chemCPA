{
 "cells": [
  {
   "cell_type": "markdown",
   "id": "9144495b-2433-4bb9-9b6f-6e282ea07891",
   "metadata": {},
   "source": [
    "**Requires**\n",
    "* `'lincs_full_smiles.h5ad'`\n",
    "* `'sciplex_raw_chunk_{i}.h5ad'` with $i \\in \\{0,1,2,3,4\\}$\n",
    "\n",
    "**Output**\n",
    "* `'sciplex3_matched_genes_lincs.h5ad'`\n",
    "* Only with genes that are shared with `lincs`: `'sciplex3_lincs_genes.h5ad'`\n",
    "* Only with genes that are shared with `sciplex`: `'lincs_full_smiles_sciplex_genes.h5ad'`\n",
    "\n",
    "## Imports"
   ]
  },
  {
   "cell_type": "code",
   "execution_count": 1,
   "id": "9a33a003-9ca0-4994-955c-305852e4d354",
   "metadata": {},
   "outputs": [
    {
     "name": "stdout",
     "output_type": "stream",
     "text": [
      "scanpy==1.9.0.dev41+g58f4904c anndata==0.7.6 umap==0.5.1 numpy==1.19.2 scipy==1.6.2 pandas==1.2.4 scikit-learn==0.24.2 statsmodels==0.12.2 python-igraph==0.9.1 louvain==0.7.0 pynndescent==0.5.2\n"
     ]
    }
   ],
   "source": [
    "import os \n",
    "import scanpy as sc\n",
    "import matplotlib.pyplot as plt\n",
    "import numpy as np \n",
    "import pandas as pd\n",
    "import sfaira\n",
    "\n",
    "sc.set_figure_params(dpi=80, frameon=False)\n",
    "sc.logging.print_header()\n",
    "os.getcwd()\n",
    "\n",
    "from compert.paths import DATA_DIR, PROJECT_DIR"
   ]
  },
  {
   "cell_type": "code",
   "execution_count": 2,
   "id": "d3c097de-7254-43e5-89e3-d3095e45f270",
   "metadata": {},
   "outputs": [],
   "source": [
    "%load_ext autoreload\n",
    "%autoreload 2"
   ]
  },
  {
   "cell_type": "markdown",
   "id": "0c6073db-2c0a-413c-b4b5-17dcef7e064c",
   "metadata": {},
   "source": [
    "## Load data"
   ]
  },
  {
   "cell_type": "markdown",
   "id": "3bcf6d3b-64c3-48cd-987b-f984c0e76ddd",
   "metadata": {},
   "source": [
    "Load lincs"
   ]
  },
  {
   "cell_type": "code",
   "execution_count": 3,
   "id": "9a72ac06-5233-4e7a-ba63-79786d6d2c31",
   "metadata": {
    "tags": []
   },
   "outputs": [],
   "source": [
    "adata_lincs = sc.read(PROJECT_DIR/'datasets'/'lincs_full_smiles.h5ad' )"
   ]
  },
  {
   "cell_type": "markdown",
   "id": "05efc7d8-b2ac-4fb5-bfd5-0938e5b80b1a",
   "metadata": {},
   "source": [
    "Load trapnell"
   ]
  },
  {
   "cell_type": "code",
   "execution_count": 4,
   "id": "b365aa7a-9957-4359-977d-dafe400df570",
   "metadata": {},
   "outputs": [],
   "source": [
    "adatas = []\n",
    "for i in range(5):\n",
    "    adatas.append(sc.read(PROJECT_DIR/'datasets'/f'sciplex_raw_chunk_{i}.h5ad'))\n",
    "adata = adatas[0].concatenate(adatas[1:])"
   ]
  },
  {
   "cell_type": "markdown",
   "id": "0f5c24ac-3b55-40f2-abee-22286b4c6d16",
   "metadata": {},
   "source": [
    "Add gene_id to trapnell"
   ]
  },
  {
   "cell_type": "code",
   "execution_count": 5,
   "id": "b72d957d-18eb-4994-875b-0bdd9db254c9",
   "metadata": {},
   "outputs": [],
   "source": [
    "adata.var['gene_id'] = adata.var.id.str.split('.').str[0]"
   ]
  },
  {
   "cell_type": "markdown",
   "id": "f0caf549-00e6-4d18-bb19-6c344c9f62c9",
   "metadata": {},
   "source": [
    "### Get gene ids from symbols via sfaira"
   ]
  },
  {
   "cell_type": "markdown",
   "id": "065cb35d-ce63-4152-9fcb-ca939295bc29",
   "metadata": {},
   "source": [
    "Load genome container with sfaira"
   ]
  },
  {
   "cell_type": "code",
   "execution_count": 6,
   "id": "11109df9-7724-4658-8865-7bb19ec98e3f",
   "metadata": {},
   "outputs": [],
   "source": [
    "genome_container = sfaira.versions.genomes.GenomeContainer(organism=\"homo_sapiens\", release=\"82\")"
   ]
  },
  {
   "cell_type": "markdown",
   "id": "3b06fe9c-a4fa-4864-981a-cc460e6b10e1",
   "metadata": {},
   "source": [
    "Extend symbols dict with unknown symbol"
   ]
  },
  {
   "cell_type": "code",
   "execution_count": 7,
   "id": "6ccc06f3-0d56-467f-84a5-e99f8882adb7",
   "metadata": {},
   "outputs": [],
   "source": [
    "symbols_dict = genome_container.symbol_to_id_dict\n",
    "symbols_dict.update({'PLSCR3':'ENSG00000187838'})"
   ]
  },
  {
   "cell_type": "markdown",
   "id": "d071d09e-dc42-4872-8cf5-88ad20f35fc2",
   "metadata": {},
   "source": [
    "Identify genes that are shared between lincs and trapnell"
   ]
  },
  {
   "cell_type": "code",
   "execution_count": 8,
   "id": "c9aba778-ade2-4bb1-b0e9-2e8bc7a95602",
   "metadata": {
    "tags": []
   },
   "outputs": [],
   "source": [
    "# For lincs\n",
    "adata_lincs.var['gene_id'] = adata_lincs.var_names.map(symbols_dict)\n",
    "adata_lincs.var['in_sciplex'] = adata_lincs.var.gene_id.isin(adata.var.gene_id)"
   ]
  },
  {
   "cell_type": "code",
   "execution_count": 9,
   "id": "d79a3562-60ad-4795-823d-bdaed56e3fb5",
   "metadata": {},
   "outputs": [],
   "source": [
    "# For trapnell\n",
    "adata.var['in_lincs'] = adata.var.gene_id.isin(adata_lincs.var.gene_id)"
   ]
  },
  {
   "cell_type": "markdown",
   "id": "7f4c3d35-0070-40d8-a87a-dce02883cf6e",
   "metadata": {},
   "source": [
    "## Preprocess trapnell dataset"
   ]
  },
  {
   "cell_type": "markdown",
   "id": "ce8ecbc7-7d41-4e38-8817-f8c8d01ad29f",
   "metadata": {},
   "source": [
    "See `sciplex3.ipynb`"
   ]
  },
  {
   "cell_type": "markdown",
   "id": "45442825-0f56-42bd-88f9-48fd0468010c",
   "metadata": {},
   "source": [
    "The original CPA implementation required to subset the data due to scaling limitations.   \n",
    "In this version we expect to be able to handle the full sciplex dataset."
   ]
  },
  {
   "cell_type": "code",
   "execution_count": 10,
   "id": "68ff6c9b-6e46-402c-96aa-a2da57af9c79",
   "metadata": {},
   "outputs": [],
   "source": [
    "SUBSET = False\n",
    "\n",
    "if SUBSET: \n",
    "    sc.pp.subsample(adata, fraction=0.5)"
   ]
  },
  {
   "cell_type": "code",
   "execution_count": 11,
   "id": "363f0cf5-340c-4589-bc95-de8a1e22fbbe",
   "metadata": {},
   "outputs": [],
   "source": [
    "sc.pp.normalize_per_cell(adata)"
   ]
  },
  {
   "cell_type": "code",
   "execution_count": 12,
   "id": "fb7a8ae8-e5db-4c8e-bf0d-965f7c8e4dbe",
   "metadata": {},
   "outputs": [],
   "source": [
    "sc.pp.log1p(adata)\n",
    "sc.pp.highly_variable_genes(adata, n_top_genes=5000, subset=False)"
   ]
  },
  {
   "cell_type": "markdown",
   "id": "dc91a1a0-2011-4834-afb6-278206d15e71",
   "metadata": {},
   "source": [
    "### Combine HVG with lincs genes\n",
    "\n",
    "Union of genes that are considered highly variable and those that are shared with lincs"
   ]
  },
  {
   "cell_type": "code",
   "execution_count": 13,
   "id": "761a5c25-2947-4f66-ab8c-c33a1b713444",
   "metadata": {},
   "outputs": [
    {
     "data": {
      "text/plain": [
       "5893"
      ]
     },
     "execution_count": 13,
     "metadata": {},
     "output_type": "execute_result"
    }
   ],
   "source": [
    "((adata.var.in_lincs) | (adata.var.highly_variable)).sum()"
   ]
  },
  {
   "cell_type": "markdown",
   "id": "db01d26e-e0f7-44a0-a8b8-380223049f81",
   "metadata": {},
   "source": [
    "Subset to that union of genes"
   ]
  },
  {
   "cell_type": "code",
   "execution_count": 14,
   "id": "6e6328cd-cd03-4e72-85dc-b72eed2632f7",
   "metadata": {},
   "outputs": [],
   "source": [
    "adata = adata[:, (adata.var.in_lincs) | (adata.var.highly_variable)].copy()"
   ]
  },
  {
   "cell_type": "markdown",
   "id": "b25d10e9-6e1e-4a13-a512-3580fc1295c8",
   "metadata": {},
   "source": [
    "### Create additional meta data "
   ]
  },
  {
   "cell_type": "markdown",
   "id": "985349fe-37bf-4efc-9765-d612d8d440c8",
   "metadata": {},
   "source": [
    "Normalise dose values"
   ]
  },
  {
   "cell_type": "code",
   "execution_count": 15,
   "id": "62b9e529-ca45-4f04-b2d6-75dd246aa36c",
   "metadata": {},
   "outputs": [],
   "source": [
    "adata.obs['dose_val'] = adata.obs.dose.astype(float) / np.max(adata.obs.dose.astype(float))\n",
    "adata.obs.loc[adata.obs['product_name'].str.contains('Vehicle'), 'dose_val'] = 1.0"
   ]
  },
  {
   "cell_type": "code",
   "execution_count": 16,
   "id": "ed4ea831-0650-4b6b-bc09-7fbaf5f004b7",
   "metadata": {},
   "outputs": [
    {
     "data": {
      "text/plain": [
       "0.001    153013\n",
       "0.010    147670\n",
       "0.100    141828\n",
       "1.000    139266\n",
       "Name: dose_val, dtype: int64"
      ]
     },
     "execution_count": 16,
     "metadata": {},
     "output_type": "execute_result"
    }
   ],
   "source": [
    "adata.obs['dose_val'].value_counts()"
   ]
  },
  {
   "cell_type": "markdown",
   "id": "f4908bb2-4fd0-40d5-a6d7-24e68bcf9bb0",
   "metadata": {},
   "source": [
    "Change `product_name`"
   ]
  },
  {
   "cell_type": "code",
   "execution_count": 17,
   "id": "71393716-2328-41d8-a077-ef8fc435bf61",
   "metadata": {},
   "outputs": [],
   "source": [
    "adata.obs['product_name'] = [x.split(' ')[0] for x in adata.obs['product_name']]\n",
    "adata.obs.loc[adata.obs['product_name'].str.contains('Vehicle'), 'product_name'] = 'control'"
   ]
  },
  {
   "cell_type": "markdown",
   "id": "6bcd577f-500f-409e-bdc9-d1acac3dc583",
   "metadata": {},
   "source": [
    "Create copy of `product_name` with column name `control`"
   ]
  },
  {
   "cell_type": "code",
   "execution_count": 18,
   "id": "b1cbcd93-43cb-4740-8c84-2331ccb4b066",
   "metadata": {},
   "outputs": [],
   "source": [
    "adata.obs['condition'] = adata.obs.product_name.copy()"
   ]
  },
  {
   "cell_type": "markdown",
   "id": "0d148e98-c819-4455-92b4-ccc5cf2a46de",
   "metadata": {},
   "source": [
    "Add combinations of drug (`condition`), dose (`dose_val`), and cell_type (`cell_type`)"
   ]
  },
  {
   "cell_type": "code",
   "execution_count": 19,
   "id": "05249c77-612d-4236-af95-12cf2d2aefdf",
   "metadata": {},
   "outputs": [],
   "source": [
    "adata.obs['drug_dose_name'] = adata.obs.condition.astype(str) + '_' + adata.obs.dose_val.astype(str)\n",
    "adata.obs['cov_drug_dose_name'] = adata.obs.cell_type.astype(str) + '_' + adata.obs.drug_dose_name.astype(str)\n",
    "adata.obs['cov_drug'] = adata.obs.cell_type.astype(str) + '_' + adata.obs.condition.astype(str)"
   ]
  },
  {
   "cell_type": "markdown",
   "id": "58850330-62b6-4d2c-a533-1cf238663805",
   "metadata": {},
   "source": [
    "Add `control` columns with vale `1` where only the vehicle was used"
   ]
  },
  {
   "cell_type": "code",
   "execution_count": 20,
   "id": "5b7be27d-e6b8-42d6-b21b-400ddd5b3641",
   "metadata": {},
   "outputs": [],
   "source": [
    "adata.obs['control'] = [1 if x == 'control_1.0' else 0 for x in adata.obs.drug_dose_name.values]"
   ]
  },
  {
   "cell_type": "code",
   "execution_count": 21,
   "id": "7753ba03-c908-4011-8365-2d871574cd56",
   "metadata": {},
   "outputs": [
    {
     "name": "stderr",
     "output_type": "stream",
     "text": [
      "Using backend: pytorch\n"
     ]
    },
    {
     "name": "stdout",
     "output_type": "stream",
     "text": [
      "A549\n",
      "WARNING: Default of the method has been changed to 't-test' from 't-test_overestim_var'\n"
     ]
    },
    {
     "name": "stderr",
     "output_type": "stream",
     "text": [
      "Trying to set attribute `.obs` of view, copying.\n",
      "... storing 'cell_type' as categorical\n",
      "Trying to set attribute `.obs` of view, copying.\n",
      "... storing 'pathway' as categorical\n",
      "Trying to set attribute `.obs` of view, copying.\n",
      "... storing 'product_name' as categorical\n",
      "Trying to set attribute `.obs` of view, copying.\n",
      "... storing 'target' as categorical\n",
      "Trying to set attribute `.obs` of view, copying.\n",
      "... storing 'condition' as categorical\n",
      "Trying to set attribute `.obs` of view, copying.\n",
      "... storing 'drug_dose_name' as categorical\n",
      "Trying to set attribute `.obs` of view, copying.\n",
      "... storing 'cov_drug_dose_name' as categorical\n",
      "Trying to set attribute `.obs` of view, copying.\n",
      "... storing 'cov_drug' as categorical\n"
     ]
    },
    {
     "name": "stdout",
     "output_type": "stream",
     "text": [
      "MCF7\n",
      "WARNING: Default of the method has been changed to 't-test' from 't-test_overestim_var'\n"
     ]
    },
    {
     "name": "stderr",
     "output_type": "stream",
     "text": [
      "Trying to set attribute `.obs` of view, copying.\n",
      "... storing 'cell_type' as categorical\n",
      "Trying to set attribute `.obs` of view, copying.\n",
      "... storing 'pathway' as categorical\n",
      "Trying to set attribute `.obs` of view, copying.\n",
      "... storing 'product_name' as categorical\n",
      "Trying to set attribute `.obs` of view, copying.\n",
      "... storing 'target' as categorical\n",
      "Trying to set attribute `.obs` of view, copying.\n",
      "... storing 'condition' as categorical\n",
      "Trying to set attribute `.obs` of view, copying.\n",
      "... storing 'drug_dose_name' as categorical\n",
      "Trying to set attribute `.obs` of view, copying.\n",
      "... storing 'cov_drug_dose_name' as categorical\n",
      "Trying to set attribute `.obs` of view, copying.\n",
      "... storing 'cov_drug' as categorical\n"
     ]
    },
    {
     "name": "stdout",
     "output_type": "stream",
     "text": [
      "K562\n",
      "WARNING: Default of the method has been changed to 't-test' from 't-test_overestim_var'\n"
     ]
    },
    {
     "name": "stderr",
     "output_type": "stream",
     "text": [
      "Trying to set attribute `.obs` of view, copying.\n",
      "... storing 'cell_type' as categorical\n",
      "Trying to set attribute `.obs` of view, copying.\n",
      "... storing 'pathway' as categorical\n",
      "Trying to set attribute `.obs` of view, copying.\n",
      "... storing 'product_name' as categorical\n",
      "Trying to set attribute `.obs` of view, copying.\n",
      "... storing 'target' as categorical\n",
      "Trying to set attribute `.obs` of view, copying.\n",
      "... storing 'condition' as categorical\n",
      "Trying to set attribute `.obs` of view, copying.\n",
      "... storing 'drug_dose_name' as categorical\n",
      "Trying to set attribute `.obs` of view, copying.\n",
      "... storing 'cov_drug_dose_name' as categorical\n",
      "Trying to set attribute `.obs` of view, copying.\n",
      "... storing 'cov_drug' as categorical\n"
     ]
    }
   ],
   "source": [
    "from compert.helper import rank_genes_groups_by_cov\n",
    "rank_genes_groups_by_cov(adata, groupby='cov_drug', covariate='cell_type', control_group='control')"
   ]
  },
  {
   "cell_type": "code",
   "execution_count": 22,
   "id": "0a32a60d-46af-441c-8174-cb7a924337fe",
   "metadata": {},
   "outputs": [],
   "source": [
    "new_genes_dict = {}\n",
    "for cat in adata.obs.cov_drug_dose_name.unique():\n",
    "    if 'control' not in cat:\n",
    "        rank_keys = np.array(list(adata.uns['rank_genes_groups_cov'].keys()))\n",
    "        bool_idx = [x in cat for x in rank_keys]\n",
    "        genes = adata.uns['rank_genes_groups_cov'][rank_keys[bool_idx][0]]\n",
    "        new_genes_dict[cat] = genes"
   ]
  },
  {
   "cell_type": "code",
   "execution_count": 23,
   "id": "d0712e43-68b7-4df3-a848-36da9df0cd61",
   "metadata": {},
   "outputs": [],
   "source": [
    "adata.uns['rank_genes_groups_cov'] = new_genes_dict"
   ]
  },
  {
   "cell_type": "markdown",
   "id": "d23ef784-5747-46de-a9bd-d5d869ff8042",
   "metadata": {},
   "source": [
    "## Split\n",
    "\n",
    "This is not the right configuration fot the experiments we want but for the moment this is okay"
   ]
  },
  {
   "cell_type": "code",
   "execution_count": 24,
   "id": "65e41d95-3d6a-400b-b3d6-142161773d4d",
   "metadata": {
    "tags": []
   },
   "outputs": [
    {
     "data": {
      "text/plain": [
       "19"
      ]
     },
     "execution_count": 24,
     "metadata": {},
     "output_type": "execute_result"
    }
   ],
   "source": [
    "adata.obs['split'] = 'train'  # reset\n",
    "ho_drugs = [\n",
    "    # selection of drugs from various pathways\n",
    "    \"Azacitidine\",\n",
    "    \"Carmofur\",\n",
    "    \"Pracinostat\",\n",
    "    \"Cediranib\",\n",
    "    \"Luminespib\",\n",
    "    \"Crizotinib\",\n",
    "    \"SNS-314\",\n",
    "    \"Obatoclax\",\n",
    "    \"Momelotinib\",\n",
    "    \"AG-14361\",\n",
    "    \"Entacapone\",\n",
    "    \"Fulvestrant\",\n",
    "    \"Mesna\",\n",
    "    \"Zileuton\",\n",
    "    \"Enzastaurin\",\n",
    "    \"IOX2\",\n",
    "    \"Alvespimycin\",\n",
    "    \"XAV-939\",\n",
    "    \"Fasudil\"\n",
    "]\n",
    "ood = adata.obs['condition'].isin(ho_drugs)\n",
    "len(ho_drugs)"
   ]
  },
  {
   "cell_type": "code",
   "execution_count": 25,
   "id": "45ff604b-2506-463c-81e9-d1a55b1666a2",
   "metadata": {
    "scrolled": true
   },
   "outputs": [],
   "source": [
    "adata.obs.loc[ood & (adata.obs['dose_val'] == 1.0), 'split'] = 'ood'\n",
    "test_idx = sc.pp.subsample(adata[adata.obs['split'] != 'ood'], .10, copy=True).obs.index\n",
    "adata.obs.loc[test_idx, 'split'] = 'test'"
   ]
  },
  {
   "cell_type": "code",
   "execution_count": 26,
   "id": "89cf167d-67bc-4603-b9f8-a73dd9980280",
   "metadata": {},
   "outputs": [
    {
     "data": {
      "text/html": [
       "<div>\n",
       "<style scoped>\n",
       "    .dataframe tbody tr th:only-of-type {\n",
       "        vertical-align: middle;\n",
       "    }\n",
       "\n",
       "    .dataframe tbody tr th {\n",
       "        vertical-align: top;\n",
       "    }\n",
       "\n",
       "    .dataframe thead th {\n",
       "        text-align: right;\n",
       "    }\n",
       "</style>\n",
       "<table border=\"1\" class=\"dataframe\">\n",
       "  <thead>\n",
       "    <tr style=\"text-align: right;\">\n",
       "      <th>condition</th>\n",
       "      <th>(+)-JQ1</th>\n",
       "      <th>2-Methoxyestradiol</th>\n",
       "      <th>A-366</th>\n",
       "      <th>ABT-737</th>\n",
       "      <th>AC480</th>\n",
       "      <th>AG-14361</th>\n",
       "      <th>AG-490</th>\n",
       "      <th>AICAR</th>\n",
       "      <th>AMG-900</th>\n",
       "      <th>AR-42</th>\n",
       "      <th>...</th>\n",
       "      <th>Valproic</th>\n",
       "      <th>Vandetanib</th>\n",
       "      <th>Veliparib</th>\n",
       "      <th>WHI-P154</th>\n",
       "      <th>WP1066</th>\n",
       "      <th>XAV-939</th>\n",
       "      <th>YM155</th>\n",
       "      <th>ZM</th>\n",
       "      <th>Zileuton</th>\n",
       "      <th>control</th>\n",
       "    </tr>\n",
       "    <tr>\n",
       "      <th>split</th>\n",
       "      <th></th>\n",
       "      <th></th>\n",
       "      <th></th>\n",
       "      <th></th>\n",
       "      <th></th>\n",
       "      <th></th>\n",
       "      <th></th>\n",
       "      <th></th>\n",
       "      <th></th>\n",
       "      <th></th>\n",
       "      <th></th>\n",
       "      <th></th>\n",
       "      <th></th>\n",
       "      <th></th>\n",
       "      <th></th>\n",
       "      <th></th>\n",
       "      <th></th>\n",
       "      <th></th>\n",
       "      <th></th>\n",
       "      <th></th>\n",
       "      <th></th>\n",
       "    </tr>\n",
       "  </thead>\n",
       "  <tbody>\n",
       "    <tr>\n",
       "      <th>ood</th>\n",
       "      <td>0</td>\n",
       "      <td>0</td>\n",
       "      <td>0</td>\n",
       "      <td>0</td>\n",
       "      <td>0</td>\n",
       "      <td>759</td>\n",
       "      <td>0</td>\n",
       "      <td>0</td>\n",
       "      <td>0</td>\n",
       "      <td>0</td>\n",
       "      <td>...</td>\n",
       "      <td>0</td>\n",
       "      <td>0</td>\n",
       "      <td>0</td>\n",
       "      <td>0</td>\n",
       "      <td>0</td>\n",
       "      <td>479</td>\n",
       "      <td>0</td>\n",
       "      <td>0</td>\n",
       "      <td>822</td>\n",
       "      <td>0</td>\n",
       "    </tr>\n",
       "    <tr>\n",
       "      <th>test</th>\n",
       "      <td>324</td>\n",
       "      <td>272</td>\n",
       "      <td>352</td>\n",
       "      <td>251</td>\n",
       "      <td>328</td>\n",
       "      <td>279</td>\n",
       "      <td>365</td>\n",
       "      <td>359</td>\n",
       "      <td>281</td>\n",
       "      <td>277</td>\n",
       "      <td>...</td>\n",
       "      <td>351</td>\n",
       "      <td>259</td>\n",
       "      <td>332</td>\n",
       "      <td>389</td>\n",
       "      <td>352</td>\n",
       "      <td>243</td>\n",
       "      <td>76</td>\n",
       "      <td>257</td>\n",
       "      <td>279</td>\n",
       "      <td>1290</td>\n",
       "    </tr>\n",
       "    <tr>\n",
       "      <th>train</th>\n",
       "      <td>2713</td>\n",
       "      <td>2564</td>\n",
       "      <td>3044</td>\n",
       "      <td>2529</td>\n",
       "      <td>2914</td>\n",
       "      <td>2363</td>\n",
       "      <td>3168</td>\n",
       "      <td>3182</td>\n",
       "      <td>2429</td>\n",
       "      <td>2624</td>\n",
       "      <td>...</td>\n",
       "      <td>3189</td>\n",
       "      <td>2595</td>\n",
       "      <td>2833</td>\n",
       "      <td>3234</td>\n",
       "      <td>3370</td>\n",
       "      <td>2072</td>\n",
       "      <td>694</td>\n",
       "      <td>2459</td>\n",
       "      <td>2369</td>\n",
       "      <td>11714</td>\n",
       "    </tr>\n",
       "  </tbody>\n",
       "</table>\n",
       "<p>3 rows × 188 columns</p>\n",
       "</div>"
      ],
      "text/plain": [
       "condition  (+)-JQ1  2-Methoxyestradiol  A-366  ABT-737  AC480  AG-14361  \\\n",
       "split                                                                     \n",
       "ood              0                   0      0        0      0       759   \n",
       "test           324                 272    352      251    328       279   \n",
       "train         2713                2564   3044     2529   2914      2363   \n",
       "\n",
       "condition  AG-490  AICAR  AMG-900  AR-42  ...  Valproic  Vandetanib  \\\n",
       "split                                     ...                         \n",
       "ood             0      0        0      0  ...         0           0   \n",
       "test          365    359      281    277  ...       351         259   \n",
       "train        3168   3182     2429   2624  ...      3189        2595   \n",
       "\n",
       "condition  Veliparib  WHI-P154  WP1066  XAV-939  YM155    ZM  Zileuton  \\\n",
       "split                                                                    \n",
       "ood                0         0       0      479      0     0       822   \n",
       "test             332       389     352      243     76   257       279   \n",
       "train           2833      3234    3370     2072    694  2459      2369   \n",
       "\n",
       "condition  control  \n",
       "split               \n",
       "ood              0  \n",
       "test          1290  \n",
       "train        11714  \n",
       "\n",
       "[3 rows x 188 columns]"
      ]
     },
     "execution_count": 26,
     "metadata": {},
     "output_type": "execute_result"
    }
   ],
   "source": [
    "pd.crosstab(adata.obs['split'], adata.obs['condition'])"
   ]
  },
  {
   "cell_type": "code",
   "execution_count": 27,
   "id": "3325a1e0-dd95-4e53-a773-99df4b463767",
   "metadata": {},
   "outputs": [
    {
     "data": {
      "text/plain": [
       "train    512419\n",
       "test      56935\n",
       "ood       12423\n",
       "Name: split, dtype: int64"
      ]
     },
     "execution_count": 27,
     "metadata": {},
     "output_type": "execute_result"
    }
   ],
   "source": [
    "adata.obs['split'].value_counts()"
   ]
  },
  {
   "cell_type": "code",
   "execution_count": 28,
   "id": "dfecfaa3-55c2-4d7d-872b-0e0208eac6a6",
   "metadata": {},
   "outputs": [
    {
     "data": {
      "text/plain": [
       "Fasudil         966\n",
       "IOX2            913\n",
       "Mesna           884\n",
       "Entacapone      868\n",
       "Fulvestrant     836\n",
       "Zileuton        822\n",
       "Carmofur        767\n",
       "AG-14361        759\n",
       "Azacitidine     736\n",
       "Enzastaurin     694\n",
       "Pracinostat     658\n",
       "SNS-314         547\n",
       "Cediranib       528\n",
       "Momelotinib     487\n",
       "XAV-939         479\n",
       "Crizotinib      464\n",
       "Luminespib      405\n",
       "Obatoclax       404\n",
       "Alvespimycin    206\n",
       "Name: condition, dtype: int64"
      ]
     },
     "execution_count": 28,
     "metadata": {},
     "output_type": "execute_result"
    }
   ],
   "source": [
    "adata[adata.obs.split == 'ood'].obs.condition.value_counts()"
   ]
  },
  {
   "cell_type": "code",
   "execution_count": 29,
   "id": "a591e3d0-c1dd-4723-879f-76b37b16b962",
   "metadata": {},
   "outputs": [
    {
     "data": {
      "text/plain": [
       "control         1290\n",
       "ENMD-2076        632\n",
       "RG108            398\n",
       "GSK-LSD1         395\n",
       "Tofacitinib      391\n",
       "                ... \n",
       "Luminespib       151\n",
       "Flavopiridol     149\n",
       "Patupilone       146\n",
       "Epothilone       105\n",
       "YM155             76\n",
       "Name: condition, Length: 188, dtype: int64"
      ]
     },
     "execution_count": 29,
     "metadata": {},
     "output_type": "execute_result"
    }
   ],
   "source": [
    "adata[adata.obs.split == 'test'].obs.condition.value_counts()"
   ]
  },
  {
   "cell_type": "markdown",
   "id": "697e1caf-86a1-46e5-af03-76213446dfe2",
   "metadata": {},
   "source": [
    "Also a split which sees all data:"
   ]
  },
  {
   "cell_type": "code",
   "execution_count": 30,
   "id": "97654e4f-4801-42df-94e4-b3abc596dff2",
   "metadata": {},
   "outputs": [],
   "source": [
    "adata.obs['split_all'] = 'train'\n",
    "test_idx = sc.pp.subsample(adata, .10, copy=True).obs.index\n",
    "adata.obs.loc[test_idx, 'split_all'] = 'test'"
   ]
  },
  {
   "cell_type": "code",
   "execution_count": 31,
   "id": "07984033-dc32-4cad-91c1-650e3a2926e3",
   "metadata": {},
   "outputs": [],
   "source": [
    "adata.obs['ct_dose'] = adata.obs.cell_type.astype('str') + '_' + adata.obs.dose_val.astype('str')"
   ]
  },
  {
   "cell_type": "markdown",
   "id": "ef98d16d-aa0e-4b39-9675-c7b0132510c9",
   "metadata": {},
   "source": [
    "Round robin splits: dose and cell line combinations will be held out in turn."
   ]
  },
  {
   "cell_type": "code",
   "execution_count": 32,
   "id": "4492d665-b265-4c8c-9251-6d7598551116",
   "metadata": {},
   "outputs": [],
   "source": [
    "i = 0\n",
    "split_dict = {}"
   ]
  },
  {
   "cell_type": "code",
   "execution_count": 33,
   "id": "84f59288-4925-4d9c-92e3-f2f0611910da",
   "metadata": {
    "scrolled": true
   },
   "outputs": [
    {
     "data": {
      "text/plain": [
       "train    459177\n",
       "test      87462\n",
       "ood       35138\n",
       "Name: split1, dtype: int64"
      ]
     },
     "metadata": {},
     "output_type": "display_data"
    },
    {
     "data": {
      "text/plain": [
       "train    457265\n",
       "test      87098\n",
       "ood       37414\n",
       "Name: split2, dtype: int64"
      ]
     },
     "metadata": {},
     "output_type": "display_data"
    },
    {
     "data": {
      "text/plain": [
       "train    459472\n",
       "test      87518\n",
       "ood       34787\n",
       "Name: split3, dtype: int64"
      ]
     },
     "metadata": {},
     "output_type": "display_data"
    },
    {
     "data": {
      "text/plain": [
       "train    458725\n",
       "test      87376\n",
       "ood       35676\n",
       "Name: split4, dtype: int64"
      ]
     },
     "metadata": {},
     "output_type": "display_data"
    },
    {
     "data": {
      "text/plain": [
       "train    429400\n",
       "test      81790\n",
       "ood       70587\n",
       "Name: split5, dtype: int64"
      ]
     },
     "metadata": {},
     "output_type": "display_data"
    },
    {
     "data": {
      "text/plain": [
       "train    424744\n",
       "test      80903\n",
       "ood       76130\n",
       "Name: split6, dtype: int64"
      ]
     },
     "metadata": {},
     "output_type": "display_data"
    },
    {
     "data": {
      "text/plain": [
       "train    429430\n",
       "test      81796\n",
       "ood       70551\n",
       "Name: split7, dtype: int64"
      ]
     },
     "metadata": {},
     "output_type": "display_data"
    },
    {
     "data": {
      "text/plain": [
       "train    425910\n",
       "test      81125\n",
       "ood       74742\n",
       "Name: split8, dtype: int64"
      ]
     },
     "metadata": {},
     "output_type": "display_data"
    },
    {
     "data": {
      "text/plain": [
       "train    458367\n",
       "test      87307\n",
       "ood       36103\n",
       "Name: split9, dtype: int64"
      ]
     },
     "metadata": {},
     "output_type": "display_data"
    },
    {
     "data": {
      "text/plain": [
       "train    455539\n",
       "test      86769\n",
       "ood       39469\n",
       "Name: split10, dtype: int64"
      ]
     },
     "metadata": {},
     "output_type": "display_data"
    },
    {
     "data": {
      "text/plain": [
       "train    460194\n",
       "test      87655\n",
       "ood       33928\n",
       "Name: split11, dtype: int64"
      ]
     },
     "metadata": {},
     "output_type": "display_data"
    },
    {
     "data": {
      "text/plain": [
       "train    457401\n",
       "test      87124\n",
       "ood       37252\n",
       "Name: split12, dtype: int64"
      ]
     },
     "metadata": {},
     "output_type": "display_data"
    }
   ],
   "source": [
    "# single ct holdout\n",
    "for ct in adata.obs.cell_type.unique():\n",
    "    for dose in adata.obs.dose_val.unique():\n",
    "        i += 1\n",
    "        split_name = f'split{i}'\n",
    "        split_dict[split_name] = f'{ct}_{dose}'\n",
    "        \n",
    "        adata.obs[split_name] = 'train'\n",
    "        adata.obs.loc[adata.obs.ct_dose == f'{ct}_{dose}', split_name] = 'ood'\n",
    "        \n",
    "        test_idx = sc.pp.subsample(adata[adata.obs[split_name] != 'ood'], .16, copy=True).obs.index\n",
    "        adata.obs.loc[test_idx, split_name] = 'test'\n",
    "        \n",
    "        display(adata.obs[split_name].value_counts())"
   ]
  },
  {
   "cell_type": "code",
   "execution_count": 34,
   "id": "23d5c2bd-ebcc-4da8-a0b8-c04fab040c44",
   "metadata": {
    "scrolled": true
   },
   "outputs": [
    {
     "data": {
      "text/plain": [
       "train    399884\n",
       "ood      105725\n",
       "test      76168\n",
       "Name: split13, dtype: int64"
      ]
     },
     "metadata": {},
     "output_type": "display_data"
    },
    {
     "data": {
      "text/plain": [
       "train    393316\n",
       "ood      113544\n",
       "test      74917\n",
       "Name: split14, dtype: int64"
      ]
     },
     "metadata": {},
     "output_type": "display_data"
    },
    {
     "data": {
      "text/plain": [
       "train    400209\n",
       "ood      105338\n",
       "test      76230\n",
       "Name: split15, dtype: int64"
      ]
     },
     "metadata": {},
     "output_type": "display_data"
    },
    {
     "data": {
      "text/plain": [
       "train    395942\n",
       "ood      110418\n",
       "test      75417\n",
       "Name: split16, dtype: int64"
      ]
     },
     "metadata": {},
     "output_type": "display_data"
    },
    {
     "data": {
      "text/plain": [
       "train    428851\n",
       "test      81685\n",
       "ood       71241\n",
       "Name: split17, dtype: int64"
      ]
     },
     "metadata": {},
     "output_type": "display_data"
    },
    {
     "data": {
      "text/plain": [
       "train    424111\n",
       "test      80783\n",
       "ood       76883\n",
       "Name: split18, dtype: int64"
      ]
     },
     "metadata": {},
     "output_type": "display_data"
    },
    {
     "data": {
      "text/plain": [
       "train    430973\n",
       "test      82089\n",
       "ood       68715\n",
       "Name: split19, dtype: int64"
      ]
     },
     "metadata": {},
     "output_type": "display_data"
    },
    {
     "data": {
      "text/plain": [
       "train    427434\n",
       "test      81415\n",
       "ood       72928\n",
       "Name: split20, dtype: int64"
      ]
     },
     "metadata": {},
     "output_type": "display_data"
    },
    {
     "data": {
      "text/plain": [
       "train    399074\n",
       "ood      106690\n",
       "test      76013\n",
       "Name: split21, dtype: int64"
      ]
     },
     "metadata": {},
     "output_type": "display_data"
    },
    {
     "data": {
      "text/plain": [
       "train    391590\n",
       "ood      115599\n",
       "test      74588\n",
       "Name: split22, dtype: int64"
      ]
     },
     "metadata": {},
     "output_type": "display_data"
    },
    {
     "data": {
      "text/plain": [
       "train    400931\n",
       "ood      104479\n",
       "test      76367\n",
       "Name: split23, dtype: int64"
      ]
     },
     "metadata": {},
     "output_type": "display_data"
    },
    {
     "data": {
      "text/plain": [
       "train    394618\n",
       "ood      111994\n",
       "test      75165\n",
       "Name: split24, dtype: int64"
      ]
     },
     "metadata": {},
     "output_type": "display_data"
    }
   ],
   "source": [
    "# double ct holdout\n",
    "for cts in [('A549', 'MCF7'), ('A549', 'K562'), ('MCF7', 'K562')]:\n",
    "    for dose in adata.obs.dose_val.unique():\n",
    "        i += 1\n",
    "        split_name = f'split{i}'\n",
    "        split_dict[split_name] = f'{cts[0]}+{cts[1]}_{dose}'\n",
    "        \n",
    "        adata.obs[split_name] = 'train'\n",
    "        adata.obs.loc[adata.obs.ct_dose == f'{cts[0]}_{dose}', split_name] = 'ood'\n",
    "        adata.obs.loc[adata.obs.ct_dose == f'{cts[1]}_{dose}', split_name] = 'ood'\n",
    "        \n",
    "        test_idx = sc.pp.subsample(adata[adata.obs[split_name] != 'ood'], .16, copy=True).obs.index\n",
    "        adata.obs.loc[test_idx, split_name] = 'test'\n",
    "        \n",
    "        display(adata.obs[split_name].value_counts())"
   ]
  },
  {
   "cell_type": "code",
   "execution_count": 35,
   "id": "e722a203-eeba-4e85-a542-33d8783afec7",
   "metadata": {},
   "outputs": [
    {
     "data": {
      "text/plain": [
       "train    369558\n",
       "ood      141828\n",
       "test      70391\n",
       "Name: split25, dtype: int64"
      ]
     },
     "metadata": {},
     "output_type": "display_data"
    },
    {
     "data": {
      "text/plain": [
       "train    360162\n",
       "ood      153013\n",
       "test      68602\n",
       "Name: split26, dtype: int64"
      ]
     },
     "metadata": {},
     "output_type": "display_data"
    },
    {
     "data": {
      "text/plain": [
       "train    371710\n",
       "ood      139266\n",
       "test      70801\n",
       "Name: split27, dtype: int64"
      ]
     },
     "metadata": {},
     "output_type": "display_data"
    },
    {
     "data": {
      "text/plain": [
       "train    364650\n",
       "ood      147670\n",
       "test      69457\n",
       "Name: split28, dtype: int64"
      ]
     },
     "metadata": {},
     "output_type": "display_data"
    }
   ],
   "source": [
    "# triple ct holdout\n",
    "for dose in adata.obs.dose_val.unique():\n",
    "    i += 1\n",
    "    split_name = f'split{i}'\n",
    "\n",
    "    split_dict[split_name] = f'all_{dose}'\n",
    "    adata.obs[split_name] = 'train'\n",
    "    adata.obs.loc[adata.obs.dose_val == dose, split_name] = 'ood'\n",
    "\n",
    "    test_idx = sc.pp.subsample(adata[adata.obs[split_name] != 'ood'], .16, copy=True).obs.index\n",
    "    adata.obs.loc[test_idx, split_name] = 'test'\n",
    "\n",
    "    display(adata.obs[split_name].value_counts())"
   ]
  },
  {
   "cell_type": "code",
   "execution_count": 36,
   "id": "34f21c22-1979-484a-92bb-9f6fc8b71fd2",
   "metadata": {},
   "outputs": [],
   "source": [
    "adata.uns['splits'] = split_dict"
   ]
  },
  {
   "cell_type": "markdown",
   "id": "615fa85a-417d-4c37-8530-f0129132fc4f",
   "metadata": {},
   "source": [
    "## Save adata"
   ]
  },
  {
   "cell_type": "code",
   "execution_count": 37,
   "id": "eea089c3-f96a-420c-af98-576d3a34bd1c",
   "metadata": {
    "tags": []
   },
   "outputs": [
    {
     "name": "stderr",
     "output_type": "stream",
     "text": [
      "... storing 'cell_type' as categorical\n",
      "... storing 'pathway' as categorical\n",
      "... storing 'product_name' as categorical\n",
      "... storing 'target' as categorical\n",
      "... storing 'condition' as categorical\n",
      "... storing 'drug_dose_name' as categorical\n",
      "... storing 'cov_drug_dose_name' as categorical\n",
      "... storing 'cov_drug' as categorical\n",
      "... storing 'split' as categorical\n",
      "... storing 'split_all' as categorical\n",
      "... storing 'ct_dose' as categorical\n",
      "... storing 'split1' as categorical\n",
      "... storing 'split2' as categorical\n",
      "... storing 'split3' as categorical\n",
      "... storing 'split4' as categorical\n",
      "... storing 'split5' as categorical\n",
      "... storing 'split6' as categorical\n",
      "... storing 'split7' as categorical\n",
      "... storing 'split8' as categorical\n",
      "... storing 'split9' as categorical\n",
      "... storing 'split10' as categorical\n",
      "... storing 'split11' as categorical\n",
      "... storing 'split12' as categorical\n",
      "... storing 'split13' as categorical\n",
      "... storing 'split14' as categorical\n",
      "... storing 'split15' as categorical\n",
      "... storing 'split16' as categorical\n",
      "... storing 'split17' as categorical\n",
      "... storing 'split18' as categorical\n",
      "... storing 'split19' as categorical\n",
      "... storing 'split20' as categorical\n",
      "... storing 'split21' as categorical\n",
      "... storing 'split22' as categorical\n",
      "... storing 'split23' as categorical\n",
      "... storing 'split24' as categorical\n",
      "... storing 'split25' as categorical\n",
      "... storing 'split26' as categorical\n",
      "... storing 'split27' as categorical\n",
      "... storing 'split28' as categorical\n"
     ]
    }
   ],
   "source": [
    "fname = PROJECT_DIR/'datasets'/'sciplex3_matched_genes_lincs.h5ad'\n",
    "\n",
    "sc.write(fname, adata)"
   ]
  },
  {
   "cell_type": "markdown",
   "id": "44fb969d-2a45-41a3-b138-eda1ea8e7238",
   "metadata": {},
   "source": [
    "Check that it worked"
   ]
  },
  {
   "cell_type": "code",
   "execution_count": 38,
   "id": "582e2283-6100-4de2-995b-b7befddd0a92",
   "metadata": {},
   "outputs": [
    {
     "data": {
      "text/plain": [
       "AnnData object with n_obs × n_vars = 581777 × 5893\n",
       "    obs: 'cell_type', 'dose', 'dose_character', 'dose_pattern', 'g1s_score', 'g2m_score', 'pathway', 'pathway_level_1', 'pathway_level_2', 'product_dose', 'product_name', 'proliferation_index', 'replicate', 'size_factor', 'target', 'vehicle', 'batch', 'n_counts', 'dose_val', 'condition', 'drug_dose_name', 'cov_drug_dose_name', 'cov_drug', 'control', 'split', 'split_all', 'ct_dose', 'split1', 'split2', 'split3', 'split4', 'split5', 'split6', 'split7', 'split8', 'split9', 'split10', 'split11', 'split12', 'split13', 'split14', 'split15', 'split16', 'split17', 'split18', 'split19', 'split20', 'split21', 'split22', 'split23', 'split24', 'split25', 'split26', 'split27', 'split28'\n",
       "    var: 'id', 'num_cells_expressed-0-0', 'num_cells_expressed-1-0', 'num_cells_expressed-1', 'gene_id', 'in_lincs', 'highly_variable', 'means', 'dispersions', 'dispersions_norm'\n",
       "    uns: 'hvg', 'rank_genes_groups_cov', 'splits'"
      ]
     },
     "execution_count": 38,
     "metadata": {},
     "output_type": "execute_result"
    }
   ],
   "source": [
    "sc.read(fname)"
   ]
  },
  {
   "cell_type": "markdown",
   "id": "bdd00494-7d01-41c9-9a05-cf2921e68393",
   "metadata": {},
   "source": [
    "## Subselect to shared only shared genes"
   ]
  },
  {
   "cell_type": "markdown",
   "id": "425a4946-12a1-42c3-ab11-41673606be1e",
   "metadata": {},
   "source": [
    "Subset to shared genes"
   ]
  },
  {
   "cell_type": "code",
   "execution_count": 39,
   "id": "a0005d9c-42e1-4ec1-b7f5-fa9d96037d5d",
   "metadata": {
    "tags": []
   },
   "outputs": [],
   "source": [
    "adata_lincs = adata_lincs[:, adata_lincs.var.in_sciplex].copy() "
   ]
  },
  {
   "cell_type": "code",
   "execution_count": 40,
   "id": "1b0831d3-c6c2-4dbd-b137-8ca27e4e0e52",
   "metadata": {},
   "outputs": [],
   "source": [
    "adata = adata[:, adata.var.in_lincs].copy()"
   ]
  },
  {
   "cell_type": "markdown",
   "id": "171068e8-138f-4598-8e71-6cd732ea50d6",
   "metadata": {},
   "source": [
    "Reindex the lincs dataset"
   ]
  },
  {
   "cell_type": "code",
   "execution_count": 41,
   "id": "3448f533-4ec0-4236-977b-922899ab8962",
   "metadata": {},
   "outputs": [],
   "source": [
    "lincs_ids = pd.Index(adata_lincs.var.gene_id)\n",
    "new_idx = [lincs_ids.get_loc(gene_id) for gene_id in adata.var.gene_id] "
   ]
  },
  {
   "cell_type": "code",
   "execution_count": 42,
   "id": "4cab7484-75db-4ad3-9d17-e1d257d60c2f",
   "metadata": {},
   "outputs": [],
   "source": [
    "adata_lincs = adata_lincs[:, new_idx].copy()"
   ]
  },
  {
   "cell_type": "markdown",
   "id": "c059ac22-e464-40a9-8021-cbb4d8a10aba",
   "metadata": {},
   "source": [
    "## Save adata objects with shared genes only\n",
    "Index of lincs has also been reordered accordingly"
   ]
  },
  {
   "cell_type": "code",
   "execution_count": 43,
   "id": "4ea8321a-694c-4522-a931-38d51990b5a0",
   "metadata": {},
   "outputs": [],
   "source": [
    "fname = PROJECT_DIR/'datasets'/'sciplex3_lincs_genes.h5ad'\n",
    "\n",
    "sc.write(fname, adata)"
   ]
  },
  {
   "cell_type": "code",
   "execution_count": null,
   "id": "881fb5d3-1c04-4ecd-8ea3-aeda1e3baf57",
   "metadata": {},
   "outputs": [],
   "source": [
    "fname_lincs = PROJECT_DIR/'datasets'/'lincs_full_smiles_sciplex_genes.h5ad'\n",
    "\n",
    "sc.write(fname_lincs, adata_lincs)"
   ]
  },
  {
   "cell_type": "code",
   "execution_count": null,
   "id": "24323f1e-61f9-4ab4-832e-febc3e9c5357",
   "metadata": {},
   "outputs": [],
   "source": [
    "print('hi')"
   ]
  },
  {
   "cell_type": "code",
   "execution_count": null,
   "id": "6a750976-2784-4cce-af92-e3b4411b87a7",
   "metadata": {},
   "outputs": [],
   "source": []
  }
 ],
 "metadata": {
  "kernelspec": {
   "display_name": "Python 3.8.8 64-bit ('py38': conda)",
   "language": "python",
   "name": "python388jvsc74a57bd0ad25c9354f8cefdf5a943c25e67813a21d2807e3af4d6d0915e47390a83b57ce"
  },
  "language_info": {
   "codemirror_mode": {
    "name": "ipython",
    "version": 3
   },
   "file_extension": ".py",
   "mimetype": "text/x-python",
   "name": "python",
   "nbconvert_exporter": "python",
   "pygments_lexer": "ipython3",
   "version": "3.8.8"
  }
 },
 "nbformat": 4,
 "nbformat_minor": 5
}
