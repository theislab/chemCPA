{
 "cells": [
  {
   "cell_type": "code",
   "execution_count": 1,
   "id": "99985613",
   "metadata": {},
   "outputs": [],
   "source": [
    "import anndata\n",
    "import scanpy as sc\n",
    "import numpy as np\n",
    "import os\n",
    "\n",
    "import torch\n",
    "from torch.utils.data import Dataset, DataLoader"
   ]
  },
  {
   "cell_type": "code",
   "execution_count": 2,
   "id": "4f0de699",
   "metadata": {},
   "outputs": [],
   "source": [
    "file_dir='/home/manu/chemCPA/chemCPA'\n",
    "file_name='Norman_pp.h5ad'"
   ]
  },
  {
   "cell_type": "code",
   "execution_count": 3,
   "id": "3cab0fbf",
   "metadata": {},
   "outputs": [],
   "source": [
    "# Potentially load several anndatas here and concatenate them\n",
    "# ToDo: Figure out what to do if adata.var's are different\n",
    "adata=sc.read_h5ad(os.path.join(file_dir, file_name))"
   ]
  },
  {
   "cell_type": "code",
   "execution_count": null,
   "id": "6fd8f1b9",
   "metadata": {},
   "outputs": [],
   "source": []
  },
  {
   "cell_type": "markdown",
   "id": "ae586892",
   "metadata": {},
   "source": [
    "## Assign cell line ids"
   ]
  },
  {
   "cell_type": "code",
   "execution_count": 4,
   "id": "b57d4c1c",
   "metadata": {},
   "outputs": [],
   "source": [
    "cell_lines=sorted(set(adata.obs['cell_line']))\n",
    "D_cell_lines={cell_lines[i]:i for i in range(len(cell_lines))}\n",
    "adata.obs['cell_line_id']=[D_cell_lines[a] for a in adata.obs['cell_line']]"
   ]
  },
  {
   "cell_type": "code",
   "execution_count": null,
   "id": "61c5e85a",
   "metadata": {},
   "outputs": [],
   "source": []
  },
  {
   "cell_type": "markdown",
   "id": "bafb8ffc",
   "metadata": {},
   "source": [
    "## Assign treatment ids"
   ]
  },
  {
   "cell_type": "code",
   "execution_count": null,
   "id": "5b26d0c6",
   "metadata": {},
   "outputs": [],
   "source": [
    "# ToDo: Filter out drugs/genes for which I do not have a SMILES/ESM-embedding"
   ]
  },
  {
   "cell_type": "code",
   "execution_count": null,
   "id": "94fe88f4",
   "metadata": {},
   "outputs": [],
   "source": []
  },
  {
   "cell_type": "code",
   "execution_count": 5,
   "id": "6b893753",
   "metadata": {},
   "outputs": [],
   "source": [
    "# I will give gene-knockouts and durg-treatments different ID-numbering since their SMILES/ESM-embeddings will\n",
    "# be different matrices"
   ]
  },
  {
   "cell_type": "code",
   "execution_count": 6,
   "id": "e7f1bfa5",
   "metadata": {},
   "outputs": [],
   "source": [
    "df0=adata.obs[adata.obs['treatment_type']=='drug_perturbation']\n",
    "df1=adata.obs[adata.obs['treatment_type']=='gene_knockout']"
   ]
  },
  {
   "cell_type": "code",
   "execution_count": 7,
   "id": "c47a573c",
   "metadata": {},
   "outputs": [],
   "source": [
    "# Index the treatments by alphabetical ordering, where 0 corresponds to control\n",
    "def find_indexes(df):\n",
    "    singularized_treatments=sorted(set([a for b in [a.split('+') if '+' in a else [a] for a in list(df['treatment'])] for a in b]))\n",
    "    singularized_treatments=[a for a in singularized_treatments if a!='control']\n",
    "\n",
    "    D_treatments={singularized_treatments[i]:str(i+1) for i in range(len(singularized_treatments))}\n",
    "    D_treatments['control']='0'\n",
    "    return(D_treatments)"
   ]
  },
  {
   "cell_type": "code",
   "execution_count": 8,
   "id": "04cdd61f",
   "metadata": {},
   "outputs": [],
   "source": [
    "D_treatments={}\n",
    "D_treatments['drug_perturbation']=find_indexes(df0)\n",
    "D_treatments['gene_knockout']=find_indexes(df1)"
   ]
  },
  {
   "cell_type": "code",
   "execution_count": 11,
   "id": "a3326e42",
   "metadata": {},
   "outputs": [],
   "source": [
    "treatment_ids=[]\n",
    "treatment_types=list(adata.obs['treatment_type'])\n",
    "treatments=list(adata.obs['treatment'])\n",
    "for i in range(len(adata.obs)):\n",
    "    treatment_type=treatment_types[i]\n",
    "    treatment=treatments[i]\n",
    "    treatment_ids.append('+'.join(D_treatments[treatment_type][a] for a in treatment.split('+')))\n",
    "adata.obs['treatment_id']=treatment_ids"
   ]
  },
  {
   "cell_type": "code",
   "execution_count": 12,
   "id": "5146339c",
   "metadata": {},
   "outputs": [],
   "source": [
    "adata.uns['D_treatments']=D_treatments"
   ]
  },
  {
   "cell_type": "code",
   "execution_count": 13,
   "id": "6e2b8ec1",
   "metadata": {},
   "outputs": [
    {
     "data": {
      "text/plain": [
       "index\n",
       "AAACCTGAGAAGAAGC-1         0\n",
       "AAACCTGAGGCATGTG-1        98\n",
       "AAACCTGAGGCCCTTG-1     56+62\n",
       "AAACCTGCACGAAGCA-1         0\n",
       "AAACCTGCAGACGTAG-1     18+82\n",
       "                       ...  \n",
       "TTTGTCATCAGTACGT-8        36\n",
       "TTTGTCATCCACTCCA-8        19\n",
       "TTTGTCATCCCAACGG-8         7\n",
       "TTTGTCATCCTCCTAG-8    77+102\n",
       "TTTGTCATCTGGCGAC-8        63\n",
       "Name: treatment_id, Length: 111255, dtype: object"
      ]
     },
     "execution_count": 13,
     "metadata": {},
     "output_type": "execute_result"
    }
   ],
   "source": [
    "adata.obs['treatment_id']"
   ]
  },
  {
   "cell_type": "code",
   "execution_count": 14,
   "id": "374ed571",
   "metadata": {},
   "outputs": [],
   "source": [
    "# For now I'm only using a subsampled anndata to set everything up more efficiently\n",
    "sc.pp.subsample(adata, fraction=0.01)"
   ]
  },
  {
   "cell_type": "code",
   "execution_count": 15,
   "id": "4852723d",
   "metadata": {},
   "outputs": [],
   "source": [
    "adata.write(f'{file_dir}/Comb.h5ad')"
   ]
  },
  {
   "cell_type": "code",
   "execution_count": 16,
   "id": "aa3ae0b7",
   "metadata": {},
   "outputs": [
    {
     "data": {
      "text/html": [
       "<div>\n",
       "<style scoped>\n",
       "    .dataframe tbody tr th:only-of-type {\n",
       "        vertical-align: middle;\n",
       "    }\n",
       "\n",
       "    .dataframe tbody tr th {\n",
       "        vertical-align: top;\n",
       "    }\n",
       "\n",
       "    .dataframe thead th {\n",
       "        text-align: right;\n",
       "    }\n",
       "</style>\n",
       "<table border=\"1\" class=\"dataframe\">\n",
       "  <thead>\n",
       "    <tr style=\"text-align: right;\">\n",
       "      <th></th>\n",
       "      <th>cell_line</th>\n",
       "      <th>treatment</th>\n",
       "      <th>treatment_dose_uM</th>\n",
       "      <th>treatment_time_h</th>\n",
       "      <th>treatment_type</th>\n",
       "      <th>cell_line_id</th>\n",
       "      <th>treatment_id</th>\n",
       "    </tr>\n",
       "    <tr>\n",
       "      <th>index</th>\n",
       "      <th></th>\n",
       "      <th></th>\n",
       "      <th></th>\n",
       "      <th></th>\n",
       "      <th></th>\n",
       "      <th></th>\n",
       "      <th></th>\n",
       "    </tr>\n",
       "  </thead>\n",
       "  <tbody>\n",
       "    <tr>\n",
       "      <th>TGACGGCAGACCTAGG-6</th>\n",
       "      <td>K562</td>\n",
       "      <td>FOXA1+FOXA3</td>\n",
       "      <td>NaN</td>\n",
       "      <td>168.0</td>\n",
       "      <td>gene_knockout</td>\n",
       "      <td>0</td>\n",
       "      <td>35+36</td>\n",
       "    </tr>\n",
       "    <tr>\n",
       "      <th>AGGTCATTCATAAAGG-2</th>\n",
       "      <td>K562</td>\n",
       "      <td>CBL</td>\n",
       "      <td>NaN</td>\n",
       "      <td>168.0</td>\n",
       "      <td>gene_knockout</td>\n",
       "      <td>0</td>\n",
       "      <td>12</td>\n",
       "    </tr>\n",
       "    <tr>\n",
       "      <th>CTGCCTAGTTATTCTC-8</th>\n",
       "      <td>K562</td>\n",
       "      <td>CNN1</td>\n",
       "      <td>NaN</td>\n",
       "      <td>168.0</td>\n",
       "      <td>gene_knockout</td>\n",
       "      <td>0</td>\n",
       "      <td>23</td>\n",
       "    </tr>\n",
       "    <tr>\n",
       "      <th>TAAGCGTCACCATCCT-4</th>\n",
       "      <td>K562</td>\n",
       "      <td>BCORL1</td>\n",
       "      <td>NaN</td>\n",
       "      <td>168.0</td>\n",
       "      <td>gene_knockout</td>\n",
       "      <td>0</td>\n",
       "      <td>7</td>\n",
       "    </tr>\n",
       "    <tr>\n",
       "      <th>CCAATCCAGTCCCACG-6</th>\n",
       "      <td>K562</td>\n",
       "      <td>CLDN6+KLF1</td>\n",
       "      <td>NaN</td>\n",
       "      <td>168.0</td>\n",
       "      <td>gene_knockout</td>\n",
       "      <td>0</td>\n",
       "      <td>22+56</td>\n",
       "    </tr>\n",
       "    <tr>\n",
       "      <th>...</th>\n",
       "      <td>...</td>\n",
       "      <td>...</td>\n",
       "      <td>...</td>\n",
       "      <td>...</td>\n",
       "      <td>...</td>\n",
       "      <td>...</td>\n",
       "      <td>...</td>\n",
       "    </tr>\n",
       "    <tr>\n",
       "      <th>ATGTGTGAGAATTGTG-2</th>\n",
       "      <td>K562</td>\n",
       "      <td>CBL+PTPN12</td>\n",
       "      <td>NaN</td>\n",
       "      <td>168.0</td>\n",
       "      <td>gene_knockout</td>\n",
       "      <td>0</td>\n",
       "      <td>12+77</td>\n",
       "    </tr>\n",
       "    <tr>\n",
       "      <th>TAGACCAGTGGCGAAT-2</th>\n",
       "      <td>K562</td>\n",
       "      <td>BAK1</td>\n",
       "      <td>NaN</td>\n",
       "      <td>168.0</td>\n",
       "      <td>gene_knockout</td>\n",
       "      <td>0</td>\n",
       "      <td>5</td>\n",
       "    </tr>\n",
       "    <tr>\n",
       "      <th>GCATGTAAGAGTAATC-8</th>\n",
       "      <td>K562</td>\n",
       "      <td>control</td>\n",
       "      <td>NaN</td>\n",
       "      <td>168.0</td>\n",
       "      <td>gene_knockout</td>\n",
       "      <td>0</td>\n",
       "      <td>0</td>\n",
       "    </tr>\n",
       "    <tr>\n",
       "      <th>GACCAATCACAACGCC-4</th>\n",
       "      <td>K562</td>\n",
       "      <td>BCORL1</td>\n",
       "      <td>NaN</td>\n",
       "      <td>168.0</td>\n",
       "      <td>gene_knockout</td>\n",
       "      <td>0</td>\n",
       "      <td>7</td>\n",
       "    </tr>\n",
       "    <tr>\n",
       "      <th>ATTCTACCACCTATCC-5</th>\n",
       "      <td>K562</td>\n",
       "      <td>FOXF1+FOXL2</td>\n",
       "      <td>NaN</td>\n",
       "      <td>168.0</td>\n",
       "      <td>gene_knockout</td>\n",
       "      <td>0</td>\n",
       "      <td>37+38</td>\n",
       "    </tr>\n",
       "  </tbody>\n",
       "</table>\n",
       "<p>1112 rows × 7 columns</p>\n",
       "</div>"
      ],
      "text/plain": [
       "                   cell_line    treatment  treatment_dose_uM   \n",
       "index                                                          \n",
       "TGACGGCAGACCTAGG-6      K562  FOXA1+FOXA3                NaN  \\\n",
       "AGGTCATTCATAAAGG-2      K562          CBL                NaN   \n",
       "CTGCCTAGTTATTCTC-8      K562         CNN1                NaN   \n",
       "TAAGCGTCACCATCCT-4      K562       BCORL1                NaN   \n",
       "CCAATCCAGTCCCACG-6      K562   CLDN6+KLF1                NaN   \n",
       "...                      ...          ...                ...   \n",
       "ATGTGTGAGAATTGTG-2      K562   CBL+PTPN12                NaN   \n",
       "TAGACCAGTGGCGAAT-2      K562         BAK1                NaN   \n",
       "GCATGTAAGAGTAATC-8      K562      control                NaN   \n",
       "GACCAATCACAACGCC-4      K562       BCORL1                NaN   \n",
       "ATTCTACCACCTATCC-5      K562  FOXF1+FOXL2                NaN   \n",
       "\n",
       "                    treatment_time_h treatment_type  cell_line_id treatment_id  \n",
       "index                                                                           \n",
       "TGACGGCAGACCTAGG-6             168.0  gene_knockout             0        35+36  \n",
       "AGGTCATTCATAAAGG-2             168.0  gene_knockout             0           12  \n",
       "CTGCCTAGTTATTCTC-8             168.0  gene_knockout             0           23  \n",
       "TAAGCGTCACCATCCT-4             168.0  gene_knockout             0            7  \n",
       "CCAATCCAGTCCCACG-6             168.0  gene_knockout             0        22+56  \n",
       "...                              ...            ...           ...          ...  \n",
       "ATGTGTGAGAATTGTG-2             168.0  gene_knockout             0        12+77  \n",
       "TAGACCAGTGGCGAAT-2             168.0  gene_knockout             0            5  \n",
       "GCATGTAAGAGTAATC-8             168.0  gene_knockout             0            0  \n",
       "GACCAATCACAACGCC-4             168.0  gene_knockout             0            7  \n",
       "ATTCTACCACCTATCC-5             168.0  gene_knockout             0        37+38  \n",
       "\n",
       "[1112 rows x 7 columns]"
      ]
     },
     "execution_count": 16,
     "metadata": {},
     "output_type": "execute_result"
    }
   ],
   "source": [
    "adata.obs"
   ]
  },
  {
   "cell_type": "code",
   "execution_count": null,
   "id": "508ebd9c",
   "metadata": {},
   "outputs": [],
   "source": []
  },
  {
   "cell_type": "code",
   "execution_count": null,
   "id": "7d26dfc4",
   "metadata": {},
   "outputs": [],
   "source": []
  },
  {
   "cell_type": "code",
   "execution_count": null,
   "id": "c880a977",
   "metadata": {},
   "outputs": [],
   "source": []
  },
  {
   "cell_type": "code",
   "execution_count": null,
   "id": "643aafc9",
   "metadata": {},
   "outputs": [],
   "source": []
  }
 ],
 "metadata": {
  "kernelspec": {
   "display_name": "g",
   "language": "python",
   "name": "g"
  },
  "language_info": {
   "codemirror_mode": {
    "name": "ipython",
    "version": 3
   },
   "file_extension": ".py",
   "mimetype": "text/x-python",
   "name": "python",
   "nbconvert_exporter": "python",
   "pygments_lexer": "ipython3",
   "version": "3.10.9"
  }
 },
 "nbformat": 4,
 "nbformat_minor": 5
}
