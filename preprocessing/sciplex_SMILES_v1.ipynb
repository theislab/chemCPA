{
 "cells": [
  {
   "cell_type": "markdown",
   "id": "e4ac8068-6c28-44dd-bd7e-a2fc37938f23",
   "metadata": {},
   "source": [
    "This is an updated version of `sciplex_SMILES.ipynb` which relies on a `drug_dict` to assign SMILES strings.  \n",
    "The `sciplex_SMILES.ipynb` notebook is not applicable to the full sciplex data as it relies on the `.obs_names`.  \n",
    "Hence, the second half of the dataset (left out in the original CPA publication) would be left without SMILES entries. \n",
    "\n",
    "**Requires**\n",
    "* `'sciplex3_matched_genes_lincs.h5ad'`\n",
    "* `'sciplex3_lincs_genes.h5ad'`\n",
    "* `'trapnell_final_V7.h5ad'`\n",
    "\n",
    "**Output**\n",
    "* `'trapnell_cpa(_lincs_genes).h5ad'`\n",
    "* `'trapnell_cpa_subset(_lincs_genes).h5ad'`\n",
    "\n",
    "## Imports"
   ]
  },
  {
   "cell_type": "code",
   "execution_count": 59,
   "id": "852f177f-f3f8-4674-a869-44dfa85359f8",
   "metadata": {},
   "outputs": [
    {
     "name": "stdout",
     "output_type": "stream",
     "text": [
      "scanpy==1.8.2 anndata==0.7.8 umap==0.5.2 numpy==1.21.5 scipy==1.7.3 pandas==1.3.5 scikit-learn==1.0.2 statsmodels==0.13.1 pynndescent==0.5.5\n"
     ]
    }
   ],
   "source": [
    "import matplotlib.pyplot as plt\n",
    "import numpy as np\n",
    "import pandas as pd\n",
    "import rdkit \n",
    "import scanpy as sc\n",
    "\n",
    "from rdkit import Chem\n",
    "from compert.paths import DATA_DIR, PROJECT_DIR\n",
    "\n",
    "sc.set_figure_params(dpi=100, frameon=False)\n",
    "sc.logging.print_header()"
   ]
  },
  {
   "cell_type": "code",
   "execution_count": 60,
   "id": "a2d6d8f7-ed22-4fac-843e-4406af91d91c",
   "metadata": {
    "scrolled": true
   },
   "outputs": [
    {
     "name": "stdout",
     "output_type": "stream",
     "text": [
      "The autoreload extension is already loaded. To reload it, use:\n",
      "  %reload_ext autoreload\n"
     ]
    }
   ],
   "source": [
    "%load_ext autoreload\n",
    "%autoreload 2"
   ]
  },
  {
   "cell_type": "markdown",
   "id": "f729ae3a-6303-4e3d-acd3-cbe1b6ab7f5e",
   "metadata": {},
   "source": [
    "## Load data"
   ]
  },
  {
   "cell_type": "code",
   "execution_count": 62,
   "id": "121ef798-2dce-4984-b1db-981bf7312b10",
   "metadata": {},
   "outputs": [],
   "source": [
    "# adata_cpa = sc.read(DATA_DIR/'sciplex3_old_reproduced.h5ad')\n",
    "adata_cpa = sc.read(PROJECT_DIR/'datasets'/'sciplex3_matched_genes_lincs.h5ad')\n",
    "adata_cpi = sc.read(PROJECT_DIR/'datasets'/'trapnell_final_V7.h5ad')"
   ]
  },
  {
   "cell_type": "markdown",
   "id": "6b45f3d4-dc24-41d3-842d-8264cc491aaa",
   "metadata": {},
   "source": [
    "Determine output directory"
   ]
  },
  {
   "cell_type": "code",
   "execution_count": 63,
   "id": "392d448a-8ec5-41bc-90b3-63ac8b8ce3b3",
   "metadata": {},
   "outputs": [],
   "source": [
    "adata_out = PROJECT_DIR / 'datasets' / 'trapnell_cpa.h5ad'\n",
    "adata_out_subset = PROJECT_DIR / 'datasets' / 'trapnell_cpa_subset.h5ad'"
   ]
  },
  {
   "cell_type": "markdown",
   "id": "836e940e-5db4-4523-833f-143aa9979acf",
   "metadata": {},
   "source": [
    "Overview over adata files"
   ]
  },
  {
   "cell_type": "code",
   "execution_count": 64,
   "id": "df885b5a-e8d7-4cff-8825-94c498045458",
   "metadata": {},
   "outputs": [],
   "source": [
    "# adata_cpa"
   ]
  },
  {
   "cell_type": "code",
   "execution_count": 65,
   "id": "f0ebec71-307a-4628-a0f8-f8e7ce77a55a",
   "metadata": {},
   "outputs": [],
   "source": [
    "# adata_cpi"
   ]
  },
  {
   "cell_type": "markdown",
   "id": "ea2a522d-60a4-4f5b-baf4-f9c4e5da1486",
   "metadata": {},
   "source": [
    "__________\n",
    "### Drug is combined with acid"
   ]
  },
  {
   "cell_type": "markdown",
   "id": "788a0202-6880-45d3-8ac7-a65a8612d665",
   "metadata": {},
   "source": [
    "In the `adata_cpi` we distinguish between `'ENMD-2076'` and `'ENMD-2076 L-(+)-Tartaric acid'`.  \n",
    "They have different also different SMILES strings in `.obs.SMILES`. \n",
    "Since we do not keep this different in the `.obs.condition` columns,  \n",
    "which is a copy of `.obs.product_name` for `adata_cpa`, see `'lincs_sciplex_gene_matching.ipynb'`,  \n",
    "I am ignoring this. As result we only have 188 drugs in the sciplex dataset."
   ]
  },
  {
   "cell_type": "code",
   "execution_count": 66,
   "id": "95947e2c-e9b6-40cb-b9ff-5dc90d6db493",
   "metadata": {},
   "outputs": [
    {
     "data": {
      "text/plain": [
       "index\n",
       "G02_E09_RT_BC_104_Lig_BC_173-1-0    ENMD-2076 L-(+)-Tartaric acid \n",
       "G06_F10_RT_BC_354_Lig_BC_250-1-0    ENMD-2076 L-(+)-Tartaric acid \n",
       "B08_E09_RT_BC_174_Lig_BC_28-1       ENMD-2076 L-(+)-Tartaric acid \n",
       "D06_F10_RT_BC_338_Lig_BC_205-1-0    ENMD-2076 L-(+)-Tartaric acid \n",
       "G11_E09_RT_BC_175_Lig_BC_88-1-0     ENMD-2076 L-(+)-Tartaric acid \n",
       "                                                 ...              \n",
       "C05_F10_RT_BC_117_Lig_BC_88-1-0     ENMD-2076 L-(+)-Tartaric acid \n",
       "D04_F10_RT_BC_300_Lig_BC_255-1-0    ENMD-2076 L-(+)-Tartaric acid \n",
       "G02_E09_RT_BC_182_Lig_BC_172-1-0    ENMD-2076 L-(+)-Tartaric acid \n",
       "E06_E09_RT_BC_195_Lig_BC_268-1      ENMD-2076 L-(+)-Tartaric acid \n",
       "C01_E09_RT_BC_100_Lig_BC_55-1-0     ENMD-2076 L-(+)-Tartaric acid \n",
       "Name: product_name, Length: 1343, dtype: category\n",
       "Categories (189, object): ['2-Methoxyestradiol (2-MeOE2)', '(+)-JQ1', 'A-366', 'ABT-737', ..., 'XAV-939', 'YM155 (Sepantronium Bromide)', 'ZM 447439', 'Zileuton']"
      ]
     },
     "execution_count": 66,
     "metadata": {},
     "output_type": "execute_result"
    }
   ],
   "source": [
    "adata_cpi.obs.product_name[adata_cpi.obs.SMILES == 'O[C@H]([C@@H](O)C(O)=O)C(O)=O.CN1CCN(CC1)C1=NC(\\\\C=C\\\\C2=CC=CC=C2)=NC(NC2=NNC(C)=C2)=C1 |r,c:24,26,28,36,38,t:17,22,32|']"
   ]
  },
  {
   "cell_type": "code",
   "execution_count": 67,
   "id": "53c695f2-de28-486f-a31c-c405ec45865d",
   "metadata": {},
   "outputs": [
    {
     "data": {
      "image/png": "[encoded data removed]",
      "text/plain": [
       "<rdkit.Chem.rdchem.Mol at 0x7f5970f67b20>"
      ]
     },
     "execution_count": 67,
     "metadata": {},
     "output_type": "execute_result"
    }
   ],
   "source": [
    "from rdkit import Chem\n",
    "from rdkit.Chem.Draw import IPythonConsole\n",
    "from rdkit.Chem import Draw\n",
    "\n",
    "\n",
    "def mol_with_atom_index(mol):\n",
    "    for atom in mol.GetAtoms():\n",
    "        atom.SetAtomMapNum(atom.GetIdx())\n",
    "    return mol\n",
    "\n",
    "# Test in a kinase inhibitor\n",
    "mol = Chem.MolFromSmiles(\"CN1CCN(CC1)C1=CC(NC2=NNC(C)=C2)=NC(\\\\C=C\\\\C2=CC=CC=C2)=N1\")\n",
    "# Default\n",
    "mol"
   ]
  },
  {
   "cell_type": "code",
   "execution_count": 68,
   "id": "4d52cf91-145b-44c9-b3ae-45a412a4dddd",
   "metadata": {},
   "outputs": [
    {
     "data": {
      "image/png": "[encoded data removed]",
      "text/plain": [
       "<rdkit.Chem.rdchem.Mol at 0x7f5972306620>"
      ]
     },
     "execution_count": 68,
     "metadata": {},
     "output_type": "execute_result"
    }
   ],
   "source": [
    "# Test in a kinase inhibitor\n",
    "mol = Chem.MolFromSmiles(\"O[C@H]([C@@H](O)C(O)=O)C(O)=O.CN1CCN(CC1)C1=NC(\\\\C=C\\\\C2=CC=CC=C2)=NC(NC2=NNC(C)=C2)=C1\")\n",
    "# Default\n",
    "mol"
   ]
  },
  {
   "cell_type": "markdown",
   "id": "a506e269-702b-41fd-9e6d-7409a6b10dce",
   "metadata": {},
   "source": [
    "___________"
   ]
  },
  {
   "cell_type": "markdown",
   "id": "13744dab-0de6-4bfb-8ddb-0b858c9c3e69",
   "metadata": {},
   "source": [
    "## Create drug SMILES dict"
   ]
  },
  {
   "cell_type": "code",
   "execution_count": 69,
   "id": "1e0f4ec2-23f9-48d9-91df-d3f420a22f5b",
   "metadata": {},
   "outputs": [],
   "source": [
    "drug_dict = dict(zip(adata_cpi.obs.condition, adata_cpi.obs.SMILES))"
   ]
  },
  {
   "cell_type": "markdown",
   "id": "8f46640c-cf9f-462c-96ff-fe6f6c75c1cf",
   "metadata": {},
   "source": [
    "The dict has 188 different entries"
   ]
  },
  {
   "cell_type": "code",
   "execution_count": 70,
   "id": "b820dbf4-c441-46bf-9e32-aee10366c83a",
   "metadata": {},
   "outputs": [
    {
     "data": {
      "text/plain": [
       "188"
      ]
     },
     "execution_count": 70,
     "metadata": {},
     "output_type": "execute_result"
    }
   ],
   "source": [
    "len(drug_dict)"
   ]
  },
  {
   "cell_type": "markdown",
   "id": "73dfbd1d-87aa-487c-812a-7d32479b512b",
   "metadata": {},
   "source": [
    "Checking that the `'ENMD-2076'` entry does not include the adid:"
   ]
  },
  {
   "cell_type": "code",
   "execution_count": 71,
   "id": "0be9e830-9da9-4978-a4f2-1953c2cac198",
   "metadata": {},
   "outputs": [
    {
     "data": {
      "image/png": "[encoded data removed]",
      "text/plain": [
       "<rdkit.Chem.rdchem.Mol at 0x7f59d76e8cb0>"
      ]
     },
     "execution_count": 71,
     "metadata": {},
     "output_type": "execute_result"
    }
   ],
   "source": [
    "Chem.MolFromSmiles(drug_dict['ENMD-2076'])"
   ]
  },
  {
   "cell_type": "markdown",
   "id": "e054ed1d-9257-469c-a59c-f2dbacf35999",
   "metadata": {},
   "source": [
    "This is a good wat to check the unique `(drug, smiles)` combinations that exist in the `adata_cpi`"
   ]
  },
  {
   "cell_type": "code",
   "execution_count": 72,
   "id": "9413be52-5a23-4fe8-8343-572cc09a612f",
   "metadata": {},
   "outputs": [],
   "source": [
    "# np.unique([f'{condition}_{smiles}' for condition, smiles in list(zip(adata_cpi.obs.condition, adata_cpi.obs.SMILES))])"
   ]
  },
  {
   "cell_type": "markdown",
   "id": "2eb256be",
   "metadata": {},
   "source": [
    "## Rename weird drug `(+)-JQ1`\n",
    "This had a different name in the old Sciplex dataset, where it was called `JQ1`. We rename it for consistency."
   ]
  },
  {
   "cell_type": "code",
   "execution_count": 73,
   "id": "70c32cd5",
   "metadata": {},
   "outputs": [],
   "source": [
    "adata_cpa.obs[\"condition\"] = adata_cpa.obs[\"condition\"].cat.rename_categories({\"(+)-JQ1\": \"JQ1\"})"
   ]
  },
  {
   "cell_type": "markdown",
   "id": "c3eae9f1-e48a-4ad3-8300-c4c23ea0ca54",
   "metadata": {},
   "source": [
    "## Add SMILES to `adata_cpa`"
   ]
  },
  {
   "cell_type": "code",
   "execution_count": 74,
   "id": "094213b7-2c85-41a4-be90-a822f449facc",
   "metadata": {},
   "outputs": [],
   "source": [
    "adata_cpa.obs['SMILES'] = adata_cpa.obs.condition.map(drug_dict)"
   ]
  },
  {
   "cell_type": "code",
   "execution_count": 75,
   "id": "aacd9954",
   "metadata": {},
   "outputs": [
    {
     "data": {
      "text/plain": [
       "['CC1=NN=C2[C@H](CC(=O)OC(C)(C)C)N=C(C3=C(SC(C)...]\n",
       "Categories (1, object): ['CC1=NN=C2[C@H](CC(=O)OC(C)(C)C)N=C(C3=C(SC(C)...]"
      ]
     },
     "execution_count": 75,
     "metadata": {},
     "output_type": "execute_result"
    }
   ],
   "source": [
    "adata_cpa[adata_cpa.obs[\"condition\"] == \"JQ1\"].obs[\"SMILES\"].unique()"
   ]
  },
  {
   "cell_type": "markdown",
   "id": "5790f363-e2b4-440b-9e28-ad17645cb3b6",
   "metadata": {},
   "source": [
    "## Check that SMILES match `obs.condition` data\n",
    "\n",
    "Print some stats on the `condition` columns"
   ]
  },
  {
   "cell_type": "code",
   "execution_count": 76,
   "id": "867bbc79",
   "metadata": {},
   "outputs": [
    {
     "name": "stdout",
     "output_type": "stream",
     "text": [
      "We have 188 drug names in adata_cpa: \n",
      "\n",
      "\t['control', 'ENMD-2076', 'PD98059', 'Tranylcypromine', 'WP1066', 'RG108', 'Tubastatin', 'Curcumin', 'GSK-LSD1', 'SRT2104', 'Busulfan', 'Baricitinib', 'Tacedinaline', 'Capecitabine', 'Tofacitinib', 'Tazemetostat', 'Entacapone', 'BRD4770', 'WHI-P154', 'Mesna', 'Cerdulatinib', 'CEP-33779', 'Anacardic', 'GSK', 'Daphnetin', 'Altretamine', 'PJ34', 'Filgotinib', 'Ofloxacin', 'Triamcinolone', 'UNC0631', 'Clevudine', 'Sirtinol', 'AICAR', 'Valproic', 'AG-490', 'NVP-BSK805', 'MK-0752', 'IOX2', 'Sodium', 'Zileuton', 'Fasudil', 'Meprednisone', 'S3I-201', 'Ramelteon', 'Aminoglutethimide', 'JNJ-26854165', 'Fulvestrant', 'Andarine', 'S-Ruxolitinib', 'MC1568', 'Costunolide', 'INO-1001', 'AG-14361', 'A-366', 'Fluorouracil', 'Streptozotocin', 'Entinostat', 'Selisistat', 'UNC1999', 'Motesanib', 'TGX-221', 'Ki8751', 'Resminostat', 'Quercetin', 'Maraviroc', 'Ki16425', 'PD173074', 'UNC0379', 'BMS-265246', 'EED226', 'Amisulpride', 'Tie2', 'Thiotepa', 'Roscovitine', 'AC480', 'Carmofur', 'Thalidomide', 'Avagacestat', 'Divalproex', 'Ruxolitinib', 'CUDC-101', 'PFI-1', 'Gandotinib', 'SL-327', 'Droxinostat', 'Glesatinib?(MGCD265)', 'Veliparib', 'Linifanib', 'Momelotinib', 'M344', 'Azacitidine', 'Lomustine', 'Obatoclax', 'Lenalidomide', 'SGI-1776', 'Givinostat', 'Prednisone', 'Disulfiram', 'Nilotinib', 'Trichostatin', 'Sorafenib', 'Cyclocytidine', 'SRT1720', 'Mercaptopurine', 'Cediranib', 'Celecoxib', 'AZ', 'Cimetidine', 'Lapatinib', 'JQ1', 'Aurora', 'KW-2449', 'Navitoclax', 'Belinostat', 'FLLL32', 'SRT3025', 'SB431542', 'MK-5108', 'Toremifene', 'Nintedanib', 'TG101209', 'JNJ-7706621', 'Resveratrol', 'G007-LK', 'CYC116', 'Pracinostat', 'Roxadustat', 'PCI-34051', 'Pelitinib', 'Abexinostat', 'AR-42', 'BMS-536924', 'Ellagic', 'PF-3845', 'Vandetanib', '2-Methoxyestradiol', 'ITSA-1', 'Fedratinib', 'XAV-939', 'Crizotinib', 'ABT-737', 'Enzastaurin', 'AZD1480', 'ZM', 'AMG-900', 'Regorafenib', 'BMS-754807', 'Alendronate', 'BMS-911543', 'TMP195', 'Panobinostat', 'Dasatinib', 'Dacinostat', 'Raltitrexed', 'GSK1070916', 'Ivosidenib', 'Bisindolylmaleimide', 'Trametinib', 'PF-573228', 'Bosutinib', 'Barasertib', 'CUDC-907', 'Rucaparib', 'Danusertib', 'Pirarubicin', 'Decitabine', 'Quisinostat', 'MLN8054', 'Tucidinostat', 'SNS-314', 'Temsirolimus', 'Tanespimycin', 'PHA-680632', 'Iniparib', 'Alisertib', 'TAK-901', 'Tozasertib', 'Luminespib', 'Mocetinostat', 'Hesperadin', 'Rigosertib', 'Alvespimycin', 'AT9283', 'Patupilone', 'Flavopiridol', 'Epothilone', 'YM155']\n",
      "\n",
      "\n",
      "We have 188 drug names in adata_cpi: \n",
      "\n",
      "\t['control', 'ENMD-2076', 'GSK-LSD1', 'BRD4770', 'Baricitinib', 'Entacapone', 'RG108', 'WP1066', 'Curcumin', 'Capecitabine', 'Mesna', 'Tubastatin', 'Tranylcypromine', 'Busulfan', 'Cerdulatinib', 'Tofacitinib', 'PD98059', 'AICAR', 'Tacedinaline', 'SRT2104', 'Valproic', 'Triamcinolone', 'CEP-33779', 'Clevudine', 'Anacardic', 'MK-0752', 'Filgotinib', 'Altretamine', 'GSK', 'NVP-BSK805', 'UNC0631', 'Tazemetostat', 'WHI-P154', 'Sirtinol', 'PJ34', 'Daphnetin', 'Sodium', 'Ofloxacin', 'Meprednisone', 'AG-490', 'S3I-201', 'IOX2', 'JNJ-26854165', 'Motesanib', 'Zileuton', 'MC1568', 'Streptozotocin', 'INO-1001', 'Fasudil', 'Ramelteon', 'Entinostat', 'Selisistat', 'Aminoglutethimide', 'S-Ruxolitinib', 'Costunolide', 'A-366', 'Andarine', 'Quercetin', 'Fluorouracil', 'Fulvestrant', 'TGX-221', 'UNC1999', 'Tie2', 'Ki8751', 'UNC0379', 'Resminostat', 'AC480', 'AG-14361', 'PD173074', 'Divalproex', 'EED226', 'Maraviroc', 'Ki16425', 'CUDC-101', 'Carmofur', 'SL-327', 'Thalidomide', 'Thiotepa', 'Roscovitine', 'Glesatinib?(MGCD265)', 'Avagacestat', 'Amisulpride', 'BMS-265246', 'Linifanib', 'PFI-1', 'Droxinostat', 'Gandotinib', 'Veliparib', 'M344', 'Obatoclax', 'Azacitidine', 'Prednisone', 'SGI-1776', 'Ruxolitinib', 'Lomustine', 'Givinostat', 'Nilotinib', 'Belinostat', 'FLLL32', 'Momelotinib', 'AZ', 'Mercaptopurine', 'Trichostatin', 'Disulfiram', 'MK-5108', 'Cyclocytidine', 'Sorafenib', 'KW-2449', 'TG101209', 'Cediranib', 'Celecoxib', 'Navitoclax', 'JNJ-7706621', 'Lenalidomide', 'SB431542', 'SRT1720', 'SRT3025', 'JQ1', 'Toremifene', 'Resveratrol', 'Lapatinib', 'Aurora', '2-Methoxyestradiol', 'G007-LK', 'Cimetidine', 'Pelitinib', 'Roxadustat', 'CYC116', 'Ellagic', 'PCI-34051', 'Nintedanib', 'Pracinostat', 'Abexinostat', 'BMS-536924', 'PF-3845', 'XAV-939', 'Crizotinib', 'ITSA-1', 'Fedratinib', 'AR-42', 'ZM', 'ABT-737', 'Enzastaurin', 'Vandetanib', 'Regorafenib', 'AZD1480', 'AMG-900', 'BMS-754807', 'Alendronate', 'Panobinostat', 'BMS-911543', 'Raltitrexed', 'TMP195', 'Dasatinib', 'GSK1070916', 'CUDC-907', 'Bisindolylmaleimide', 'Trametinib', 'PF-573228', 'Bosutinib', 'Dacinostat', 'Danusertib', 'Ivosidenib', 'Rucaparib', 'Pirarubicin', 'Barasertib', 'Quisinostat', 'Decitabine', 'MLN8054', 'Tucidinostat', 'Tanespimycin', 'SNS-314', 'Temsirolimus', 'Iniparib', 'PHA-680632', 'Alisertib', 'TAK-901', 'Hesperadin', 'Rigosertib', 'Luminespib', 'Tozasertib', 'Mocetinostat', 'Alvespimycin', 'AT9283', 'Patupilone', 'Flavopiridol', 'Epothilone', 'YM155']\n"
     ]
    }
   ],
   "source": [
    "print(f'We have {len(list(adata_cpa.obs.condition.value_counts().index))} drug names in adata_cpa: \\n\\n\\t{list(adata_cpa.obs.condition.value_counts().index)}\\n\\n')\n",
    "print(f'We have {len(list(adata_cpi.obs.condition.value_counts().index))} drug names in adata_cpi: \\n\\n\\t{list(adata_cpi.obs.condition.value_counts().index)}')"
   ]
  },
  {
   "cell_type": "markdown",
   "id": "82f81005-0b9f-4c58-9c95-9657f389c3f7",
   "metadata": {},
   "source": [
    "Check that assigned SMILES match the condition,  \n",
    "it should be just one smiles string per condition"
   ]
  },
  {
   "cell_type": "code",
   "execution_count": 77,
   "id": "14e573d3-7094-46f4-8d08-19281af939cd",
   "metadata": {},
   "outputs": [
    {
     "data": {
      "text/plain": [
       "0"
      ]
     },
     "execution_count": 77,
     "metadata": {},
     "output_type": "execute_result"
    }
   ],
   "source": [
    "(adata_cpa.obs.condition=='nan').sum()"
   ]
  },
  {
   "cell_type": "markdown",
   "id": "c2071fdb-3994-4429-9f31-a0d7d25e987f",
   "metadata": {},
   "source": [
    "### Check for nans"
   ]
  },
  {
   "cell_type": "code",
   "execution_count": 78,
   "id": "d3316c26",
   "metadata": {},
   "outputs": [
    {
     "data": {
      "text/plain": [
       "0"
      ]
     },
     "execution_count": 78,
     "metadata": {},
     "output_type": "execute_result"
    }
   ],
   "source": [
    "(adata_cpa.obs.condition=='nan').sum()"
   ]
  },
  {
   "cell_type": "markdown",
   "id": "75a1f6a1-5d38-4da0-908b-8ebbfa512ca2",
   "metadata": {},
   "source": [
    "### Take care of `control` SMILES"
   ]
  },
  {
   "cell_type": "code",
   "execution_count": 79,
   "id": "f19c63df",
   "metadata": {},
   "outputs": [
    {
     "data": {
      "text/plain": [
       "['']"
      ]
     },
     "execution_count": 79,
     "metadata": {},
     "output_type": "execute_result"
    }
   ],
   "source": [
    "counts = adata_cpa[adata_cpa.obs.condition=='control'].obs.SMILES.value_counts()\n",
    "list(counts.index[counts>0])"
   ]
  },
  {
   "cell_type": "markdown",
   "id": "9e60d483-21d8-44bd-9477-18e96202f983",
   "metadata": {},
   "source": [
    "Add DMSO SMILES:`CS(C)=O`"
   ]
  },
  {
   "cell_type": "code",
   "execution_count": 80,
   "id": "329cde95-df2a-4e46-a969-dda70c32eb94",
   "metadata": {},
   "outputs": [],
   "source": [
    "adata_cpa.obs[\"SMILES\"] = adata_cpa.obs[\"SMILES\"].astype(\"category\").cat.rename_categories({\"\": \"CS(C)=O\"})"
   ]
  },
  {
   "cell_type": "code",
   "execution_count": 81,
   "id": "59cff3e8-2922-4988-91f2-0c44c3766810",
   "metadata": {},
   "outputs": [
    {
     "data": {
      "text/plain": [
       "CS(C)=O                                                                                                                13004\n",
       "Cl.Cl.CN1C=C(CNCC2CCN(CC2)C2=NC=C(C=N2)C(=O)NO)C2=CC=CC=C12 |c:16,18,27,t:2,14,25,29|                                      0\n",
       "CCC1=CC=CC(CC)=C1NC(=O)N1CC2=C(C1)C(NC(=O)C1=CC=C(C=C1)N1CCN(C)CC1)=NN2 |c:4,8,16,26,28,38,t:2,24|                         0\n",
       "CN(C)CC(=O)NC1=CC2=C(NC(=O)C3=C2C=CC=C3)C=C1 |c:14,17,19,22,t:7,9|                                                         0\n",
       "CC1=C(CCNCC2=CC=C(\\C=C\\C(=O)NO)C=C2)C2=C(N1)C=CC=C2 |c:1,17,20,24,26,t:7,9|                                                0\n",
       "                                                                                                                       ...  \n",
       "CN1C=C(C2=CC=CC=C12)C1=C(C(=O)NC1=O)C1=CN(C2CCN(CC3=NC=CC=C3)CC2)C2=CC=CC=C12 |c:2,6,30,32,40,t:4,8,12,20,28,38,42|        0\n",
       "CC1CCCC2OC2CC(OC(=O)CC(O)C(C)(C)C(=O)C(C)C1O)\\C(C)=C\\C3=CSC(=N3)C                                                          0\n",
       "COC1=CC=C(\\C=C\\C(=O)C2(CCCCC2)C(=O)\\C=C\\C2=CC(OC)=C(OC)C=C2)C=C1OC |c:29,32,t:2,4,21,25|                                   0\n",
       "Cl.O=S(=O)(N1CCCNCC1)C1=C2C=CN=CC2=CC=C1 |c:11,13,15,18,20|                                                                0\n",
       "ClCCN(N=O)C(=O)NC1CCCCC1                                                                                                   0\n",
       "Name: SMILES, Length: 188, dtype: int64"
      ]
     },
     "execution_count": 81,
     "metadata": {},
     "output_type": "execute_result"
    }
   ],
   "source": [
    "adata_cpa.obs.loc[adata_cpa.obs.condition=='control', 'SMILES'].value_counts()"
   ]
  },
  {
   "cell_type": "markdown",
   "id": "8c21f5b4-4e49-45f2-96e0-d87edac2f935",
   "metadata": {},
   "source": [
    "### Check double assigned condition"
   ]
  },
  {
   "cell_type": "code",
   "execution_count": 82,
   "id": "3f481a8e-0e72-4433-b994-b34a7696d609",
   "metadata": {},
   "outputs": [],
   "source": [
    "for pert, df in adata_cpa.obs.groupby('condition'):\n",
    "    n_smiles = (df.SMILES.value_counts()!=0).sum()\n",
    "    print(f\"{pert}: {n_smiles}\") if n_smiles > 1 else None"
   ]
  },
  {
   "cell_type": "markdown",
   "id": "ec83a754-01eb-4c2c-8767-28c66ae6d1b0",
   "metadata": {},
   "source": [
    "Check that condition align with SMILES\n",
    "\n",
    "If everything is correct there should be no output"
   ]
  },
  {
   "cell_type": "code",
   "execution_count": 83,
   "id": "2625673c",
   "metadata": {},
   "outputs": [],
   "source": [
    "for pert, df in adata_cpa.obs.groupby('condition'):\n",
    "    n_smiles = (df.SMILES.value_counts()!=0).sum()\n",
    "    print(f\"{pert}: {n_smiles}\") if n_smiles > 1 else None"
   ]
  },
  {
   "cell_type": "markdown",
   "id": "fa1c21f0-a9f5-4d7c-adf3-72cd83813f84",
   "metadata": {},
   "source": [
    "## Make SMILES canonical"
   ]
  },
  {
   "cell_type": "code",
   "execution_count": 84,
   "id": "145cb77d-c8e7-4857-b5f6-6432ce5aec5c",
   "metadata": {},
   "outputs": [
    {
     "name": "stdout",
     "output_type": "stream",
     "text": [
      "rdkit version: 2021.09.2\n",
      "\n"
     ]
    }
   ],
   "source": [
    "print(f'rdkit version: {rdkit.__version__}\\n')\n",
    "\n",
    "adata_cpa.obs.SMILES = adata_cpa.obs.SMILES.apply(Chem.CanonSmiles)"
   ]
  },
  {
   "cell_type": "markdown",
   "id": "eaf3d01c-49b9-4afd-a444-4b316d2f82d3",
   "metadata": {},
   "source": [
    "## Add a random split to adata_cpa"
   ]
  },
  {
   "cell_type": "code",
   "execution_count": 85,
   "id": "18d445a8-408e-4a57-ba36-dcdd858d9a83",
   "metadata": {},
   "outputs": [],
   "source": [
    "# This does not make sense\n",
    "\n",
    "# from sklearn.model_selection import train_test_split\n",
    "\n",
    "# if 'split' not in list(adata_cpa.obs):\n",
    "#     print(\"Addig 'split' to 'adata_cpa.obs'.\")\n",
    "#     unique_drugs = np.unique(adata_cpa.obs.SMILES)\n",
    "#     drugs_train, drugs_tmp = train_test_split(unique_drugs, test_size=0.2)\n",
    "#     drugs_val, drugs_test = train_test_split(drugs_tmp, test_size=0.5)\n",
    "\n",
    "#     adata_cpa.obs['split'] = 'train'\n",
    "#     adata_cpa.obs.loc[adata_cpa.obs.SMILES.isin(drugs_val), 'split'] = 'test'\n",
    "#     adata_cpa.obs.loc[adata_cpa.obs.SMILES.isin(drugs_test), 'split'] = 'ood'"
   ]
  },
  {
   "cell_type": "markdown",
   "id": "cf25f7a9-4d72-45e2-836d-dfb45bc891c0",
   "metadata": {},
   "source": [
    "## Create subset `adata_cpa_subset` from `adata_cpa`"
   ]
  },
  {
   "cell_type": "code",
   "execution_count": 86,
   "id": "e9656ff9",
   "metadata": {},
   "outputs": [
    {
     "data": {
      "text/plain": [
       "AnnData object with n_obs × n_vars = 9400 × 2000\n",
       "    obs: 'cell_type', 'dose', 'dose_character', 'dose_pattern', 'g1s_score', 'g2m_score', 'pathway', 'pathway_level_1', 'pathway_level_2', 'product_dose', 'product_name', 'proliferation_index', 'replicate', 'size_factor', 'target', 'vehicle', 'batch', 'n_counts', 'dose_val', 'condition', 'drug_dose_name', 'cov_drug_dose_name', 'cov_drug', 'control', 'split_ho_pathway', 'split_tyrosine_ood', 'split_epigenetic_ood', 'split_cellcycle_ood', 'SMILES'\n",
       "    var: 'id', 'gene_id', 'in_lincs', 'highly_variable', 'means', 'dispersions', 'dispersions_norm', 'num_cells_expressed-0-0', 'num_cells_expressed-1-0', 'num_cells_expressed-1'\n",
       "    uns: 'all_DEGs', 'hvg', 'lincs_DEGs'"
      ]
     },
     "execution_count": 86,
     "metadata": {},
     "output_type": "execute_result"
    }
   ],
   "source": [
    "adatas = []\n",
    "\n",
    "for drug in np.unique(adata_cpa.obs.condition): \n",
    "    tmp = adata_cpa[adata_cpa.obs.condition == drug].copy()\n",
    "    tmp = sc.pp.subsample(tmp, n_obs=50, copy=True)\n",
    "    adatas.append(tmp)\n",
    "\n",
    "adata_cpa_subset = adatas[0].concatenate(adatas[1:])\n",
    "adata_cpa_subset.uns = adata_cpa.uns.copy()\n",
    "\n",
    "adata_cpa_subset"
   ]
  },
  {
   "cell_type": "markdown",
   "id": "7bdb55ef-15a9-431f-991b-29e467aa9020",
   "metadata": {},
   "source": [
    "## Safe both adata objects"
   ]
  },
  {
   "cell_type": "code",
   "execution_count": 87,
   "id": "7afe61ee-cb21-4c3d-a1a1-f0a3fd10ecc4",
   "metadata": {},
   "outputs": [
    {
     "name": "stderr",
     "output_type": "stream",
     "text": [
      "/home/icb/leon.hetzel/miniconda3/envs/chemical_CPA/lib/python3.7/site-packages/anndata/_core/anndata.py:1228: FutureWarning: The `inplace` parameter in pandas.Categorical.reorder_categories is deprecated and will be removed in a future version. Reordering categories will always return a new Categorical object.\n",
      "  c.reorder_categories(natsorted(c.categories), inplace=True)\n",
      "... storing 'dose_character' as categorical\n",
      "/home/icb/leon.hetzel/miniconda3/envs/chemical_CPA/lib/python3.7/site-packages/anndata/_core/anndata.py:1228: FutureWarning: The `inplace` parameter in pandas.Categorical.reorder_categories is deprecated and will be removed in a future version. Reordering categories will always return a new Categorical object.\n",
      "  c.reorder_categories(natsorted(c.categories), inplace=True)\n",
      "... storing 'pathway' as categorical\n",
      "/home/icb/leon.hetzel/miniconda3/envs/chemical_CPA/lib/python3.7/site-packages/anndata/_core/anndata.py:1228: FutureWarning: The `inplace` parameter in pandas.Categorical.reorder_categories is deprecated and will be removed in a future version. Reordering categories will always return a new Categorical object.\n",
      "  c.reorder_categories(natsorted(c.categories), inplace=True)\n",
      "... storing 'pathway_level_1' as categorical\n",
      "/home/icb/leon.hetzel/miniconda3/envs/chemical_CPA/lib/python3.7/site-packages/anndata/_core/anndata.py:1228: FutureWarning: The `inplace` parameter in pandas.Categorical.reorder_categories is deprecated and will be removed in a future version. Reordering categories will always return a new Categorical object.\n",
      "  c.reorder_categories(natsorted(c.categories), inplace=True)\n",
      "... storing 'pathway_level_2' as categorical\n",
      "/home/icb/leon.hetzel/miniconda3/envs/chemical_CPA/lib/python3.7/site-packages/anndata/_core/anndata.py:1228: FutureWarning: The `inplace` parameter in pandas.Categorical.reorder_categories is deprecated and will be removed in a future version. Reordering categories will always return a new Categorical object.\n",
      "  c.reorder_categories(natsorted(c.categories), inplace=True)\n",
      "... storing 'product_dose' as categorical\n",
      "/home/icb/leon.hetzel/miniconda3/envs/chemical_CPA/lib/python3.7/site-packages/anndata/_core/anndata.py:1228: FutureWarning: The `inplace` parameter in pandas.Categorical.reorder_categories is deprecated and will be removed in a future version. Reordering categories will always return a new Categorical object.\n",
      "  c.reorder_categories(natsorted(c.categories), inplace=True)\n",
      "... storing 'product_name' as categorical\n",
      "/home/icb/leon.hetzel/miniconda3/envs/chemical_CPA/lib/python3.7/site-packages/anndata/_core/anndata.py:1228: FutureWarning: The `inplace` parameter in pandas.Categorical.reorder_categories is deprecated and will be removed in a future version. Reordering categories will always return a new Categorical object.\n",
      "  c.reorder_categories(natsorted(c.categories), inplace=True)\n",
      "... storing 'target' as categorical\n",
      "/home/icb/leon.hetzel/miniconda3/envs/chemical_CPA/lib/python3.7/site-packages/anndata/_core/anndata.py:1228: FutureWarning: The `inplace` parameter in pandas.Categorical.reorder_categories is deprecated and will be removed in a future version. Reordering categories will always return a new Categorical object.\n",
      "  c.reorder_categories(natsorted(c.categories), inplace=True)\n",
      "... storing 'condition' as categorical\n",
      "/home/icb/leon.hetzel/miniconda3/envs/chemical_CPA/lib/python3.7/site-packages/anndata/_core/anndata.py:1228: FutureWarning: The `inplace` parameter in pandas.Categorical.reorder_categories is deprecated and will be removed in a future version. Reordering categories will always return a new Categorical object.\n",
      "  c.reorder_categories(natsorted(c.categories), inplace=True)\n",
      "... storing 'drug_dose_name' as categorical\n",
      "/home/icb/leon.hetzel/miniconda3/envs/chemical_CPA/lib/python3.7/site-packages/anndata/_core/anndata.py:1228: FutureWarning: The `inplace` parameter in pandas.Categorical.reorder_categories is deprecated and will be removed in a future version. Reordering categories will always return a new Categorical object.\n",
      "  c.reorder_categories(natsorted(c.categories), inplace=True)\n",
      "... storing 'cov_drug_dose_name' as categorical\n",
      "/home/icb/leon.hetzel/miniconda3/envs/chemical_CPA/lib/python3.7/site-packages/anndata/_core/anndata.py:1228: FutureWarning: The `inplace` parameter in pandas.Categorical.reorder_categories is deprecated and will be removed in a future version. Reordering categories will always return a new Categorical object.\n",
      "  c.reorder_categories(natsorted(c.categories), inplace=True)\n",
      "... storing 'cov_drug' as categorical\n",
      "/home/icb/leon.hetzel/miniconda3/envs/chemical_CPA/lib/python3.7/site-packages/anndata/_core/anndata.py:1228: FutureWarning: The `inplace` parameter in pandas.Categorical.reorder_categories is deprecated and will be removed in a future version. Reordering categories will always return a new Categorical object.\n",
      "  c.reorder_categories(natsorted(c.categories), inplace=True)\n",
      "... storing 'split_ho_pathway' as categorical\n",
      "/home/icb/leon.hetzel/miniconda3/envs/chemical_CPA/lib/python3.7/site-packages/anndata/_core/anndata.py:1228: FutureWarning: The `inplace` parameter in pandas.Categorical.reorder_categories is deprecated and will be removed in a future version. Reordering categories will always return a new Categorical object.\n",
      "  c.reorder_categories(natsorted(c.categories), inplace=True)\n",
      "... storing 'split_tyrosine_ood' as categorical\n",
      "/home/icb/leon.hetzel/miniconda3/envs/chemical_CPA/lib/python3.7/site-packages/anndata/_core/anndata.py:1228: FutureWarning: The `inplace` parameter in pandas.Categorical.reorder_categories is deprecated and will be removed in a future version. Reordering categories will always return a new Categorical object.\n",
      "  c.reorder_categories(natsorted(c.categories), inplace=True)\n",
      "... storing 'split_epigenetic_ood' as categorical\n",
      "/home/icb/leon.hetzel/miniconda3/envs/chemical_CPA/lib/python3.7/site-packages/anndata/_core/anndata.py:1228: FutureWarning: The `inplace` parameter in pandas.Categorical.reorder_categories is deprecated and will be removed in a future version. Reordering categories will always return a new Categorical object.\n",
      "  c.reorder_categories(natsorted(c.categories), inplace=True)\n",
      "... storing 'split_cellcycle_ood' as categorical\n",
      "/home/icb/leon.hetzel/miniconda3/envs/chemical_CPA/lib/python3.7/site-packages/anndata/_core/anndata.py:1228: FutureWarning: The `inplace` parameter in pandas.Categorical.reorder_categories is deprecated and will be removed in a future version. Reordering categories will always return a new Categorical object.\n",
      "  c.reorder_categories(natsorted(c.categories), inplace=True)\n",
      "... storing 'SMILES' as categorical\n"
     ]
    }
   ],
   "source": [
    "adata_cpa.write(adata_out)\n",
    "adata_cpa_subset.write(adata_out_subset)"
   ]
  },
  {
   "cell_type": "markdown",
   "id": "bfc9546e",
   "metadata": {},
   "source": [
    "### Loading the result for `adata_out`"
   ]
  },
  {
   "cell_type": "code",
   "execution_count": 56,
   "id": "ad5d19e9",
   "metadata": {},
   "outputs": [
    {
     "data": {
      "text/plain": [
       "10.0       2497\n",
       "100.0      2453\n",
       "1000.0     2362\n",
       "10000.0    2038\n",
       "0.0          50\n",
       "Name: dose, dtype: int64"
      ]
     },
     "execution_count": 56,
     "metadata": {},
     "output_type": "execute_result"
    }
   ],
   "source": [
    "adata = sc.read(adata_out_subset)\n",
    "adata.obs.dose.value_counts()"
   ]
  },
  {
   "cell_type": "code",
   "execution_count": null,
   "id": "7f0ffd85-e875-48fd-8c6a-6a5023139463",
   "metadata": {},
   "outputs": [],
   "source": []
  }
 ],
 "metadata": {
  "interpreter": {
   "hash": "7775ea0a46178fb16f10167b5195178edd1ef843bb85410053db373359e7ce11"
  },
  "kernelspec": {
   "display_name": "Python 3.7.12 64-bit ('chemical_CPA': conda)",
   "language": "python",
   "name": "python3712jvsc74a57bd01951151eba8820d10dfca2d7d54a7baca5e102b36d5a32493b1f70139f456eae"
  },
  "language_info": {
   "codemirror_mode": {
    "name": "ipython",
    "version": 3
   },
   "file_extension": ".py",
   "mimetype": "text/x-python",
   "name": "python",
   "nbconvert_exporter": "python",
   "pygments_lexer": "ipython3",
   "version": "3.7.12"
  }
 },
 "nbformat": 4,
 "nbformat_minor": 5
}