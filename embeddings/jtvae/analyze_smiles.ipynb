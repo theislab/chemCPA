{
 "cells": [
  {
   "cell_type": "code",
   "execution_count": 25,
   "metadata": {
    "collapsed": true
   },
   "outputs": [],
   "source": [
    "from pathlib import Path\n",
    "\n",
    "import matplotlib\n",
    "import seaborn as sn\n",
    "\n",
    "matplotlib.style.use(\"fivethirtyeight\")\n",
    "matplotlib.style.use(\"seaborn-talk\")\n",
    "matplotlib.rcParams['font.family'] = \"monospace\"\n",
    "matplotlib.pyplot.rcParams['savefig.facecolor'] = 'white'\n",
    "sn.set_context(\"poster\")"
   ]
  },
  {
   "cell_type": "code",
   "execution_count": 26,
   "outputs": [],
   "source": [
    "zinc_dgl = Path.home() / \".dgl\" / \"jtvae\" / \"train.txt\"\n",
    "lincs_trapnell = Path.cwd().parent / \"lincs_trapnell.smiles\"\n",
    "outfile = Path.cwd().parent / \"lincs_trapnell.smiles.short\"\n",
    "assert zinc_dgl.exists() and lincs_trapnell.exists()"
   ],
   "metadata": {
    "collapsed": false,
    "pycharm": {
     "name": "#%%\n"
    }
   }
  },
  {
   "cell_type": "code",
   "execution_count": 27,
   "outputs": [
    {
     "name": "stdout",
     "output_type": "stream",
     "text": [
      "Max length of /home/simon/.dgl/jtvae/train.txt is 120\n",
      "Max length of /home/simon/Documents/ETH/Masters_thesis/chemical_CPA/embeddings/lincs_trapnell.smiles is 461\n"
     ]
    }
   ],
   "source": [
    "for p in [zinc_dgl, lincs_trapnell]:\n",
    "    with open(p) as f:\n",
    "        max_length = 0\n",
    "        for smile in f:\n",
    "            if len(smile.strip()) > max_length:\n",
    "                max_length = len(smile.strip())\n",
    "print(f\"Max length of {p} is {max_length}\")"
   ],
   "metadata": {
    "collapsed": false,
    "pycharm": {
     "name": "#%%\n"
    }
   }
  },
  {
   "cell_type": "code",
   "execution_count": 33,
   "outputs": [
    {
     "name": "stdout",
     "output_type": "stream",
     "text": [
      "There are 36 SMILES >= 200\n"
     ]
    }
   ],
   "source": [
    "with open(lincs_trapnell) as f:\n",
    "    count = 0\n",
    "    for smile in f:\n",
    "        smile = smile.strip()\n",
    "        if len(smile) >= 200:\n",
    "            count += 1\n",
    "print(f\"There are {count} SMILES >= 200\")"
   ],
   "metadata": {
    "collapsed": false,
    "pycharm": {
     "name": "#%%\n"
    }
   }
  },
  {
   "cell_type": "code",
   "execution_count": 29,
   "outputs": [],
   "source": [
    "with open(lincs_trapnell) as f:\n",
    "    h = []\n",
    "    for smile in f:\n",
    "        h.append(len(smile.strip()))"
   ],
   "metadata": {
    "collapsed": false,
    "pycharm": {
     "name": "#%%\n"
    }
   }
  },
  {
   "cell_type": "code",
   "source": [
    "ax = sn.histplot(h)\n",
    "ax.set_title(\"SMILES-length in LINCS\")"
   ],
   "metadata": {
    "collapsed": false,
    "pycharm": {
     "name": "#%%\n"
    }
   },
   "execution_count": 30,
   "outputs": [
    {
     "data": {
      "text/plain": "Text(0.5, 1.0, 'SMILES-length in LINCS')"
     },
     "execution_count": 30,
     "metadata": {},
     "output_type": "execute_result"
    },
    {
     "data": {
      "text/plain": "<Figure size 748.8x514.8 with 1 Axes>",
      "image/png": "[encoded data removed]"
     },
     "metadata": {},
     "output_type": "display_data"
    }
   ]
  },
  {
   "cell_type": "markdown",
   "source": [
    "## Generate a new smiles list\n",
    "We generate a new list of SMILES that are pruned to length <= 200"
   ],
   "metadata": {
    "collapsed": false
   }
  },
  {
   "cell_type": "code",
   "execution_count": 31,
   "outputs": [],
   "source": [
    "with open(outfile, \"w\") as outfile, open(lincs_trapnell) as infile:\n",
    "    for line in infile:\n",
    "        line = line.strip()\n",
    "        if len(line) < 200:\n",
    "            outfile.write(line + \"\\n\")"
   ],
   "metadata": {
    "collapsed": false,
    "pycharm": {
     "name": "#%%\n"
    }
   }
  },
  {
   "cell_type": "code",
   "execution_count": 34,
   "outputs": [],
   "source": [
    "with open(Path.cwd().parent / \"lincs_trapnell.smiles.mini\", \"w\") as outfile, open(lincs_trapnell) as infile:\n",
    "    for line in infile:\n",
    "        line = line.strip()\n",
    "        if len(line) <= 120:\n",
    "            outfile.write(line + \"\\n\")"
   ],
   "metadata": {
    "collapsed": false,
    "pycharm": {
     "name": "#%%\n"
    }
   }
  }
 ],
 "metadata": {
  "kernelspec": {
   "name": "python397jvsc74a57bd001731e631690006de3ed2f84439e9afd52540e0511c05ec4e47efeb5be3e84b6",
   "language": "python",
   "display_name": "Python 3.9.7 64-bit ('chemical_CPA': conda)"
  },
  "language_info": {
   "codemirror_mode": {
    "name": "ipython",
    "version": 2
   },
   "file_extension": ".py",
   "mimetype": "text/x-python",
   "name": "python",
   "nbconvert_exporter": "python",
   "pygments_lexer": "ipython2",
   "version": "2.7.6"
  }
 },
 "nbformat": 4,
 "nbformat_minor": 0
}