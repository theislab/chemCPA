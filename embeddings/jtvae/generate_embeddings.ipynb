{
 "cells": [
  {
   "cell_type": "markdown",
   "source": [
    "# JTVAE embedding\n",
    "This is a molecule embedding using the JunctionTree VAE, as implemented in DGLLifeSci.\n",
    "It doesn't yet work perfectly, since the vocabulary of the model pretrained on ZINC and the vocabulary of LINCS & Trapnell doesn't always match (leading to encoding errors).\n",
    "\n",
    "The errors may be fixed by retraining, but this is good enough for now (at least on Trapnell).\n",
    "\n",
    "Number of errors: 7/189(Trapnell), 4548/17000(LINCS)."
   ],
   "metadata": {
    "collapsed": false
   }
  },
  {
   "cell_type": "code",
   "execution_count": 1,
   "metadata": {
    "collapsed": true
   },
   "outputs": [
    {
     "name": "stderr",
     "output_type": "stream",
     "text": [
      "[10:44:33] Using backend: pytorch\n",
      "/opt/dgl/src/runtime/tensordispatch.cc:43: TensorDispatcher: dlopen failed: /home/icb/simon.boehm/miniconda3/envs/jtvae_dgl/lib/python3.7/site-packages/dgl/tensoradapter/pytorch/libtensoradapter_pytorch_1.10.1.so: cannot open shared object file: No such file or directory\n"
     ]
    },
    {
     "name": "stdout",
     "output_type": "stream",
     "text": [
      "2018.09.3\n",
      "1.10.1\n"
     ]
    }
   ],
   "source": [
    "import pickle\n",
    "from pathlib import Path\n",
    "\n",
    "import pandas as pd\n",
    "import rdkit\n",
    "import torch\n",
    "from dgllife.data import JTVAEDataset, JTVAECollator\n",
    "from dgllife.model import load_pretrained\n",
    "from tqdm import tqdm\n",
    "\n",
    "print(rdkit.__version__)\n",
    "print(torch.__version__)\n",
    "assert torch.cuda.is_available()"
   ]
  },
  {
   "cell_type": "code",
   "execution_count": 6,
   "outputs": [],
   "source": [
    "from dgllife.utils import JTVAEVocab\n",
    "from dgllife.model import JTNNVAE\n",
    "\n",
    "from_pretrained = False\n",
    "if from_pretrained:\n",
    "    model = load_pretrained(\"JTVAE_ZINC_no_kl\")\n",
    "else:\n",
    "    trainfile = \"data/train2c12dbbb06a7f8cb4055bb030a27e624.txt\"\n",
    "    modelfile = \"pre_model_all/model.epoch-0-iter-299\"\n",
    "    vocab = JTVAEVocab(file_path=trainfile)\n",
    "\n",
    "    save_path = \"vocab_jupyter.pkl\"\n",
    "    with open(save_path, \"wb\") as f:\n",
    "        pickle.dump(vocab, f)\n",
    "    model = JTNNVAE(vocab=vocab,\n",
    "                    hidden_size=450,\n",
    "                    latent_size=56,\n",
    "                    depth=3)\n",
    "    model.load_state_dict(torch.load(modelfile, map_location=\"cpu\"))\n"
   ],
   "metadata": {
    "collapsed": false,
    "pycharm": {
     "name": "#%%\n"
    }
   }
  },
  {
   "cell_type": "code",
   "source": [
    "model = model.to(\"cuda\")"
   ],
   "metadata": {
    "collapsed": false,
    "pycharm": {
     "name": "#%%\n"
    }
   },
   "execution_count": 7,
   "outputs": []
  },
  {
   "cell_type": "markdown",
   "source": [
    "I tried keklulization, but it didn't help"
   ],
   "metadata": {
    "collapsed": false
   }
  },
  {
   "cell_type": "code",
   "execution_count": 8,
   "outputs": [],
   "source": [
    "def canonicalize(smiles: str):\n",
    "    return smiles"
   ],
   "metadata": {
    "collapsed": false,
    "pycharm": {
     "name": "#%%\n"
    }
   }
  },
  {
   "cell_type": "code",
   "execution_count": 4,
   "outputs": [],
   "source": [
    "x = pd.read_csv(\"../lincs_trapnell.smiles\")"
   ],
   "metadata": {
    "collapsed": false,
    "pycharm": {
     "name": "#%%\n"
    }
   }
  },
  {
   "cell_type": "code",
   "execution_count": 5,
   "outputs": [],
   "source": [
    "x.to_csv(\"kekuleSmiles.smiles\", index=False, header=None)"
   ],
   "metadata": {
    "collapsed": false,
    "pycharm": {
     "name": "#%%\n"
    }
   }
  },
  {
   "cell_type": "code",
   "execution_count": 6,
   "outputs": [
    {
     "ename": "NameError",
     "evalue": "name 'model' is not defined",
     "output_type": "error",
     "traceback": [
      "\u001B[0;31m---------------------------------------------------------------------------\u001B[0m",
      "\u001B[0;31mNameError\u001B[0m                                 Traceback (most recent call last)",
      "\u001B[0;32m/tmp/ipykernel_76476/3926694751.py\u001B[0m in \u001B[0;36m<module>\u001B[0;34m\u001B[0m\n\u001B[0;32m----> 1\u001B[0;31m \u001B[0mdataset\u001B[0m \u001B[0;34m=\u001B[0m \u001B[0mJTVAEDataset\u001B[0m\u001B[0;34m(\u001B[0m\u001B[0;34m\"kekuleSmiles.smiles\"\u001B[0m\u001B[0;34m,\u001B[0m \u001B[0mvocab\u001B[0m\u001B[0;34m=\u001B[0m\u001B[0mmodel\u001B[0m\u001B[0;34m.\u001B[0m\u001B[0mvocab\u001B[0m\u001B[0;34m,\u001B[0m \u001B[0mtraining\u001B[0m\u001B[0;34m=\u001B[0m\u001B[0;32mFalse\u001B[0m\u001B[0;34m)\u001B[0m\u001B[0;34m\u001B[0m\u001B[0;34m\u001B[0m\u001B[0m\n\u001B[0m\u001B[1;32m      2\u001B[0m \u001B[0mcollator\u001B[0m \u001B[0;34m=\u001B[0m \u001B[0mJTVAECollator\u001B[0m\u001B[0;34m(\u001B[0m\u001B[0mtraining\u001B[0m\u001B[0;34m=\u001B[0m\u001B[0;32mFalse\u001B[0m\u001B[0;34m)\u001B[0m\u001B[0;34m\u001B[0m\u001B[0;34m\u001B[0m\u001B[0m\n\u001B[1;32m      3\u001B[0m \u001B[0mdataloader\u001B[0m \u001B[0;34m=\u001B[0m \u001B[0mtorch\u001B[0m\u001B[0;34m.\u001B[0m\u001B[0mutils\u001B[0m\u001B[0;34m.\u001B[0m\u001B[0mdata\u001B[0m\u001B[0;34m.\u001B[0m\u001B[0mDataLoader\u001B[0m\u001B[0;34m(\u001B[0m\u001B[0mdataset\u001B[0m\u001B[0;34m,\u001B[0m \u001B[0mbatch_size\u001B[0m\u001B[0;34m=\u001B[0m\u001B[0;36m1\u001B[0m\u001B[0;34m,\u001B[0m \u001B[0mshuffle\u001B[0m\u001B[0;34m=\u001B[0m\u001B[0;32mFalse\u001B[0m\u001B[0;34m,\u001B[0m \u001B[0mcollate_fn\u001B[0m\u001B[0;34m=\u001B[0m\u001B[0mcollator\u001B[0m\u001B[0;34m,\u001B[0m \u001B[0mdrop_last\u001B[0m\u001B[0;34m=\u001B[0m\u001B[0;32mTrue\u001B[0m\u001B[0;34m)\u001B[0m\u001B[0;34m\u001B[0m\u001B[0;34m\u001B[0m\u001B[0m\n",
      "\u001B[0;31mNameError\u001B[0m: name 'model' is not defined"
     ]
    }
   ],
   "source": [
    "dataset = JTVAEDataset(\"kekuleSmiles.smiles\", vocab=model.vocab, training=False)\n",
    "collator = JTVAECollator(training=False)\n",
    "dataloader = torch.utils.data.DataLoader(dataset, batch_size=1, shuffle=False, collate_fn=collator, drop_last=True)"
   ],
   "metadata": {
    "collapsed": false,
    "pycharm": {
     "name": "#%%\n"
    }
   }
  },
  {
   "cell_type": "code",
   "execution_count": null,
   "outputs": [
    {
     "name": "stderr",
     "output_type": "stream",
     "text": [
      "  0%|                                                                           | 0/17833 [00:00<?, ?it/s]/home/icb/simon.boehm/miniconda3/envs/jtvae_dgl/lib/python3.7/site-packages/dgl/base.py:45: DGLWarning: The input graph for the user-defined edge function does not contain valid edges\n",
      "  return warnings.warn(message, category=category, stacklevel=1)\n",
      "  6%|███▌                                                          | 1014/17833 [03:18<1:01:51,  4.53it/s]"
     ]
    }
   ],
   "source": [
    "get_data = lambda idx: collator([dataset[idx]])\n",
    "errors = []\n",
    "smiles = []\n",
    "latents = []\n",
    "for i in tqdm(range(len(dataset))):\n",
    "    try:\n",
    "        _, batch_tree_graphs, batch_mol_graphs = get_data(i)\n",
    "        batch_tree_graphs = batch_tree_graphs.to(\"cuda\")\n",
    "        batch_mol_graphs = batch_mol_graphs.to(\"cuda\")\n",
    "        with torch.no_grad():\n",
    "            _, tree_vec, mol_vec = model.encode(batch_tree_graphs, batch_mol_graphs)\n",
    "        latent = torch.cat([model.T_mean(tree_vec), model.G_mean(mol_vec)], dim=1)\n",
    "        latents.append(latent)\n",
    "        smiles.append(dataset.data[i])\n",
    "    except Exception as e:\n",
    "        errors.append((dataset.data[i], e))"
   ],
   "metadata": {
    "collapsed": false,
    "pycharm": {
     "name": "#%%\n"
    }
   }
  },
  {
   "cell_type": "code",
   "execution_count": null,
   "outputs": [],
   "source": [
    "len(errors)"
   ],
   "metadata": {
    "collapsed": false,
    "pycharm": {
     "name": "#%%\n"
    }
   }
  },
  {
   "cell_type": "code",
   "execution_count": null,
   "outputs": [],
   "source": [
    "errors"
   ],
   "metadata": {
    "collapsed": false,
    "pycharm": {
     "name": "#%%\n"
    }
   }
  },
  {
   "cell_type": "code",
   "execution_count": 11,
   "outputs": [],
   "source": [
    "assert len(latents) == len(smiles)"
   ],
   "metadata": {
    "collapsed": false,
    "pycharm": {
     "name": "#%%\n"
    }
   }
  },
  {
   "cell_type": "code",
   "execution_count": 17,
   "outputs": [],
   "source": [
    "np_latents = [latent.squeeze().cpu().detach().numpy() for latent in latents]\n",
    "final_df = pd.DataFrame(np_latents, index=smiles,\n",
    "                        columns=[f\"latent_{i + 1}\" for i in range(np_latents[0].shape[0])])\n",
    "final_df.to_parquet(\"data/jtvae_dgl.parquet\")"
   ],
   "metadata": {
    "collapsed": false,
    "pycharm": {
     "name": "#%%\n"
    }
   }
  },
  {
   "cell_type": "code",
   "execution_count": 15,
   "outputs": [
    {
     "data": {
      "text/plain": "                                                    latent_1   latent_2  \\\nC[C@H](NC(=O)/C(C#N)=C/c1cccc(Br)n1)c1ccccc1       -2.951031  -5.289873   \nCc1cc(Nc2cc(CN3CCOCC3)c3nc(C)c(Cc4ccc(Cl)cc4F)n...  2.817028 -14.199235   \nCc1cc(N2CCOCC2)cc2[nH]c(-c3c(NCC(O)c4cccc(Cl)c4...  5.354123 -12.014553   \nCl.Cl.c1ccc([C@@H]2C[C@H]2NC2CCNCC2)cc1             6.619146  -4.298629   \nO=C(c1ccc(/C=C/c2n[nH]c3ccccc23)cc1)N1CCNCC1       -1.737819   4.922736   \n...                                                      ...        ...   \nCC1(C)C=C2C(=[N+]([O-])c3cc4c(cc32)C=CC(C)(C)O4...  1.611027  11.635976   \nC[C@@H]1CC(=O)NN=C1c1ccc(Cl)cc1                     0.483706   1.880215   \nCc1cc(CS(=O)(=O)c2ccccc2)cc(OCc2ccc(CN3CCC[C@@H...  0.508416  -1.055624   \nCN(C)CCOc1ccc(/C(=C(\\CCCl)c2ccccc2)c2ccccc2)cc1     0.345383  -5.407078   \nC[C@@H]1CC(=O)NN=C1c1ccc(N)c([N+](=O)[O-])c1        2.690797  -0.894739   \n\n                                                     latent_3   latent_4  \\\nC[C@H](NC(=O)/C(C#N)=C/c1cccc(Br)n1)c1ccccc1       -12.151762   6.205541   \nCc1cc(Nc2cc(CN3CCOCC3)c3nc(C)c(Cc4ccc(Cl)cc4F)n...   2.602090  -1.812574   \nCc1cc(N2CCOCC2)cc2[nH]c(-c3c(NCC(O)c4cccc(Cl)c4...   6.532739  13.496149   \nCl.Cl.c1ccc([C@@H]2C[C@H]2NC2CCNCC2)cc1             14.509826  11.098990   \nO=C(c1ccc(/C=C/c2n[nH]c3ccccc23)cc1)N1CCNCC1         0.329061   7.835114   \n...                                                       ...        ...   \nCC1(C)C=C2C(=[N+]([O-])c3cc4c(cc32)C=CC(C)(C)O4...  -6.135553  -5.009007   \nC[C@@H]1CC(=O)NN=C1c1ccc(Cl)cc1                      7.449620   1.906647   \nCc1cc(CS(=O)(=O)c2ccccc2)cc(OCc2ccc(CN3CCC[C@@H...   5.894164   8.405050   \nCN(C)CCOc1ccc(/C(=C(\\CCCl)c2ccccc2)c2ccccc2)cc1    -10.009950  12.500641   \nC[C@@H]1CC(=O)NN=C1c1ccc(N)c([N+](=O)[O-])c1         9.536535  -7.655843   \n\n                                                     latent_5   latent_6  \\\nC[C@H](NC(=O)/C(C#N)=C/c1cccc(Br)n1)c1ccccc1         7.253455  12.337790   \nCc1cc(Nc2cc(CN3CCOCC3)c3nc(C)c(Cc4ccc(Cl)cc4F)n... -10.057611  -1.675966   \nCc1cc(N2CCOCC2)cc2[nH]c(-c3c(NCC(O)c4cccc(Cl)c4...   0.224052   7.808585   \nCl.Cl.c1ccc([C@@H]2C[C@H]2NC2CCNCC2)cc1              6.473425  -4.572600   \nO=C(c1ccc(/C=C/c2n[nH]c3ccccc23)cc1)N1CCNCC1        15.684121   1.067316   \n...                                                       ...        ...   \nCC1(C)C=C2C(=[N+]([O-])c3cc4c(cc32)C=CC(C)(C)O4...   3.190311  -6.632552   \nC[C@@H]1CC(=O)NN=C1c1ccc(Cl)cc1                      8.257718  -1.502681   \nCc1cc(CS(=O)(=O)c2ccccc2)cc(OCc2ccc(CN3CCC[C@@H...   6.109705   2.316949   \nCN(C)CCOc1ccc(/C(=C(\\CCCl)c2ccccc2)c2ccccc2)cc1     -3.964427   3.735437   \nC[C@@H]1CC(=O)NN=C1c1ccc(N)c([N+](=O)[O-])c1        13.824227  -5.093095   \n\n                                                     latent_7   latent_8  \\\nC[C@H](NC(=O)/C(C#N)=C/c1cccc(Br)n1)c1ccccc1       -12.547594   9.394004   \nCc1cc(Nc2cc(CN3CCOCC3)c3nc(C)c(Cc4ccc(Cl)cc4F)n... -15.421948  25.793367   \nCc1cc(N2CCOCC2)cc2[nH]c(-c3c(NCC(O)c4cccc(Cl)c4...  -7.222305  16.805893   \nCl.Cl.c1ccc([C@@H]2C[C@H]2NC2CCNCC2)cc1             -3.073167   6.496140   \nO=C(c1ccc(/C=C/c2n[nH]c3ccccc23)cc1)N1CCNCC1         7.796133   4.631086   \n...                                                       ...        ...   \nCC1(C)C=C2C(=[N+]([O-])c3cc4c(cc32)C=CC(C)(C)O4...  -6.322329  13.814123   \nC[C@@H]1CC(=O)NN=C1c1ccc(Cl)cc1                     -9.334446  12.634336   \nCc1cc(CS(=O)(=O)c2ccccc2)cc(OCc2ccc(CN3CCC[C@@H...  10.134815  22.346865   \nCN(C)CCOc1ccc(/C(=C(\\CCCl)c2ccccc2)c2ccccc2)cc1     -4.372162  14.781828   \nC[C@@H]1CC(=O)NN=C1c1ccc(N)c([N+](=O)[O-])c1        -3.351896  11.398259   \n\n                                                     latent_9  latent_10  ...  \\\nC[C@H](NC(=O)/C(C#N)=C/c1cccc(Br)n1)c1ccccc1         2.130386  10.193287  ...   \nCc1cc(Nc2cc(CN3CCOCC3)c3nc(C)c(Cc4ccc(Cl)cc4F)n...  -1.076326  -7.611788  ...   \nCc1cc(N2CCOCC2)cc2[nH]c(-c3c(NCC(O)c4cccc(Cl)c4... -23.045683  -1.204091  ...   \nCl.Cl.c1ccc([C@@H]2C[C@H]2NC2CCNCC2)cc1              5.623781  -1.876796  ...   \nO=C(c1ccc(/C=C/c2n[nH]c3ccccc23)cc1)N1CCNCC1         2.695632   2.234314  ...   \n...                                                       ...        ...  ...   \nCC1(C)C=C2C(=[N+]([O-])c3cc4c(cc32)C=CC(C)(C)O4...  -7.321885   8.943810  ...   \nC[C@@H]1CC(=O)NN=C1c1ccc(Cl)cc1                      3.009709  -0.243049  ...   \nCc1cc(CS(=O)(=O)c2ccccc2)cc(OCc2ccc(CN3CCC[C@@H... -23.848000  -9.663993  ...   \nCN(C)CCOc1ccc(/C(=C(\\CCCl)c2ccccc2)c2ccccc2)cc1    -17.718584 -20.696524  ...   \nC[C@@H]1CC(=O)NN=C1c1ccc(N)c([N+](=O)[O-])c1        -5.747442  -2.562021  ...   \n\n                                                    latent_47  latent_48  \\\nC[C@H](NC(=O)/C(C#N)=C/c1cccc(Br)n1)c1ccccc1         0.555162  -0.337887   \nCc1cc(Nc2cc(CN3CCOCC3)c3nc(C)c(Cc4ccc(Cl)cc4F)n...  -0.314179  -0.223788   \nCc1cc(N2CCOCC2)cc2[nH]c(-c3c(NCC(O)c4cccc(Cl)c4...   0.125229   0.021564   \nCl.Cl.c1ccc([C@@H]2C[C@H]2NC2CCNCC2)cc1             -0.135496   0.120736   \nO=C(c1ccc(/C=C/c2n[nH]c3ccccc23)cc1)N1CCNCC1         0.361858   0.154207   \n...                                                       ...        ...   \nCC1(C)C=C2C(=[N+]([O-])c3cc4c(cc32)C=CC(C)(C)O4...  -0.528293  -0.239322   \nC[C@@H]1CC(=O)NN=C1c1ccc(Cl)cc1                     -0.293528  -0.295376   \nCc1cc(CS(=O)(=O)c2ccccc2)cc(OCc2ccc(CN3CCC[C@@H...   0.055109   0.196629   \nCN(C)CCOc1ccc(/C(=C(\\CCCl)c2ccccc2)c2ccccc2)cc1     -0.070567   0.555675   \nC[C@@H]1CC(=O)NN=C1c1ccc(N)c([N+](=O)[O-])c1        -0.046041   0.468067   \n\n                                                    latent_49  latent_50  \\\nC[C@H](NC(=O)/C(C#N)=C/c1cccc(Br)n1)c1ccccc1         0.359012  -0.029846   \nCc1cc(Nc2cc(CN3CCOCC3)c3nc(C)c(Cc4ccc(Cl)cc4F)n...  -0.730887  -0.533293   \nCc1cc(N2CCOCC2)cc2[nH]c(-c3c(NCC(O)c4cccc(Cl)c4...  -0.490427  -0.158655   \nCl.Cl.c1ccc([C@@H]2C[C@H]2NC2CCNCC2)cc1             -0.330616   0.106106   \nO=C(c1ccc(/C=C/c2n[nH]c3ccccc23)cc1)N1CCNCC1         0.424318  -0.102719   \n...                                                       ...        ...   \nCC1(C)C=C2C(=[N+]([O-])c3cc4c(cc32)C=CC(C)(C)O4...  -0.152673  -0.779070   \nC[C@@H]1CC(=O)NN=C1c1ccc(Cl)cc1                      0.138144   0.124643   \nCc1cc(CS(=O)(=O)c2ccccc2)cc(OCc2ccc(CN3CCC[C@@H...   0.072201   0.064545   \nCN(C)CCOc1ccc(/C(=C(\\CCCl)c2ccccc2)c2ccccc2)cc1      0.464044  -0.091776   \nC[C@@H]1CC(=O)NN=C1c1ccc(N)c([N+](=O)[O-])c1         0.256763  -0.533039   \n\n                                                    latent_51  latent_52  \\\nC[C@H](NC(=O)/C(C#N)=C/c1cccc(Br)n1)c1ccccc1        -4.738989   0.279441   \nCc1cc(Nc2cc(CN3CCOCC3)c3nc(C)c(Cc4ccc(Cl)cc4F)n...  -2.818021  -0.248069   \nCc1cc(N2CCOCC2)cc2[nH]c(-c3c(NCC(O)c4cccc(Cl)c4...  -0.303421   0.060854   \nCl.Cl.c1ccc([C@@H]2C[C@H]2NC2CCNCC2)cc1             -2.455133  -0.195220   \nO=C(c1ccc(/C=C/c2n[nH]c3ccccc23)cc1)N1CCNCC1        -4.824892   0.304993   \n...                                                       ...        ...   \nCC1(C)C=C2C(=[N+]([O-])c3cc4c(cc32)C=CC(C)(C)O4...  -2.366998  -0.177732   \nC[C@@H]1CC(=O)NN=C1c1ccc(Cl)cc1                     -4.890343   0.153882   \nCc1cc(CS(=O)(=O)c2ccccc2)cc(OCc2ccc(CN3CCC[C@@H...  -3.252289   0.306187   \nCN(C)CCOc1ccc(/C(=C(\\CCCl)c2ccccc2)c2ccccc2)cc1     -7.976848   0.163267   \nC[C@@H]1CC(=O)NN=C1c1ccc(N)c([N+](=O)[O-])c1        -4.911631  -0.470867   \n\n                                                    latent_53  latent_54  \\\nC[C@H](NC(=O)/C(C#N)=C/c1cccc(Br)n1)c1ccccc1         0.116574   0.945011   \nCc1cc(Nc2cc(CN3CCOCC3)c3nc(C)c(Cc4ccc(Cl)cc4F)n...  -0.539395   0.287021   \nCc1cc(N2CCOCC2)cc2[nH]c(-c3c(NCC(O)c4cccc(Cl)c4...   0.254467  -0.011696   \nCl.Cl.c1ccc([C@@H]2C[C@H]2NC2CCNCC2)cc1             -0.339859   0.141549   \nO=C(c1ccc(/C=C/c2n[nH]c3ccccc23)cc1)N1CCNCC1        -0.067202   0.908301   \n...                                                       ...        ...   \nCC1(C)C=C2C(=[N+]([O-])c3cc4c(cc32)C=CC(C)(C)O4...  -0.352130   0.465450   \nC[C@@H]1CC(=O)NN=C1c1ccc(Cl)cc1                      0.124399   0.257779   \nCc1cc(CS(=O)(=O)c2ccccc2)cc(OCc2ccc(CN3CCC[C@@H...   0.191910   0.652843   \nCN(C)CCOc1ccc(/C(=C(\\CCCl)c2ccccc2)c2ccccc2)cc1     -0.064775   1.394701   \nC[C@@H]1CC(=O)NN=C1c1ccc(N)c([N+](=O)[O-])c1        -0.073142   0.279097   \n\n                                                    latent_55  latent_56  \nC[C@H](NC(=O)/C(C#N)=C/c1cccc(Br)n1)c1ccccc1        -0.343293  -0.473597  \nCc1cc(Nc2cc(CN3CCOCC3)c3nc(C)c(Cc4ccc(Cl)cc4F)n...  -0.080546  -0.176129  \nCc1cc(N2CCOCC2)cc2[nH]c(-c3c(NCC(O)c4cccc(Cl)c4...   0.133957   0.133336  \nCl.Cl.c1ccc([C@@H]2C[C@H]2NC2CCNCC2)cc1              0.491087   0.261954  \nO=C(c1ccc(/C=C/c2n[nH]c3ccccc23)cc1)N1CCNCC1        -0.060837   0.199201  \n...                                                       ...        ...  \nCC1(C)C=C2C(=[N+]([O-])c3cc4c(cc32)C=CC(C)(C)O4...  -0.259728   0.330294  \nC[C@@H]1CC(=O)NN=C1c1ccc(Cl)cc1                     -0.040345   0.181931  \nCc1cc(CS(=O)(=O)c2ccccc2)cc(OCc2ccc(CN3CCC[C@@H...  -0.242031  -0.082915  \nCN(C)CCOc1ccc(/C(=C(\\CCCl)c2ccccc2)c2ccccc2)cc1     -0.057060  -0.181299  \nC[C@@H]1CC(=O)NN=C1c1ccc(N)c([N+](=O)[O-])c1         0.003489   0.271088  \n\n[13321 rows x 56 columns]",
      "text/html": "<div>\n<style scoped>\n    .dataframe tbody tr th:only-of-type {\n        vertical-align: middle;\n    }\n\n    .dataframe tbody tr th {\n        vertical-align: top;\n    }\n\n    .dataframe thead th {\n        text-align: right;\n    }\n</style>\n<table border=\"1\" class=\"dataframe\">\n  <thead>\n    <tr style=\"text-align: right;\">\n      <th></th>\n      <th>latent_1</th>\n      <th>latent_2</th>\n      <th>latent_3</th>\n      <th>latent_4</th>\n      <th>latent_5</th>\n      <th>latent_6</th>\n      <th>latent_7</th>\n      <th>latent_8</th>\n      <th>latent_9</th>\n      <th>latent_10</th>\n      <th>...</th>\n      <th>latent_47</th>\n      <th>latent_48</th>\n      <th>latent_49</th>\n      <th>latent_50</th>\n      <th>latent_51</th>\n      <th>latent_52</th>\n      <th>latent_53</th>\n      <th>latent_54</th>\n      <th>latent_55</th>\n      <th>latent_56</th>\n    </tr>\n  </thead>\n  <tbody>\n    <tr>\n      <th>C[C@H](NC(=O)/C(C#N)=C/c1cccc(Br)n1)c1ccccc1</th>\n      <td>-2.951031</td>\n      <td>-5.289873</td>\n      <td>-12.151762</td>\n      <td>6.205541</td>\n      <td>7.253455</td>\n      <td>12.337790</td>\n      <td>-12.547594</td>\n      <td>9.394004</td>\n      <td>2.130386</td>\n      <td>10.193287</td>\n      <td>...</td>\n      <td>0.555162</td>\n      <td>-0.337887</td>\n      <td>0.359012</td>\n      <td>-0.029846</td>\n      <td>-4.738989</td>\n      <td>0.279441</td>\n      <td>0.116574</td>\n      <td>0.945011</td>\n      <td>-0.343293</td>\n      <td>-0.473597</td>\n    </tr>\n    <tr>\n      <th>Cc1cc(Nc2cc(CN3CCOCC3)c3nc(C)c(Cc4ccc(Cl)cc4F)n3n2)[nH]n1</th>\n      <td>2.817028</td>\n      <td>-14.199235</td>\n      <td>2.602090</td>\n      <td>-1.812574</td>\n      <td>-10.057611</td>\n      <td>-1.675966</td>\n      <td>-15.421948</td>\n      <td>25.793367</td>\n      <td>-1.076326</td>\n      <td>-7.611788</td>\n      <td>...</td>\n      <td>-0.314179</td>\n      <td>-0.223788</td>\n      <td>-0.730887</td>\n      <td>-0.533293</td>\n      <td>-2.818021</td>\n      <td>-0.248069</td>\n      <td>-0.539395</td>\n      <td>0.287021</td>\n      <td>-0.080546</td>\n      <td>-0.176129</td>\n    </tr>\n    <tr>\n      <th>Cc1cc(N2CCOCC2)cc2[nH]c(-c3c(NCC(O)c4cccc(Cl)c4)cc[nH]c3=O)nc12</th>\n      <td>5.354123</td>\n      <td>-12.014553</td>\n      <td>6.532739</td>\n      <td>13.496149</td>\n      <td>0.224052</td>\n      <td>7.808585</td>\n      <td>-7.222305</td>\n      <td>16.805893</td>\n      <td>-23.045683</td>\n      <td>-1.204091</td>\n      <td>...</td>\n      <td>0.125229</td>\n      <td>0.021564</td>\n      <td>-0.490427</td>\n      <td>-0.158655</td>\n      <td>-0.303421</td>\n      <td>0.060854</td>\n      <td>0.254467</td>\n      <td>-0.011696</td>\n      <td>0.133957</td>\n      <td>0.133336</td>\n    </tr>\n    <tr>\n      <th>Cl.Cl.c1ccc([C@@H]2C[C@H]2NC2CCNCC2)cc1</th>\n      <td>6.619146</td>\n      <td>-4.298629</td>\n      <td>14.509826</td>\n      <td>11.098990</td>\n      <td>6.473425</td>\n      <td>-4.572600</td>\n      <td>-3.073167</td>\n      <td>6.496140</td>\n      <td>5.623781</td>\n      <td>-1.876796</td>\n      <td>...</td>\n      <td>-0.135496</td>\n      <td>0.120736</td>\n      <td>-0.330616</td>\n      <td>0.106106</td>\n      <td>-2.455133</td>\n      <td>-0.195220</td>\n      <td>-0.339859</td>\n      <td>0.141549</td>\n      <td>0.491087</td>\n      <td>0.261954</td>\n    </tr>\n    <tr>\n      <th>O=C(c1ccc(/C=C/c2n[nH]c3ccccc23)cc1)N1CCNCC1</th>\n      <td>-1.737819</td>\n      <td>4.922736</td>\n      <td>0.329061</td>\n      <td>7.835114</td>\n      <td>15.684121</td>\n      <td>1.067316</td>\n      <td>7.796133</td>\n      <td>4.631086</td>\n      <td>2.695632</td>\n      <td>2.234314</td>\n      <td>...</td>\n      <td>0.361858</td>\n      <td>0.154207</td>\n      <td>0.424318</td>\n      <td>-0.102719</td>\n      <td>-4.824892</td>\n      <td>0.304993</td>\n      <td>-0.067202</td>\n      <td>0.908301</td>\n      <td>-0.060837</td>\n      <td>0.199201</td>\n    </tr>\n    <tr>\n      <th>...</th>\n      <td>...</td>\n      <td>...</td>\n      <td>...</td>\n      <td>...</td>\n      <td>...</td>\n      <td>...</td>\n      <td>...</td>\n      <td>...</td>\n      <td>...</td>\n      <td>...</td>\n      <td>...</td>\n      <td>...</td>\n      <td>...</td>\n      <td>...</td>\n      <td>...</td>\n      <td>...</td>\n      <td>...</td>\n      <td>...</td>\n      <td>...</td>\n      <td>...</td>\n      <td>...</td>\n    </tr>\n    <tr>\n      <th>CC1(C)C=C2C(=[N+]([O-])c3cc4c(cc32)C=CC(C)(C)O4)C(C)(C)C1</th>\n      <td>1.611027</td>\n      <td>11.635976</td>\n      <td>-6.135553</td>\n      <td>-5.009007</td>\n      <td>3.190311</td>\n      <td>-6.632552</td>\n      <td>-6.322329</td>\n      <td>13.814123</td>\n      <td>-7.321885</td>\n      <td>8.943810</td>\n      <td>...</td>\n      <td>-0.528293</td>\n      <td>-0.239322</td>\n      <td>-0.152673</td>\n      <td>-0.779070</td>\n      <td>-2.366998</td>\n      <td>-0.177732</td>\n      <td>-0.352130</td>\n      <td>0.465450</td>\n      <td>-0.259728</td>\n      <td>0.330294</td>\n    </tr>\n    <tr>\n      <th>C[C@@H]1CC(=O)NN=C1c1ccc(Cl)cc1</th>\n      <td>0.483706</td>\n      <td>1.880215</td>\n      <td>7.449620</td>\n      <td>1.906647</td>\n      <td>8.257718</td>\n      <td>-1.502681</td>\n      <td>-9.334446</td>\n      <td>12.634336</td>\n      <td>3.009709</td>\n      <td>-0.243049</td>\n      <td>...</td>\n      <td>-0.293528</td>\n      <td>-0.295376</td>\n      <td>0.138144</td>\n      <td>0.124643</td>\n      <td>-4.890343</td>\n      <td>0.153882</td>\n      <td>0.124399</td>\n      <td>0.257779</td>\n      <td>-0.040345</td>\n      <td>0.181931</td>\n    </tr>\n    <tr>\n      <th>Cc1cc(CS(=O)(=O)c2ccccc2)cc(OCc2ccc(CN3CCC[C@@H]3CO)cc2)c1</th>\n      <td>0.508416</td>\n      <td>-1.055624</td>\n      <td>5.894164</td>\n      <td>8.405050</td>\n      <td>6.109705</td>\n      <td>2.316949</td>\n      <td>10.134815</td>\n      <td>22.346865</td>\n      <td>-23.848000</td>\n      <td>-9.663993</td>\n      <td>...</td>\n      <td>0.055109</td>\n      <td>0.196629</td>\n      <td>0.072201</td>\n      <td>0.064545</td>\n      <td>-3.252289</td>\n      <td>0.306187</td>\n      <td>0.191910</td>\n      <td>0.652843</td>\n      <td>-0.242031</td>\n      <td>-0.082915</td>\n    </tr>\n    <tr>\n      <th>CN(C)CCOc1ccc(/C(=C(\\CCCl)c2ccccc2)c2ccccc2)cc1</th>\n      <td>0.345383</td>\n      <td>-5.407078</td>\n      <td>-10.009950</td>\n      <td>12.500641</td>\n      <td>-3.964427</td>\n      <td>3.735437</td>\n      <td>-4.372162</td>\n      <td>14.781828</td>\n      <td>-17.718584</td>\n      <td>-20.696524</td>\n      <td>...</td>\n      <td>-0.070567</td>\n      <td>0.555675</td>\n      <td>0.464044</td>\n      <td>-0.091776</td>\n      <td>-7.976848</td>\n      <td>0.163267</td>\n      <td>-0.064775</td>\n      <td>1.394701</td>\n      <td>-0.057060</td>\n      <td>-0.181299</td>\n    </tr>\n    <tr>\n      <th>C[C@@H]1CC(=O)NN=C1c1ccc(N)c([N+](=O)[O-])c1</th>\n      <td>2.690797</td>\n      <td>-0.894739</td>\n      <td>9.536535</td>\n      <td>-7.655843</td>\n      <td>13.824227</td>\n      <td>-5.093095</td>\n      <td>-3.351896</td>\n      <td>11.398259</td>\n      <td>-5.747442</td>\n      <td>-2.562021</td>\n      <td>...</td>\n      <td>-0.046041</td>\n      <td>0.468067</td>\n      <td>0.256763</td>\n      <td>-0.533039</td>\n      <td>-4.911631</td>\n      <td>-0.470867</td>\n      <td>-0.073142</td>\n      <td>0.279097</td>\n      <td>0.003489</td>\n      <td>0.271088</td>\n    </tr>\n  </tbody>\n</table>\n<p>13321 rows × 56 columns</p>\n</div>"
     },
     "execution_count": 15,
     "metadata": {},
     "output_type": "execute_result"
    }
   ],
   "source": [
    "final_df"
   ],
   "metadata": {
    "collapsed": false,
    "pycharm": {
     "name": "#%%\n"
    }
   }
  }
 ],
 "metadata": {
  "kernelspec": {
   "display_name": "Python 3",
   "language": "python",
   "name": "python3"
  },
  "language_info": {
   "codemirror_mode": {
    "name": "ipython",
    "version": 2
   },
   "file_extension": ".py",
   "mimetype": "text/x-python",
   "name": "python",
   "nbconvert_exporter": "python",
   "pygments_lexer": "ipython2",
   "version": "2.7.6"
  }
 },
 "nbformat": 4,
 "nbformat_minor": 0
}