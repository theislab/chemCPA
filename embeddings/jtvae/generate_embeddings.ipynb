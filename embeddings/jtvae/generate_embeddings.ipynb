{
 "cells": [
  {
   "cell_type": "markdown",
   "source": [
    "# JTVAE embedding\n",
    "This is a molecule embedding using the JunctionTree VAE, as implemented in DGLLifeSci.\n",
    "\n",
    "It's pretrained on LINCS + Trapnell + half of ZINC (~220K molecules total).\n",
    "LINCS contains a `Cl.[Li]` molecule which fails during encoding, so it just gets a dummy encoding."
   ],
   "metadata": {
    "collapsed": false
   }
  },
  {
   "cell_type": "code",
   "execution_count": 16,
   "metadata": {
    "collapsed": true
   },
   "outputs": [
    {
     "name": "stdout",
     "output_type": "stream",
     "text": [
      "2018.09.3\n",
      "1.10.1\n"
     ]
    }
   ],
   "source": [
    "import pickle\n",
    "from pathlib import Path\n",
    "\n",
    "import pandas as pd\n",
    "import rdkit\n",
    "import torch\n",
    "from dgllife.data import JTVAEDataset, JTVAECollator\n",
    "from dgllife.model import load_pretrained\n",
    "from tqdm import tqdm\n",
    "\n",
    "print(rdkit.__version__)\n",
    "print(torch.__version__)\n",
    "assert torch.cuda.is_available()"
   ]
  },
  {
   "cell_type": "code",
   "execution_count": 17,
   "outputs": [],
   "source": [
    "from dgllife.utils import JTVAEVocab\n",
    "from dgllife.model import JTNNVAE\n",
    "\n",
    "from_pretrained = False\n",
    "if from_pretrained:\n",
    "    model = load_pretrained(\"JTVAE_ZINC_no_kl\")\n",
    "else:\n",
    "    trainfile = \"data/train_1f1775f24668d31640df46ce45fe3577.txt\"\n",
    "    modelfile = \"pre_model_all/model.epoch-0\"\n",
    "    vocabfile = \"pre_model_all/vocab_1f1775f24668d31640df46ce45fe3577.pkl\"\n",
    "\n",
    "    with open(vocabfile, \"rb\") as f:\n",
    "        vocab = pickle.load(f)\n",
    "\n",
    "    model = JTNNVAE(vocab=vocab,\n",
    "                    hidden_size=450,\n",
    "                    latent_size=56,\n",
    "                    depth=3)\n",
    "    model.load_state_dict(torch.load(modelfile, map_location=\"cpu\"))\n"
   ],
   "metadata": {
    "collapsed": false,
    "pycharm": {
     "name": "#%%\n"
    }
   }
  },
  {
   "cell_type": "code",
   "source": [
    "model = model.to(\"cuda\")"
   ],
   "metadata": {
    "collapsed": false,
    "pycharm": {
     "name": "#%%\n"
    }
   },
   "execution_count": 18,
   "outputs": []
  },
  {
   "cell_type": "code",
   "execution_count": 19,
   "outputs": [],
   "source": [
    "smiles = pd.read_csv(\"../lincs_trapnell.smiles\")\n",
    "# need to remove the header, before passing it to JTVAE\n",
    "smiles.to_csv(\"jtvae_dataset.smiles\", index=False, header=None)"
   ],
   "metadata": {
    "collapsed": false,
    "pycharm": {
     "name": "#%%\n"
    }
   }
  },
  {
   "cell_type": "code",
   "execution_count": 20,
   "outputs": [],
   "source": [
    "dataset = JTVAEDataset(\"jtvae_dataset.smiles\", vocab=model.vocab, training=False)\n",
    "collator = JTVAECollator(training=False)\n",
    "dataloader = torch.utils.data.DataLoader(dataset, batch_size=1, shuffle=False, collate_fn=collator, drop_last=True)"
   ],
   "metadata": {
    "collapsed": false,
    "pycharm": {
     "name": "#%%\n"
    }
   }
  },
  {
   "cell_type": "code",
   "execution_count": 21,
   "outputs": [
    {
     "name": "stderr",
     "output_type": "stream",
     "text": [
      "100%|███████████████████████████████████████████████████████████████| 17869/17869 [50:15<00:00,  5.93it/s]\n"
     ]
    }
   ],
   "source": [
    "get_data = lambda idx: collator([dataset[idx]])\n",
    "errors = []\n",
    "smiles = []\n",
    "latents = []\n",
    "for i in tqdm(range(len(dataset))):\n",
    "    try:\n",
    "        _, batch_tree_graphs, batch_mol_graphs = get_data(i)\n",
    "        batch_tree_graphs = batch_tree_graphs.to(\"cuda\")\n",
    "        batch_mol_graphs = batch_mol_graphs.to(\"cuda\")\n",
    "        with torch.no_grad():\n",
    "            _, tree_vec, mol_vec = model.encode(batch_tree_graphs, batch_mol_graphs)\n",
    "        latent = torch.cat([model.T_mean(tree_vec), model.G_mean(mol_vec)], dim=1)\n",
    "        latents.append(latent)\n",
    "        smiles.append(dataset.data[i])\n",
    "    except Exception as e:\n",
    "        errors.append((dataset.data[i], e))"
   ],
   "metadata": {
    "collapsed": false,
    "pycharm": {
     "name": "#%%\n"
    }
   }
  },
  {
   "cell_type": "code",
   "execution_count": 22,
   "outputs": [
    {
     "data": {
      "text/plain": "[('Cl.[Li]', KeyError('x'))]"
     },
     "execution_count": 22,
     "metadata": {},
     "output_type": "execute_result"
    }
   ],
   "source": [
    "# There should only be one error, a Cl.[Li] molecule.\n",
    "errors"
   ],
   "metadata": {
    "collapsed": false,
    "pycharm": {
     "name": "#%%\n"
    }
   }
  },
  {
   "cell_type": "code",
   "execution_count": 26,
   "outputs": [],
   "source": [
    "# Add a dummy embedding for the Cl.[Li] molecule\n",
    "dummy_emb = torch.mean(torch.concat(latents), dim=0).unsqueeze(dim=0)\n",
    "assert dummy_emb.shape == latents[0].shape\n",
    "smiles.append(errors[0][0])\n",
    "latents.append(dummy_emb)\n",
    "assert len(latents) == len(smiles)"
   ],
   "metadata": {
    "collapsed": false,
    "pycharm": {
     "name": "#%%\n"
    }
   }
  },
  {
   "cell_type": "code",
   "execution_count": 27,
   "outputs": [],
   "source": [
    "np_latents = [latent.squeeze().cpu().detach().numpy() for latent in latents]\n",
    "final_df = pd.DataFrame(np_latents, index=smiles,\n",
    "                        columns=[f\"latent_{i + 1}\" for i in range(np_latents[0].shape[0])])\n",
    "final_df.to_parquet(\"data/jtvae_dgl.parquet\")"
   ],
   "metadata": {
    "collapsed": false,
    "pycharm": {
     "name": "#%%\n"
    }
   }
  },
  {
   "cell_type": "code",
   "execution_count": 25,
   "outputs": [
    {
     "data": {
      "text/plain": "                                                    latent_1   latent_2  \\\nC[C@H](NC(=O)/C(C#N)=C/c1cccc(Br)n1)c1ccccc1        1.429828 -12.035091   \nCc1cc(Nc2cc(CN3CCOCC3)c3nc(C)c(Cc4ccc(Cl)cc4F)n... -2.008734   3.468817   \nCc1cc(N2CCOCC2)cc2[nH]c(-c3c(NCC(O)c4cccc(Cl)c4...  0.886675   5.676350   \nCl.Cl.c1ccc([C@@H]2C[C@H]2NC2CCNCC2)cc1             5.945081   2.647774   \nO=C(c1ccc(/C=C/c2n[nH]c3ccccc23)cc1)N1CCNCC1       -1.057689   3.401932   \n...                                                      ...        ...   \nCc1cc(CS(=O)(=O)c2ccccc2)cc(OCc2ccc(CN3CCC[C@@H...  5.623644   5.570826   \nCN(C)CCOc1ccc(/C(=C(\\CCCl)c2ccccc2)c2ccccc2)cc1     1.209961  -2.287903   \nCC1(C)C=Cc2c(ccc3c2[N+]([O-])=C2C3=C[C@@]34NC(=...  2.400828  -7.876045   \nC[C@@H]1CC(=O)NN=C1c1ccc(N)c([N+](=O)[O-])c1        2.345975   2.942803   \nCl.[Li]                                             0.610973  -1.901525   \n\n                                                     latent_3  latent_4  \\\nC[C@H](NC(=O)/C(C#N)=C/c1cccc(Br)n1)c1ccccc1         0.489625  0.986142   \nCc1cc(Nc2cc(CN3CCOCC3)c3nc(C)c(Cc4ccc(Cl)cc4F)n...   5.856979 -7.614322   \nCc1cc(N2CCOCC2)cc2[nH]c(-c3c(NCC(O)c4cccc(Cl)c4...   7.658895 -0.507045   \nCl.Cl.c1ccc([C@@H]2C[C@H]2NC2CCNCC2)cc1             10.389327 -2.971686   \nO=C(c1ccc(/C=C/c2n[nH]c3ccccc23)cc1)N1CCNCC1         6.699368 -2.915870   \n...                                                       ...       ...   \nCc1cc(CS(=O)(=O)c2ccccc2)cc(OCc2ccc(CN3CCC[C@@H...   2.457215  6.833165   \nCN(C)CCOc1ccc(/C(=C(\\CCCl)c2ccccc2)c2ccccc2)cc1      1.391642  1.202353   \nCC1(C)C=Cc2c(ccc3c2[N+]([O-])=C2C3=C[C@@]34NC(=...  -1.187408  3.642219   \nC[C@@H]1CC(=O)NN=C1c1ccc(N)c([N+](=O)[O-])c1         2.595910  0.994162   \nCl.[Li]                                              4.863101  2.165408   \n\n                                                    latent_5  latent_6  \\\nC[C@H](NC(=O)/C(C#N)=C/c1cccc(Br)n1)c1ccccc1       -4.443451 -3.747700   \nCc1cc(Nc2cc(CN3CCOCC3)c3nc(C)c(Cc4ccc(Cl)cc4F)n... -0.542796  3.988372   \nCc1cc(N2CCOCC2)cc2[nH]c(-c3c(NCC(O)c4cccc(Cl)c4... -5.845931  3.011087   \nCl.Cl.c1ccc([C@@H]2C[C@H]2NC2CCNCC2)cc1            -6.238258 -0.583933   \nO=C(c1ccc(/C=C/c2n[nH]c3ccccc23)cc1)N1CCNCC1       -3.852238  1.118359   \n...                                                      ...       ...   \nCc1cc(CS(=O)(=O)c2ccccc2)cc(OCc2ccc(CN3CCC[C@@H... -5.539162 -0.434083   \nCN(C)CCOc1ccc(/C(=C(\\CCCl)c2ccccc2)c2ccccc2)cc1    -1.680503 -1.807198   \nCC1(C)C=Cc2c(ccc3c2[N+]([O-])=C2C3=C[C@@]34NC(=... -6.089412 -1.792802   \nC[C@@H]1CC(=O)NN=C1c1ccc(N)c([N+](=O)[O-])c1       -2.953399  5.007487   \nCl.[Li]                                            -1.099863 -0.715118   \n\n                                                    latent_7  latent_8  \\\nC[C@H](NC(=O)/C(C#N)=C/c1cccc(Br)n1)c1ccccc1       -1.329681  1.072835   \nCc1cc(Nc2cc(CN3CCOCC3)c3nc(C)c(Cc4ccc(Cl)cc4F)n...  2.222589  0.689923   \nCc1cc(N2CCOCC2)cc2[nH]c(-c3c(NCC(O)c4cccc(Cl)c4...  3.310966  4.373243   \nCl.Cl.c1ccc([C@@H]2C[C@H]2NC2CCNCC2)cc1             5.741209  1.338418   \nO=C(c1ccc(/C=C/c2n[nH]c3ccccc23)cc1)N1CCNCC1       -2.190202  0.448093   \n...                                                      ...       ...   \nCc1cc(CS(=O)(=O)c2ccccc2)cc(OCc2ccc(CN3CCC[C@@H... -1.206793  0.832395   \nCN(C)CCOc1ccc(/C(=C(\\CCCl)c2ccccc2)c2ccccc2)cc1     3.338384 -1.620294   \nCC1(C)C=Cc2c(ccc3c2[N+]([O-])=C2C3=C[C@@]34NC(=...  1.092967  7.154920   \nC[C@@H]1CC(=O)NN=C1c1ccc(N)c([N+](=O)[O-])c1        2.610762  5.818273   \nCl.[Li]                                             0.997590 -2.510160   \n\n                                                    latent_9  latent_10  ...  \\\nC[C@H](NC(=O)/C(C#N)=C/c1cccc(Br)n1)c1ccccc1        2.113698   2.438861  ...   \nCc1cc(Nc2cc(CN3CCOCC3)c3nc(C)c(Cc4ccc(Cl)cc4F)n... -0.130659  -0.419161  ...   \nCc1cc(N2CCOCC2)cc2[nH]c(-c3c(NCC(O)c4cccc(Cl)c4...  0.136572  -2.537051  ...   \nCl.Cl.c1ccc([C@@H]2C[C@H]2NC2CCNCC2)cc1            -2.780702   4.936309  ...   \nO=C(c1ccc(/C=C/c2n[nH]c3ccccc23)cc1)N1CCNCC1        0.951138   4.746724  ...   \n...                                                      ...        ...  ...   \nCc1cc(CS(=O)(=O)c2ccccc2)cc(OCc2ccc(CN3CCC[C@@H...  2.513798   4.813797  ...   \nCN(C)CCOc1ccc(/C(=C(\\CCCl)c2ccccc2)c2ccccc2)cc1     0.594872   1.918776  ...   \nCC1(C)C=Cc2c(ccc3c2[N+]([O-])=C2C3=C[C@@]34NC(=...  1.991817  -2.085588  ...   \nC[C@@H]1CC(=O)NN=C1c1ccc(N)c([N+](=O)[O-])c1        0.155535   1.398346  ...   \nCl.[Li]                                             3.191376   4.147055  ...   \n\n                                                    latent_47  latent_48  \\\nC[C@H](NC(=O)/C(C#N)=C/c1cccc(Br)n1)c1ccccc1         1.166213   0.537067   \nCc1cc(Nc2cc(CN3CCOCC3)c3nc(C)c(Cc4ccc(Cl)cc4F)n...  -0.374772   0.471480   \nCc1cc(N2CCOCC2)cc2[nH]c(-c3c(NCC(O)c4cccc(Cl)c4...  -0.512504   0.375018   \nCl.Cl.c1ccc([C@@H]2C[C@H]2NC2CCNCC2)cc1              0.550587   0.149925   \nO=C(c1ccc(/C=C/c2n[nH]c3ccccc23)cc1)N1CCNCC1         0.140141   0.321975   \n...                                                       ...        ...   \nCc1cc(CS(=O)(=O)c2ccccc2)cc(OCc2ccc(CN3CCC[C@@H...   0.528235   0.312193   \nCN(C)CCOc1ccc(/C(=C(\\CCCl)c2ccccc2)c2ccccc2)cc1      0.096867   0.254615   \nCC1(C)C=Cc2c(ccc3c2[N+]([O-])=C2C3=C[C@@]34NC(=...  -0.726810   0.372121   \nC[C@@H]1CC(=O)NN=C1c1ccc(N)c([N+](=O)[O-])c1        -0.226300   0.457870   \nCl.[Li]                                              0.367181   0.362557   \n\n                                                    latent_49  latent_50  \\\nC[C@H](NC(=O)/C(C#N)=C/c1cccc(Br)n1)c1ccccc1         0.384840  -0.623976   \nCc1cc(Nc2cc(CN3CCOCC3)c3nc(C)c(Cc4ccc(Cl)cc4F)n...   0.395210   0.181184   \nCc1cc(N2CCOCC2)cc2[nH]c(-c3c(NCC(O)c4cccc(Cl)c4...  -0.121645  -0.032188   \nCl.Cl.c1ccc([C@@H]2C[C@H]2NC2CCNCC2)cc1              0.061534  -0.301705   \nO=C(c1ccc(/C=C/c2n[nH]c3ccccc23)cc1)N1CCNCC1        -0.075490  -0.211345   \n...                                                       ...        ...   \nCc1cc(CS(=O)(=O)c2ccccc2)cc(OCc2ccc(CN3CCC[C@@H...  -0.696733  -0.232044   \nCN(C)CCOc1ccc(/C(=C(\\CCCl)c2ccccc2)c2ccccc2)cc1     -0.346058  -0.112815   \nCC1(C)C=Cc2c(ccc3c2[N+]([O-])=C2C3=C[C@@]34NC(=...   0.186016  -0.006123   \nC[C@@H]1CC(=O)NN=C1c1ccc(N)c([N+](=O)[O-])c1         0.546527  -0.094465   \nCl.[Li]                                              0.079625  -0.376402   \n\n                                                    latent_51  latent_52  \\\nC[C@H](NC(=O)/C(C#N)=C/c1cccc(Br)n1)c1ccccc1        -0.897625   0.084227   \nCc1cc(Nc2cc(CN3CCOCC3)c3nc(C)c(Cc4ccc(Cl)cc4F)n...   0.836576   0.055511   \nCc1cc(N2CCOCC2)cc2[nH]c(-c3c(NCC(O)c4cccc(Cl)c4...   1.316664  -0.518432   \nCl.Cl.c1ccc([C@@H]2C[C@H]2NC2CCNCC2)cc1             -0.490559   0.042261   \nO=C(c1ccc(/C=C/c2n[nH]c3ccccc23)cc1)N1CCNCC1        -0.456241   0.177017   \n...                                                       ...        ...   \nCc1cc(CS(=O)(=O)c2ccccc2)cc(OCc2ccc(CN3CCC[C@@H...  -0.237644   0.122018   \nCN(C)CCOc1ccc(/C(=C(\\CCCl)c2ccccc2)c2ccccc2)cc1     -0.661905   0.132621   \nCC1(C)C=Cc2c(ccc3c2[N+]([O-])=C2C3=C[C@@]34NC(=...   0.946836  -0.410416   \nC[C@@H]1CC(=O)NN=C1c1ccc(N)c([N+](=O)[O-])c1         1.204776  -0.509441   \nCl.[Li]                                             -0.078284  -0.079405   \n\n                                                    latent_53  latent_54  \\\nC[C@H](NC(=O)/C(C#N)=C/c1cccc(Br)n1)c1ccccc1        -0.209080   1.511904   \nCc1cc(Nc2cc(CN3CCOCC3)c3nc(C)c(Cc4ccc(Cl)cc4F)n...  -0.744534  -0.230085   \nCc1cc(N2CCOCC2)cc2[nH]c(-c3c(NCC(O)c4cccc(Cl)c4...  -0.309929  -1.380790   \nCl.Cl.c1ccc([C@@H]2C[C@H]2NC2CCNCC2)cc1              0.214776   0.919423   \nO=C(c1ccc(/C=C/c2n[nH]c3ccccc23)cc1)N1CCNCC1         0.354334   0.985909   \n...                                                       ...        ...   \nCc1cc(CS(=O)(=O)c2ccccc2)cc(OCc2ccc(CN3CCC[C@@H...  -0.500457   0.115442   \nCN(C)CCOc1ccc(/C(=C(\\CCCl)c2ccccc2)c2ccccc2)cc1      0.539877   1.072693   \nCC1(C)C=Cc2c(ccc3c2[N+]([O-])=C2C3=C[C@@]34NC(=...   0.034444  -0.738778   \nC[C@@H]1CC(=O)NN=C1c1ccc(N)c([N+](=O)[O-])c1         0.005396  -0.867492   \nCl.[Li]                                              0.037457   0.499329   \n\n                                                    latent_55  latent_56  \nC[C@H](NC(=O)/C(C#N)=C/c1cccc(Br)n1)c1ccccc1        -0.557535   1.185793  \nCc1cc(Nc2cc(CN3CCOCC3)c3nc(C)c(Cc4ccc(Cl)cc4F)n...  -0.297810   0.284168  \nCc1cc(N2CCOCC2)cc2[nH]c(-c3c(NCC(O)c4cccc(Cl)c4...  -0.265494  -0.245688  \nCl.Cl.c1ccc([C@@H]2C[C@H]2NC2CCNCC2)cc1             -0.135971   0.713558  \nO=C(c1ccc(/C=C/c2n[nH]c3ccccc23)cc1)N1CCNCC1         0.086379   0.727438  \n...                                                       ...        ...  \nCc1cc(CS(=O)(=O)c2ccccc2)cc(OCc2ccc(CN3CCC[C@@H...  -0.657997   0.737079  \nCN(C)CCOc1ccc(/C(=C(\\CCCl)c2ccccc2)c2ccccc2)cc1      0.103202   0.816531  \nCC1(C)C=Cc2c(ccc3c2[N+]([O-])=C2C3=C[C@@]34NC(=...   0.305928  -0.150375  \nC[C@@H]1CC(=O)NN=C1c1ccc(N)c([N+](=O)[O-])c1        -0.321617  -0.144999  \nCl.[Li]                                             -0.360662   0.693334  \n\n[17869 rows x 56 columns]",
      "text/html": "<div>\n<style scoped>\n    .dataframe tbody tr th:only-of-type {\n        vertical-align: middle;\n    }\n\n    .dataframe tbody tr th {\n        vertical-align: top;\n    }\n\n    .dataframe thead th {\n        text-align: right;\n    }\n</style>\n<table border=\"1\" class=\"dataframe\">\n  <thead>\n    <tr style=\"text-align: right;\">\n      <th></th>\n      <th>latent_1</th>\n      <th>latent_2</th>\n      <th>latent_3</th>\n      <th>latent_4</th>\n      <th>latent_5</th>\n      <th>latent_6</th>\n      <th>latent_7</th>\n      <th>latent_8</th>\n      <th>latent_9</th>\n      <th>latent_10</th>\n      <th>...</th>\n      <th>latent_47</th>\n      <th>latent_48</th>\n      <th>latent_49</th>\n      <th>latent_50</th>\n      <th>latent_51</th>\n      <th>latent_52</th>\n      <th>latent_53</th>\n      <th>latent_54</th>\n      <th>latent_55</th>\n      <th>latent_56</th>\n    </tr>\n  </thead>\n  <tbody>\n    <tr>\n      <th>C[C@H](NC(=O)/C(C#N)=C/c1cccc(Br)n1)c1ccccc1</th>\n      <td>1.429828</td>\n      <td>-12.035091</td>\n      <td>0.489625</td>\n      <td>0.986142</td>\n      <td>-4.443451</td>\n      <td>-3.747700</td>\n      <td>-1.329681</td>\n      <td>1.072835</td>\n      <td>2.113698</td>\n      <td>2.438861</td>\n      <td>...</td>\n      <td>1.166213</td>\n      <td>0.537067</td>\n      <td>0.384840</td>\n      <td>-0.623976</td>\n      <td>-0.897625</td>\n      <td>0.084227</td>\n      <td>-0.209080</td>\n      <td>1.511904</td>\n      <td>-0.557535</td>\n      <td>1.185793</td>\n    </tr>\n    <tr>\n      <th>Cc1cc(Nc2cc(CN3CCOCC3)c3nc(C)c(Cc4ccc(Cl)cc4F)n3n2)[nH]n1</th>\n      <td>-2.008734</td>\n      <td>3.468817</td>\n      <td>5.856979</td>\n      <td>-7.614322</td>\n      <td>-0.542796</td>\n      <td>3.988372</td>\n      <td>2.222589</td>\n      <td>0.689923</td>\n      <td>-0.130659</td>\n      <td>-0.419161</td>\n      <td>...</td>\n      <td>-0.374772</td>\n      <td>0.471480</td>\n      <td>0.395210</td>\n      <td>0.181184</td>\n      <td>0.836576</td>\n      <td>0.055511</td>\n      <td>-0.744534</td>\n      <td>-0.230085</td>\n      <td>-0.297810</td>\n      <td>0.284168</td>\n    </tr>\n    <tr>\n      <th>Cc1cc(N2CCOCC2)cc2[nH]c(-c3c(NCC(O)c4cccc(Cl)c4)cc[nH]c3=O)nc12</th>\n      <td>0.886675</td>\n      <td>5.676350</td>\n      <td>7.658895</td>\n      <td>-0.507045</td>\n      <td>-5.845931</td>\n      <td>3.011087</td>\n      <td>3.310966</td>\n      <td>4.373243</td>\n      <td>0.136572</td>\n      <td>-2.537051</td>\n      <td>...</td>\n      <td>-0.512504</td>\n      <td>0.375018</td>\n      <td>-0.121645</td>\n      <td>-0.032188</td>\n      <td>1.316664</td>\n      <td>-0.518432</td>\n      <td>-0.309929</td>\n      <td>-1.380790</td>\n      <td>-0.265494</td>\n      <td>-0.245688</td>\n    </tr>\n    <tr>\n      <th>Cl.Cl.c1ccc([C@@H]2C[C@H]2NC2CCNCC2)cc1</th>\n      <td>5.945081</td>\n      <td>2.647774</td>\n      <td>10.389327</td>\n      <td>-2.971686</td>\n      <td>-6.238258</td>\n      <td>-0.583933</td>\n      <td>5.741209</td>\n      <td>1.338418</td>\n      <td>-2.780702</td>\n      <td>4.936309</td>\n      <td>...</td>\n      <td>0.550587</td>\n      <td>0.149925</td>\n      <td>0.061534</td>\n      <td>-0.301705</td>\n      <td>-0.490559</td>\n      <td>0.042261</td>\n      <td>0.214776</td>\n      <td>0.919423</td>\n      <td>-0.135971</td>\n      <td>0.713558</td>\n    </tr>\n    <tr>\n      <th>O=C(c1ccc(/C=C/c2n[nH]c3ccccc23)cc1)N1CCNCC1</th>\n      <td>-1.057689</td>\n      <td>3.401932</td>\n      <td>6.699368</td>\n      <td>-2.915870</td>\n      <td>-3.852238</td>\n      <td>1.118359</td>\n      <td>-2.190202</td>\n      <td>0.448093</td>\n      <td>0.951138</td>\n      <td>4.746724</td>\n      <td>...</td>\n      <td>0.140141</td>\n      <td>0.321975</td>\n      <td>-0.075490</td>\n      <td>-0.211345</td>\n      <td>-0.456241</td>\n      <td>0.177017</td>\n      <td>0.354334</td>\n      <td>0.985909</td>\n      <td>0.086379</td>\n      <td>0.727438</td>\n    </tr>\n    <tr>\n      <th>...</th>\n      <td>...</td>\n      <td>...</td>\n      <td>...</td>\n      <td>...</td>\n      <td>...</td>\n      <td>...</td>\n      <td>...</td>\n      <td>...</td>\n      <td>...</td>\n      <td>...</td>\n      <td>...</td>\n      <td>...</td>\n      <td>...</td>\n      <td>...</td>\n      <td>...</td>\n      <td>...</td>\n      <td>...</td>\n      <td>...</td>\n      <td>...</td>\n      <td>...</td>\n      <td>...</td>\n    </tr>\n    <tr>\n      <th>Cc1cc(CS(=O)(=O)c2ccccc2)cc(OCc2ccc(CN3CCC[C@@H]3CO)cc2)c1</th>\n      <td>5.623644</td>\n      <td>5.570826</td>\n      <td>2.457215</td>\n      <td>6.833165</td>\n      <td>-5.539162</td>\n      <td>-0.434083</td>\n      <td>-1.206793</td>\n      <td>0.832395</td>\n      <td>2.513798</td>\n      <td>4.813797</td>\n      <td>...</td>\n      <td>0.528235</td>\n      <td>0.312193</td>\n      <td>-0.696733</td>\n      <td>-0.232044</td>\n      <td>-0.237644</td>\n      <td>0.122018</td>\n      <td>-0.500457</td>\n      <td>0.115442</td>\n      <td>-0.657997</td>\n      <td>0.737079</td>\n    </tr>\n    <tr>\n      <th>CN(C)CCOc1ccc(/C(=C(\\CCCl)c2ccccc2)c2ccccc2)cc1</th>\n      <td>1.209961</td>\n      <td>-2.287903</td>\n      <td>1.391642</td>\n      <td>1.202353</td>\n      <td>-1.680503</td>\n      <td>-1.807198</td>\n      <td>3.338384</td>\n      <td>-1.620294</td>\n      <td>0.594872</td>\n      <td>1.918776</td>\n      <td>...</td>\n      <td>0.096867</td>\n      <td>0.254615</td>\n      <td>-0.346058</td>\n      <td>-0.112815</td>\n      <td>-0.661905</td>\n      <td>0.132621</td>\n      <td>0.539877</td>\n      <td>1.072693</td>\n      <td>0.103202</td>\n      <td>0.816531</td>\n    </tr>\n    <tr>\n      <th>CC1(C)C=Cc2c(ccc3c2[N+]([O-])=C2C3=C[C@@]34NC(=O)[C@]5(CCCN5C3=O)C[C@H]4C2(C)C)O1</th>\n      <td>2.400828</td>\n      <td>-7.876045</td>\n      <td>-1.187408</td>\n      <td>3.642219</td>\n      <td>-6.089412</td>\n      <td>-1.792802</td>\n      <td>1.092967</td>\n      <td>7.154920</td>\n      <td>1.991817</td>\n      <td>-2.085588</td>\n      <td>...</td>\n      <td>-0.726810</td>\n      <td>0.372121</td>\n      <td>0.186016</td>\n      <td>-0.006123</td>\n      <td>0.946836</td>\n      <td>-0.410416</td>\n      <td>0.034444</td>\n      <td>-0.738778</td>\n      <td>0.305928</td>\n      <td>-0.150375</td>\n    </tr>\n    <tr>\n      <th>C[C@@H]1CC(=O)NN=C1c1ccc(N)c([N+](=O)[O-])c1</th>\n      <td>2.345975</td>\n      <td>2.942803</td>\n      <td>2.595910</td>\n      <td>0.994162</td>\n      <td>-2.953399</td>\n      <td>5.007487</td>\n      <td>2.610762</td>\n      <td>5.818273</td>\n      <td>0.155535</td>\n      <td>1.398346</td>\n      <td>...</td>\n      <td>-0.226300</td>\n      <td>0.457870</td>\n      <td>0.546527</td>\n      <td>-0.094465</td>\n      <td>1.204776</td>\n      <td>-0.509441</td>\n      <td>0.005396</td>\n      <td>-0.867492</td>\n      <td>-0.321617</td>\n      <td>-0.144999</td>\n    </tr>\n    <tr>\n      <th>Cl.[Li]</th>\n      <td>0.610973</td>\n      <td>-1.901525</td>\n      <td>4.863101</td>\n      <td>2.165408</td>\n      <td>-1.099863</td>\n      <td>-0.715118</td>\n      <td>0.997590</td>\n      <td>-2.510160</td>\n      <td>3.191376</td>\n      <td>4.147055</td>\n      <td>...</td>\n      <td>0.367181</td>\n      <td>0.362557</td>\n      <td>0.079625</td>\n      <td>-0.376402</td>\n      <td>-0.078284</td>\n      <td>-0.079405</td>\n      <td>0.037457</td>\n      <td>0.499329</td>\n      <td>-0.360662</td>\n      <td>0.693334</td>\n    </tr>\n  </tbody>\n</table>\n<p>17869 rows × 56 columns</p>\n</div>"
     },
     "execution_count": 25,
     "metadata": {},
     "output_type": "execute_result"
    }
   ],
   "source": [
    "final_df"
   ],
   "metadata": {
    "collapsed": false,
    "pycharm": {
     "name": "#%%\n"
    }
   }
  },
  {
   "cell_type": "code",
   "execution_count": 30,
   "outputs": [],
   "source": [
    "smiles = pd.read_csv(\"../lincs_trapnell.smiles\")\n",
    "smiles2 = final_df.index"
   ],
   "metadata": {
    "collapsed": false,
    "pycharm": {
     "name": "#%%\n"
    }
   }
  },
  {
   "cell_type": "code",
   "execution_count": 39,
   "outputs": [
    {
     "data": {
      "text/plain": "True"
     },
     "execution_count": 39,
     "metadata": {},
     "output_type": "execute_result"
    }
   ],
   "source": [
    "set(list(smiles[\"smiles\"])) == set(list(smiles2))"
   ],
   "metadata": {
    "collapsed": false,
    "pycharm": {
     "name": "#%%\n"
    }
   }
  }
 ],
 "metadata": {
  "kernelspec": {
   "display_name": "Python 3",
   "language": "python",
   "name": "python3"
  },
  "language_info": {
   "codemirror_mode": {
    "name": "ipython",
    "version": 2
   },
   "file_extension": ".py",
   "mimetype": "text/x-python",
   "name": "python",
   "nbconvert_exporter": "python",
   "pygments_lexer": "ipython2",
   "version": "2.7.6"
  }
 },
 "nbformat": 4,
 "nbformat_minor": 0
}