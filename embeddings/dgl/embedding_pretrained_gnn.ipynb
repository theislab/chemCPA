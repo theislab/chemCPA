{
 "cells": [
  {
   "cell_type": "markdown",
   "id": "fa137ded",
   "metadata": {},
   "source": [
    "## General imports"
   ]
  },
  {
   "cell_type": "code",
   "execution_count": 1,
   "id": "6c950b63",
   "metadata": {},
   "outputs": [],
   "source": [
    "import sys \n",
    "sys.path.insert(0, \"/\")  # this depends on the notebook depth and must be adapted per notebook\n",
    "from compert.paths import DATA_DIR, EMBEDDING_DIR"
   ]
  },
  {
   "cell_type": "code",
   "execution_count": 2,
   "id": "4643260d",
   "metadata": {},
   "outputs": [
    {
     "name": "stderr",
     "output_type": "stream",
     "text": [
      "Using backend: pytorch\n"
     ]
    }
   ],
   "source": [
    "import numpy as np\n",
    "from dgllife.utils import (\n",
    "    smiles_to_bigraph,\n",
    "    CanonicalAtomFeaturizer,\n",
    "    CanonicalBondFeaturizer)"
   ]
  },
  {
   "cell_type": "markdown",
   "id": "db8608d6",
   "metadata": {},
   "source": [
    "## Load Smiles list"
   ]
  },
  {
   "cell_type": "code",
   "execution_count": 3,
   "id": "db1601d1",
   "metadata": {},
   "outputs": [],
   "source": [
    "dataset_name = 'lincs_trapnell'"
   ]
  },
  {
   "cell_type": "code",
   "execution_count": 4,
   "id": "734a3db6",
   "metadata": {},
   "outputs": [],
   "source": [
    "import pandas as pd \n",
    "smiles_df = pd.read_csv(EMBEDDING_DIR / f'{dataset_name}.smiles')\n",
    "smiles_list = smiles_df['smiles'].values"
   ]
  },
  {
   "cell_type": "code",
   "execution_count": 5,
   "id": "653d99cf",
   "metadata": {},
   "outputs": [
    {
     "name": "stdout",
     "output_type": "stream",
     "text": [
      "Number of smiles strings: 17869\n"
     ]
    }
   ],
   "source": [
    "print(f'Number of smiles strings: {len(smiles_list)}')"
   ]
  },
  {
   "cell_type": "markdown",
   "id": "3f5c1e34",
   "metadata": {},
   "source": [
    "## Featurizer functions"
   ]
  },
  {
   "cell_type": "code",
   "execution_count": 6,
   "id": "103f5a18",
   "metadata": {},
   "outputs": [],
   "source": [
    "node_feats = CanonicalAtomFeaturizer(atom_data_field=\"h\")\n",
    "edge_feats = CanonicalBondFeaturizer(bond_data_field=\"h\", self_loop=True)"
   ]
  },
  {
   "cell_type": "markdown",
   "id": "a60feec5",
   "metadata": {},
   "source": [
    "## Create graphs from smiles and featurizers"
   ]
  },
  {
   "cell_type": "code",
   "execution_count": 7,
   "id": "45bdb04f",
   "metadata": {},
   "outputs": [],
   "source": [
    "mol_graphs = []\n",
    "\n",
    "for smiles in smiles_list: \n",
    "    mol_graphs.append(smiles_to_bigraph(\n",
    "        smiles=smiles,\n",
    "        add_self_loop=True,\n",
    "        node_featurizer=node_feats,\n",
    "        edge_featurizer=edge_feats,\n",
    "    ))"
   ]
  },
  {
   "cell_type": "code",
   "execution_count": 8,
   "id": "f436ed62",
   "metadata": {},
   "outputs": [
    {
     "name": "stdout",
     "output_type": "stream",
     "text": [
      "Number of molecular graphs: 17869\n"
     ]
    }
   ],
   "source": [
    "print(f'Number of molecular graphs: {len(mol_graphs)}')"
   ]
  },
  {
   "cell_type": "markdown",
   "id": "5e28898b",
   "metadata": {},
   "source": [
    "## Batch graphs "
   ]
  },
  {
   "cell_type": "code",
   "execution_count": 9,
   "id": "4bea7ab2",
   "metadata": {},
   "outputs": [],
   "source": [
    "import dgl\n",
    "\n",
    "mol_batch = dgl.batch(mol_graphs)"
   ]
  },
  {
   "cell_type": "code",
   "execution_count": 10,
   "id": "4561aee6",
   "metadata": {},
   "outputs": [
    {
     "data": {
      "text/plain": [
       "Graph(num_nodes=574049, num_edges=1822023,\n",
       "      ndata_schemes={'h': Scheme(shape=(74,), dtype=torch.float32)}\n",
       "      edata_schemes={'h': Scheme(shape=(13,), dtype=torch.float32)})"
      ]
     },
     "execution_count": 10,
     "metadata": {},
     "output_type": "execute_result"
    }
   ],
   "source": [
    "mol_batch"
   ]
  },
  {
   "cell_type": "markdown",
   "id": "98a572dd",
   "metadata": {},
   "source": [
    "## Load pretrained model"
   ]
  },
  {
   "cell_type": "markdown",
   "id": "9acba811",
   "metadata": {},
   "source": [
    "Choose a model form [here](https://lifesci.dgl.ai/api/model.pretrain.html)"
   ]
  },
  {
   "cell_type": "code",
   "execution_count": 43,
   "id": "625f53e7",
   "metadata": {},
   "outputs": [],
   "source": [
    "model_name = 'GCN_canonical_PCBA'\n",
    "# model_name = 'MPNN_canonical_PCBA'\n",
    "# model_name = 'AttentiveFP_canonical_PCBA'\n",
    "# model_name = 'Weave_canonical_PCBA'\n",
    "# model_name = 'GCN_Tox21'"
   ]
  },
  {
   "cell_type": "code",
   "execution_count": 44,
   "id": "9314f26a",
   "metadata": {},
   "outputs": [
    {
     "name": "stdout",
     "output_type": "stream",
     "text": [
      "Downloading GCN_canonical_PCBA_pre_trained.pth from https://data.dgl.ai/dgllife/pre_trained/gcn_canonical_pcba.pth...\n",
      "Pretrained model loaded\n",
      "GCNPredictor(\n",
      "  (gnn): GCN(\n",
      "    (gnn_layers): ModuleList(\n",
      "      (0): GCNLayer(\n",
      "        (graph_conv): GraphConv(in=74, out=128, normalization=none, activation=<function relu at 0x7f4dd90d9af0>)\n",
      "        (dropout): Dropout(p=0.053320999462421345, inplace=False)\n",
      "        (res_connection): Linear(in_features=74, out_features=128, bias=True)\n",
      "        (bn_layer): BatchNorm1d(128, eps=1e-05, momentum=0.1, affine=True, track_running_stats=True)\n",
      "      )\n",
      "      (1): GCNLayer(\n",
      "        (graph_conv): GraphConv(in=128, out=128, normalization=none, activation=<function relu at 0x7f4dd90d9af0>)\n",
      "        (dropout): Dropout(p=0.053320999462421345, inplace=False)\n",
      "        (res_connection): Linear(in_features=128, out_features=128, bias=True)\n",
      "        (bn_layer): BatchNorm1d(128, eps=1e-05, momentum=0.1, affine=True, track_running_stats=True)\n",
      "      )\n",
      "    )\n",
      "  )\n",
      "  (readout): WeightedSumAndMax(\n",
      "    (weight_and_sum): WeightAndSum(\n",
      "      (atom_weighting): Sequential(\n",
      "        (0): Linear(in_features=128, out_features=1, bias=True)\n",
      "        (1): Sigmoid()\n",
      "      )\n",
      "    )\n",
      "  )\n",
      "  (predict): MLPPredictor(\n",
      "    (predict): Sequential(\n",
      "      (0): Dropout(p=0.053320999462421345, inplace=False)\n",
      "      (1): Linear(in_features=256, out_features=1024, bias=True)\n",
      "      (2): ReLU()\n",
      "      (3): BatchNorm1d(1024, eps=1e-05, momentum=0.1, affine=True, track_running_stats=True)\n",
      "      (4): Linear(in_features=1024, out_features=128, bias=True)\n",
      "    )\n",
      "  )\n",
      ")\n"
     ]
    }
   ],
   "source": [
    "from dgllife.model import load_pretrained\n",
    "\n",
    "model = load_pretrained(model_name)\n",
    "\n",
    "verbose=True\n",
    "if verbose: \n",
    "    print(model)"
   ]
  },
  {
   "cell_type": "markdown",
   "id": "6900f789",
   "metadata": {},
   "source": [
    "## Predict with pretrained model"
   ]
  },
  {
   "cell_type": "markdown",
   "id": "8fe759a9",
   "metadata": {},
   "source": [
    "### Take readout, just before prediction"
   ]
  },
  {
   "cell_type": "code",
   "execution_count": 45,
   "id": "866d1629",
   "metadata": {},
   "outputs": [
    {
     "name": "stdout",
     "output_type": "stream",
     "text": [
      "Prediction has shape: torch.Size([17869, 128])\n"
     ]
    },
    {
     "data": {
      "text/plain": [
       "tensor([[-1.9630, -5.2341, -4.9118,  ..., -6.0810, -3.7350, -5.7398],\n",
       "        [-2.2777, -6.7303, -6.1323,  ..., -7.0724, -3.5493, -4.8586],\n",
       "        [-2.1973, -6.4143, -5.9238,  ..., -6.7537, -3.0742, -4.7682],\n",
       "        ...,\n",
       "        [-2.5118, -5.1911, -5.3535,  ..., -5.5674, -2.7374, -2.5923],\n",
       "        [-1.0887, -6.3505, -4.9517,  ..., -5.8830, -2.2948, -4.5158],\n",
       "        [-1.8794, -5.3414, -5.0257,  ..., -6.3407, -4.0928, -6.3649]],\n",
       "       grad_fn=<AddmmBackward>)"
      ]
     },
     "execution_count": 45,
     "metadata": {},
     "output_type": "execute_result"
    }
   ],
   "source": [
    "model.eval()\n",
    "# no edge features \n",
    "prediction = model(mol_batch, mol_batch.ndata['h'])\n",
    "# # with edge features \n",
    "# prediction = model(mol_batch, mol_batch.ndata['h'], mol_batch.edata['h'])\n",
    "print(f'Prediction has shape: {prediction.shape}')\n",
    "prediction"
   ]
  },
  {
   "cell_type": "markdown",
   "id": "cf768d83",
   "metadata": {},
   "source": [
    "## Save"
   ]
  },
  {
   "cell_type": "code",
   "execution_count": 46,
   "id": "a6291a01",
   "metadata": {},
   "outputs": [],
   "source": [
    "import pandas as pd\n",
    "df = pd.DataFrame(data=prediction.detach().numpy(),index=smiles_list,columns=[f'latent_{i+1}' for i in range(prediction.size()[1])]) "
   ]
  },
  {
   "cell_type": "code",
   "execution_count": 47,
   "id": "39bfb2ce",
   "metadata": {},
   "outputs": [],
   "source": [
    "import os \n",
    "\n",
    "fname = f'{model_name}_embedding_{dataset_name}.parquet'\n",
    "\n",
    "directory = EMBEDDING_DIR /'dgl' / 'data' /'embeddings'\n",
    "if not directory.exists(): \n",
    "    os.makedirs(directory)\n",
    "    print(f\"Created folder: {directory}\")\n",
    "\n",
    "df.to_parquet(directory / fname)"
   ]
  },
  {
   "cell_type": "markdown",
   "id": "85180ed5",
   "metadata": {},
   "source": [
    "Check that it worked"
   ]
  },
  {
   "cell_type": "code",
   "execution_count": 48,
   "id": "9620dae5",
   "metadata": {},
   "outputs": [
    {
     "data": {
      "text/html": [
       "<div>\n",
       "<style scoped>\n",
       "    .dataframe tbody tr th:only-of-type {\n",
       "        vertical-align: middle;\n",
       "    }\n",
       "\n",
       "    .dataframe tbody tr th {\n",
       "        vertical-align: top;\n",
       "    }\n",
       "\n",
       "    .dataframe thead th {\n",
       "        text-align: right;\n",
       "    }\n",
       "</style>\n",
       "<table border=\"1\" class=\"dataframe\">\n",
       "  <thead>\n",
       "    <tr style=\"text-align: right;\">\n",
       "      <th></th>\n",
       "      <th>latent_1</th>\n",
       "      <th>latent_2</th>\n",
       "      <th>latent_3</th>\n",
       "      <th>latent_4</th>\n",
       "      <th>latent_5</th>\n",
       "      <th>latent_6</th>\n",
       "      <th>latent_7</th>\n",
       "      <th>latent_8</th>\n",
       "      <th>latent_9</th>\n",
       "      <th>latent_10</th>\n",
       "      <th>...</th>\n",
       "      <th>latent_119</th>\n",
       "      <th>latent_120</th>\n",
       "      <th>latent_121</th>\n",
       "      <th>latent_122</th>\n",
       "      <th>latent_123</th>\n",
       "      <th>latent_124</th>\n",
       "      <th>latent_125</th>\n",
       "      <th>latent_126</th>\n",
       "      <th>latent_127</th>\n",
       "      <th>latent_128</th>\n",
       "    </tr>\n",
       "  </thead>\n",
       "  <tbody>\n",
       "    <tr>\n",
       "      <th>C[C@H](NC(=O)/C(C#N)=C/c1cccc(Br)n1)c1ccccc1</th>\n",
       "      <td>-1.963028</td>\n",
       "      <td>-5.234110</td>\n",
       "      <td>-4.911811</td>\n",
       "      <td>-5.473712</td>\n",
       "      <td>-7.534226</td>\n",
       "      <td>-3.644610</td>\n",
       "      <td>-3.818825</td>\n",
       "      <td>-6.634154</td>\n",
       "      <td>-5.056901</td>\n",
       "      <td>-6.984773</td>\n",
       "      <td>...</td>\n",
       "      <td>-3.967899</td>\n",
       "      <td>-6.027374</td>\n",
       "      <td>-1.986228</td>\n",
       "      <td>-0.854913</td>\n",
       "      <td>-6.273271</td>\n",
       "      <td>-5.420784</td>\n",
       "      <td>-4.036238</td>\n",
       "      <td>-6.080980</td>\n",
       "      <td>-3.734994</td>\n",
       "      <td>-5.739766</td>\n",
       "    </tr>\n",
       "    <tr>\n",
       "      <th>Cc1cc(Nc2cc(CN3CCOCC3)c3nc(C)c(Cc4ccc(Cl)cc4F)n3n2)[nH]n1</th>\n",
       "      <td>-2.277695</td>\n",
       "      <td>-6.730335</td>\n",
       "      <td>-6.132312</td>\n",
       "      <td>-6.088162</td>\n",
       "      <td>-8.523118</td>\n",
       "      <td>-6.373206</td>\n",
       "      <td>-5.031052</td>\n",
       "      <td>-6.659109</td>\n",
       "      <td>-5.574930</td>\n",
       "      <td>-8.196580</td>\n",
       "      <td>...</td>\n",
       "      <td>-5.501211</td>\n",
       "      <td>-6.164582</td>\n",
       "      <td>-1.545218</td>\n",
       "      <td>-1.289767</td>\n",
       "      <td>-8.601374</td>\n",
       "      <td>-6.177891</td>\n",
       "      <td>-3.907634</td>\n",
       "      <td>-7.072416</td>\n",
       "      <td>-3.549279</td>\n",
       "      <td>-4.858633</td>\n",
       "    </tr>\n",
       "    <tr>\n",
       "      <th>Cc1cc(N2CCOCC2)cc2[nH]c(-c3c(NCC(O)c4cccc(Cl)c4)cc[nH]c3=O)nc12</th>\n",
       "      <td>-2.197271</td>\n",
       "      <td>-6.414289</td>\n",
       "      <td>-5.923784</td>\n",
       "      <td>-5.658588</td>\n",
       "      <td>-8.051690</td>\n",
       "      <td>-5.850062</td>\n",
       "      <td>-4.908119</td>\n",
       "      <td>-6.203526</td>\n",
       "      <td>-5.164637</td>\n",
       "      <td>-7.895138</td>\n",
       "      <td>...</td>\n",
       "      <td>-5.147470</td>\n",
       "      <td>-5.771419</td>\n",
       "      <td>-1.500738</td>\n",
       "      <td>-1.163054</td>\n",
       "      <td>-8.232834</td>\n",
       "      <td>-5.853126</td>\n",
       "      <td>-3.729787</td>\n",
       "      <td>-6.753736</td>\n",
       "      <td>-3.074219</td>\n",
       "      <td>-4.768165</td>\n",
       "    </tr>\n",
       "    <tr>\n",
       "      <th>Cl.Cl.c1ccc([C@@H]2C[C@H]2NC2CCNCC2)cc1</th>\n",
       "      <td>-2.634433</td>\n",
       "      <td>-5.812743</td>\n",
       "      <td>-5.727026</td>\n",
       "      <td>-6.064070</td>\n",
       "      <td>-8.413697</td>\n",
       "      <td>-5.238608</td>\n",
       "      <td>-4.935480</td>\n",
       "      <td>-7.220577</td>\n",
       "      <td>-5.669816</td>\n",
       "      <td>-7.415796</td>\n",
       "      <td>...</td>\n",
       "      <td>-4.581165</td>\n",
       "      <td>-6.764301</td>\n",
       "      <td>-2.460679</td>\n",
       "      <td>-0.707918</td>\n",
       "      <td>-7.418577</td>\n",
       "      <td>-6.131401</td>\n",
       "      <td>-4.327480</td>\n",
       "      <td>-6.822812</td>\n",
       "      <td>-4.405416</td>\n",
       "      <td>-5.821548</td>\n",
       "    </tr>\n",
       "    <tr>\n",
       "      <th>O=C(c1ccc(/C=C/c2n[nH]c3ccccc23)cc1)N1CCNCC1</th>\n",
       "      <td>-2.255028</td>\n",
       "      <td>-5.005852</td>\n",
       "      <td>-5.194728</td>\n",
       "      <td>-5.342830</td>\n",
       "      <td>-7.475539</td>\n",
       "      <td>-3.844177</td>\n",
       "      <td>-3.387102</td>\n",
       "      <td>-6.491154</td>\n",
       "      <td>-4.582006</td>\n",
       "      <td>-7.000909</td>\n",
       "      <td>...</td>\n",
       "      <td>-3.849707</td>\n",
       "      <td>-4.934171</td>\n",
       "      <td>-2.056653</td>\n",
       "      <td>-1.352311</td>\n",
       "      <td>-6.772676</td>\n",
       "      <td>-5.288044</td>\n",
       "      <td>-3.925443</td>\n",
       "      <td>-5.785974</td>\n",
       "      <td>-3.527073</td>\n",
       "      <td>-4.024390</td>\n",
       "    </tr>\n",
       "    <tr>\n",
       "      <th>...</th>\n",
       "      <td>...</td>\n",
       "      <td>...</td>\n",
       "      <td>...</td>\n",
       "      <td>...</td>\n",
       "      <td>...</td>\n",
       "      <td>...</td>\n",
       "      <td>...</td>\n",
       "      <td>...</td>\n",
       "      <td>...</td>\n",
       "      <td>...</td>\n",
       "      <td>...</td>\n",
       "      <td>...</td>\n",
       "      <td>...</td>\n",
       "      <td>...</td>\n",
       "      <td>...</td>\n",
       "      <td>...</td>\n",
       "      <td>...</td>\n",
       "      <td>...</td>\n",
       "      <td>...</td>\n",
       "      <td>...</td>\n",
       "      <td>...</td>\n",
       "    </tr>\n",
       "    <tr>\n",
       "      <th>CCCC(=O)Nc1ccc2c(c1)C(=O)N(C)C[C@H](OC)[C@@H](C)CN(Cc1ccc(-c3ccccn3)cc1)[C@@H](C)CO2</th>\n",
       "      <td>-2.022467</td>\n",
       "      <td>-6.688183</td>\n",
       "      <td>-5.659212</td>\n",
       "      <td>-4.920155</td>\n",
       "      <td>-7.623466</td>\n",
       "      <td>-6.563124</td>\n",
       "      <td>-4.908202</td>\n",
       "      <td>-5.021143</td>\n",
       "      <td>-4.856961</td>\n",
       "      <td>-7.617170</td>\n",
       "      <td>...</td>\n",
       "      <td>-5.138133</td>\n",
       "      <td>-5.191879</td>\n",
       "      <td>-1.824486</td>\n",
       "      <td>-0.699281</td>\n",
       "      <td>-8.474396</td>\n",
       "      <td>-5.554111</td>\n",
       "      <td>-3.387792</td>\n",
       "      <td>-6.549770</td>\n",
       "      <td>-2.369574</td>\n",
       "      <td>-4.105406</td>\n",
       "    </tr>\n",
       "    <tr>\n",
       "      <th>Cc1cc(CS(=O)(=O)c2ccccc2)cc(OCc2ccc(CN3CCC[C@@H]3CO)cc2)c1</th>\n",
       "      <td>-2.250377</td>\n",
       "      <td>-6.373003</td>\n",
       "      <td>-5.865250</td>\n",
       "      <td>-5.382934</td>\n",
       "      <td>-7.931846</td>\n",
       "      <td>-5.927632</td>\n",
       "      <td>-5.072748</td>\n",
       "      <td>-5.825402</td>\n",
       "      <td>-5.054090</td>\n",
       "      <td>-7.731327</td>\n",
       "      <td>...</td>\n",
       "      <td>-4.820147</td>\n",
       "      <td>-5.371975</td>\n",
       "      <td>-1.955942</td>\n",
       "      <td>-1.158019</td>\n",
       "      <td>-8.347329</td>\n",
       "      <td>-5.745896</td>\n",
       "      <td>-3.668715</td>\n",
       "      <td>-6.515472</td>\n",
       "      <td>-2.881742</td>\n",
       "      <td>-4.178917</td>\n",
       "    </tr>\n",
       "    <tr>\n",
       "      <th>CN(C)CCOc1ccc(/C(=C(\\CCCl)c2ccccc2)c2ccccc2)cc1</th>\n",
       "      <td>-2.511837</td>\n",
       "      <td>-5.191076</td>\n",
       "      <td>-5.353533</td>\n",
       "      <td>-4.976253</td>\n",
       "      <td>-7.390970</td>\n",
       "      <td>-4.114701</td>\n",
       "      <td>-4.154357</td>\n",
       "      <td>-5.871979</td>\n",
       "      <td>-4.368958</td>\n",
       "      <td>-7.211859</td>\n",
       "      <td>...</td>\n",
       "      <td>-3.795351</td>\n",
       "      <td>-3.883182</td>\n",
       "      <td>-2.260992</td>\n",
       "      <td>-1.867181</td>\n",
       "      <td>-7.532574</td>\n",
       "      <td>-5.170040</td>\n",
       "      <td>-3.710196</td>\n",
       "      <td>-5.567438</td>\n",
       "      <td>-2.737440</td>\n",
       "      <td>-2.592287</td>\n",
       "    </tr>\n",
       "    <tr>\n",
       "      <th>CC1(C)C=Cc2c(ccc3c2[N+]([O-])=C2C3=C[C@@]34NC(=O)[C@]5(CCCN5C3=O)C[C@H]4C2(C)C)O1</th>\n",
       "      <td>-1.088698</td>\n",
       "      <td>-6.350516</td>\n",
       "      <td>-4.951694</td>\n",
       "      <td>-4.444723</td>\n",
       "      <td>-6.811122</td>\n",
       "      <td>-6.434884</td>\n",
       "      <td>-3.217741</td>\n",
       "      <td>-4.498516</td>\n",
       "      <td>-4.340159</td>\n",
       "      <td>-6.513362</td>\n",
       "      <td>...</td>\n",
       "      <td>-4.841718</td>\n",
       "      <td>-5.208997</td>\n",
       "      <td>-2.125300</td>\n",
       "      <td>-0.060484</td>\n",
       "      <td>-7.615060</td>\n",
       "      <td>-4.965421</td>\n",
       "      <td>-3.137559</td>\n",
       "      <td>-5.883044</td>\n",
       "      <td>-2.294752</td>\n",
       "      <td>-4.515803</td>\n",
       "    </tr>\n",
       "    <tr>\n",
       "      <th>C[C@@H]1CC(=O)NN=C1c1ccc(N)c([N+](=O)[O-])c1</th>\n",
       "      <td>-1.879355</td>\n",
       "      <td>-5.341435</td>\n",
       "      <td>-5.025721</td>\n",
       "      <td>-5.807435</td>\n",
       "      <td>-7.771827</td>\n",
       "      <td>-4.068458</td>\n",
       "      <td>-3.597576</td>\n",
       "      <td>-7.038819</td>\n",
       "      <td>-5.282228</td>\n",
       "      <td>-6.953551</td>\n",
       "      <td>...</td>\n",
       "      <td>-4.268367</td>\n",
       "      <td>-6.616992</td>\n",
       "      <td>-2.079083</td>\n",
       "      <td>-0.564124</td>\n",
       "      <td>-6.238947</td>\n",
       "      <td>-5.601923</td>\n",
       "      <td>-4.123129</td>\n",
       "      <td>-6.340687</td>\n",
       "      <td>-4.092788</td>\n",
       "      <td>-6.364869</td>\n",
       "    </tr>\n",
       "  </tbody>\n",
       "</table>\n",
       "<p>17869 rows × 128 columns</p>\n",
       "</div>"
      ],
      "text/plain": [
       "                                                    latent_1  latent_2  \\\n",
       "C[C@H](NC(=O)/C(C#N)=C/c1cccc(Br)n1)c1ccccc1       -1.963028 -5.234110   \n",
       "Cc1cc(Nc2cc(CN3CCOCC3)c3nc(C)c(Cc4ccc(Cl)cc4F)n... -2.277695 -6.730335   \n",
       "Cc1cc(N2CCOCC2)cc2[nH]c(-c3c(NCC(O)c4cccc(Cl)c4... -2.197271 -6.414289   \n",
       "Cl.Cl.c1ccc([C@@H]2C[C@H]2NC2CCNCC2)cc1            -2.634433 -5.812743   \n",
       "O=C(c1ccc(/C=C/c2n[nH]c3ccccc23)cc1)N1CCNCC1       -2.255028 -5.005852   \n",
       "...                                                      ...       ...   \n",
       "CCCC(=O)Nc1ccc2c(c1)C(=O)N(C)C[C@H](OC)[C@@H](C... -2.022467 -6.688183   \n",
       "Cc1cc(CS(=O)(=O)c2ccccc2)cc(OCc2ccc(CN3CCC[C@@H... -2.250377 -6.373003   \n",
       "CN(C)CCOc1ccc(/C(=C(\\CCCl)c2ccccc2)c2ccccc2)cc1    -2.511837 -5.191076   \n",
       "CC1(C)C=Cc2c(ccc3c2[N+]([O-])=C2C3=C[C@@]34NC(=... -1.088698 -6.350516   \n",
       "C[C@@H]1CC(=O)NN=C1c1ccc(N)c([N+](=O)[O-])c1       -1.879355 -5.341435   \n",
       "\n",
       "                                                    latent_3  latent_4  \\\n",
       "C[C@H](NC(=O)/C(C#N)=C/c1cccc(Br)n1)c1ccccc1       -4.911811 -5.473712   \n",
       "Cc1cc(Nc2cc(CN3CCOCC3)c3nc(C)c(Cc4ccc(Cl)cc4F)n... -6.132312 -6.088162   \n",
       "Cc1cc(N2CCOCC2)cc2[nH]c(-c3c(NCC(O)c4cccc(Cl)c4... -5.923784 -5.658588   \n",
       "Cl.Cl.c1ccc([C@@H]2C[C@H]2NC2CCNCC2)cc1            -5.727026 -6.064070   \n",
       "O=C(c1ccc(/C=C/c2n[nH]c3ccccc23)cc1)N1CCNCC1       -5.194728 -5.342830   \n",
       "...                                                      ...       ...   \n",
       "CCCC(=O)Nc1ccc2c(c1)C(=O)N(C)C[C@H](OC)[C@@H](C... -5.659212 -4.920155   \n",
       "Cc1cc(CS(=O)(=O)c2ccccc2)cc(OCc2ccc(CN3CCC[C@@H... -5.865250 -5.382934   \n",
       "CN(C)CCOc1ccc(/C(=C(\\CCCl)c2ccccc2)c2ccccc2)cc1    -5.353533 -4.976253   \n",
       "CC1(C)C=Cc2c(ccc3c2[N+]([O-])=C2C3=C[C@@]34NC(=... -4.951694 -4.444723   \n",
       "C[C@@H]1CC(=O)NN=C1c1ccc(N)c([N+](=O)[O-])c1       -5.025721 -5.807435   \n",
       "\n",
       "                                                    latent_5  latent_6  \\\n",
       "C[C@H](NC(=O)/C(C#N)=C/c1cccc(Br)n1)c1ccccc1       -7.534226 -3.644610   \n",
       "Cc1cc(Nc2cc(CN3CCOCC3)c3nc(C)c(Cc4ccc(Cl)cc4F)n... -8.523118 -6.373206   \n",
       "Cc1cc(N2CCOCC2)cc2[nH]c(-c3c(NCC(O)c4cccc(Cl)c4... -8.051690 -5.850062   \n",
       "Cl.Cl.c1ccc([C@@H]2C[C@H]2NC2CCNCC2)cc1            -8.413697 -5.238608   \n",
       "O=C(c1ccc(/C=C/c2n[nH]c3ccccc23)cc1)N1CCNCC1       -7.475539 -3.844177   \n",
       "...                                                      ...       ...   \n",
       "CCCC(=O)Nc1ccc2c(c1)C(=O)N(C)C[C@H](OC)[C@@H](C... -7.623466 -6.563124   \n",
       "Cc1cc(CS(=O)(=O)c2ccccc2)cc(OCc2ccc(CN3CCC[C@@H... -7.931846 -5.927632   \n",
       "CN(C)CCOc1ccc(/C(=C(\\CCCl)c2ccccc2)c2ccccc2)cc1    -7.390970 -4.114701   \n",
       "CC1(C)C=Cc2c(ccc3c2[N+]([O-])=C2C3=C[C@@]34NC(=... -6.811122 -6.434884   \n",
       "C[C@@H]1CC(=O)NN=C1c1ccc(N)c([N+](=O)[O-])c1       -7.771827 -4.068458   \n",
       "\n",
       "                                                    latent_7  latent_8  \\\n",
       "C[C@H](NC(=O)/C(C#N)=C/c1cccc(Br)n1)c1ccccc1       -3.818825 -6.634154   \n",
       "Cc1cc(Nc2cc(CN3CCOCC3)c3nc(C)c(Cc4ccc(Cl)cc4F)n... -5.031052 -6.659109   \n",
       "Cc1cc(N2CCOCC2)cc2[nH]c(-c3c(NCC(O)c4cccc(Cl)c4... -4.908119 -6.203526   \n",
       "Cl.Cl.c1ccc([C@@H]2C[C@H]2NC2CCNCC2)cc1            -4.935480 -7.220577   \n",
       "O=C(c1ccc(/C=C/c2n[nH]c3ccccc23)cc1)N1CCNCC1       -3.387102 -6.491154   \n",
       "...                                                      ...       ...   \n",
       "CCCC(=O)Nc1ccc2c(c1)C(=O)N(C)C[C@H](OC)[C@@H](C... -4.908202 -5.021143   \n",
       "Cc1cc(CS(=O)(=O)c2ccccc2)cc(OCc2ccc(CN3CCC[C@@H... -5.072748 -5.825402   \n",
       "CN(C)CCOc1ccc(/C(=C(\\CCCl)c2ccccc2)c2ccccc2)cc1    -4.154357 -5.871979   \n",
       "CC1(C)C=Cc2c(ccc3c2[N+]([O-])=C2C3=C[C@@]34NC(=... -3.217741 -4.498516   \n",
       "C[C@@H]1CC(=O)NN=C1c1ccc(N)c([N+](=O)[O-])c1       -3.597576 -7.038819   \n",
       "\n",
       "                                                    latent_9  latent_10  ...  \\\n",
       "C[C@H](NC(=O)/C(C#N)=C/c1cccc(Br)n1)c1ccccc1       -5.056901  -6.984773  ...   \n",
       "Cc1cc(Nc2cc(CN3CCOCC3)c3nc(C)c(Cc4ccc(Cl)cc4F)n... -5.574930  -8.196580  ...   \n",
       "Cc1cc(N2CCOCC2)cc2[nH]c(-c3c(NCC(O)c4cccc(Cl)c4... -5.164637  -7.895138  ...   \n",
       "Cl.Cl.c1ccc([C@@H]2C[C@H]2NC2CCNCC2)cc1            -5.669816  -7.415796  ...   \n",
       "O=C(c1ccc(/C=C/c2n[nH]c3ccccc23)cc1)N1CCNCC1       -4.582006  -7.000909  ...   \n",
       "...                                                      ...        ...  ...   \n",
       "CCCC(=O)Nc1ccc2c(c1)C(=O)N(C)C[C@H](OC)[C@@H](C... -4.856961  -7.617170  ...   \n",
       "Cc1cc(CS(=O)(=O)c2ccccc2)cc(OCc2ccc(CN3CCC[C@@H... -5.054090  -7.731327  ...   \n",
       "CN(C)CCOc1ccc(/C(=C(\\CCCl)c2ccccc2)c2ccccc2)cc1    -4.368958  -7.211859  ...   \n",
       "CC1(C)C=Cc2c(ccc3c2[N+]([O-])=C2C3=C[C@@]34NC(=... -4.340159  -6.513362  ...   \n",
       "C[C@@H]1CC(=O)NN=C1c1ccc(N)c([N+](=O)[O-])c1       -5.282228  -6.953551  ...   \n",
       "\n",
       "                                                    latent_119  latent_120  \\\n",
       "C[C@H](NC(=O)/C(C#N)=C/c1cccc(Br)n1)c1ccccc1         -3.967899   -6.027374   \n",
       "Cc1cc(Nc2cc(CN3CCOCC3)c3nc(C)c(Cc4ccc(Cl)cc4F)n...   -5.501211   -6.164582   \n",
       "Cc1cc(N2CCOCC2)cc2[nH]c(-c3c(NCC(O)c4cccc(Cl)c4...   -5.147470   -5.771419   \n",
       "Cl.Cl.c1ccc([C@@H]2C[C@H]2NC2CCNCC2)cc1              -4.581165   -6.764301   \n",
       "O=C(c1ccc(/C=C/c2n[nH]c3ccccc23)cc1)N1CCNCC1         -3.849707   -4.934171   \n",
       "...                                                        ...         ...   \n",
       "CCCC(=O)Nc1ccc2c(c1)C(=O)N(C)C[C@H](OC)[C@@H](C...   -5.138133   -5.191879   \n",
       "Cc1cc(CS(=O)(=O)c2ccccc2)cc(OCc2ccc(CN3CCC[C@@H...   -4.820147   -5.371975   \n",
       "CN(C)CCOc1ccc(/C(=C(\\CCCl)c2ccccc2)c2ccccc2)cc1      -3.795351   -3.883182   \n",
       "CC1(C)C=Cc2c(ccc3c2[N+]([O-])=C2C3=C[C@@]34NC(=...   -4.841718   -5.208997   \n",
       "C[C@@H]1CC(=O)NN=C1c1ccc(N)c([N+](=O)[O-])c1         -4.268367   -6.616992   \n",
       "\n",
       "                                                    latent_121  latent_122  \\\n",
       "C[C@H](NC(=O)/C(C#N)=C/c1cccc(Br)n1)c1ccccc1         -1.986228   -0.854913   \n",
       "Cc1cc(Nc2cc(CN3CCOCC3)c3nc(C)c(Cc4ccc(Cl)cc4F)n...   -1.545218   -1.289767   \n",
       "Cc1cc(N2CCOCC2)cc2[nH]c(-c3c(NCC(O)c4cccc(Cl)c4...   -1.500738   -1.163054   \n",
       "Cl.Cl.c1ccc([C@@H]2C[C@H]2NC2CCNCC2)cc1              -2.460679   -0.707918   \n",
       "O=C(c1ccc(/C=C/c2n[nH]c3ccccc23)cc1)N1CCNCC1         -2.056653   -1.352311   \n",
       "...                                                        ...         ...   \n",
       "CCCC(=O)Nc1ccc2c(c1)C(=O)N(C)C[C@H](OC)[C@@H](C...   -1.824486   -0.699281   \n",
       "Cc1cc(CS(=O)(=O)c2ccccc2)cc(OCc2ccc(CN3CCC[C@@H...   -1.955942   -1.158019   \n",
       "CN(C)CCOc1ccc(/C(=C(\\CCCl)c2ccccc2)c2ccccc2)cc1      -2.260992   -1.867181   \n",
       "CC1(C)C=Cc2c(ccc3c2[N+]([O-])=C2C3=C[C@@]34NC(=...   -2.125300   -0.060484   \n",
       "C[C@@H]1CC(=O)NN=C1c1ccc(N)c([N+](=O)[O-])c1         -2.079083   -0.564124   \n",
       "\n",
       "                                                    latent_123  latent_124  \\\n",
       "C[C@H](NC(=O)/C(C#N)=C/c1cccc(Br)n1)c1ccccc1         -6.273271   -5.420784   \n",
       "Cc1cc(Nc2cc(CN3CCOCC3)c3nc(C)c(Cc4ccc(Cl)cc4F)n...   -8.601374   -6.177891   \n",
       "Cc1cc(N2CCOCC2)cc2[nH]c(-c3c(NCC(O)c4cccc(Cl)c4...   -8.232834   -5.853126   \n",
       "Cl.Cl.c1ccc([C@@H]2C[C@H]2NC2CCNCC2)cc1              -7.418577   -6.131401   \n",
       "O=C(c1ccc(/C=C/c2n[nH]c3ccccc23)cc1)N1CCNCC1         -6.772676   -5.288044   \n",
       "...                                                        ...         ...   \n",
       "CCCC(=O)Nc1ccc2c(c1)C(=O)N(C)C[C@H](OC)[C@@H](C...   -8.474396   -5.554111   \n",
       "Cc1cc(CS(=O)(=O)c2ccccc2)cc(OCc2ccc(CN3CCC[C@@H...   -8.347329   -5.745896   \n",
       "CN(C)CCOc1ccc(/C(=C(\\CCCl)c2ccccc2)c2ccccc2)cc1      -7.532574   -5.170040   \n",
       "CC1(C)C=Cc2c(ccc3c2[N+]([O-])=C2C3=C[C@@]34NC(=...   -7.615060   -4.965421   \n",
       "C[C@@H]1CC(=O)NN=C1c1ccc(N)c([N+](=O)[O-])c1         -6.238947   -5.601923   \n",
       "\n",
       "                                                    latent_125  latent_126  \\\n",
       "C[C@H](NC(=O)/C(C#N)=C/c1cccc(Br)n1)c1ccccc1         -4.036238   -6.080980   \n",
       "Cc1cc(Nc2cc(CN3CCOCC3)c3nc(C)c(Cc4ccc(Cl)cc4F)n...   -3.907634   -7.072416   \n",
       "Cc1cc(N2CCOCC2)cc2[nH]c(-c3c(NCC(O)c4cccc(Cl)c4...   -3.729787   -6.753736   \n",
       "Cl.Cl.c1ccc([C@@H]2C[C@H]2NC2CCNCC2)cc1              -4.327480   -6.822812   \n",
       "O=C(c1ccc(/C=C/c2n[nH]c3ccccc23)cc1)N1CCNCC1         -3.925443   -5.785974   \n",
       "...                                                        ...         ...   \n",
       "CCCC(=O)Nc1ccc2c(c1)C(=O)N(C)C[C@H](OC)[C@@H](C...   -3.387792   -6.549770   \n",
       "Cc1cc(CS(=O)(=O)c2ccccc2)cc(OCc2ccc(CN3CCC[C@@H...   -3.668715   -6.515472   \n",
       "CN(C)CCOc1ccc(/C(=C(\\CCCl)c2ccccc2)c2ccccc2)cc1      -3.710196   -5.567438   \n",
       "CC1(C)C=Cc2c(ccc3c2[N+]([O-])=C2C3=C[C@@]34NC(=...   -3.137559   -5.883044   \n",
       "C[C@@H]1CC(=O)NN=C1c1ccc(N)c([N+](=O)[O-])c1         -4.123129   -6.340687   \n",
       "\n",
       "                                                    latent_127  latent_128  \n",
       "C[C@H](NC(=O)/C(C#N)=C/c1cccc(Br)n1)c1ccccc1         -3.734994   -5.739766  \n",
       "Cc1cc(Nc2cc(CN3CCOCC3)c3nc(C)c(Cc4ccc(Cl)cc4F)n...   -3.549279   -4.858633  \n",
       "Cc1cc(N2CCOCC2)cc2[nH]c(-c3c(NCC(O)c4cccc(Cl)c4...   -3.074219   -4.768165  \n",
       "Cl.Cl.c1ccc([C@@H]2C[C@H]2NC2CCNCC2)cc1              -4.405416   -5.821548  \n",
       "O=C(c1ccc(/C=C/c2n[nH]c3ccccc23)cc1)N1CCNCC1         -3.527073   -4.024390  \n",
       "...                                                        ...         ...  \n",
       "CCCC(=O)Nc1ccc2c(c1)C(=O)N(C)C[C@H](OC)[C@@H](C...   -2.369574   -4.105406  \n",
       "Cc1cc(CS(=O)(=O)c2ccccc2)cc(OCc2ccc(CN3CCC[C@@H...   -2.881742   -4.178917  \n",
       "CN(C)CCOc1ccc(/C(=C(\\CCCl)c2ccccc2)c2ccccc2)cc1      -2.737440   -2.592287  \n",
       "CC1(C)C=Cc2c(ccc3c2[N+]([O-])=C2C3=C[C@@]34NC(=...   -2.294752   -4.515803  \n",
       "C[C@@H]1CC(=O)NN=C1c1ccc(N)c([N+](=O)[O-])c1         -4.092788   -6.364869  \n",
       "\n",
       "[17869 rows x 128 columns]"
      ]
     },
     "execution_count": 48,
     "metadata": {},
     "output_type": "execute_result"
    }
   ],
   "source": [
    "df = pd.read_parquet(directory/ fname)\n",
    "df"
   ]
  },
  {
   "cell_type": "code",
   "execution_count": 49,
   "id": "b3598aa4",
   "metadata": {},
   "outputs": [
    {
     "data": {
      "text/plain": [
       "latent_1      0.363141\n",
       "latent_2      0.859743\n",
       "latent_3      0.528936\n",
       "latent_4      0.635845\n",
       "latent_5      0.664787\n",
       "                ...   \n",
       "latent_124    0.530052\n",
       "latent_125    0.423587\n",
       "latent_126    0.631603\n",
       "latent_127    0.783461\n",
       "latent_128    0.947517\n",
       "Length: 128, dtype: float32"
      ]
     },
     "execution_count": 49,
     "metadata": {},
     "output_type": "execute_result"
    }
   ],
   "source": [
    "df.std()"
   ]
  },
  {
   "cell_type": "markdown",
   "id": "8a21e6bb",
   "metadata": {},
   "source": [
    "## Drawing molecules"
   ]
  },
  {
   "cell_type": "code",
   "execution_count": 41,
   "id": "6cb5b3ec",
   "metadata": {},
   "outputs": [],
   "source": [
    "from IPython.display import SVG\n",
    "from rdkit import Chem\n",
    "from rdkit.Chem import Draw"
   ]
  },
  {
   "cell_type": "code",
   "execution_count": 42,
   "id": "b8a299f5",
   "metadata": {},
   "outputs": [
    {
     "data": {
      "image/png": "[encoded data removed]",
      "text/plain": [
       "<IPython.core.display.Image object>"
      ]
     },
     "execution_count": 42,
     "metadata": {},
     "output_type": "execute_result"
    }
   ],
   "source": [
    "mols = [Chem.MolFromSmiles(s) for s in smiles_list[:14]]\n",
    "Draw.MolsToGridImage(mols, molsPerRow=7, subImgSize=(180, 150))"
   ]
  },
  {
   "cell_type": "code",
   "execution_count": null,
   "id": "30667644",
   "metadata": {},
   "outputs": [],
   "source": []
  }
 ],
 "metadata": {
  "interpreter": {
   "hash": "ad25c9354f8cefdf5a943c25e67813a21d2807e3af4d6d0915e47390a83b57ce"
  },
  "kernelspec": {
   "display_name": "Python 3",
   "language": "python",
   "name": "python3"
  },
  "language_info": {
   "codemirror_mode": {
    "name": "ipython",
    "version": 3
   },
   "file_extension": ".py",
   "mimetype": "text/x-python",
   "name": "python",
   "nbconvert_exporter": "python",
   "pygments_lexer": "ipython3",
   "version": "3.8.8"
  }
 },
 "nbformat": 4,
 "nbformat_minor": 5
}
