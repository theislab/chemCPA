{
 "cells": [
  {
   "cell_type": "code",
   "execution_count": 1,
   "outputs": [
    {
     "name": "stderr",
     "output_type": "stream",
     "text": [
      "2021-11-16 14:02:15.160728: W tensorflow/stream_executor/platform/default/dso_loader.cc:64] Could not load dynamic library 'libcudart.so.11.0'; dlerror: libcudart.so.11.0: cannot open shared object file: No such file or directory\n",
      "2021-11-16 14:02:15.160751: I tensorflow/stream_executor/cuda/cudart_stub.cc:29] Ignore above cudart dlerror if you do not have a GPU set up on your machine.\n"
     ]
    },
    {
     "name": "stdout",
     "output_type": "stream",
     "text": [
      "Num GPUs Available:  0\n"
     ]
    },
    {
     "name": "stderr",
     "output_type": "stream",
     "text": [
      "2021-11-16 14:02:17.425005: I tensorflow/stream_executor/cuda/cuda_gpu_executor.cc:939] successful NUMA node read from SysFS had negative value (-1), but there must be at least one NUMA node, so returning NUMA node zero\n",
      "2021-11-16 14:02:17.425680: W tensorflow/stream_executor/platform/default/dso_loader.cc:64] Could not load dynamic library 'libcudart.so.11.0'; dlerror: libcudart.so.11.0: cannot open shared object file: No such file or directory\n",
      "2021-11-16 14:02:17.425868: W tensorflow/stream_executor/platform/default/dso_loader.cc:64] Could not load dynamic library 'libcublas.so.11'; dlerror: libcublas.so.11: cannot open shared object file: No such file or directory\n",
      "2021-11-16 14:02:17.426017: W tensorflow/stream_executor/platform/default/dso_loader.cc:64] Could not load dynamic library 'libcublasLt.so.11'; dlerror: libcublasLt.so.11: cannot open shared object file: No such file or directory\n",
      "2021-11-16 14:02:17.426159: W tensorflow/stream_executor/platform/default/dso_loader.cc:64] Could not load dynamic library 'libcufft.so.10'; dlerror: libcufft.so.10: cannot open shared object file: No such file or directory\n",
      "2021-11-16 14:02:17.426310: W tensorflow/stream_executor/platform/default/dso_loader.cc:64] Could not load dynamic library 'libcurand.so.10'; dlerror: libcurand.so.10: cannot open shared object file: No such file or directory\n",
      "2021-11-16 14:02:17.426459: W tensorflow/stream_executor/platform/default/dso_loader.cc:64] Could not load dynamic library 'libcusolver.so.11'; dlerror: libcusolver.so.11: cannot open shared object file: No such file or directory\n",
      "2021-11-16 14:02:17.426602: W tensorflow/stream_executor/platform/default/dso_loader.cc:64] Could not load dynamic library 'libcusparse.so.11'; dlerror: libcusparse.so.11: cannot open shared object file: No such file or directory\n",
      "2021-11-16 14:02:17.426743: W tensorflow/stream_executor/platform/default/dso_loader.cc:64] Could not load dynamic library 'libcudnn.so.8'; dlerror: libcudnn.so.8: cannot open shared object file: No such file or directory\n",
      "2021-11-16 14:02:17.426761: W tensorflow/core/common_runtime/gpu/gpu_device.cc:1850] Cannot dlopen some GPU libraries. Please make sure the missing libraries mentioned above are installed properly if you would like to use GPU. Follow the guide at https://www.tensorflow.org/install/gpu for how to download and setup the required libraries for your platform.\n",
      "Skipping registering GPU devices...\n"
     ]
    }
   ],
   "source": [
    "import deepchem as dc\n",
    "import pandas as pd\n",
    "from train_model import TOKENS, MAX_LENGTH\n",
    "from rdkit import Chem\n",
    "import tensorflow as tf\n",
    "print(\"Num GPUs Available: \", len(tf.config.list_physical_devices('GPU')))"
   ],
   "metadata": {
    "collapsed": false,
    "pycharm": {
     "name": "#%%\n"
    }
   }
  },
  {
   "cell_type": "markdown",
   "source": [
    "## Load the most recent checkpoint\n",
    "I stored all checkpoints in `embeddings/seq2seq/data`"
   ],
   "metadata": {
    "collapsed": false
   }
  },
  {
   "cell_type": "code",
   "execution_count": 9,
   "outputs": [],
   "source": [
    "model = dc.models.SeqToSeq(TOKENS,\n",
    "                           TOKENS,\n",
    "                           MAX_LENGTH,\n",
    "                           encoder_layers=2,\n",
    "                           decoder_layers=2,\n",
    "                           embedding_dimension=256,\n",
    "                           batch_size=100,\n",
    "                           model_dir=\"data\")"
   ],
   "metadata": {
    "collapsed": false,
    "pycharm": {
     "name": "#%%\n"
    }
   }
  },
  {
   "cell_type": "code",
   "execution_count": 10,
   "outputs": [
    {
     "data": {
      "text/plain": "['data/ckpt-43', 'data/ckpt-44', 'data/ckpt-45', 'data/ckpt-46', 'data/ckpt-47']"
     },
     "execution_count": 10,
     "metadata": {},
     "output_type": "execute_result"
    }
   ],
   "source": [
    "model.get_checkpoints()"
   ],
   "metadata": {
    "collapsed": false,
    "pycharm": {
     "name": "#%%\n"
    }
   }
  },
  {
   "cell_type": "code",
   "execution_count": 11,
   "outputs": [],
   "source": [
    "# loads the newest checkpoint\n",
    "model.restore()"
   ],
   "metadata": {
    "collapsed": false,
    "pycharm": {
     "name": "#%%\n"
    }
   }
  },
  {
   "cell_type": "markdown",
   "source": [
    "## Load all SMILES\n",
    "and predict their embedding"
   ],
   "metadata": {
    "collapsed": false,
    "pycharm": {
     "name": "#%% md\n"
    }
   }
  },
  {
   "cell_type": "code",
   "execution_count": 12,
   "outputs": [],
   "source": [
    "canonicalize = lambda smile: Chem.MolToSmiles(Chem.MolFromSmiles(smile))\n",
    "all_smiles = list(pd.read_csv(\"../lincs_trapnell.smiles\")[\"smiles\"].values)"
   ],
   "metadata": {
    "collapsed": false,
    "pycharm": {
     "name": "#%%\n"
    }
   }
  },
  {
   "cell_type": "code",
   "execution_count": 13,
   "outputs": [
    {
     "name": "stdout",
     "output_type": "stream",
     "text": [
      "False\n",
      "-- C[C@H](NC(=O)/C(C#N)=C/c1cccc(Br)n1)c1ccccc1\n",
      "-- C[C@H](CS(S(=C(###=C(N/c1ccccBBr)n1)c1ccccc1\n",
      "False\n",
      "-- Cc1cc(Nc2cc(CN3CCOCC3)c3nc(C)c(Cc4ccc(Cl)cc4F)n3n2)[nH]n1\n",
      "-- Cc1cc(Nc2cc(CN3CCCCCCCCc3ncCC)cccc4ccc(Cl)cc4C33)c[nH]])n1\n",
      "False\n",
      "-- Cc1cc(N2CCOCC2)cc2[nH]c(-c3c(NCC(O)c4cccc(Cl)c4)cc[nH]c3=O)nc12\n",
      "-- Cc1cc(N2CC=CCN)ccccnN]c(cccc3CCCCCcccccccF)ccC))cc[[n]]==O)cc11\n",
      "False\n",
      "-- Cl.Cl.c1ccc([C@@H]2C[C@H]2NC2CCNCC2)cc1\n",
      "-- C/C=C/c1ccc([CC@H]2[[C@H]2CN2CCNCCC))cc1\n",
      "False\n",
      "-- O=C(c1ccc(/C=C/c2n[nH]c3ccccc23)cc1)N1CCNCC1\n",
      "-- O=C(c1ccc(/C=C/c2n[nH]c3ccccc32)cc1)N1CCCCC1\n",
      "False\n",
      "-- Cc1nnc(C(C)C)n1C1CC2CCC(C1)N2CCC(NC(=O)C1CCC(F)(F)CC1)c1ccccc1\n",
      "-- Cc1nnc(C(C)C)C)C(CCCCCCCCCCCCCCCCCC(()))CCCCC((((CCCCC11ccccccc\n",
      "False\n",
      "-- NC(=O)c1ncn([C@@H]2O[C@H](CO)[C@@H](O)[C@H]2O)c1N\n",
      "-- N/(=O)c1cnc([C@@H]2O[C@H](OO)OC[@]](OO)[C]]]2O)c1\n",
      "False\n",
      "-- N#CCNC(=O)c1ccc(-c2ccnc(Nc3ccc(N4CCOCC4)cc3)n2)cc1\n",
      "-- N#CCNC(=O)c1ccc(-c2cccc(Nc3ccc(N4CCOCC4)cc3)n2)cc1\n",
      "False\n",
      "-- C#Cc1cccc(Nc2ncnc3cc(OC)c(OCCCCCCC(=O)NO)cc23)c1\n",
      "-- C#Cc1cccc(Nc2nccc3cc(OC)c(CCCCCCC((=O)O))cc33)c1\n",
      "False\n",
      "-- O=C1CCC(N2C(=O)c3ccccc3C2=O)C(=O)N1\n",
      "-- O=C1CCCCN2C(=O)c3ccccc3C2=O)C(=O)N1\n",
      "False\n",
      "-- NC(=O)C1CCCc2c1[nH]c1ccc(Cl)cc21\n",
      "-- CC(=O)C1CCCc2c1c[nHc1ccc(Cl)cc21\n",
      "False\n",
      "-- O=C(/C=C/c1ccc(CN(CCO)CCc2c[nH]c3ccccc23)cc1)NO\n",
      "-- O=C(/C=C/c1ccc(/C(CCCCCCc2cc[nH]c3cccccc33ccc1BN\n",
      "False\n",
      "-- CCn1cc(-c2ccnc3[nH]c(-c4cccc(CN(C)C)c4)cc23)c(-c2ccc(NC(=O)N(C)C)cc2)n1\n",
      "-- CCn1cc(-c2ccc3nc[C]]cccccccccCCCCC))cc)cccccccccccc(((=O)NNCCCCC)))ccnnn\n",
      "False\n",
      "-- CN(C)Cc1ccc(-c2nc3cccc4c3n2CCNC4=O)cc1\n",
      "-- CN(C)Cc1ccc(-c2nc3ccccc4n33CCCC=OO)cc1\n",
      "False\n",
      "-- CCOc1cc2ncc(C#N)c(Nc3ccc(F)c(Cl)c3)c2cc1NC(=O)/C=C/CN(C)C\n",
      "-- CCOc1cc2ccc(C#N)c(Nc3ccc(C)ccCC)c3)c2ccc/C(=O)NNCCCCCC(()CC\n"
     ]
    }
   ],
   "source": [
    "# quick check on subset of all embeddings\n",
    "pred = model.predict_from_sequences(all_smiles[0:15])\n",
    "for s_pred, s_real in zip(pred, all_smiles[0:15]):\n",
    "    s_pred = \"\".join(s_pred)\n",
    "    print(f\"{s_pred == s_real}\\n-- {s_real}\\n-- {s_pred}\")"
   ],
   "metadata": {
    "collapsed": false,
    "pycharm": {
     "name": "#%%\n"
    }
   }
  },
  {
   "cell_type": "code",
   "execution_count": 14,
   "outputs": [
    {
     "name": "stdout",
     "output_type": "stream",
     "text": [
      "WARNING:tensorflow:Unresolved object in checkpoint: (root).optimizer.iter\n",
      "WARNING:tensorflow:Unresolved object in checkpoint: (root).optimizer.beta_1\n",
      "WARNING:tensorflow:Unresolved object in checkpoint: (root).optimizer.beta_2\n",
      "WARNING:tensorflow:Unresolved object in checkpoint: (root).optimizer.decay\n",
      "WARNING:tensorflow:A checkpoint was restored (e.g. tf.train.Checkpoint.restore or tf.keras.Model.load_weights) but not all checkpointed values were used. See above for specific issues. Use expect_partial() on the load status object, e.g. tf.train.Checkpoint.restore(...).expect_partial(), to silence these warnings, or use assert_consumed() to make the check explicit. See https://www.tensorflow.org/guide/checkpoint#loading_mechanics for details.\n"
     ]
    }
   ],
   "source": [
    "# actually predict all embeddings\n",
    "emb = model.predict_embeddings(all_smiles)"
   ],
   "metadata": {
    "collapsed": false,
    "pycharm": {
     "name": "#%%\n"
    }
   }
  },
  {
   "cell_type": "markdown",
   "source": [
    "## Store the resulting embedding"
   ],
   "metadata": {
    "collapsed": false,
    "pycharm": {
     "name": "#%% md\n"
    }
   }
  },
  {
   "cell_type": "code",
   "execution_count": 15,
   "outputs": [],
   "source": [
    "final_df = pd.DataFrame(emb, index=all_smiles, columns=[f\"latent_{i+1}\" for i in range(emb.shape[1])])"
   ],
   "metadata": {
    "collapsed": false,
    "pycharm": {
     "name": "#%%\n"
    }
   }
  },
  {
   "cell_type": "code",
   "execution_count": 16,
   "outputs": [
    {
     "data": {
      "text/plain": "                                                    latent_1  latent_2  \\\nC[C@H](NC(=O)/C(C#N)=C/c1cccc(Br)n1)c1ccccc1       -0.015769  0.052912   \nCc1cc(Nc2cc(CN3CCOCC3)c3nc(C)c(Cc4ccc(Cl)cc4F)n... -0.007374 -0.198397   \nCc1cc(N2CCOCC2)cc2[nH]c(-c3c(NCC(O)c4cccc(Cl)c4...  0.061392 -0.164060   \nCl.Cl.c1ccc([C@@H]2C[C@H]2NC2CCNCC2)cc1            -0.053740  0.177955   \nO=C(c1ccc(/C=C/c2n[nH]c3ccccc23)cc1)N1CCNCC1        0.017594  0.015007   \n...                                                      ...       ...   \nCCCC(=O)Nc1ccc2c(c1)C(=O)N(C)C[C@H](OC)[C@@H](C... -0.102524 -0.053212   \nCc1cc(CS(=O)(=O)c2ccccc2)cc(OCc2ccc(CN3CCC[C@@H...  0.001217 -0.136761   \nCN(C)CCOc1ccc(/C(=C(\\CCCl)c2ccccc2)c2ccccc2)cc1    -0.041137 -0.116007   \nCC1(C)C=Cc2c(ccc3c2[N+]([O-])=C2C3=C[C@@]34NC(=... -0.053945 -0.123809   \nC[C@@H]1CC(=O)NN=C1c1ccc(N)c([N+](=O)[O-])c1       -0.064571 -0.159400   \n\n                                                    latent_3  latent_4  \\\nC[C@H](NC(=O)/C(C#N)=C/c1cccc(Br)n1)c1ccccc1       -0.272413  0.305668   \nCc1cc(Nc2cc(CN3CCOCC3)c3nc(C)c(Cc4ccc(Cl)cc4F)n... -0.492498  0.021952   \nCc1cc(N2CCOCC2)cc2[nH]c(-c3c(NCC(O)c4cccc(Cl)c4... -0.591622  0.030527   \nCl.Cl.c1ccc([C@@H]2C[C@H]2NC2CCNCC2)cc1            -0.367810  0.090018   \nO=C(c1ccc(/C=C/c2n[nH]c3ccccc23)cc1)N1CCNCC1       -0.387035 -0.025458   \n...                                                      ...       ...   \nCCCC(=O)Nc1ccc2c(c1)C(=O)N(C)C[C@H](OC)[C@@H](C... -0.560887  0.181214   \nCc1cc(CS(=O)(=O)c2ccccc2)cc(OCc2ccc(CN3CCC[C@@H... -0.552015 -0.092697   \nCN(C)CCOc1ccc(/C(=C(\\CCCl)c2ccccc2)c2ccccc2)cc1    -0.462455 -0.103874   \nCC1(C)C=Cc2c(ccc3c2[N+]([O-])=C2C3=C[C@@]34NC(=... -0.651478 -0.041010   \nC[C@@H]1CC(=O)NN=C1c1ccc(N)c([N+](=O)[O-])c1       -0.477440  0.200122   \n\n                                                    latent_5  latent_6  \\\nC[C@H](NC(=O)/C(C#N)=C/c1cccc(Br)n1)c1ccccc1       -0.110704 -0.145679   \nCc1cc(Nc2cc(CN3CCOCC3)c3nc(C)c(Cc4ccc(Cl)cc4F)n... -0.136411  0.262194   \nCc1cc(N2CCOCC2)cc2[nH]c(-c3c(NCC(O)c4cccc(Cl)c4... -0.102847  0.087366   \nCl.Cl.c1ccc([C@@H]2C[C@H]2NC2CCNCC2)cc1             0.058217  0.168071   \nO=C(c1ccc(/C=C/c2n[nH]c3ccccc23)cc1)N1CCNCC1       -0.049479  0.242852   \n...                                                      ...       ...   \nCCCC(=O)Nc1ccc2c(c1)C(=O)N(C)C[C@H](OC)[C@@H](C... -0.010810  0.006538   \nCc1cc(CS(=O)(=O)c2ccccc2)cc(OCc2ccc(CN3CCC[C@@H... -0.041933  0.018425   \nCN(C)CCOc1ccc(/C(=C(\\CCCl)c2ccccc2)c2ccccc2)cc1     0.030683 -0.179392   \nCC1(C)C=Cc2c(ccc3c2[N+]([O-])=C2C3=C[C@@]34NC(=...  0.046580  0.001756   \nC[C@@H]1CC(=O)NN=C1c1ccc(N)c([N+](=O)[O-])c1       -0.165792 -0.075900   \n\n                                                    latent_7  latent_8  \\\nC[C@H](NC(=O)/C(C#N)=C/c1cccc(Br)n1)c1ccccc1        0.111034  0.435835   \nCc1cc(Nc2cc(CN3CCOCC3)c3nc(C)c(Cc4ccc(Cl)cc4F)n... -0.089772  0.495753   \nCc1cc(N2CCOCC2)cc2[nH]c(-c3c(NCC(O)c4cccc(Cl)c4...  0.027974  0.524360   \nCl.Cl.c1ccc([C@@H]2C[C@H]2NC2CCNCC2)cc1            -0.032419  0.498496   \nO=C(c1ccc(/C=C/c2n[nH]c3ccccc23)cc1)N1CCNCC1        0.069750  0.279869   \n...                                                      ...       ...   \nCCCC(=O)Nc1ccc2c(c1)C(=O)N(C)C[C@H](OC)[C@@H](C... -0.036625  0.648405   \nCc1cc(CS(=O)(=O)c2ccccc2)cc(OCc2ccc(CN3CCC[C@@H...  0.012212  0.603674   \nCN(C)CCOc1ccc(/C(=C(\\CCCl)c2ccccc2)c2ccccc2)cc1     0.012681  0.526103   \nCC1(C)C=Cc2c(ccc3c2[N+]([O-])=C2C3=C[C@@]34NC(=...  0.082595  0.700623   \nC[C@@H]1CC(=O)NN=C1c1ccc(N)c([N+](=O)[O-])c1        0.055427  0.482990   \n\n                                                    latent_9  latent_10  ...  \\\nC[C@H](NC(=O)/C(C#N)=C/c1cccc(Br)n1)c1ccccc1       -0.160023  -0.182336  ...   \nCc1cc(Nc2cc(CN3CCOCC3)c3nc(C)c(Cc4ccc(Cl)cc4F)n... -0.051472  -0.155910  ...   \nCc1cc(N2CCOCC2)cc2[nH]c(-c3c(NCC(O)c4cccc(Cl)c4... -0.053702  -0.127911  ...   \nCl.Cl.c1ccc([C@@H]2C[C@H]2NC2CCNCC2)cc1             0.065081   0.061909  ...   \nO=C(c1ccc(/C=C/c2n[nH]c3ccccc23)cc1)N1CCNCC1       -0.029466  -0.139046  ...   \n...                                                      ...        ...  ...   \nCCCC(=O)Nc1ccc2c(c1)C(=O)N(C)C[C@H](OC)[C@@H](C...  0.146833  -0.181918  ...   \nCc1cc(CS(=O)(=O)c2ccccc2)cc(OCc2ccc(CN3CCC[C@@H...  0.030974   0.016439  ...   \nCN(C)CCOc1ccc(/C(=C(\\CCCl)c2ccccc2)c2ccccc2)cc1     0.077992  -0.089742  ...   \nCC1(C)C=Cc2c(ccc3c2[N+]([O-])=C2C3=C[C@@]34NC(=... -0.193987  -0.100845  ...   \nC[C@@H]1CC(=O)NN=C1c1ccc(N)c([N+](=O)[O-])c1       -0.233741  -0.115348  ...   \n\n                                                    latent_247  latent_248  \\\nC[C@H](NC(=O)/C(C#N)=C/c1cccc(Br)n1)c1ccccc1          0.459639    0.198406   \nCc1cc(Nc2cc(CN3CCOCC3)c3nc(C)c(Cc4ccc(Cl)cc4F)n...    0.528023   -0.030843   \nCc1cc(N2CCOCC2)cc2[nH]c(-c3c(NCC(O)c4cccc(Cl)c4...    0.502180   -0.079729   \nCl.Cl.c1ccc([C@@H]2C[C@H]2NC2CCNCC2)cc1               0.394874    0.083285   \nO=C(c1ccc(/C=C/c2n[nH]c3ccccc23)cc1)N1CCNCC1          0.418218    0.010910   \n...                                                        ...         ...   \nCCCC(=O)Nc1ccc2c(c1)C(=O)N(C)C[C@H](OC)[C@@H](C...    0.556772    0.048353   \nCc1cc(CS(=O)(=O)c2ccccc2)cc(OCc2ccc(CN3CCC[C@@H...    0.330128    0.196006   \nCN(C)CCOc1ccc(/C(=C(\\CCCl)c2ccccc2)c2ccccc2)cc1       0.422692    0.078122   \nCC1(C)C=Cc2c(ccc3c2[N+]([O-])=C2C3=C[C@@]34NC(=...    0.700816    0.102099   \nC[C@@H]1CC(=O)NN=C1c1ccc(N)c([N+](=O)[O-])c1          0.313621    0.066443   \n\n                                                    latent_249  latent_250  \\\nC[C@H](NC(=O)/C(C#N)=C/c1cccc(Br)n1)c1ccccc1         -0.335790   -0.142956   \nCc1cc(Nc2cc(CN3CCOCC3)c3nc(C)c(Cc4ccc(Cl)cc4F)n...    0.023274    0.432102   \nCc1cc(N2CCOCC2)cc2[nH]c(-c3c(NCC(O)c4cccc(Cl)c4...    0.129090    0.124276   \nCl.Cl.c1ccc([C@@H]2C[C@H]2NC2CCNCC2)cc1               0.269693    0.023334   \nO=C(c1ccc(/C=C/c2n[nH]c3ccccc23)cc1)N1CCNCC1         -0.089801    0.030506   \n...                                                        ...         ...   \nCCCC(=O)Nc1ccc2c(c1)C(=O)N(C)C[C@H](OC)[C@@H](C...    0.037994    0.201654   \nCc1cc(CS(=O)(=O)c2ccccc2)cc(OCc2ccc(CN3CCC[C@@H...   -0.098398    0.217345   \nCN(C)CCOc1ccc(/C(=C(\\CCCl)c2ccccc2)c2ccccc2)cc1       0.289891   -0.157302   \nCC1(C)C=Cc2c(ccc3c2[N+]([O-])=C2C3=C[C@@]34NC(=...    0.042866    0.031351   \nC[C@@H]1CC(=O)NN=C1c1ccc(N)c([N+](=O)[O-])c1         -0.076314    0.092342   \n\n                                                    latent_251  latent_252  \\\nC[C@H](NC(=O)/C(C#N)=C/c1cccc(Br)n1)c1ccccc1          0.030977    0.018542   \nCc1cc(Nc2cc(CN3CCOCC3)c3nc(C)c(Cc4ccc(Cl)cc4F)n...    0.053639   -0.076816   \nCc1cc(N2CCOCC2)cc2[nH]c(-c3c(NCC(O)c4cccc(Cl)c4...    0.006338    0.030390   \nCl.Cl.c1ccc([C@@H]2C[C@H]2NC2CCNCC2)cc1               0.067825   -0.147118   \nO=C(c1ccc(/C=C/c2n[nH]c3ccccc23)cc1)N1CCNCC1          0.019540   -0.100496   \n...                                                        ...         ...   \nCCCC(=O)Nc1ccc2c(c1)C(=O)N(C)C[C@H](OC)[C@@H](C...   -0.030352   -0.065399   \nCc1cc(CS(=O)(=O)c2ccccc2)cc(OCc2ccc(CN3CCC[C@@H...   -0.009975   -0.026851   \nCN(C)CCOc1ccc(/C(=C(\\CCCl)c2ccccc2)c2ccccc2)cc1       0.010337   -0.008215   \nCC1(C)C=Cc2c(ccc3c2[N+]([O-])=C2C3=C[C@@]34NC(=...   -0.002288    0.088115   \nC[C@@H]1CC(=O)NN=C1c1ccc(N)c([N+](=O)[O-])c1          0.161075    0.033856   \n\n                                                    latent_253  latent_254  \\\nC[C@H](NC(=O)/C(C#N)=C/c1cccc(Br)n1)c1ccccc1         -0.009532    0.131064   \nCc1cc(Nc2cc(CN3CCOCC3)c3nc(C)c(Cc4ccc(Cl)cc4F)n...    0.045384    0.078301   \nCc1cc(N2CCOCC2)cc2[nH]c(-c3c(NCC(O)c4cccc(Cl)c4...    0.091066    0.006866   \nCl.Cl.c1ccc([C@@H]2C[C@H]2NC2CCNCC2)cc1              -0.008010    0.101650   \nO=C(c1ccc(/C=C/c2n[nH]c3ccccc23)cc1)N1CCNCC1          0.032306    0.079607   \n...                                                        ...         ...   \nCCCC(=O)Nc1ccc2c(c1)C(=O)N(C)C[C@H](OC)[C@@H](C...    0.072160    0.114033   \nCc1cc(CS(=O)(=O)c2ccccc2)cc(OCc2ccc(CN3CCC[C@@H...   -0.000996    0.012040   \nCN(C)CCOc1ccc(/C(=C(\\CCCl)c2ccccc2)c2ccccc2)cc1       0.097771    0.074439   \nCC1(C)C=Cc2c(ccc3c2[N+]([O-])=C2C3=C[C@@]34NC(=...    0.113948   -0.051808   \nC[C@@H]1CC(=O)NN=C1c1ccc(N)c([N+](=O)[O-])c1         -0.038590    0.072973   \n\n                                                    latent_255  latent_256  \nC[C@H](NC(=O)/C(C#N)=C/c1cccc(Br)n1)c1ccccc1         -0.159807    0.067595  \nCc1cc(Nc2cc(CN3CCOCC3)c3nc(C)c(Cc4ccc(Cl)cc4F)n...   -0.082535   -0.002804  \nCc1cc(N2CCOCC2)cc2[nH]c(-c3c(NCC(O)c4cccc(Cl)c4...    0.267999   -0.159722  \nCl.Cl.c1ccc([C@@H]2C[C@H]2NC2CCNCC2)cc1              -0.354543    0.101166  \nO=C(c1ccc(/C=C/c2n[nH]c3ccccc23)cc1)N1CCNCC1          0.224210    0.140878  \n...                                                        ...         ...  \nCCCC(=O)Nc1ccc2c(c1)C(=O)N(C)C[C@H](OC)[C@@H](C...   -0.057180   -0.109707  \nCc1cc(CS(=O)(=O)c2ccccc2)cc(OCc2ccc(CN3CCC[C@@H...    0.522048   -0.119071  \nCN(C)CCOc1ccc(/C(=C(\\CCCl)c2ccccc2)c2ccccc2)cc1      -0.133566    0.171229  \nCC1(C)C=Cc2c(ccc3c2[N+]([O-])=C2C3=C[C@@]34NC(=...   -0.131280   -0.060399  \nC[C@@H]1CC(=O)NN=C1c1ccc(N)c([N+](=O)[O-])c1         -0.374217   -0.168144  \n\n[17869 rows x 256 columns]",
      "text/html": "<div>\n<style scoped>\n    .dataframe tbody tr th:only-of-type {\n        vertical-align: middle;\n    }\n\n    .dataframe tbody tr th {\n        vertical-align: top;\n    }\n\n    .dataframe thead th {\n        text-align: right;\n    }\n</style>\n<table border=\"1\" class=\"dataframe\">\n  <thead>\n    <tr style=\"text-align: right;\">\n      <th></th>\n      <th>latent_1</th>\n      <th>latent_2</th>\n      <th>latent_3</th>\n      <th>latent_4</th>\n      <th>latent_5</th>\n      <th>latent_6</th>\n      <th>latent_7</th>\n      <th>latent_8</th>\n      <th>latent_9</th>\n      <th>latent_10</th>\n      <th>...</th>\n      <th>latent_247</th>\n      <th>latent_248</th>\n      <th>latent_249</th>\n      <th>latent_250</th>\n      <th>latent_251</th>\n      <th>latent_252</th>\n      <th>latent_253</th>\n      <th>latent_254</th>\n      <th>latent_255</th>\n      <th>latent_256</th>\n    </tr>\n  </thead>\n  <tbody>\n    <tr>\n      <th>C[C@H](NC(=O)/C(C#N)=C/c1cccc(Br)n1)c1ccccc1</th>\n      <td>-0.015769</td>\n      <td>0.052912</td>\n      <td>-0.272413</td>\n      <td>0.305668</td>\n      <td>-0.110704</td>\n      <td>-0.145679</td>\n      <td>0.111034</td>\n      <td>0.435835</td>\n      <td>-0.160023</td>\n      <td>-0.182336</td>\n      <td>...</td>\n      <td>0.459639</td>\n      <td>0.198406</td>\n      <td>-0.335790</td>\n      <td>-0.142956</td>\n      <td>0.030977</td>\n      <td>0.018542</td>\n      <td>-0.009532</td>\n      <td>0.131064</td>\n      <td>-0.159807</td>\n      <td>0.067595</td>\n    </tr>\n    <tr>\n      <th>Cc1cc(Nc2cc(CN3CCOCC3)c3nc(C)c(Cc4ccc(Cl)cc4F)n3n2)[nH]n1</th>\n      <td>-0.007374</td>\n      <td>-0.198397</td>\n      <td>-0.492498</td>\n      <td>0.021952</td>\n      <td>-0.136411</td>\n      <td>0.262194</td>\n      <td>-0.089772</td>\n      <td>0.495753</td>\n      <td>-0.051472</td>\n      <td>-0.155910</td>\n      <td>...</td>\n      <td>0.528023</td>\n      <td>-0.030843</td>\n      <td>0.023274</td>\n      <td>0.432102</td>\n      <td>0.053639</td>\n      <td>-0.076816</td>\n      <td>0.045384</td>\n      <td>0.078301</td>\n      <td>-0.082535</td>\n      <td>-0.002804</td>\n    </tr>\n    <tr>\n      <th>Cc1cc(N2CCOCC2)cc2[nH]c(-c3c(NCC(O)c4cccc(Cl)c4)cc[nH]c3=O)nc12</th>\n      <td>0.061392</td>\n      <td>-0.164060</td>\n      <td>-0.591622</td>\n      <td>0.030527</td>\n      <td>-0.102847</td>\n      <td>0.087366</td>\n      <td>0.027974</td>\n      <td>0.524360</td>\n      <td>-0.053702</td>\n      <td>-0.127911</td>\n      <td>...</td>\n      <td>0.502180</td>\n      <td>-0.079729</td>\n      <td>0.129090</td>\n      <td>0.124276</td>\n      <td>0.006338</td>\n      <td>0.030390</td>\n      <td>0.091066</td>\n      <td>0.006866</td>\n      <td>0.267999</td>\n      <td>-0.159722</td>\n    </tr>\n    <tr>\n      <th>Cl.Cl.c1ccc([C@@H]2C[C@H]2NC2CCNCC2)cc1</th>\n      <td>-0.053740</td>\n      <td>0.177955</td>\n      <td>-0.367810</td>\n      <td>0.090018</td>\n      <td>0.058217</td>\n      <td>0.168071</td>\n      <td>-0.032419</td>\n      <td>0.498496</td>\n      <td>0.065081</td>\n      <td>0.061909</td>\n      <td>...</td>\n      <td>0.394874</td>\n      <td>0.083285</td>\n      <td>0.269693</td>\n      <td>0.023334</td>\n      <td>0.067825</td>\n      <td>-0.147118</td>\n      <td>-0.008010</td>\n      <td>0.101650</td>\n      <td>-0.354543</td>\n      <td>0.101166</td>\n    </tr>\n    <tr>\n      <th>O=C(c1ccc(/C=C/c2n[nH]c3ccccc23)cc1)N1CCNCC1</th>\n      <td>0.017594</td>\n      <td>0.015007</td>\n      <td>-0.387035</td>\n      <td>-0.025458</td>\n      <td>-0.049479</td>\n      <td>0.242852</td>\n      <td>0.069750</td>\n      <td>0.279869</td>\n      <td>-0.029466</td>\n      <td>-0.139046</td>\n      <td>...</td>\n      <td>0.418218</td>\n      <td>0.010910</td>\n      <td>-0.089801</td>\n      <td>0.030506</td>\n      <td>0.019540</td>\n      <td>-0.100496</td>\n      <td>0.032306</td>\n      <td>0.079607</td>\n      <td>0.224210</td>\n      <td>0.140878</td>\n    </tr>\n    <tr>\n      <th>...</th>\n      <td>...</td>\n      <td>...</td>\n      <td>...</td>\n      <td>...</td>\n      <td>...</td>\n      <td>...</td>\n      <td>...</td>\n      <td>...</td>\n      <td>...</td>\n      <td>...</td>\n      <td>...</td>\n      <td>...</td>\n      <td>...</td>\n      <td>...</td>\n      <td>...</td>\n      <td>...</td>\n      <td>...</td>\n      <td>...</td>\n      <td>...</td>\n      <td>...</td>\n      <td>...</td>\n    </tr>\n    <tr>\n      <th>CCCC(=O)Nc1ccc2c(c1)C(=O)N(C)C[C@H](OC)[C@@H](C)CN(Cc1ccc(-c3ccccn3)cc1)[C@@H](C)CO2</th>\n      <td>-0.102524</td>\n      <td>-0.053212</td>\n      <td>-0.560887</td>\n      <td>0.181214</td>\n      <td>-0.010810</td>\n      <td>0.006538</td>\n      <td>-0.036625</td>\n      <td>0.648405</td>\n      <td>0.146833</td>\n      <td>-0.181918</td>\n      <td>...</td>\n      <td>0.556772</td>\n      <td>0.048353</td>\n      <td>0.037994</td>\n      <td>0.201654</td>\n      <td>-0.030352</td>\n      <td>-0.065399</td>\n      <td>0.072160</td>\n      <td>0.114033</td>\n      <td>-0.057180</td>\n      <td>-0.109707</td>\n    </tr>\n    <tr>\n      <th>Cc1cc(CS(=O)(=O)c2ccccc2)cc(OCc2ccc(CN3CCC[C@@H]3CO)cc2)c1</th>\n      <td>0.001217</td>\n      <td>-0.136761</td>\n      <td>-0.552015</td>\n      <td>-0.092697</td>\n      <td>-0.041933</td>\n      <td>0.018425</td>\n      <td>0.012212</td>\n      <td>0.603674</td>\n      <td>0.030974</td>\n      <td>0.016439</td>\n      <td>...</td>\n      <td>0.330128</td>\n      <td>0.196006</td>\n      <td>-0.098398</td>\n      <td>0.217345</td>\n      <td>-0.009975</td>\n      <td>-0.026851</td>\n      <td>-0.000996</td>\n      <td>0.012040</td>\n      <td>0.522048</td>\n      <td>-0.119071</td>\n    </tr>\n    <tr>\n      <th>CN(C)CCOc1ccc(/C(=C(\\CCCl)c2ccccc2)c2ccccc2)cc1</th>\n      <td>-0.041137</td>\n      <td>-0.116007</td>\n      <td>-0.462455</td>\n      <td>-0.103874</td>\n      <td>0.030683</td>\n      <td>-0.179392</td>\n      <td>0.012681</td>\n      <td>0.526103</td>\n      <td>0.077992</td>\n      <td>-0.089742</td>\n      <td>...</td>\n      <td>0.422692</td>\n      <td>0.078122</td>\n      <td>0.289891</td>\n      <td>-0.157302</td>\n      <td>0.010337</td>\n      <td>-0.008215</td>\n      <td>0.097771</td>\n      <td>0.074439</td>\n      <td>-0.133566</td>\n      <td>0.171229</td>\n    </tr>\n    <tr>\n      <th>CC1(C)C=Cc2c(ccc3c2[N+]([O-])=C2C3=C[C@@]34NC(=O)[C@]5(CCCN5C3=O)C[C@H]4C2(C)C)O1</th>\n      <td>-0.053945</td>\n      <td>-0.123809</td>\n      <td>-0.651478</td>\n      <td>-0.041010</td>\n      <td>0.046580</td>\n      <td>0.001756</td>\n      <td>0.082595</td>\n      <td>0.700623</td>\n      <td>-0.193987</td>\n      <td>-0.100845</td>\n      <td>...</td>\n      <td>0.700816</td>\n      <td>0.102099</td>\n      <td>0.042866</td>\n      <td>0.031351</td>\n      <td>-0.002288</td>\n      <td>0.088115</td>\n      <td>0.113948</td>\n      <td>-0.051808</td>\n      <td>-0.131280</td>\n      <td>-0.060399</td>\n    </tr>\n    <tr>\n      <th>C[C@@H]1CC(=O)NN=C1c1ccc(N)c([N+](=O)[O-])c1</th>\n      <td>-0.064571</td>\n      <td>-0.159400</td>\n      <td>-0.477440</td>\n      <td>0.200122</td>\n      <td>-0.165792</td>\n      <td>-0.075900</td>\n      <td>0.055427</td>\n      <td>0.482990</td>\n      <td>-0.233741</td>\n      <td>-0.115348</td>\n      <td>...</td>\n      <td>0.313621</td>\n      <td>0.066443</td>\n      <td>-0.076314</td>\n      <td>0.092342</td>\n      <td>0.161075</td>\n      <td>0.033856</td>\n      <td>-0.038590</td>\n      <td>0.072973</td>\n      <td>-0.374217</td>\n      <td>-0.168144</td>\n    </tr>\n  </tbody>\n</table>\n<p>17869 rows × 256 columns</p>\n</div>"
     },
     "execution_count": 16,
     "metadata": {},
     "output_type": "execute_result"
    }
   ],
   "source": [
    "final_df.to_parquet(\"data/seq2seq.parquet\")\n",
    "final_df"
   ],
   "metadata": {
    "collapsed": false,
    "pycharm": {
     "name": "#%%\n"
    }
   }
  },
  {
   "cell_type": "code",
   "execution_count": 19,
   "outputs": [],
   "source": [
    "assert sorted(pd.read_csv(\"../lincs_trapnell.smiles\")[\"smiles\"].values) == sorted(final_df.index.values)"
   ],
   "metadata": {
    "collapsed": false,
    "pycharm": {
     "name": "#%%\n"
    }
   }
  }
 ],
 "metadata": {
  "kernelspec": {
   "name": "python3",
   "language": "python",
   "display_name": "Python 3 (ipykernel)"
  },
  "language_info": {
   "codemirror_mode": {
    "name": "ipython",
    "version": 2
   },
   "file_extension": ".py",
   "mimetype": "text/x-python",
   "name": "python",
   "nbconvert_exporter": "python",
   "pygments_lexer": "ipython2",
   "version": "2.7.6"
  }
 },
 "nbformat": 4,
 "nbformat_minor": 0
}