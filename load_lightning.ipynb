{
 "cells": [
  {
   "cell_type": "code",
   "execution_count": 126,
   "metadata": {
    "ExecuteTime": {
     "end_time": "2024-08-03T14:39:30.400484Z",
     "start_time": "2024-08-03T14:39:30.396873Z"
    }
   },
   "outputs": [],
   "source": [
    "from pathlib import Path\n",
    "\n",
    "import anndata as ad\n",
    "import numpy as np\n",
    "import torch\n",
    "\n",
    "from chemCPA.data import PerturbationDataModule, load_dataset_splits\n",
    "from chemCPA.lightning_module import ChemCPA"
   ]
  },
  {
   "cell_type": "code",
   "execution_count": 2,
   "metadata": {
    "ExecuteTime": {
     "end_time": "2024-08-03T14:39:30.415925Z",
     "start_time": "2024-08-03T14:39:30.403354Z"
    }
   },
   "outputs": [],
   "source": [
    "ckpt = \"last.ckpt\"\n",
    "split = 0\n",
    "# update the run_id and path to checkpoints\n",
    "run_id = \"qipfyleo\"\n",
    "cp_path = Path(\"/home/jovyan/git-repos/platform-publication/method_benchmarking/chemcpa/chemCPA/project_folder/output\") / run_id / ckpt"
   ]
  },
  {
   "cell_type": "code",
   "execution_count": 3,
   "metadata": {
    "ExecuteTime": {
     "end_time": "2024-08-03T14:39:30.528014Z",
     "start_time": "2024-08-03T14:39:30.420018Z"
    }
   },
   "outputs": [],
   "source": [
    "module = ChemCPA.load_from_checkpoint(cp_path)"
   ]
  },
  {
   "cell_type": "code",
   "execution_count": 4,
   "metadata": {
    "ExecuteTime": {
     "end_time": "2024-08-03T14:39:30.531084Z",
     "start_time": "2024-08-03T14:39:30.529099Z"
    }
   },
   "outputs": [],
   "source": [
    "data_params = module.config[\"dataset\"]"
   ]
  },
  {
   "cell_type": "code",
   "execution_count": 5,
   "metadata": {
    "ExecuteTime": {
     "end_time": "2024-08-03T14:41:32.942809Z",
     "start_time": "2024-08-03T14:39:30.531731Z"
    }
   },
   "outputs": [
    {
     "name": "stderr",
     "output_type": "stream",
     "text": [
      "/opt/saturncloud/envs/saturn/lib/python3.10/site-packages/anndata/_core/anndata.py:1818: UserWarning: Observation names are not unique. To make them unique, call `.obs_names_make_unique`.\n",
      "  utils.warn_names_duplicates(\"obs\")\n"
     ]
    }
   ],
   "source": [
    "datasets, dataset = load_dataset_splits(**data_params, return_dataset=True)"
   ]
  },
  {
   "cell_type": "code",
   "execution_count": 92,
   "metadata": {
    "ExecuteTime": {
     "end_time": "2024-08-03T14:41:32.958577Z",
     "start_time": "2024-08-03T14:41:32.944367Z"
    }
   },
   "outputs": [],
   "source": [
    "dm = PerturbationDataModule(datasplits=datasets, train_bs=module.config[\"model\"][\"hparams\"][\"batch_size\"])\n",
    "dm.setup(stage=\"fit\")  # fit, validate/test, predict"
   ]
  },
  {
   "cell_type": "code",
   "execution_count": 93,
   "metadata": {
    "ExecuteTime": {
     "end_time": "2024-08-03T14:41:32.966743Z",
     "start_time": "2024-08-03T14:41:32.959496Z"
    }
   },
   "outputs": [],
   "source": [
    "module.model.eval();"
   ]
  },
  {
   "cell_type": "code",
   "execution_count": 94,
   "metadata": {
    "ExecuteTime": {
     "end_time": "2024-08-03T14:41:32.987122Z",
     "start_time": "2024-08-03T14:41:32.967442Z"
    }
   },
   "outputs": [],
   "source": [
    "train_control_dataset = dm.train_control_dataset\n",
    "ood_control_dataset = dm.ood_control_dataset\n",
    "test_control_dataset = dm.test_control_dataset\n",
    "train_treated_dataset = dm.train_treated_dataset\n",
    "ood_treated_dataset = dm.ood_treated_dataset\n",
    "test_treated_dataset = dm.test_treated_dataset"
   ]
  },
  {
   "cell_type": "code",
   "execution_count": 106,
   "metadata": {
    "ExecuteTime": {
     "end_time": "2024-08-03T14:56:24.133842Z",
     "start_time": "2024-08-03T14:56:24.121721Z"
    }
   },
   "outputs": [],
   "source": [
    "def compute_preds(control_dataset, treated_dataset):\n",
    "    control_genes = {}\n",
    "\n",
    "    # Iterate over the dataset\n",
    "    _genes = control_dataset.genes\n",
    "    _cov_names = control_dataset.covariate_names[\"cell_type\"]\n",
    "    \n",
    "    for covariate, gene in zip(_cov_names, _genes):\n",
    "        if covariate not in control_genes:\n",
    "            control_genes[covariate] = gene.unsqueeze(0)\n",
    "            continue\n",
    "        control_genes[covariate] = torch.concat([control_genes[covariate], gene.unsqueeze(0)], dim=0)\n",
    "    module.model.eval()\n",
    "    module.model.to(\"cuda\")\n",
    "    \n",
    "    preds = {}\n",
    "    targs = {}\n",
    "    \n",
    "    for pert_cat, item in zip(treated_dataset.pert_categories, treated_dataset):\n",
    "        if pert_cat not in preds:\n",
    "            genes = item[0]\n",
    "            drug_idx = item[1]\n",
    "            dosages = item[2]\n",
    "            covariates = item[4:]\n",
    "            cl = pert_cat.split(\"_\")[0]\n",
    "            dose = pert_cat.split(\"_\")[-1]\n",
    "            drug = \"_\".join(pert_cat.split(\"_\")[1:-1])\n",
    "    \n",
    "            genes = control_genes[cl]\n",
    "            n_obs = len(control_genes[cl])\n",
    "    \n",
    "            # repeat torch tensor n_obs times\n",
    "            drugs_idx = drug_idx.repeat(n_obs)\n",
    "            dosages = dosages.repeat(n_obs)\n",
    "            covariates = [cov.repeat(n_obs, 1) for cov in covariates]\n",
    "            gene_reconstructions, cell_drug_embedding, latent_basal = module.model.predict(\n",
    "                genes=genes,\n",
    "                drugs=None,\n",
    "                drugs_idx=drugs_idx,\n",
    "                dosages=dosages,\n",
    "                covariates=covariates,\n",
    "                return_latent_basal=True,\n",
    "            )\n",
    "    \n",
    "            dim = gene_reconstructions.size(1) // 2\n",
    "            mean = gene_reconstructions[:, :dim]\n",
    "            var = gene_reconstructions[:, dim:]\n",
    "    \n",
    "            preds[pert_cat] = mean.detach().cpu().numpy()\n",
    "            targs[pert_cat] = (\n",
    "                (treated_dataset.genes[treated_dataset.pert_categories == pert_cat]).clone().numpy()\n",
    "            )\n",
    "    predictions = []\n",
    "    targets = []\n",
    "    cl_p = []\n",
    "    cl_t = []\n",
    "    drug_p = []\n",
    "    drug_t = []\n",
    "    dose_p = []\n",
    "    dose_t = []\n",
    "    control = {}\n",
    "    control_cl = {}\n",
    "    for key, val in preds.items():\n",
    "        cl = key.split(\"_\")[0]\n",
    "        drug = \"_\".join(key.split(\"_\")[1:-1])\n",
    "        dose = key.split(\"_\")[-1]\n",
    "    \n",
    "        control[cl] = control_genes[cl].numpy()\n",
    "        control_cl[cl] = control[cl].shape[0] * [cl]\n",
    "    \n",
    "        predictions.append(val)\n",
    "        cl_p.extend(val.shape[0] * [cl])\n",
    "        drug_p.extend(val.shape[0] * [drug])\n",
    "        dose_p.extend(val.shape[0] * [float(dose)])\n",
    "    \n",
    "        targets.append(targs[key])\n",
    "        cl_t.extend(targs[key].shape[0] * [cl])\n",
    "        drug_t.extend(targs[key].shape[0] * [drug])\n",
    "        dose_t.extend(targs[key].shape[0] * [float(dose)])\n",
    "    \n",
    "    adata_c = ad.AnnData(np.concatenate([control[cl] for cl in control], axis=0))\n",
    "    adata_c.obs[\"cell_line\"] = list(np.concatenate([control_cl[cl] for cl in control], axis=0))\n",
    "    adata_c.obs[\"condition\"] = \"control\"\n",
    "    adata_c.obs[\"perturbation\"] = \"Vehicle\"\n",
    "    adata_c.obs[\"dose\"] = 1.0\n",
    "    \n",
    "    adata_p = ad.AnnData(np.concatenate(predictions, axis=0))\n",
    "    adata_p.obs[\"condition\"] = \"prediction\"\n",
    "    adata_p.obs[\"cell_line\"] = cl_p\n",
    "    adata_p.obs[\"perturbation\"] = drug_p\n",
    "    adata_p.obs[\"dose\"] = dose_p\n",
    "    \n",
    "    \n",
    "    adata_t = ad.AnnData(np.concatenate(targets, axis=0))\n",
    "    adata_t.obs[\"condition\"] = \"target\"\n",
    "    adata_t.obs[\"cell_line\"] = cl_t\n",
    "    adata_t.obs[\"perturbation\"] = drug_t\n",
    "    adata_t.obs[\"dose\"] = dose_t\n",
    "    \n",
    "    adata = ad.concat([adata_c, adata_p, adata_t])\n",
    "    adata.obs_names_make_unique()\n",
    "    adata.obs[\"pert_category\"] = None\n",
    "    \n",
    "    for key in np.unique(ood_treated_dataset.pert_categories):\n",
    "        cl = key.split(\"_\")[0]\n",
    "        drug = \"_\".join(key.split(\"_\")[1:-1])\n",
    "        dose = float(key.split(\"_\")[-1])\n",
    "    \n",
    "        cond = adata.obs[\"cell_line\"] == cl\n",
    "        cond *= adata.obs[\"perturbation\"] == drug\n",
    "        cond *= adata.obs[\"dose\"] == dose\n",
    "        adata.obs.loc[cond, \"pert_category\"] = key\n",
    "    return adata"
   ]
  },
  {
   "cell_type": "code",
   "execution_count": 107,
   "metadata": {
    "ExecuteTime": {
     "end_time": "2024-08-03T14:56:25.661496Z",
     "start_time": "2024-08-03T14:56:24.908276Z"
    }
   },
   "outputs": [
    {
     "name": "stderr",
     "output_type": "stream",
     "text": [
      "/opt/saturncloud/envs/saturn/lib/python3.10/site-packages/anndata/_core/anndata.py:1818: UserWarning: Observation names are not unique. To make them unique, call `.obs_names_make_unique`.\n",
      "  utils.warn_names_duplicates(\"obs\")\n"
     ]
    }
   ],
   "source": [
    "ood_preds = compute_preds(ood_control_dataset, ood_treated_dataset)"
   ]
  },
  {
   "cell_type": "code",
   "execution_count": 108,
   "metadata": {
    "ExecuteTime": {
     "end_time": "2024-08-03T14:41:33.400288Z",
     "start_time": "2024-08-03T14:41:33.400197Z"
    }
   },
   "outputs": [],
   "source": [
    "ood_preds.write(f\"/home/jovyan/git-repos/platform-publication/method_benchmarking/chemcpa/chemCPA/project_folder/output/results/adata_biolord_split_{split}_300_pred_ood.h5ad\")"
   ]
  },
  {
   "cell_type": "code",
   "execution_count": 109,
   "metadata": {
    "ExecuteTime": {
     "end_time": "2024-08-03T14:56:57.904808Z",
     "start_time": "2024-08-03T14:56:57.173139Z"
    }
   },
   "outputs": [
    {
     "name": "stderr",
     "output_type": "stream",
     "text": [
      "/opt/saturncloud/envs/saturn/lib/python3.10/site-packages/anndata/_core/anndata.py:1818: UserWarning: Observation names are not unique. To make them unique, call `.obs_names_make_unique`.\n",
      "  utils.warn_names_duplicates(\"obs\")\n"
     ]
    }
   ],
   "source": [
    "test_preds = compute_preds(test_control_dataset, test_treated_dataset)"
   ]
  },
  {
   "cell_type": "code",
   "execution_count": 112,
   "metadata": {},
   "outputs": [],
   "source": [
    "test_preds.obs.pert_category = test_preds.obs.pert_category.astype(str)"
   ]
  },
  {
   "cell_type": "code",
   "execution_count": 113,
   "metadata": {},
   "outputs": [],
   "source": [
    "test_preds.write(f\"/home/jovyan/git-repos/platform-publication/method_benchmarking/chemcpa/chemCPA/project_folder/output/results/adata_biolord_split_{split}_300_pred_test.h5ad\")"
   ]
  },
  {
   "cell_type": "code",
   "execution_count": 114,
   "metadata": {},
   "outputs": [
    {
     "name": "stderr",
     "output_type": "stream",
     "text": [
      "/opt/saturncloud/envs/saturn/lib/python3.10/site-packages/anndata/_core/anndata.py:1818: UserWarning: Observation names are not unique. To make them unique, call `.obs_names_make_unique`.\n",
      "  utils.warn_names_duplicates(\"obs\")\n"
     ]
    }
   ],
   "source": [
    "train_preds = compute_preds(train_control_dataset, train_treated_dataset)"
   ]
  },
  {
   "cell_type": "code",
   "execution_count": 116,
   "metadata": {},
   "outputs": [],
   "source": [
    "train_preds.obs.pert_category = train_preds.obs.pert_category.astype(str)\n",
    "train_preds.write(f\"/home/jovyan/git-repos/platform-publication/method_benchmarking/chemcpa/chemCPA/project_folder/output/results/adata_biolord_split_{split}_300_pred_train.h5ad\")"
   ]
  },
  {
   "cell_type": "code",
   "execution_count": 117,
   "metadata": {},
   "outputs": [],
   "source": [
    "# Add dataset labels to each AnnData\n",
    "train_preds.obs['dataset'] = 'train_preds'\n",
    "test_preds.obs['dataset'] = 'test_preds'\n",
    "ood_preds.obs['dataset'] = 'ood_preds'\n",
    "\n",
    "# Concatenate the three AnnData objects\n",
    "combined_anndata = ad.concat([train_preds, test_preds, ood_preds], \n",
    "                                  label='dataset', \n",
    "                                  keys=['train_preds', 'test_preds', 'ood_preds'], \n",
    "                                  index_unique=\"-\")\n"
   ]
  },
  {
   "cell_type": "code",
   "execution_count": 119,
   "metadata": {},
   "outputs": [],
   "source": [
    "combined_anndata.write_h5ad(\"/home/jovyan/git-repos/platform-publication/method_benchmarking/chemcpa/chemCPA/project_folder/output/results/combined_data.h5ad\")\n"
   ]
  },
  {
   "cell_type": "code",
   "execution_count": 161,
   "metadata": {},
   "outputs": [
    {
     "name": "stderr",
     "output_type": "stream",
     "text": [
      "/opt/saturncloud/envs/saturn/lib/python3.10/site-packages/anndata/_core/anndata.py:1818: UserWarning: Observation names are not unique. To make them unique, call `.obs_names_make_unique`.\n",
      "  utils.warn_names_duplicates(\"obs\")\n"
     ]
    }
   ],
   "source": [
    "adata_raw = ad.read_h5ad(\"project_folder/adata_biolord_300_split_0_chemcpa.h5ad\")"
   ]
  },
  {
   "cell_type": "code",
   "execution_count": 121,
   "metadata": {},
   "outputs": [],
   "source": [
    "import pandas as pd\n",
    "\n",
    "obs_df = combined_anndata.obs[['cell_line', 'perturbation']]\n",
    "\n",
    "# Drop duplicates to find unique pairs\n",
    "unique_pairs = obs_df.drop_duplicates()\n",
    "\n",
    "# Convert to a list of tuples for better readability (optional)\n",
    "unique_pairs_list = list(unique_pairs.itertuples(index=False, name=None))\n",
    "\n",
    "# If you need the result in a DataFrame for further processing\n",
    "unique_pairs_df = pd.DataFrame(unique_pairs_list, columns=['cell_line', 'perturbation'])"
   ]
  },
  {
   "cell_type": "code",
   "execution_count": 123,
   "metadata": {},
   "outputs": [],
   "source": [
    "# pip install decoupler"
   ]
  },
  {
   "cell_type": "code",
   "execution_count": 124,
   "metadata": {},
   "outputs": [],
   "source": [
    "import anndata as ad\n",
    "import decoupler as dc\n",
    "\n",
    "# Ensure 'normalized' layer exists; if not, create it from .X\n",
    "if 'normalized' not in combined_anndata.layers:\n",
    "    combined_anndata.layers['normalized'] = combined_anndata.X.copy()\n",
    "\n",
    "# Compute pseudobulk profiles using the mean of normalized counts\n",
    "pseudobulk_adata = dc.get_pseudobulk(\n",
    "    adata=combined_anndata,\n",
    "    sample_col=\"cell_line\",\n",
    "    groups_col=['cell_line', 'perturbation'],  # Columns to group by\n",
    "    layer='normalized',  # Layer containing normalized counts\n",
    "    mode='mean',  # Aggregate counts by calculating the mean\n",
    "    skip_checks=True\n",
    ")"
   ]
  },
  {
   "cell_type": "code",
   "execution_count": 162,
   "metadata": {},
   "outputs": [],
   "source": [
    "adata_raw.var[\"gene_id\"] = range(len(adata_raw.var))\n",
    "adata_raw.var = adata_raw.var.reset_index().rename(columns={'index': 'gene_name'})"
   ]
  },
  {
   "cell_type": "code",
   "execution_count": 163,
   "metadata": {},
   "outputs": [],
   "source": [
    "gene_id_to_name = adata_raw.var[[\"gene_id\", \"gene_name\"]]  # Create a mapping of gene_id to gene_name\n",
    "\n",
    "# Step 2: Match pseudobulk_adata.var \"names\" with gene IDs\n",
    "# Ensure pseudobulk_adata.var \"names\" is properly formatted as integers\n",
    "pseudobulk_adata.var[\"gene_id\"] = pseudobulk_adata.var.index.astype(int)\n",
    "\n",
    "# Step 3: Add gene names to pseudobulk_adata.var based on matching gene IDs\n",
    "pseudobulk_adata.var = pseudobulk_adata.var.merge(gene_id_to_name, on=\"gene_id\", how=\"left\")\n",
    "\n",
    "# Step 4: Optional: Set gene names as descriptors (e.g., in .var)\n",
    "pseudobulk_adata.var[\"gene_name\"] = pseudobulk_adata.var[\"gene_name\"]"
   ]
  },
  {
   "cell_type": "code",
   "execution_count": 164,
   "metadata": {},
   "outputs": [],
   "source": [
    "pseudobulk_adata.write_h5ad(\"/home/jovyan/git-repos/platform-publication/method_benchmarking/chemcpa/chemCPA/project_folder/output/results/pseudobulk.h5ad\")"
   ]
  },
  {
   "cell_type": "code",
   "execution_count": 177,
   "metadata": {},
   "outputs": [
    {
     "name": "stderr",
     "output_type": "stream",
     "text": [
      "/opt/saturncloud/envs/saturn/lib/python3.10/site-packages/anndata/_core/aligned_df.py:67: ImplicitModificationWarning: Transforming to str index.\n",
      "  warnings.warn(\"Transforming to str index.\", ImplicitModificationWarning)\n"
     ]
    },
    {
     "name": "stdout",
     "output_type": "stream",
     "text": [
      "AnnData object with n_obs × n_vars = 485 × 1999\n",
      "    obs: 'cell_line', 'perturbation'\n",
      "    var: 'gene_id', 'gene_name'\n"
     ]
    }
   ],
   "source": [
    "# Filter for Vehicle (control) data\n",
    "control_mask = pseudobulk_adata.obs[\"perturbation\"] == \"Vehicle\"\n",
    "control_adata = pseudobulk_adata[control_mask]\n",
    "\n",
    "# Prepare lists to store results\n",
    "signature_data = []\n",
    "obs_data = []\n",
    "\n",
    "# Iterate over unique cell_lines\n",
    "for cell_line in pseudobulk_adata.obs[\"cell_line\"].unique():\n",
    "    # Get control data for the current cell_line\n",
    "    control_data = control_adata[control_adata.obs[\"cell_line\"] == cell_line]\n",
    "    \n",
    "    # Skip if no control data exists\n",
    "    if control_data.shape[0] == 0:\n",
    "        continue\n",
    "    \n",
    "    # Compute the mean of control in .X space\n",
    "    control_values = control_data.X.mean(axis=0)\n",
    "    \n",
    "    # Get perturbation data for the current cell_line\n",
    "    perturbation_data = pseudobulk_adata[\n",
    "        (pseudobulk_adata.obs[\"cell_line\"] == cell_line) & \n",
    "        (pseudobulk_adata.obs[\"perturbation\"] != \"Vehicle\")\n",
    "    ]\n",
    "    \n",
    "    # Iterate over unique perturbations\n",
    "    for perturbation in perturbation_data.obs[\"perturbation\"].unique():\n",
    "        # Get data for the current perturbation\n",
    "        perturbation_values = perturbation_data[\n",
    "            perturbation_data.obs[\"perturbation\"] == perturbation\n",
    "        ].X.mean(axis=0)\n",
    "        \n",
    "        # Calculate perturbation signature: difference between perturbation and control\n",
    "        signature = perturbation_values - control_values\n",
    "        \n",
    "        # Append signature and observation metadata\n",
    "        signature_data.append(signature)\n",
    "        obs_data.append({\"cell_line\": cell_line, \"perturbation\": perturbation})\n",
    "\n",
    "# Convert results to a new AnnData object\n",
    "signature_matrix = np.vstack(signature_data)  # Stack all signatures into a 2D array\n",
    "obs_df = pd.DataFrame(obs_data)  # Create a DataFrame for metadata\n",
    "\n",
    "# Create an AnnData object to store perturbation signatures\n",
    "signature_adata = ad.AnnData(\n",
    "    X=signature_matrix,\n",
    "    obs=obs_df\n",
    ")\n",
    "\n",
    "# Assign gene names to var\n",
    "signature_adata.var = pseudobulk_adata.var.copy()\n",
    "\n",
    "# Save to file or inspect the result\n",
    "print(signature_adata)\n",
    "signature_adata.write(\"/home/jovyan/git-repos/platform-publication/method_benchmarking/chemcpa/chemCPA/project_folder/output/results/perturbation_signatures_across_lines.h5ad\")\n"
   ]
  },
  {
   "cell_type": "code",
   "execution_count": 178,
   "metadata": {},
   "outputs": [
    {
     "name": "stderr",
     "output_type": "stream",
     "text": [
      "/opt/saturncloud/envs/saturn/lib/python3.10/site-packages/anndata/_core/aligned_df.py:67: ImplicitModificationWarning: Transforming to str index.\n",
      "  warnings.warn(\"Transforming to str index.\", ImplicitModificationWarning)\n"
     ]
    },
    {
     "name": "stdout",
     "output_type": "stream",
     "text": [
      "AnnData object with n_obs × n_vars = 186 × 1999\n",
      "    obs: 'perturbation'\n",
      "    var: 'gene_id', 'gene_name'\n"
     ]
    }
   ],
   "source": [
    "import numpy as np\n",
    "import anndata as ad\n",
    "import pandas as pd\n",
    "\n",
    "# Verify required columns exist in obs\n",
    "assert \"cell_line\" in pseudobulk_adata.obs, \"'cell_line' column is missing in pseudobulk_adata.obs\"\n",
    "assert \"perturbation\" in pseudobulk_adata.obs, \"'perturbation' column is missing in pseudobulk_adata.obs\"\n",
    "\n",
    "# Filter for Vehicle (control) data\n",
    "control_mask = pseudobulk_adata.obs[\"perturbation\"] == \"Vehicle\"\n",
    "control_adata = pseudobulk_adata[control_mask]\n",
    "\n",
    "# Prepare lists to store results\n",
    "signature_data = []\n",
    "obs_data = []\n",
    "\n",
    "# Compute the mean control values across all cell lines\n",
    "control_values = control_adata.X.mean(axis=0)\n",
    "\n",
    "# Get all unique perturbations (excluding \"Vehicle\")\n",
    "unique_perturbations = pseudobulk_adata.obs[\"perturbation\"].unique()\n",
    "unique_perturbations = unique_perturbations[unique_perturbations != \"Vehicle\"]\n",
    "\n",
    "# Iterate over unique perturbations\n",
    "for perturbation in unique_perturbations:\n",
    "    # Get data for the current perturbation across all cell lines\n",
    "    perturbation_data = pseudobulk_adata[pseudobulk_adata.obs[\"perturbation\"] == perturbation]\n",
    "    \n",
    "    # Compute the mean perturbation values across cell lines\n",
    "    perturbation_values = perturbation_data.X.mean(axis=0)\n",
    "    \n",
    "    # Calculate perturbation signature: difference between perturbation and control\n",
    "    signature = perturbation_values - control_values\n",
    "    \n",
    "    # Append signature and observation metadata\n",
    "    signature_data.append(signature)\n",
    "    obs_data.append({\"perturbation\": perturbation})\n",
    "\n",
    "# Convert results to a new AnnData object\n",
    "signature_matrix = np.vstack(signature_data)  # Stack all signatures into a 2D array\n",
    "obs_df = pd.DataFrame(obs_data)  # Create a DataFrame for metadata\n",
    "\n",
    "# Create an AnnData object to store perturbation signatures\n",
    "signature_adata = ad.AnnData(\n",
    "    X=signature_matrix,\n",
    "    obs=obs_df\n",
    ")\n",
    "\n",
    "# Assign gene names to var\n",
    "signature_adata.var = pseudobulk_adata.var.copy()\n",
    "\n",
    "# Save to file or inspect the result\n",
    "print(signature_adata)\n"
   ]
  },
  {
   "cell_type": "code",
   "execution_count": 179,
   "metadata": {},
   "outputs": [],
   "source": [
    "signature_adata.write(\"/home/jovyan/git-repos/platform-publication/method_benchmarking/chemcpa/chemCPA/project_folder/output/results/perturbation_signatures_per_compound.h5ad\")"
   ]
  }
 ],
 "metadata": {
  "kernelspec": {
   "display_name": "Python 3 (ipykernel)",
   "language": "python",
   "name": "python3"
  },
  "language_info": {
   "codemirror_mode": {
    "name": "ipython",
    "version": 3
   },
   "file_extension": ".py",
   "mimetype": "text/x-python",
   "name": "python",
   "nbconvert_exporter": "python",
   "pygments_lexer": "ipython3",
   "version": "3.10.14"
  }
 },
 "nbformat": 4,
 "nbformat_minor": 4
}
