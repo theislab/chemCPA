{
 "cells": [
  {
   "cell_type": "code",
   "metadata": {
    "ExecuteTime": {
     "end_time": "2024-08-03T14:39:30.400484Z",
     "start_time": "2024-08-03T14:39:30.396873Z"
    }
   },
   "source": [
    "from pathlib import Path\n",
    "\n",
    "import anndata as ad\n",
    "import numpy as np\n",
    "import torch\n",
    "\n",
    "from chemCPA.data import PerturbationDataModule, load_dataset_splits\n",
    "from chemCPA.lightning_module import ChemCPA"
   ],
   "outputs": [],
   "execution_count": 48
  },
  {
   "cell_type": "code",
   "metadata": {
    "ExecuteTime": {
     "end_time": "2024-08-03T14:39:30.415925Z",
     "start_time": "2024-08-03T14:39:30.403354Z"
    }
   },
   "source": [
    "ckpt = \"last.ckpt\"\n",
    "# orig\n",
    "# run_id = \"hnjtnxyk\"\n",
    "# split 0\n",
    "# run_id = \"2kxbiqm8\"\n",
    "# split = 1\n",
    "# run_id = \"sb2w11gg\"\n",
    "# split = 2\n",
    "# run_id = \"km6ft6aj\"\n",
    "# split = 3\n",
    "# run_id = \"6w5pv7js\"\n",
    "split = 4\n",
    "run_id = \"hgzlvf0t\"\n",
    "cp_path = Path(\"/lustre/groups/ml01/workspace/artur.szalata/code/ot_pert_reproducibility/competing_methods/sciplex/chemcpa/chemCPA/project_folder/checkpoints_hydra\") / run_id / ckpt"
   ],
   "outputs": [],
   "execution_count": 49
  },
  {
   "cell_type": "code",
   "metadata": {
    "ExecuteTime": {
     "end_time": "2024-08-03T14:39:30.528014Z",
     "start_time": "2024-08-03T14:39:30.420018Z"
    }
   },
   "source": [
    "module = ChemCPA.load_from_checkpoint(cp_path)"
   ],
   "outputs": [
    {
     "name": "stderr",
     "output_type": "stream",
     "text": [
      "/home/icb/artur.szalata/miniconda3/envs/perturbation_models_biolord/lib/python3.9/site-packages/lightning/pytorch/utilities/migration/utils.py:55: The loaded checkpoint was produced with Lightning v2.2.4, which is newer than your current Lightning version: v2.1.4\n"
     ]
    }
   ],
   "execution_count": 50
  },
  {
   "cell_type": "code",
   "metadata": {
    "ExecuteTime": {
     "end_time": "2024-08-03T14:39:30.531084Z",
     "start_time": "2024-08-03T14:39:30.529099Z"
    }
   },
   "source": [
    "data_params = module.config[\"dataset\"]"
   ],
   "outputs": [],
   "execution_count": 51
  },
  {
   "cell_type": "code",
   "metadata": {
    "ExecuteTime": {
     "end_time": "2024-08-03T14:41:32.942809Z",
     "start_time": "2024-08-03T14:39:30.531731Z"
    }
   },
   "source": [
    "datasets, dataset = load_dataset_splits(**data_params, return_dataset=True)"
   ],
   "outputs": [],
   "execution_count": 52
  },
  {
   "cell_type": "code",
   "metadata": {
    "ExecuteTime": {
     "end_time": "2024-08-03T14:41:32.958577Z",
     "start_time": "2024-08-03T14:41:32.944367Z"
    }
   },
   "source": [
    "dm = PerturbationDataModule(datasplits=datasets, train_bs=module.config[\"model\"][\"hparams\"][\"batch_size\"])\n",
    "dm.setup(stage=\"fit\")  # fit, validate/test, predict"
   ],
   "outputs": [],
   "execution_count": 53
  },
  {
   "cell_type": "code",
   "metadata": {
    "ExecuteTime": {
     "end_time": "2024-08-03T14:41:32.966743Z",
     "start_time": "2024-08-03T14:41:32.959496Z"
    }
   },
   "source": "module.model.eval();",
   "outputs": [],
   "execution_count": 54
  },
  {
   "metadata": {
    "ExecuteTime": {
     "end_time": "2024-08-03T14:41:32.987122Z",
     "start_time": "2024-08-03T14:41:32.967442Z"
    }
   },
   "cell_type": "code",
   "source": [
    "ood_control_dataset = dm.ood_control_dataset\n",
    "test_control_dataset = dm.test_control_dataset\n",
    "ood_treated_dataset = dm.ood_treated_dataset\n",
    "test_treated_dataset = dm.test_treated_dataset"
   ],
   "outputs": [],
   "execution_count": 55
  },
  {
   "metadata": {
    "ExecuteTime": {
     "end_time": "2024-08-03T14:56:24.133842Z",
     "start_time": "2024-08-03T14:56:24.121721Z"
    }
   },
   "cell_type": "code",
   "source": [
    "def compute_preds(control_dataset, treated_dataset):\n",
    "    control_genes = {}\n",
    "\n",
    "    # Iterate over the dataset\n",
    "    _genes = control_dataset.genes\n",
    "    _cov_names = control_dataset.covariate_names[\"cell_type\"]\n",
    "    \n",
    "    for covariate, gene in zip(_cov_names, _genes):\n",
    "        if covariate not in control_genes:\n",
    "            control_genes[covariate] = gene.unsqueeze(0)\n",
    "            continue\n",
    "        control_genes[covariate] = torch.concat([control_genes[covariate], gene.unsqueeze(0)], dim=0)\n",
    "    module.model.eval()\n",
    "    module.model.to(\"cuda\")\n",
    "    \n",
    "    preds = {}\n",
    "    targs = {}\n",
    "    \n",
    "    for pert_cat, item in zip(dm.ood_treated_dataset.pert_categories, dm.ood_treated_dataset):\n",
    "        if pert_cat not in preds:\n",
    "            genes = item[0]\n",
    "            drug_idx = item[1]\n",
    "            dosages = item[2]\n",
    "            covariates = item[4:]\n",
    "            cl = pert_cat.split(\"_\")[0]\n",
    "            dose = pert_cat.split(\"_\")[-1]\n",
    "            drug = \"_\".join(pert_cat.split(\"_\")[1:-1])\n",
    "    \n",
    "            genes = control_genes[cl]\n",
    "            n_obs = len(control_genes[cl])\n",
    "    \n",
    "            # repeat torch tensor n_obs times\n",
    "            drugs_idx = drug_idx.repeat(n_obs)\n",
    "            dosages = dosages.repeat(n_obs)\n",
    "            covariates = [cov.repeat(n_obs, 1) for cov in covariates]\n",
    "            gene_reconstructions, cell_drug_embedding, latent_basal = module.model.predict(\n",
    "                genes=genes,\n",
    "                drugs=None,\n",
    "                drugs_idx=drugs_idx,\n",
    "                dosages=dosages,\n",
    "                covariates=covariates,\n",
    "                return_latent_basal=True,\n",
    "            )\n",
    "    \n",
    "            dim = gene_reconstructions.size(1) // 2\n",
    "            mean = gene_reconstructions[:, :dim]\n",
    "            var = gene_reconstructions[:, dim:]\n",
    "    \n",
    "            preds[pert_cat] = mean.detach().cpu().numpy()\n",
    "            targs[pert_cat] = (\n",
    "                (treated_dataset.genes[treated_dataset.pert_categories == pert_cat]).clone().numpy()\n",
    "            )\n",
    "    predictions = []\n",
    "    targets = []\n",
    "    cl_p = []\n",
    "    cl_t = []\n",
    "    drug_p = []\n",
    "    drug_t = []\n",
    "    dose_p = []\n",
    "    dose_t = []\n",
    "    control = {}\n",
    "    control_cl = {}\n",
    "    for key, val in preds.items():\n",
    "        cl = key.split(\"_\")[0]\n",
    "        drug = \"_\".join(key.split(\"_\")[1:-1])\n",
    "        dose = key.split(\"_\")[-1]\n",
    "    \n",
    "        control[cl] = control_genes[cl].numpy()\n",
    "        control_cl[cl] = control[cl].shape[0] * [cl]\n",
    "    \n",
    "        predictions.append(val)\n",
    "        cl_p.extend(val.shape[0] * [cl])\n",
    "        drug_p.extend(val.shape[0] * [drug])\n",
    "        dose_p.extend(val.shape[0] * [float(dose)])\n",
    "    \n",
    "        targets.append(targs[key])\n",
    "        cl_t.extend(targs[key].shape[0] * [cl])\n",
    "        drug_t.extend(targs[key].shape[0] * [drug])\n",
    "        dose_t.extend(targs[key].shape[0] * [float(dose)])\n",
    "    \n",
    "    adata_c = ad.AnnData(np.concatenate([control[cl] for cl in control], axis=0))\n",
    "    adata_c.obs[\"cell_line\"] = list(np.concatenate([control_cl[cl] for cl in control], axis=0))\n",
    "    adata_c.obs[\"condition\"] = \"control\"\n",
    "    adata_c.obs[\"perturbation\"] = \"Vehicle\"\n",
    "    adata_c.obs[\"dose\"] = 1.0\n",
    "    \n",
    "    adata_p = ad.AnnData(np.concatenate(predictions, axis=0))\n",
    "    adata_p.obs[\"condition\"] = \"prediction\"\n",
    "    adata_p.obs[\"cell_line\"] = cl_p\n",
    "    adata_p.obs[\"perturbation\"] = drug_p\n",
    "    adata_p.obs[\"dose\"] = dose_p\n",
    "    \n",
    "    \n",
    "    adata_t = ad.AnnData(np.concatenate(targets, axis=0))\n",
    "    adata_t.obs[\"condition\"] = \"target\"\n",
    "    adata_t.obs[\"cell_line\"] = cl_t\n",
    "    adata_t.obs[\"perturbation\"] = drug_t\n",
    "    adata_t.obs[\"dose\"] = dose_t\n",
    "    \n",
    "    adata = ad.concat([adata_c, adata_p, adata_t])\n",
    "    adata.obs_names_make_unique()\n",
    "    adata.obs[\"pert_category\"] = None\n",
    "    \n",
    "    for key in np.unique(ood_treated_dataset.pert_categories):\n",
    "        cl = key.split(\"_\")[0]\n",
    "        drug = \"_\".join(key.split(\"_\")[1:-1])\n",
    "        dose = float(key.split(\"_\")[-1])\n",
    "    \n",
    "        cond = adata.obs[\"cell_line\"] == cl\n",
    "        cond *= adata.obs[\"perturbation\"] == drug\n",
    "        cond *= adata.obs[\"dose\"] == dose\n",
    "        adata.obs.loc[cond, \"pert_category\"] = key\n",
    "    return adata"
   ],
   "outputs": [],
   "execution_count": 68
  },
  {
   "cell_type": "code",
   "metadata": {
    "ExecuteTime": {
     "end_time": "2024-08-03T14:56:25.661496Z",
     "start_time": "2024-08-03T14:56:24.908276Z"
    }
   },
   "source": "ood_preds = compute_preds(ood_control_dataset, ood_treated_dataset)",
   "outputs": [
    {
     "ename": "ValueError",
     "evalue": "need at least one array to concatenate",
     "output_type": "error",
     "traceback": [
      "\u001B[0;31m---------------------------------------------------------------------------\u001B[0m",
      "\u001B[0;31mValueError\u001B[0m                                Traceback (most recent call last)",
      "Cell \u001B[0;32mIn[69], line 1\u001B[0m\n\u001B[0;32m----> 1\u001B[0m ood_preds \u001B[38;5;241m=\u001B[39m \u001B[43mcompute_preds\u001B[49m\u001B[43m(\u001B[49m\u001B[43mood_control_dataset\u001B[49m\u001B[43m,\u001B[49m\u001B[43m \u001B[49m\u001B[43mood_treated_dataset\u001B[49m\u001B[43m)\u001B[49m\n",
      "Cell \u001B[0;32mIn[68], line 103\u001B[0m, in \u001B[0;36mcompute_preds\u001B[0;34m(control_dataset, treated_dataset)\u001B[0m\n\u001B[1;32m     99\u001B[0m     adata_p\u001B[38;5;241m.\u001B[39mobs[\u001B[38;5;124m\"\u001B[39m\u001B[38;5;124mperturbation\u001B[39m\u001B[38;5;124m\"\u001B[39m] \u001B[38;5;241m=\u001B[39m drug_p\n\u001B[1;32m    100\u001B[0m     adata_p\u001B[38;5;241m.\u001B[39mobs[\u001B[38;5;124m\"\u001B[39m\u001B[38;5;124mdose\u001B[39m\u001B[38;5;124m\"\u001B[39m] \u001B[38;5;241m=\u001B[39m dose_p\n\u001B[0;32m--> 103\u001B[0m adata_t \u001B[38;5;241m=\u001B[39m ad\u001B[38;5;241m.\u001B[39mAnnData(\u001B[43mnp\u001B[49m\u001B[38;5;241;43m.\u001B[39;49m\u001B[43mconcatenate\u001B[49m\u001B[43m(\u001B[49m\u001B[43mtargets\u001B[49m\u001B[43m,\u001B[49m\u001B[43m \u001B[49m\u001B[43maxis\u001B[49m\u001B[38;5;241;43m=\u001B[39;49m\u001B[38;5;241;43m0\u001B[39;49m\u001B[43m)\u001B[49m)\n\u001B[1;32m    104\u001B[0m adata_t\u001B[38;5;241m.\u001B[39mobs[\u001B[38;5;124m\"\u001B[39m\u001B[38;5;124mcondition\u001B[39m\u001B[38;5;124m\"\u001B[39m] \u001B[38;5;241m=\u001B[39m \u001B[38;5;124m\"\u001B[39m\u001B[38;5;124mtarget\u001B[39m\u001B[38;5;124m\"\u001B[39m\n\u001B[1;32m    105\u001B[0m adata_t\u001B[38;5;241m.\u001B[39mobs[\u001B[38;5;124m\"\u001B[39m\u001B[38;5;124mcell_line\u001B[39m\u001B[38;5;124m\"\u001B[39m] \u001B[38;5;241m=\u001B[39m cl_t\n",
      "\u001B[0;31mValueError\u001B[0m: need at least one array to concatenate"
     ]
    }
   ],
   "execution_count": 69
  },
  {
   "metadata": {
    "ExecuteTime": {
     "end_time": "2024-08-03T14:41:33.400288Z",
     "start_time": "2024-08-03T14:41:33.400197Z"
    }
   },
   "cell_type": "code",
   "source": "ood_preds.write(f\"/lustre/groups/ml01/workspace/artur.szalata/code/ot_pert_reproducibility/competing_methods/sciplex/chemcpa/chemCPA/project_folder/adata_biolord_split_{split}_300_pred_ood.h5ad\")",
   "outputs": [],
   "execution_count": null
  },
  {
   "metadata": {
    "ExecuteTime": {
     "end_time": "2024-08-03T14:56:57.904808Z",
     "start_time": "2024-08-03T14:56:57.173139Z"
    }
   },
   "cell_type": "code",
   "source": "test_preds = compute_preds(test_control_dataset, test_treated_dataset)",
   "outputs": [
    {
     "ename": "ValueError",
     "evalue": "need at least one array to concatenate",
     "output_type": "error",
     "traceback": [
      "\u001B[0;31m---------------------------------------------------------------------------\u001B[0m",
      "\u001B[0;31mValueError\u001B[0m                                Traceback (most recent call last)",
      "Cell \u001B[0;32mIn[70], line 1\u001B[0m\n\u001B[0;32m----> 1\u001B[0m test_preds \u001B[38;5;241m=\u001B[39m \u001B[43mcompute_preds\u001B[49m\u001B[43m(\u001B[49m\u001B[43mtest_control_dataset\u001B[49m\u001B[43m,\u001B[49m\u001B[43m \u001B[49m\u001B[43mtest_treated_dataset\u001B[49m\u001B[43m)\u001B[49m\n",
      "Cell \u001B[0;32mIn[68], line 103\u001B[0m, in \u001B[0;36mcompute_preds\u001B[0;34m(control_dataset, treated_dataset)\u001B[0m\n\u001B[1;32m     99\u001B[0m     adata_p\u001B[38;5;241m.\u001B[39mobs[\u001B[38;5;124m\"\u001B[39m\u001B[38;5;124mperturbation\u001B[39m\u001B[38;5;124m\"\u001B[39m] \u001B[38;5;241m=\u001B[39m drug_p\n\u001B[1;32m    100\u001B[0m     adata_p\u001B[38;5;241m.\u001B[39mobs[\u001B[38;5;124m\"\u001B[39m\u001B[38;5;124mdose\u001B[39m\u001B[38;5;124m\"\u001B[39m] \u001B[38;5;241m=\u001B[39m dose_p\n\u001B[0;32m--> 103\u001B[0m adata_t \u001B[38;5;241m=\u001B[39m ad\u001B[38;5;241m.\u001B[39mAnnData(\u001B[43mnp\u001B[49m\u001B[38;5;241;43m.\u001B[39;49m\u001B[43mconcatenate\u001B[49m\u001B[43m(\u001B[49m\u001B[43mtargets\u001B[49m\u001B[43m,\u001B[49m\u001B[43m \u001B[49m\u001B[43maxis\u001B[49m\u001B[38;5;241;43m=\u001B[39;49m\u001B[38;5;241;43m0\u001B[39;49m\u001B[43m)\u001B[49m)\n\u001B[1;32m    104\u001B[0m adata_t\u001B[38;5;241m.\u001B[39mobs[\u001B[38;5;124m\"\u001B[39m\u001B[38;5;124mcondition\u001B[39m\u001B[38;5;124m\"\u001B[39m] \u001B[38;5;241m=\u001B[39m \u001B[38;5;124m\"\u001B[39m\u001B[38;5;124mtarget\u001B[39m\u001B[38;5;124m\"\u001B[39m\n\u001B[1;32m    105\u001B[0m adata_t\u001B[38;5;241m.\u001B[39mobs[\u001B[38;5;124m\"\u001B[39m\u001B[38;5;124mcell_line\u001B[39m\u001B[38;5;124m\"\u001B[39m] \u001B[38;5;241m=\u001B[39m cl_t\n",
      "\u001B[0;31mValueError\u001B[0m: need at least one array to concatenate"
     ]
    }
   ],
   "execution_count": 70
  },
  {
   "metadata": {},
   "cell_type": "code",
   "source": "test_preds.write(f\"/lustre/groups/ml01/workspace/artur.szalata/code/ot_pert_reproducibility/competing_methods/sciplex/chemcpa/chemCPA/project_folder/adata_biolord_split_{split}_300_pred_test.h5ad\")",
   "outputs": [],
   "execution_count": null
  },
  {
   "metadata": {},
   "cell_type": "code",
   "source": "!ls /lustre/groups/ml01/workspace/artur.szalata/code/ot_pert_reproducibility/competing_methods/sciplex/chemcpa/chemCPA/project_folder",
   "outputs": [],
   "execution_count": null
  },
  {
   "metadata": {},
   "cell_type": "code",
   "outputs": [],
   "execution_count": null,
   "source": ""
  }
 ],
 "metadata": {
  "kernelspec": {
   "display_name": "chemCPA-test-env-new",
   "language": "python",
   "name": "python3"
  },
  "language_info": {
   "codemirror_mode": {
    "name": "ipython",
    "version": 3
   },
   "file_extension": ".py",
   "mimetype": "text/x-python",
   "name": "python",
   "nbconvert_exporter": "python",
   "pygments_lexer": "ipython3",
   "version": "3.10.14"
  }
 },
 "nbformat": 4,
 "nbformat_minor": 2
}
